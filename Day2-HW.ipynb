{
 "cells": [
  {
   "cell_type": "markdown",
   "id": "1cc1bdae-fb8c-4df5-bceb-e966ef5872c5",
   "metadata": {},
   "source": [
    "## Introduction to Data Science\n",
    "\n",
    "#### University of Redlands - DATA 101\n",
    "#### Prof: Joanna Bieri [joanna_bieri@redlands.edu](mailto:joanna_bieri@redlands.edu)\n",
    "#### [Class Website: data101.joannabieri.com](https://joannabieri.com/data101.html)\n",
    "\n",
    "---------------------------------------\n",
    "# Homework Day 2\n",
    "---------------------------------------\n",
    "\n",
    "GOALS:\n",
    "\n",
    "1. Start using Python\n",
    "2. Start looking at Data!\n",
    "\n",
    "----------------------------------------------------------\n",
    "\n",
    "This homework has **TWO** warm-up problems and **FOUR** problems."
   ]
  },
  {
   "cell_type": "markdown",
   "id": "b2c39d80-a1fd-479b-910c-6ad341ad5310",
   "metadata": {},
   "source": [
    "\n",
    "## Hello World!\n",
    "\n",
    "### Warm up Problem 1\n",
    "\n",
    "Write python code that will print your name and run the cell."
   ]
  },
  {
   "cell_type": "code",
   "execution_count": 3,
   "id": "0a219b6a-b87f-456d-b991-c392fe5cc5b6",
   "metadata": {},
   "outputs": [
    {
     "name": "stdout",
     "output_type": "stream",
     "text": [
      "Daniel Avila\n"
     ]
    }
   ],
   "source": [
    "# Your code here\n",
    "print('Daniel Avila')"
   ]
  },
  {
   "cell_type": "markdown",
   "id": "e2b797c2-cfcd-4a3f-acf2-3ad6f0183192",
   "metadata": {},
   "source": [
    "## Installing Modules\n",
    "\n",
    "### Warm up Problem 2\n",
    "\n",
    "Install the modules that you will need to run the rest of the code. You can copy and paste the commands from the class notes. This might take a minute or two to run... go get a cup of coffee :)"
   ]
  },
  {
   "cell_type": "code",
   "execution_count": 5,
   "id": "7d0b61b4-204e-4c77-be7d-a318cd32e40a",
   "metadata": {},
   "outputs": [
    {
     "name": "stdout",
     "output_type": "stream",
     "text": [
      "Channels:\n",
      " - conda-forge\n",
      " - defaults\n",
      "Platform: win-64\n",
      "Collecting package metadata (repodata.json): ...working... done\n",
      "Solving environment: ...working... done\n",
      "\n",
      "# All requested packages already installed.\n",
      "\n",
      "Channels:\n",
      " - conda-forge\n",
      " - defaults\n",
      "Platform: win-64\n",
      "Collecting package metadata (repodata.json): ...working... done\n",
      "Solving environment: ...working... done\n",
      "\n",
      "# All requested packages already installed.\n",
      "\n",
      "Channels:\n",
      " - conda-forge\n",
      " - defaults\n",
      "Platform: win-64\n",
      "Collecting package metadata (repodata.json): ...working... done\n",
      "Solving environment: ...working... done\n",
      "\n",
      "# All requested packages already installed.\n",
      "\n",
      "Channels:\n",
      " - conda-forge\n",
      " - defaults\n",
      "Platform: win-64\n",
      "Collecting package metadata (repodata.json): ...working... done\n",
      "Solving environment: ...working... done\n",
      "\n",
      "# All requested packages already installed.\n",
      "\n",
      "Channels:\n",
      " - conda-forge\n",
      " - defaults\n",
      "Platform: win-64\n",
      "Collecting package metadata (repodata.json): ...working... done\n",
      "Solving environment: ...working... done\n",
      "\n",
      "# All requested packages already installed.\n",
      "\n",
      "^C\n",
      "^C\n"
     ]
    }
   ],
   "source": [
    "# Copy and paste### This will take a while to run - just let it go.\n",
    "!conda install -y numpy\n",
    "!conda install -y pandas\n",
    "!conda install -y matplotlib\n",
    "!conda install -y plotly\n",
    "!conda install -y itables\n",
    "!conda install -y statsmodels\n",
    "!conda install -y -c conda-forge python-kaleido\n"
   ]
  },
  {
   "cell_type": "markdown",
   "id": "56b03eae-6df6-424b-8325-0f40ca79e8c1",
   "metadata": {},
   "source": [
    "## Let's do some Data Science.\n",
    "\n",
    "We will explore some data about how countries vote at the United Nations General Assembly. You should follow along with the notes and/or class video.\n",
    "\n",
    "I am breaking this into parts and having you copy and paste the code so you can start to identify what the different parts of the code do."
   ]
  },
  {
   "cell_type": "markdown",
   "id": "b375e170-9404-4a45-b5ac-9896c009fdff",
   "metadata": {},
   "source": [
    "-------------------------------\n",
    "### Importing Packages:\n",
    "-------------------------------\n",
    "\n",
    "Every time we start a new project we will import the packages that will help us do the analysis. Copy and paste all of the imports in the cell below.\n",
    "\n",
    "* numpy = mathematical and number packages for python\n",
    "* pandas = pretty tables, dataframes, and data analysis packages\n",
    "* matplotlib.pyplot = nice looking graphs\n",
    "* plotly = nice looking graphs.\n",
    "* itables = pretty looking tables that have a search bar"
   ]
  },
  {
   "cell_type": "code",
   "execution_count": 16,
   "id": "d377d0c6-d6b9-4bbf-9561-02402781a58d",
   "metadata": {},
   "outputs": [],
   "source": [
    "# Copy and paste the code here:\n",
    "import numpy as np\n",
    "import pandas as pd\n",
    "\n",
    "import matplotlib.pyplot as plt\n",
    "import plotly.express as px\n",
    "from plotly.subplots import make_subplots\n",
    "\n",
    "from itables import show"
   ]
  },
  {
   "cell_type": "markdown",
   "id": "2d0f1b4e-0edd-4c16-a40b-fe13d095e15c",
   "metadata": {},
   "source": [
    "-------------------------------\n",
    "### Get the Data:\n",
    "-------------------------------\n",
    "\n",
    "We will practice all sorts of ways to get data into our notebooks. When you use Pandas (pd) to read a csv:\n",
    "\n",
    "    DF = pd.read_csv(file_location)\n",
    "\n",
    "you are basically reading in a spreadsheet (Excel). The data for today is stored on my website.\n",
    "\n",
    "It might take a minute for the data to load."
   ]
  },
  {
   "cell_type": "code",
   "execution_count": 18,
   "id": "1253d511-c553-454f-a94b-2d0a6f97bd1f",
   "metadata": {},
   "outputs": [],
   "source": [
    "# Copy and paste the code here:\n",
    "# Note this takes about a minute to run\n",
    "file_location = 'https://joannabieri.com/introdatascience/data/unvotes.csv'\n",
    "DF = pd.read_csv(file_location)\n",
    "years = [int(d.split('-')[0]) for d in DF['date']]\n",
    "DF['year'] = years\n",
    "DF = DF.drop('Unnamed: 0',axis=1)"
   ]
  },
  {
   "cell_type": "markdown",
   "id": "4775aa78-8ca3-4d32-bf28-ea0f2eff5650",
   "metadata": {},
   "source": [
    "\n",
    "-------------------------------\n",
    "### Initial Data Exploration:\n",
    "-------------------------------\n",
    "-------------------------------\n",
    "### Show the Data:\n",
    "-------------------------------\n",
    "\n",
    "We want to look at what we have. The data is now represented by the variable DF."
   ]
  },
  {
   "cell_type": "code",
   "execution_count": 19,
   "id": "da556aed-fa86-4049-bc8b-9cfc8c3666b3",
   "metadata": {},
   "outputs": [
    {
     "data": {
      "text/html": [
       "<table id=\"itables_c0909fcc_3785_4ce0_a897_c5a650e46800\" class=\"display nowrap\" data-quarto-disable-processing=\"true\" style=\"table-layout:auto;width:auto;margin:auto;caption-side:bottom\">\n",
       "<thead>\n",
       "    <tr style=\"text-align: right;\">\n",
       "      \n",
       "      <th>country</th>\n",
       "    </tr>\n",
       "  </thead><tbody><tr>\n",
       "<td style=\"vertical-align:middle; text-align:left\">\n",
       "<div style=\"float:left; margin-right: 10px;\">\n",
       "<a href=https://mwouts.github.io/itables/><svg class=\"main-svg\" xmlns=\"http://www.w3.org/2000/svg\" xmlns:xlink=\"http://www.w3.org/1999/xlink\"\n",
       "width=\"64\" viewBox=\"0 0 500 400\" style=\"font-family: 'Droid Sans', sans-serif;\">\n",
       "    <g style=\"fill:#d9d7fc\">\n",
       "        <path d=\"M100,400H500V357H100Z\" />\n",
       "        <path d=\"M100,300H400V257H100Z\" />\n",
       "        <path d=\"M0,200H400V157H0Z\" />\n",
       "        <path d=\"M100,100H500V57H100Z\" />\n",
       "        <path d=\"M100,350H500V307H100Z\" />\n",
       "        <path d=\"M100,250H400V207H100Z\" />\n",
       "        <path d=\"M0,150H400V107H0Z\" />\n",
       "        <path d=\"M100,50H500V7H100Z\" />\n",
       "    </g>\n",
       "    <g style=\"fill:#1a1366;stroke:#1a1366;\">\n",
       "   <rect x=\"100\" y=\"7\" width=\"400\" height=\"43\">\n",
       "    <animate\n",
       "      attributeName=\"width\"\n",
       "      values=\"0;400;0\"\n",
       "      dur=\"5s\"\n",
       "      repeatCount=\"indefinite\" />\n",
       "      <animate\n",
       "      attributeName=\"x\"\n",
       "      values=\"100;100;500\"\n",
       "      dur=\"5s\"\n",
       "      repeatCount=\"indefinite\" />\n",
       "  </rect>\n",
       "        <rect x=\"0\" y=\"107\" width=\"400\" height=\"43\">\n",
       "    <animate\n",
       "      attributeName=\"width\"\n",
       "      values=\"0;400;0\"\n",
       "      dur=\"3.5s\"\n",
       "      repeatCount=\"indefinite\" />\n",
       "    <animate\n",
       "      attributeName=\"x\"\n",
       "      values=\"0;0;400\"\n",
       "      dur=\"3.5s\"\n",
       "      repeatCount=\"indefinite\" />\n",
       "  </rect>\n",
       "        <rect x=\"100\" y=\"207\" width=\"300\" height=\"43\">\n",
       "    <animate\n",
       "      attributeName=\"width\"\n",
       "      values=\"0;300;0\"\n",
       "      dur=\"3s\"\n",
       "      repeatCount=\"indefinite\" />\n",
       "    <animate\n",
       "      attributeName=\"x\"\n",
       "      values=\"100;100;400\"\n",
       "      dur=\"3s\"\n",
       "      repeatCount=\"indefinite\" />\n",
       "  </rect>\n",
       "        <rect x=\"100\" y=\"307\" width=\"400\" height=\"43\">\n",
       "    <animate\n",
       "      attributeName=\"width\"\n",
       "      values=\"0;400;0\"\n",
       "      dur=\"4s\"\n",
       "      repeatCount=\"indefinite\" />\n",
       "      <animate\n",
       "      attributeName=\"x\"\n",
       "      values=\"100;100;500\"\n",
       "      dur=\"4s\"\n",
       "      repeatCount=\"indefinite\" />\n",
       "  </rect>\n",
       "        <g style=\"fill:transparent;stroke-width:8; stroke-linejoin:round\" rx=\"5\">\n",
       "            <g transform=\"translate(45 50) rotate(-45)\">\n",
       "                <circle r=\"33\" cx=\"0\" cy=\"0\" />\n",
       "                <rect x=\"-8\" y=\"32\" width=\"16\" height=\"30\" />\n",
       "            </g>\n",
       "\n",
       "            <g transform=\"translate(450 152)\">\n",
       "                <polyline points=\"-15,-20 -35,-20 -35,40 25,40 25,20\" />\n",
       "                <rect x=\"-15\" y=\"-40\" width=\"60\" height=\"60\" />\n",
       "            </g>\n",
       "\n",
       "            <g transform=\"translate(50 352)\">\n",
       "                <polygon points=\"-35,-5 0,-40 35,-5\" />\n",
       "                <polygon points=\"-35,10 0,45 35,10\" />\n",
       "            </g>\n",
       "\n",
       "            <g transform=\"translate(75 250)\">\n",
       "                <polyline points=\"-30,30 -60,0 -30,-30\" />\n",
       "                <polyline points=\"0,30 -30,0 0,-30\" />\n",
       "            </g>\n",
       "\n",
       "            <g transform=\"translate(425 250) rotate(180)\">\n",
       "                <polyline points=\"-30,30 -60,0 -30,-30\" />\n",
       "                <polyline points=\"0,30 -30,0 0,-30\" />\n",
       "            </g>\n",
       "        </g>\n",
       "    </g>\n",
       "</svg>\n",
       "</a>\n",
       "</div>\n",
       "<div>\n",
       "Loading ITables v2.1.4 from the internet...\n",
       "(need <a href=https://mwouts.github.io/itables/troubleshooting.html>help</a>?)</td>\n",
       "</div>\n",
       "</tr></tbody>\n",
       "\n",
       "</table>\n",
       "<link href=\"https://www.unpkg.com/dt_for_itables@2.0.11/dt_bundle.css\" rel=\"stylesheet\">\n",
       "<script type=\"module\">\n",
       "    import {DataTable, jQuery as $} from 'https://www.unpkg.com/dt_for_itables@2.0.11/dt_bundle.js';\n",
       "\n",
       "    document.querySelectorAll(\"#itables_c0909fcc_3785_4ce0_a897_c5a650e46800:not(.dataTable)\").forEach(table => {\n",
       "        // Define the table data\n",
       "        const data = [[\"United States\"], [\"Canada\"], [\"Cuba\"], [\"Dominican Republic\"], [\"Mexico\"], [\"Guatemala\"], [\"Honduras\"], [\"El Salvador\"], [\"Nicaragua\"], [\"Panama\"], [\"Colombia\"], [\"Venezuela\"], [\"Ecuador\"], [\"Peru\"], [\"Brazil\"], [\"Bolivia\"], [\"Paraguay\"], [\"Chile\"], [\"Argentina\"], [\"Uruguay\"], [\"United Kingdom\"], [\"Netherlands\"], [\"Belgium\"], [\"Luxembourg\"], [\"France\"], [\"Poland\"], [\"Czechoslovakia\"], [\"Yugoslavia\"], [\"Greece\"], [\"Russia\"], [\"Ukraine\"], [\"Belarus\"], [\"Norway\"], [\"Denmark\"], [\"Liberia\"], [\"Ethiopia\"], [\"South Africa\"], [\"Iran\"], [\"Turkey\"], [\"Iraq\"], [\"Egypt\"], [\"Syria\"], [\"Lebanon\"], [\"Saudi Arabia\"], [\"Taiwan\"], [\"India\"], [\"Philippines\"], [\"Australia\"], [\"New Zealand\"], [\"Costa Rica\"], [\"Haiti\"], [\"Sweden\"], [\"Iceland\"], [\"Afghanistan\"], [\"Yemen Arab Republic\"], [\"Pakistan\"], [\"Thailand\"], [\"Myanmar (Burma)\"], [\"Israel\"], [\"Indonesia\"], [\"Hungary\"], [\"Jordan\"], [\"Sri Lanka\"], [\"Spain\"], [\"Romania\"], [\"Ireland\"], [\"Portugal\"], [\"Austria\"], [\"Italy\"], [\"Albania\"], [\"Bulgaria\"], [\"Finland\"], [\"Morocco\"], [\"Tunisia\"], [\"Libya\"], [\"Sudan\"], [\"Nepal\"], [\"Cambodia\"], [\"Laos\"], [\"Japan\"], [\"Ghana\"], [\"Malaysia\"], [\"Guinea\"], [\"Cyprus\"], [\"Mali\"], [\"Senegal\"], [\"Benin\"], [\"Niger\"], [\"C\\u00f4te d\\u2019Ivoire\"], [\"Burkina Faso\"], [\"Togo\"], [\"Cameroon\"], [\"Nigeria\"], [\"Gabon\"], [\"Central African Republic\"], [\"Chad\"], [\"Congo - Brazzaville\"], [\"Somalia\"], [\"Madagascar\"], [\"Congo - Kinshasa\"], [\"Mauritania\"], [\"Sierra Leone\"], [\"Mongolia\"], [\"Tanzania\"], [\"Jamaica\"], [\"Trinidad & Tobago\"], [\"Uganda\"], [\"Burundi\"], [\"Rwanda\"], [\"Algeria\"], [\"Kuwait\"], [\"Kenya\"], [\"Zanzibar\"], [\"Malta\"], [\"Zambia\"], [\"Maldives\"], [\"Malawi\"], [\"Singapore\"], [\"Guyana\"], [\"Gambia\"], [\"Lesotho\"], [\"Barbados\"], [\"Botswana\"], [\"Yemen People's Republic\"], [\"Mauritius\"], [\"Equatorial Guinea\"], [\"Eswatini\"], [\"Fiji\"], [\"Bahrain\"], [\"Qatar\"], [\"China\"], [\"Oman\"], [\"United Arab Emirates\"], [\"Bhutan\"], [\"Federal Republic of Germany\"], [\"German Democratic Republic\"], [\"Bahamas\"], [\"Bangladesh\"], [\"Grenada\"], [\"Guinea-Bissau\"], [\"Cape Verde\"], [\"S\\u00e3o Tom\\u00e9 & Pr\\u00edncipe\"], [\"Mozambique\"], [\"Comoros\"], [\"Papua New Guinea\"], [\"Suriname\"], [\"Angola\"], [\"Djibouti\"], [\"Vietnam\"], [\"Samoa\"], [\"Seychelles\"], [\"St. Lucia\"], [\"Solomon Islands\"], [\"Zimbabwe\"], [\"Vanuatu\"], [\"Antigua & Barbuda\"], [\"Belize\"], [\"St. Vincent & Grenadines\"], [\"Dominica\"], [\"St. Kitts & Nevis\"], [\"Brunei\"], [\"Liechtenstein\"], [\"Namibia\"], [\"Germany\"], [\"Estonia\"], [\"Latvia\"], [\"Lithuania\"], [\"Yemen\"], [\"North Korea\"], [\"South Korea\"], [\"Marshall Islands\"], [\"Micronesia (Federated States of)\"], [\"Croatia\"], [\"Slovenia\"], [\"Moldova\"], [\"San Marino\"], [\"Armenia\"], [\"Azerbaijan\"], [\"Bosnia & Herzegovina\"], [\"Kazakhstan\"], [\"Tajikistan\"], [\"Turkmenistan\"], [\"Kyrgyzstan\"], [\"Andorra\"], [\"Czechia\"], [\"Slovakia\"], [\"North Macedonia\"], [\"Monaco\"], [\"Georgia\"], [\"Eritrea\"], [\"Uzbekistan\"], [\"Palau\"], [\"Tonga\"], [\"Nauru\"], [\"Tuvalu\"], [\"Kiribati\"], [\"Switzerland\"], [\"Timor-Leste\"], [\"Montenegro\"], [\"South Sudan\"]];\n",
       "\n",
       "        // Define the dt_args\n",
       "        let dt_args = {\"layout\": {\"topStart\": \"pageLength\", \"topEnd\": \"search\", \"bottomStart\": \"info\", \"bottomEnd\": \"paging\"}, \"order\": []};\n",
       "        dt_args[\"data\"] = data;\n",
       "\n",
       "        \n",
       "        new DataTable(table, dt_args);\n",
       "    });\n",
       "</script>\n"
      ],
      "text/plain": [
       "<IPython.core.display.HTML object>"
      ]
     },
     "metadata": {},
     "output_type": "display_data"
    },
    {
     "data": {
      "text/html": [
       "<table id=\"itables_c3b8944c_7978_409b_8bad_f9f05a3d8b37\" class=\"display nowrap\" data-quarto-disable-processing=\"true\" style=\"table-layout:auto;width:auto;margin:auto;caption-side:bottom\">\n",
       "<thead>\n",
       "    <tr style=\"text-align: right;\">\n",
       "      \n",
       "      <th>rcid</th>\n",
       "      <th>country</th>\n",
       "      <th>country_code</th>\n",
       "      <th>vote</th>\n",
       "      <th>session</th>\n",
       "      <th>importantvote</th>\n",
       "      <th>date</th>\n",
       "      <th>unres</th>\n",
       "      <th>amend</th>\n",
       "      <th>para</th>\n",
       "      <th>short</th>\n",
       "      <th>descr</th>\n",
       "      <th>short_name</th>\n",
       "      <th>issue</th>\n",
       "      <th>year</th>\n",
       "    </tr>\n",
       "  </thead><tbody><tr>\n",
       "<td style=\"vertical-align:middle; text-align:left\">\n",
       "<div style=\"float:left; margin-right: 10px;\">\n",
       "<a href=https://mwouts.github.io/itables/><svg class=\"main-svg\" xmlns=\"http://www.w3.org/2000/svg\" xmlns:xlink=\"http://www.w3.org/1999/xlink\"\n",
       "width=\"64\" viewBox=\"0 0 500 400\" style=\"font-family: 'Droid Sans', sans-serif;\">\n",
       "    <g style=\"fill:#d9d7fc\">\n",
       "        <path d=\"M100,400H500V357H100Z\" />\n",
       "        <path d=\"M100,300H400V257H100Z\" />\n",
       "        <path d=\"M0,200H400V157H0Z\" />\n",
       "        <path d=\"M100,100H500V57H100Z\" />\n",
       "        <path d=\"M100,350H500V307H100Z\" />\n",
       "        <path d=\"M100,250H400V207H100Z\" />\n",
       "        <path d=\"M0,150H400V107H0Z\" />\n",
       "        <path d=\"M100,50H500V7H100Z\" />\n",
       "    </g>\n",
       "    <g style=\"fill:#1a1366;stroke:#1a1366;\">\n",
       "   <rect x=\"100\" y=\"7\" width=\"400\" height=\"43\">\n",
       "    <animate\n",
       "      attributeName=\"width\"\n",
       "      values=\"0;400;0\"\n",
       "      dur=\"5s\"\n",
       "      repeatCount=\"indefinite\" />\n",
       "      <animate\n",
       "      attributeName=\"x\"\n",
       "      values=\"100;100;500\"\n",
       "      dur=\"5s\"\n",
       "      repeatCount=\"indefinite\" />\n",
       "  </rect>\n",
       "        <rect x=\"0\" y=\"107\" width=\"400\" height=\"43\">\n",
       "    <animate\n",
       "      attributeName=\"width\"\n",
       "      values=\"0;400;0\"\n",
       "      dur=\"3.5s\"\n",
       "      repeatCount=\"indefinite\" />\n",
       "    <animate\n",
       "      attributeName=\"x\"\n",
       "      values=\"0;0;400\"\n",
       "      dur=\"3.5s\"\n",
       "      repeatCount=\"indefinite\" />\n",
       "  </rect>\n",
       "        <rect x=\"100\" y=\"207\" width=\"300\" height=\"43\">\n",
       "    <animate\n",
       "      attributeName=\"width\"\n",
       "      values=\"0;300;0\"\n",
       "      dur=\"3s\"\n",
       "      repeatCount=\"indefinite\" />\n",
       "    <animate\n",
       "      attributeName=\"x\"\n",
       "      values=\"100;100;400\"\n",
       "      dur=\"3s\"\n",
       "      repeatCount=\"indefinite\" />\n",
       "  </rect>\n",
       "        <rect x=\"100\" y=\"307\" width=\"400\" height=\"43\">\n",
       "    <animate\n",
       "      attributeName=\"width\"\n",
       "      values=\"0;400;0\"\n",
       "      dur=\"4s\"\n",
       "      repeatCount=\"indefinite\" />\n",
       "      <animate\n",
       "      attributeName=\"x\"\n",
       "      values=\"100;100;500\"\n",
       "      dur=\"4s\"\n",
       "      repeatCount=\"indefinite\" />\n",
       "  </rect>\n",
       "        <g style=\"fill:transparent;stroke-width:8; stroke-linejoin:round\" rx=\"5\">\n",
       "            <g transform=\"translate(45 50) rotate(-45)\">\n",
       "                <circle r=\"33\" cx=\"0\" cy=\"0\" />\n",
       "                <rect x=\"-8\" y=\"32\" width=\"16\" height=\"30\" />\n",
       "            </g>\n",
       "\n",
       "            <g transform=\"translate(450 152)\">\n",
       "                <polyline points=\"-15,-20 -35,-20 -35,40 25,40 25,20\" />\n",
       "                <rect x=\"-15\" y=\"-40\" width=\"60\" height=\"60\" />\n",
       "            </g>\n",
       "\n",
       "            <g transform=\"translate(50 352)\">\n",
       "                <polygon points=\"-35,-5 0,-40 35,-5\" />\n",
       "                <polygon points=\"-35,10 0,45 35,10\" />\n",
       "            </g>\n",
       "\n",
       "            <g transform=\"translate(75 250)\">\n",
       "                <polyline points=\"-30,30 -60,0 -30,-30\" />\n",
       "                <polyline points=\"0,30 -30,0 0,-30\" />\n",
       "            </g>\n",
       "\n",
       "            <g transform=\"translate(425 250) rotate(180)\">\n",
       "                <polyline points=\"-30,30 -60,0 -30,-30\" />\n",
       "                <polyline points=\"0,30 -30,0 0,-30\" />\n",
       "            </g>\n",
       "        </g>\n",
       "    </g>\n",
       "</svg>\n",
       "</a>\n",
       "</div>\n",
       "<div>\n",
       "Loading ITables v2.1.4 from the internet...\n",
       "(need <a href=https://mwouts.github.io/itables/troubleshooting.html>help</a>?)</td>\n",
       "</div>\n",
       "</tr></tbody>\n",
       "\n",
       "</table>\n",
       "<link href=\"https://www.unpkg.com/dt_for_itables@2.0.11/dt_bundle.css\" rel=\"stylesheet\">\n",
       "<script type=\"module\">\n",
       "    import {DataTable, jQuery as $} from 'https://www.unpkg.com/dt_for_itables@2.0.11/dt_bundle.js';\n",
       "\n",
       "    document.querySelectorAll(\"#itables_c3b8944c_7978_409b_8bad_f9f05a3d8b37:not(.dataTable)\").forEach(table => {\n",
       "        // Define the table data\n",
       "        const data = [[6, \"United States\", \"US\", \"no\", 1, 0.0, \"1946-01-04\", \"R/1/107\", 0.0, 0.0, \"DECLARATION OF HUMAN RIGHTS\", \"TO ADOPT A CUBAN PROPOSAL (A/3-C) THAT AN ITEM ON A DECLARATION OF THE RIGHTS AND DUTIES OF MAN BE TABLED.\", \"hr\", \"Human rights\", 1946], [6, \"Canada\", \"CA\", \"no\", 1, 0.0, \"1946-01-04\", \"R/1/107\", 0.0, 0.0, \"DECLARATION OF HUMAN RIGHTS\", \"TO ADOPT A CUBAN PROPOSAL (A/3-C) THAT AN ITEM ON A DECLARATION OF THE RIGHTS AND DUTIES OF MAN BE TABLED.\", \"hr\", \"Human rights\", 1946], [6, \"Cuba\", \"CU\", \"yes\", 1, 0.0, \"1946-01-04\", \"R/1/107\", 0.0, 0.0, \"DECLARATION OF HUMAN RIGHTS\", \"TO ADOPT A CUBAN PROPOSAL (A/3-C) THAT AN ITEM ON A DECLARATION OF THE RIGHTS AND DUTIES OF MAN BE TABLED.\", \"hr\", \"Human rights\", 1946], [6, \"Dominican Republic\", \"DO\", \"abstain\", 1, 0.0, \"1946-01-04\", \"R/1/107\", 0.0, 0.0, \"DECLARATION OF HUMAN RIGHTS\", \"TO ADOPT A CUBAN PROPOSAL (A/3-C) THAT AN ITEM ON A DECLARATION OF THE RIGHTS AND DUTIES OF MAN BE TABLED.\", \"hr\", \"Human rights\", 1946], [6, \"Mexico\", \"MX\", \"yes\", 1, 0.0, \"1946-01-04\", \"R/1/107\", 0.0, 0.0, \"DECLARATION OF HUMAN RIGHTS\", \"TO ADOPT A CUBAN PROPOSAL (A/3-C) THAT AN ITEM ON A DECLARATION OF THE RIGHTS AND DUTIES OF MAN BE TABLED.\", \"hr\", \"Human rights\", 1946], [6, \"Guatemala\", \"GT\", \"no\", 1, 0.0, \"1946-01-04\", \"R/1/107\", 0.0, 0.0, \"DECLARATION OF HUMAN RIGHTS\", \"TO ADOPT A CUBAN PROPOSAL (A/3-C) THAT AN ITEM ON A DECLARATION OF THE RIGHTS AND DUTIES OF MAN BE TABLED.\", \"hr\", \"Human rights\", 1946], [6, \"Honduras\", \"HN\", \"yes\", 1, 0.0, \"1946-01-04\", \"R/1/107\", 0.0, 0.0, \"DECLARATION OF HUMAN RIGHTS\", \"TO ADOPT A CUBAN PROPOSAL (A/3-C) THAT AN ITEM ON A DECLARATION OF THE RIGHTS AND DUTIES OF MAN BE TABLED.\", \"hr\", \"Human rights\", 1946], [6, \"El Salvador\", \"SV\", \"abstain\", 1, 0.0, \"1946-01-04\", \"R/1/107\", 0.0, 0.0, \"DECLARATION OF HUMAN RIGHTS\", \"TO ADOPT A CUBAN PROPOSAL (A/3-C) THAT AN ITEM ON A DECLARATION OF THE RIGHTS AND DUTIES OF MAN BE TABLED.\", \"hr\", \"Human rights\", 1946], [6, \"Nicaragua\", \"NI\", \"yes\", 1, 0.0, \"1946-01-04\", \"R/1/107\", 0.0, 0.0, \"DECLARATION OF HUMAN RIGHTS\", \"TO ADOPT A CUBAN PROPOSAL (A/3-C) THAT AN ITEM ON A DECLARATION OF THE RIGHTS AND DUTIES OF MAN BE TABLED.\", \"hr\", \"Human rights\", 1946], [6, \"Panama\", \"PA\", \"abstain\", 1, 0.0, \"1946-01-04\", \"R/1/107\", 0.0, 0.0, \"DECLARATION OF HUMAN RIGHTS\", \"TO ADOPT A CUBAN PROPOSAL (A/3-C) THAT AN ITEM ON A DECLARATION OF THE RIGHTS AND DUTIES OF MAN BE TABLED.\", \"hr\", \"Human rights\", 1946], [6, \"Colombia\", \"CO\", \"abstain\", 1, 0.0, \"1946-01-04\", \"R/1/107\", 0.0, 0.0, \"DECLARATION OF HUMAN RIGHTS\", \"TO ADOPT A CUBAN PROPOSAL (A/3-C) THAT AN ITEM ON A DECLARATION OF THE RIGHTS AND DUTIES OF MAN BE TABLED.\", \"hr\", \"Human rights\", 1946], [6, \"Venezuela\", \"VE\", \"no\", 1, 0.0, \"1946-01-04\", \"R/1/107\", 0.0, 0.0, \"DECLARATION OF HUMAN RIGHTS\", \"TO ADOPT A CUBAN PROPOSAL (A/3-C) THAT AN ITEM ON A DECLARATION OF THE RIGHTS AND DUTIES OF MAN BE TABLED.\", \"hr\", \"Human rights\", 1946], [6, \"Ecuador\", \"EC\", \"yes\", 1, 0.0, \"1946-01-04\", \"R/1/107\", 0.0, 0.0, \"DECLARATION OF HUMAN RIGHTS\", \"TO ADOPT A CUBAN PROPOSAL (A/3-C) THAT AN ITEM ON A DECLARATION OF THE RIGHTS AND DUTIES OF MAN BE TABLED.\", \"hr\", \"Human rights\", 1946], [6, \"Peru\", \"PE\", \"yes\", 1, 0.0, \"1946-01-04\", \"R/1/107\", 0.0, 0.0, \"DECLARATION OF HUMAN RIGHTS\", \"TO ADOPT A CUBAN PROPOSAL (A/3-C) THAT AN ITEM ON A DECLARATION OF THE RIGHTS AND DUTIES OF MAN BE TABLED.\", \"hr\", \"Human rights\", 1946], [6, \"Brazil\", \"BR\", \"no\", 1, 0.0, \"1946-01-04\", \"R/1/107\", 0.0, 0.0, \"DECLARATION OF HUMAN RIGHTS\", \"TO ADOPT A CUBAN PROPOSAL (A/3-C) THAT AN ITEM ON A DECLARATION OF THE RIGHTS AND DUTIES OF MAN BE TABLED.\", \"hr\", \"Human rights\", 1946], [6, \"Bolivia\", \"BO\", \"no\", 1, 0.0, \"1946-01-04\", \"R/1/107\", 0.0, 0.0, \"DECLARATION OF HUMAN RIGHTS\", \"TO ADOPT A CUBAN PROPOSAL (A/3-C) THAT AN ITEM ON A DECLARATION OF THE RIGHTS AND DUTIES OF MAN BE TABLED.\", \"hr\", \"Human rights\", 1946], [6, \"Paraguay\", \"PY\", \"abstain\", 1, 0.0, \"1946-01-04\", \"R/1/107\", 0.0, 0.0, \"DECLARATION OF HUMAN RIGHTS\", \"TO ADOPT A CUBAN PROPOSAL (A/3-C) THAT AN ITEM ON A DECLARATION OF THE RIGHTS AND DUTIES OF MAN BE TABLED.\", \"hr\", \"Human rights\", 1946], [6, \"Chile\", \"CL\", \"yes\", 1, 0.0, \"1946-01-04\", \"R/1/107\", 0.0, 0.0, \"DECLARATION OF HUMAN RIGHTS\", \"TO ADOPT A CUBAN PROPOSAL (A/3-C) THAT AN ITEM ON A DECLARATION OF THE RIGHTS AND DUTIES OF MAN BE TABLED.\", \"hr\", \"Human rights\", 1946], [6, \"Argentina\", \"AR\", \"abstain\", 1, 0.0, \"1946-01-04\", \"R/1/107\", 0.0, 0.0, \"DECLARATION OF HUMAN RIGHTS\", \"TO ADOPT A CUBAN PROPOSAL (A/3-C) THAT AN ITEM ON A DECLARATION OF THE RIGHTS AND DUTIES OF MAN BE TABLED.\", \"hr\", \"Human rights\", 1946], [6, \"Uruguay\", \"UY\", \"yes\", 1, 0.0, \"1946-01-04\", \"R/1/107\", 0.0, 0.0, \"DECLARATION OF HUMAN RIGHTS\", \"TO ADOPT A CUBAN PROPOSAL (A/3-C) THAT AN ITEM ON A DECLARATION OF THE RIGHTS AND DUTIES OF MAN BE TABLED.\", \"hr\", \"Human rights\", 1946], [6, \"United Kingdom\", \"GB\", \"no\", 1, 0.0, \"1946-01-04\", \"R/1/107\", 0.0, 0.0, \"DECLARATION OF HUMAN RIGHTS\", \"TO ADOPT A CUBAN PROPOSAL (A/3-C) THAT AN ITEM ON A DECLARATION OF THE RIGHTS AND DUTIES OF MAN BE TABLED.\", \"hr\", \"Human rights\", 1946], [6, \"Netherlands\", \"NL\", \"no\", 1, 0.0, \"1946-01-04\", \"R/1/107\", 0.0, 0.0, \"DECLARATION OF HUMAN RIGHTS\", \"TO ADOPT A CUBAN PROPOSAL (A/3-C) THAT AN ITEM ON A DECLARATION OF THE RIGHTS AND DUTIES OF MAN BE TABLED.\", \"hr\", \"Human rights\", 1946], [6, \"Belgium\", \"BE\", \"no\", 1, 0.0, \"1946-01-04\", \"R/1/107\", 0.0, 0.0, \"DECLARATION OF HUMAN RIGHTS\", \"TO ADOPT A CUBAN PROPOSAL (A/3-C) THAT AN ITEM ON A DECLARATION OF THE RIGHTS AND DUTIES OF MAN BE TABLED.\", \"hr\", \"Human rights\", 1946], [6, \"Luxembourg\", \"LU\", \"no\", 1, 0.0, \"1946-01-04\", \"R/1/107\", 0.0, 0.0, \"DECLARATION OF HUMAN RIGHTS\", \"TO ADOPT A CUBAN PROPOSAL (A/3-C) THAT AN ITEM ON A DECLARATION OF THE RIGHTS AND DUTIES OF MAN BE TABLED.\", \"hr\", \"Human rights\", 1946], [6, \"France\", \"FR\", \"no\", 1, 0.0, \"1946-01-04\", \"R/1/107\", 0.0, 0.0, \"DECLARATION OF HUMAN RIGHTS\", \"TO ADOPT A CUBAN PROPOSAL (A/3-C) THAT AN ITEM ON A DECLARATION OF THE RIGHTS AND DUTIES OF MAN BE TABLED.\", \"hr\", \"Human rights\", 1946], [6, \"Poland\", \"PL\", \"no\", 1, 0.0, \"1946-01-04\", \"R/1/107\", 0.0, 0.0, \"DECLARATION OF HUMAN RIGHTS\", \"TO ADOPT A CUBAN PROPOSAL (A/3-C) THAT AN ITEM ON A DECLARATION OF THE RIGHTS AND DUTIES OF MAN BE TABLED.\", \"hr\", \"Human rights\", 1946], [6, \"Czechoslovakia\", \"CS\", \"no\", 1, 0.0, \"1946-01-04\", \"R/1/107\", 0.0, 0.0, \"DECLARATION OF HUMAN RIGHTS\", \"TO ADOPT A CUBAN PROPOSAL (A/3-C) THAT AN ITEM ON A DECLARATION OF THE RIGHTS AND DUTIES OF MAN BE TABLED.\", \"hr\", \"Human rights\", 1946], [6, \"Yugoslavia\", \"YU\", \"no\", 1, 0.0, \"1946-01-04\", \"R/1/107\", 0.0, 0.0, \"DECLARATION OF HUMAN RIGHTS\", \"TO ADOPT A CUBAN PROPOSAL (A/3-C) THAT AN ITEM ON A DECLARATION OF THE RIGHTS AND DUTIES OF MAN BE TABLED.\", \"hr\", \"Human rights\", 1946], [6, \"Greece\", \"GR\", \"no\", 1, 0.0, \"1946-01-04\", \"R/1/107\", 0.0, 0.0, \"DECLARATION OF HUMAN RIGHTS\", \"TO ADOPT A CUBAN PROPOSAL (A/3-C) THAT AN ITEM ON A DECLARATION OF THE RIGHTS AND DUTIES OF MAN BE TABLED.\", \"hr\", \"Human rights\", 1946], [6, \"Russia\", \"RU\", \"no\", 1, 0.0, \"1946-01-04\", \"R/1/107\", 0.0, 0.0, \"DECLARATION OF HUMAN RIGHTS\", \"TO ADOPT A CUBAN PROPOSAL (A/3-C) THAT AN ITEM ON A DECLARATION OF THE RIGHTS AND DUTIES OF MAN BE TABLED.\", \"hr\", \"Human rights\", 1946], [6, \"Ukraine\", \"UA\", \"no\", 1, 0.0, \"1946-01-04\", \"R/1/107\", 0.0, 0.0, \"DECLARATION OF HUMAN RIGHTS\", \"TO ADOPT A CUBAN PROPOSAL (A/3-C) THAT AN ITEM ON A DECLARATION OF THE RIGHTS AND DUTIES OF MAN BE TABLED.\", \"hr\", \"Human rights\", 1946], [6, \"Belarus\", \"BY\", \"no\", 1, 0.0, \"1946-01-04\", \"R/1/107\", 0.0, 0.0, \"DECLARATION OF HUMAN RIGHTS\", \"TO ADOPT A CUBAN PROPOSAL (A/3-C) THAT AN ITEM ON A DECLARATION OF THE RIGHTS AND DUTIES OF MAN BE TABLED.\", \"hr\", \"Human rights\", 1946], [6, \"Norway\", \"NO\", \"no\", 1, 0.0, \"1946-01-04\", \"R/1/107\", 0.0, 0.0, \"DECLARATION OF HUMAN RIGHTS\", \"TO ADOPT A CUBAN PROPOSAL (A/3-C) THAT AN ITEM ON A DECLARATION OF THE RIGHTS AND DUTIES OF MAN BE TABLED.\", \"hr\", \"Human rights\", 1946], [6, \"Denmark\", \"DK\", \"no\", 1, 0.0, \"1946-01-04\", \"R/1/107\", 0.0, 0.0, \"DECLARATION OF HUMAN RIGHTS\", \"TO ADOPT A CUBAN PROPOSAL (A/3-C) THAT AN ITEM ON A DECLARATION OF THE RIGHTS AND DUTIES OF MAN BE TABLED.\", \"hr\", \"Human rights\", 1946], [6, \"Liberia\", \"LR\", \"no\", 1, 0.0, \"1946-01-04\", \"R/1/107\", 0.0, 0.0, \"DECLARATION OF HUMAN RIGHTS\", \"TO ADOPT A CUBAN PROPOSAL (A/3-C) THAT AN ITEM ON A DECLARATION OF THE RIGHTS AND DUTIES OF MAN BE TABLED.\", \"hr\", \"Human rights\", 1946], [6, \"Ethiopia\", \"ET\", \"abstain\", 1, 0.0, \"1946-01-04\", \"R/1/107\", 0.0, 0.0, \"DECLARATION OF HUMAN RIGHTS\", \"TO ADOPT A CUBAN PROPOSAL (A/3-C) THAT AN ITEM ON A DECLARATION OF THE RIGHTS AND DUTIES OF MAN BE TABLED.\", \"hr\", \"Human rights\", 1946], [6, \"South Africa\", \"ZA\", \"no\", 1, 0.0, \"1946-01-04\", \"R/1/107\", 0.0, 0.0, \"DECLARATION OF HUMAN RIGHTS\", \"TO ADOPT A CUBAN PROPOSAL (A/3-C) THAT AN ITEM ON A DECLARATION OF THE RIGHTS AND DUTIES OF MAN BE TABLED.\", \"hr\", \"Human rights\", 1946], [6, \"Iran\", \"IR\", \"yes\", 1, 0.0, \"1946-01-04\", \"R/1/107\", 0.0, 0.0, \"DECLARATION OF HUMAN RIGHTS\", \"TO ADOPT A CUBAN PROPOSAL (A/3-C) THAT AN ITEM ON A DECLARATION OF THE RIGHTS AND DUTIES OF MAN BE TABLED.\", \"hr\", \"Human rights\", 1946], [6, \"Turkey\", \"TR\", \"no\", 1, 0.0, \"1946-01-04\", \"R/1/107\", 0.0, 0.0, \"DECLARATION OF HUMAN RIGHTS\", \"TO ADOPT A CUBAN PROPOSAL (A/3-C) THAT AN ITEM ON A DECLARATION OF THE RIGHTS AND DUTIES OF MAN BE TABLED.\", \"hr\", \"Human rights\", 1946], [6, \"Iraq\", \"IQ\", \"abstain\", 1, 0.0, \"1946-01-04\", \"R/1/107\", 0.0, 0.0, \"DECLARATION OF HUMAN RIGHTS\", \"TO ADOPT A CUBAN PROPOSAL (A/3-C) THAT AN ITEM ON A DECLARATION OF THE RIGHTS AND DUTIES OF MAN BE TABLED.\", \"hr\", \"Human rights\", 1946], [6, \"Egypt\", \"EG\", \"abstain\", 1, 0.0, \"1946-01-04\", \"R/1/107\", 0.0, 0.0, \"DECLARATION OF HUMAN RIGHTS\", \"TO ADOPT A CUBAN PROPOSAL (A/3-C) THAT AN ITEM ON A DECLARATION OF THE RIGHTS AND DUTIES OF MAN BE TABLED.\", \"hr\", \"Human rights\", 1946], [6, \"Syria\", \"SY\", \"no\", 1, 0.0, \"1946-01-04\", \"R/1/107\", 0.0, 0.0, \"DECLARATION OF HUMAN RIGHTS\", \"TO ADOPT A CUBAN PROPOSAL (A/3-C) THAT AN ITEM ON A DECLARATION OF THE RIGHTS AND DUTIES OF MAN BE TABLED.\", \"hr\", \"Human rights\", 1946], [6, \"Lebanon\", \"LB\", \"yes\", 1, 0.0, \"1946-01-04\", \"R/1/107\", 0.0, 0.0, \"DECLARATION OF HUMAN RIGHTS\", \"TO ADOPT A CUBAN PROPOSAL (A/3-C) THAT AN ITEM ON A DECLARATION OF THE RIGHTS AND DUTIES OF MAN BE TABLED.\", \"hr\", \"Human rights\", 1946], [6, \"Saudi Arabia\", \"SA\", \"abstain\", 1, 0.0, \"1946-01-04\", \"R/1/107\", 0.0, 0.0, \"DECLARATION OF HUMAN RIGHTS\", \"TO ADOPT A CUBAN PROPOSAL (A/3-C) THAT AN ITEM ON A DECLARATION OF THE RIGHTS AND DUTIES OF MAN BE TABLED.\", \"hr\", \"Human rights\", 1946], [6, \"Taiwan\", \"TW\", \"no\", 1, 0.0, \"1946-01-04\", \"R/1/107\", 0.0, 0.0, \"DECLARATION OF HUMAN RIGHTS\", \"TO ADOPT A CUBAN PROPOSAL (A/3-C) THAT AN ITEM ON A DECLARATION OF THE RIGHTS AND DUTIES OF MAN BE TABLED.\", \"hr\", \"Human rights\", 1946], [6, \"India\", \"IN\", \"no\", 1, 0.0, \"1946-01-04\", \"R/1/107\", 0.0, 0.0, \"DECLARATION OF HUMAN RIGHTS\", \"TO ADOPT A CUBAN PROPOSAL (A/3-C) THAT AN ITEM ON A DECLARATION OF THE RIGHTS AND DUTIES OF MAN BE TABLED.\", \"hr\", \"Human rights\", 1946], [6, \"Philippines\", \"PH\", \"yes\", 1, 0.0, \"1946-01-04\", \"R/1/107\", 0.0, 0.0, \"DECLARATION OF HUMAN RIGHTS\", \"TO ADOPT A CUBAN PROPOSAL (A/3-C) THAT AN ITEM ON A DECLARATION OF THE RIGHTS AND DUTIES OF MAN BE TABLED.\", \"hr\", \"Human rights\", 1946], [6, \"Australia\", \"AU\", \"yes\", 1, 0.0, \"1946-01-04\", \"R/1/107\", 0.0, 0.0, \"DECLARATION OF HUMAN RIGHTS\", \"TO ADOPT A CUBAN PROPOSAL (A/3-C) THAT AN ITEM ON A DECLARATION OF THE RIGHTS AND DUTIES OF MAN BE TABLED.\", \"hr\", \"Human rights\", 1946], [6, \"New Zealand\", \"NZ\", \"no\", 1, 0.0, \"1946-01-04\", \"R/1/107\", 0.0, 0.0, \"DECLARATION OF HUMAN RIGHTS\", \"TO ADOPT A CUBAN PROPOSAL (A/3-C) THAT AN ITEM ON A DECLARATION OF THE RIGHTS AND DUTIES OF MAN BE TABLED.\", \"hr\", \"Human rights\", 1946], [8, \"United States\", \"US\", \"no\", 1, 0.0, \"1946-01-05\", \"R/1/297\", 1.0, 0.0, \"ECOSOC POWERS\", \"TO ADOPT A SECOND 6TH COMM. AMENDMENT (A/14) TO THE PROVISIONAL RULES OF PROCEDURE, WHICH AMENDMENT EPLACES PROVISIONAL RULE T WITH A NEW TEXT AUTHORIZING THE ECONOMIC & SOC. COUNCIL TO CALL INTERNATIONAL CONFERENCES ON ANY MATTER WITHIN ITS CO\", \"ec\", \"Economic development\", 1946], [8, \"Canada\", \"CA\", \"yes\", 1, 0.0, \"1946-01-05\", \"R/1/297\", 1.0, 0.0, \"ECOSOC POWERS\", \"TO ADOPT A SECOND 6TH COMM. AMENDMENT (A/14) TO THE PROVISIONAL RULES OF PROCEDURE, WHICH AMENDMENT EPLACES PROVISIONAL RULE T WITH A NEW TEXT AUTHORIZING THE ECONOMIC & SOC. COUNCIL TO CALL INTERNATIONAL CONFERENCES ON ANY MATTER WITHIN ITS CO\", \"ec\", \"Economic development\", 1946], [8, \"Cuba\", \"CU\", \"yes\", 1, 0.0, \"1946-01-05\", \"R/1/297\", 1.0, 0.0, \"ECOSOC POWERS\", \"TO ADOPT A SECOND 6TH COMM. AMENDMENT (A/14) TO THE PROVISIONAL RULES OF PROCEDURE, WHICH AMENDMENT EPLACES PROVISIONAL RULE T WITH A NEW TEXT AUTHORIZING THE ECONOMIC & SOC. COUNCIL TO CALL INTERNATIONAL CONFERENCES ON ANY MATTER WITHIN ITS CO\", \"ec\", \"Economic development\", 1946], [8, \"Dominican Republic\", \"DO\", \"yes\", 1, 0.0, \"1946-01-05\", \"R/1/297\", 1.0, 0.0, \"ECOSOC POWERS\", \"TO ADOPT A SECOND 6TH COMM. AMENDMENT (A/14) TO THE PROVISIONAL RULES OF PROCEDURE, WHICH AMENDMENT EPLACES PROVISIONAL RULE T WITH A NEW TEXT AUTHORIZING THE ECONOMIC & SOC. COUNCIL TO CALL INTERNATIONAL CONFERENCES ON ANY MATTER WITHIN ITS CO\", \"ec\", \"Economic development\", 1946], [8, \"Mexico\", \"MX\", \"yes\", 1, 0.0, \"1946-01-05\", \"R/1/297\", 1.0, 0.0, \"ECOSOC POWERS\", \"TO ADOPT A SECOND 6TH COMM. AMENDMENT (A/14) TO THE PROVISIONAL RULES OF PROCEDURE, WHICH AMENDMENT EPLACES PROVISIONAL RULE T WITH A NEW TEXT AUTHORIZING THE ECONOMIC & SOC. COUNCIL TO CALL INTERNATIONAL CONFERENCES ON ANY MATTER WITHIN ITS CO\", \"ec\", \"Economic development\", 1946], [8, \"Guatemala\", \"GT\", \"yes\", 1, 0.0, \"1946-01-05\", \"R/1/297\", 1.0, 0.0, \"ECOSOC POWERS\", \"TO ADOPT A SECOND 6TH COMM. AMENDMENT (A/14) TO THE PROVISIONAL RULES OF PROCEDURE, WHICH AMENDMENT EPLACES PROVISIONAL RULE T WITH A NEW TEXT AUTHORIZING THE ECONOMIC & SOC. COUNCIL TO CALL INTERNATIONAL CONFERENCES ON ANY MATTER WITHIN ITS CO\", \"ec\", \"Economic development\", 1946], [8, \"Costa Rica\", \"CR\", \"yes\", 1, 0.0, \"1946-01-05\", \"R/1/297\", 1.0, 0.0, \"ECOSOC POWERS\", \"TO ADOPT A SECOND 6TH COMM. AMENDMENT (A/14) TO THE PROVISIONAL RULES OF PROCEDURE, WHICH AMENDMENT EPLACES PROVISIONAL RULE T WITH A NEW TEXT AUTHORIZING THE ECONOMIC & SOC. COUNCIL TO CALL INTERNATIONAL CONFERENCES ON ANY MATTER WITHIN ITS CO\", \"ec\", \"Economic development\", 1946], [8, \"Colombia\", \"CO\", \"yes\", 1, 0.0, \"1946-01-05\", \"R/1/297\", 1.0, 0.0, \"ECOSOC POWERS\", \"TO ADOPT A SECOND 6TH COMM. AMENDMENT (A/14) TO THE PROVISIONAL RULES OF PROCEDURE, WHICH AMENDMENT EPLACES PROVISIONAL RULE T WITH A NEW TEXT AUTHORIZING THE ECONOMIC & SOC. COUNCIL TO CALL INTERNATIONAL CONFERENCES ON ANY MATTER WITHIN ITS CO\", \"ec\", \"Economic development\", 1946], [8, \"Ecuador\", \"EC\", \"yes\", 1, 0.0, \"1946-01-05\", \"R/1/297\", 1.0, 0.0, \"ECOSOC POWERS\", \"TO ADOPT A SECOND 6TH COMM. AMENDMENT (A/14) TO THE PROVISIONAL RULES OF PROCEDURE, WHICH AMENDMENT EPLACES PROVISIONAL RULE T WITH A NEW TEXT AUTHORIZING THE ECONOMIC & SOC. COUNCIL TO CALL INTERNATIONAL CONFERENCES ON ANY MATTER WITHIN ITS CO\", \"ec\", \"Economic development\", 1946], [8, \"Peru\", \"PE\", \"yes\", 1, 0.0, \"1946-01-05\", \"R/1/297\", 1.0, 0.0, \"ECOSOC POWERS\", \"TO ADOPT A SECOND 6TH COMM. AMENDMENT (A/14) TO THE PROVISIONAL RULES OF PROCEDURE, WHICH AMENDMENT EPLACES PROVISIONAL RULE T WITH A NEW TEXT AUTHORIZING THE ECONOMIC & SOC. COUNCIL TO CALL INTERNATIONAL CONFERENCES ON ANY MATTER WITHIN ITS CO\", \"ec\", \"Economic development\", 1946], [8, \"Brazil\", \"BR\", \"yes\", 1, 0.0, \"1946-01-05\", \"R/1/297\", 1.0, 0.0, \"ECOSOC POWERS\", \"TO ADOPT A SECOND 6TH COMM. AMENDMENT (A/14) TO THE PROVISIONAL RULES OF PROCEDURE, WHICH AMENDMENT EPLACES PROVISIONAL RULE T WITH A NEW TEXT AUTHORIZING THE ECONOMIC & SOC. COUNCIL TO CALL INTERNATIONAL CONFERENCES ON ANY MATTER WITHIN ITS CO\", \"ec\", \"Economic development\", 1946], [8, \"Bolivia\", \"BO\", \"yes\", 1, 0.0, \"1946-01-05\", \"R/1/297\", 1.0, 0.0, \"ECOSOC POWERS\", \"TO ADOPT A SECOND 6TH COMM. AMENDMENT (A/14) TO THE PROVISIONAL RULES OF PROCEDURE, WHICH AMENDMENT EPLACES PROVISIONAL RULE T WITH A NEW TEXT AUTHORIZING THE ECONOMIC & SOC. COUNCIL TO CALL INTERNATIONAL CONFERENCES ON ANY MATTER WITHIN ITS CO\", \"ec\", \"Economic development\", 1946], [8, \"Chile\", \"CL\", \"yes\", 1, 0.0, \"1946-01-05\", \"R/1/297\", 1.0, 0.0, \"ECOSOC POWERS\", \"TO ADOPT A SECOND 6TH COMM. AMENDMENT (A/14) TO THE PROVISIONAL RULES OF PROCEDURE, WHICH AMENDMENT EPLACES PROVISIONAL RULE T WITH A NEW TEXT AUTHORIZING THE ECONOMIC & SOC. COUNCIL TO CALL INTERNATIONAL CONFERENCES ON ANY MATTER WITHIN ITS CO\", \"ec\", \"Economic development\", 1946], [8, \"Argentina\", \"AR\", \"yes\", 1, 0.0, \"1946-01-05\", \"R/1/297\", 1.0, 0.0, \"ECOSOC POWERS\", \"TO ADOPT A SECOND 6TH COMM. AMENDMENT (A/14) TO THE PROVISIONAL RULES OF PROCEDURE, WHICH AMENDMENT EPLACES PROVISIONAL RULE T WITH A NEW TEXT AUTHORIZING THE ECONOMIC & SOC. COUNCIL TO CALL INTERNATIONAL CONFERENCES ON ANY MATTER WITHIN ITS CO\", \"ec\", \"Economic development\", 1946], [8, \"Uruguay\", \"UY\", \"yes\", 1, 0.0, \"1946-01-05\", \"R/1/297\", 1.0, 0.0, \"ECOSOC POWERS\", \"TO ADOPT A SECOND 6TH COMM. AMENDMENT (A/14) TO THE PROVISIONAL RULES OF PROCEDURE, WHICH AMENDMENT EPLACES PROVISIONAL RULE T WITH A NEW TEXT AUTHORIZING THE ECONOMIC & SOC. COUNCIL TO CALL INTERNATIONAL CONFERENCES ON ANY MATTER WITHIN ITS CO\", \"ec\", \"Economic development\", 1946], [8, \"United Kingdom\", \"GB\", \"yes\", 1, 0.0, \"1946-01-05\", \"R/1/297\", 1.0, 0.0, \"ECOSOC POWERS\", \"TO ADOPT A SECOND 6TH COMM. AMENDMENT (A/14) TO THE PROVISIONAL RULES OF PROCEDURE, WHICH AMENDMENT EPLACES PROVISIONAL RULE T WITH A NEW TEXT AUTHORIZING THE ECONOMIC & SOC. COUNCIL TO CALL INTERNATIONAL CONFERENCES ON ANY MATTER WITHIN ITS CO\", \"ec\", \"Economic development\", 1946], [8, \"Netherlands\", \"NL\", \"yes\", 1, 0.0, \"1946-01-05\", \"R/1/297\", 1.0, 0.0, \"ECOSOC POWERS\", \"TO ADOPT A SECOND 6TH COMM. AMENDMENT (A/14) TO THE PROVISIONAL RULES OF PROCEDURE, WHICH AMENDMENT EPLACES PROVISIONAL RULE T WITH A NEW TEXT AUTHORIZING THE ECONOMIC & SOC. COUNCIL TO CALL INTERNATIONAL CONFERENCES ON ANY MATTER WITHIN ITS CO\", \"ec\", \"Economic development\", 1946], [8, \"Belgium\", \"BE\", \"yes\", 1, 0.0, \"1946-01-05\", \"R/1/297\", 1.0, 0.0, \"ECOSOC POWERS\", \"TO ADOPT A SECOND 6TH COMM. AMENDMENT (A/14) TO THE PROVISIONAL RULES OF PROCEDURE, WHICH AMENDMENT EPLACES PROVISIONAL RULE T WITH A NEW TEXT AUTHORIZING THE ECONOMIC & SOC. COUNCIL TO CALL INTERNATIONAL CONFERENCES ON ANY MATTER WITHIN ITS CO\", \"ec\", \"Economic development\", 1946], [8, \"Luxembourg\", \"LU\", \"yes\", 1, 0.0, \"1946-01-05\", \"R/1/297\", 1.0, 0.0, \"ECOSOC POWERS\", \"TO ADOPT A SECOND 6TH COMM. AMENDMENT (A/14) TO THE PROVISIONAL RULES OF PROCEDURE, WHICH AMENDMENT EPLACES PROVISIONAL RULE T WITH A NEW TEXT AUTHORIZING THE ECONOMIC & SOC. COUNCIL TO CALL INTERNATIONAL CONFERENCES ON ANY MATTER WITHIN ITS CO\", \"ec\", \"Economic development\", 1946], [8, \"France\", \"FR\", \"yes\", 1, 0.0, \"1946-01-05\", \"R/1/297\", 1.0, 0.0, \"ECOSOC POWERS\", \"TO ADOPT A SECOND 6TH COMM. AMENDMENT (A/14) TO THE PROVISIONAL RULES OF PROCEDURE, WHICH AMENDMENT EPLACES PROVISIONAL RULE T WITH A NEW TEXT AUTHORIZING THE ECONOMIC & SOC. COUNCIL TO CALL INTERNATIONAL CONFERENCES ON ANY MATTER WITHIN ITS CO\", \"ec\", \"Economic development\", 1946], [8, \"Poland\", \"PL\", \"yes\", 1, 0.0, \"1946-01-05\", \"R/1/297\", 1.0, 0.0, \"ECOSOC POWERS\", \"TO ADOPT A SECOND 6TH COMM. AMENDMENT (A/14) TO THE PROVISIONAL RULES OF PROCEDURE, WHICH AMENDMENT EPLACES PROVISIONAL RULE T WITH A NEW TEXT AUTHORIZING THE ECONOMIC & SOC. COUNCIL TO CALL INTERNATIONAL CONFERENCES ON ANY MATTER WITHIN ITS CO\", \"ec\", \"Economic development\", 1946], [8, \"Czechoslovakia\", \"CS\", \"yes\", 1, 0.0, \"1946-01-05\", \"R/1/297\", 1.0, 0.0, \"ECOSOC POWERS\", \"TO ADOPT A SECOND 6TH COMM. AMENDMENT (A/14) TO THE PROVISIONAL RULES OF PROCEDURE, WHICH AMENDMENT EPLACES PROVISIONAL RULE T WITH A NEW TEXT AUTHORIZING THE ECONOMIC & SOC. COUNCIL TO CALL INTERNATIONAL CONFERENCES ON ANY MATTER WITHIN ITS CO\", \"ec\", \"Economic development\", 1946], [8, \"Yugoslavia\", \"YU\", \"yes\", 1, 0.0, \"1946-01-05\", \"R/1/297\", 1.0, 0.0, \"ECOSOC POWERS\", \"TO ADOPT A SECOND 6TH COMM. AMENDMENT (A/14) TO THE PROVISIONAL RULES OF PROCEDURE, WHICH AMENDMENT EPLACES PROVISIONAL RULE T WITH A NEW TEXT AUTHORIZING THE ECONOMIC & SOC. COUNCIL TO CALL INTERNATIONAL CONFERENCES ON ANY MATTER WITHIN ITS CO\", \"ec\", \"Economic development\", 1946], [8, \"Greece\", \"GR\", \"yes\", 1, 0.0, \"1946-01-05\", \"R/1/297\", 1.0, 0.0, \"ECOSOC POWERS\", \"TO ADOPT A SECOND 6TH COMM. AMENDMENT (A/14) TO THE PROVISIONAL RULES OF PROCEDURE, WHICH AMENDMENT EPLACES PROVISIONAL RULE T WITH A NEW TEXT AUTHORIZING THE ECONOMIC & SOC. COUNCIL TO CALL INTERNATIONAL CONFERENCES ON ANY MATTER WITHIN ITS CO\", \"ec\", \"Economic development\", 1946], [8, \"Russia\", \"RU\", \"yes\", 1, 0.0, \"1946-01-05\", \"R/1/297\", 1.0, 0.0, \"ECOSOC POWERS\", \"TO ADOPT A SECOND 6TH COMM. AMENDMENT (A/14) TO THE PROVISIONAL RULES OF PROCEDURE, WHICH AMENDMENT EPLACES PROVISIONAL RULE T WITH A NEW TEXT AUTHORIZING THE ECONOMIC & SOC. COUNCIL TO CALL INTERNATIONAL CONFERENCES ON ANY MATTER WITHIN ITS CO\", \"ec\", \"Economic development\", 1946], [8, \"Ukraine\", \"UA\", \"yes\", 1, 0.0, \"1946-01-05\", \"R/1/297\", 1.0, 0.0, \"ECOSOC POWERS\", \"TO ADOPT A SECOND 6TH COMM. AMENDMENT (A/14) TO THE PROVISIONAL RULES OF PROCEDURE, WHICH AMENDMENT EPLACES PROVISIONAL RULE T WITH A NEW TEXT AUTHORIZING THE ECONOMIC & SOC. COUNCIL TO CALL INTERNATIONAL CONFERENCES ON ANY MATTER WITHIN ITS CO\", \"ec\", \"Economic development\", 1946], [8, \"Belarus\", \"BY\", \"yes\", 1, 0.0, \"1946-01-05\", \"R/1/297\", 1.0, 0.0, \"ECOSOC POWERS\", \"TO ADOPT A SECOND 6TH COMM. AMENDMENT (A/14) TO THE PROVISIONAL RULES OF PROCEDURE, WHICH AMENDMENT EPLACES PROVISIONAL RULE T WITH A NEW TEXT AUTHORIZING THE ECONOMIC & SOC. COUNCIL TO CALL INTERNATIONAL CONFERENCES ON ANY MATTER WITHIN ITS CO\", \"ec\", \"Economic development\", 1946], [8, \"Norway\", \"NO\", \"abstain\", 1, 0.0, \"1946-01-05\", \"R/1/297\", 1.0, 0.0, \"ECOSOC POWERS\", \"TO ADOPT A SECOND 6TH COMM. AMENDMENT (A/14) TO THE PROVISIONAL RULES OF PROCEDURE, WHICH AMENDMENT EPLACES PROVISIONAL RULE T WITH A NEW TEXT AUTHORIZING THE ECONOMIC & SOC. COUNCIL TO CALL INTERNATIONAL CONFERENCES ON ANY MATTER WITHIN ITS CO\", \"ec\", \"Economic development\", 1946], [8, \"Denmark\", \"DK\", \"abstain\", 1, 0.0, \"1946-01-05\", \"R/1/297\", 1.0, 0.0, \"ECOSOC POWERS\", \"TO ADOPT A SECOND 6TH COMM. AMENDMENT (A/14) TO THE PROVISIONAL RULES OF PROCEDURE, WHICH AMENDMENT EPLACES PROVISIONAL RULE T WITH A NEW TEXT AUTHORIZING THE ECONOMIC & SOC. COUNCIL TO CALL INTERNATIONAL CONFERENCES ON ANY MATTER WITHIN ITS CO\", \"ec\", \"Economic development\", 1946], [8, \"Liberia\", \"LR\", \"yes\", 1, 0.0, \"1946-01-05\", \"R/1/297\", 1.0, 0.0, \"ECOSOC POWERS\", \"TO ADOPT A SECOND 6TH COMM. AMENDMENT (A/14) TO THE PROVISIONAL RULES OF PROCEDURE, WHICH AMENDMENT EPLACES PROVISIONAL RULE T WITH A NEW TEXT AUTHORIZING THE ECONOMIC & SOC. COUNCIL TO CALL INTERNATIONAL CONFERENCES ON ANY MATTER WITHIN ITS CO\", \"ec\", \"Economic development\", 1946], [8, \"South Africa\", \"ZA\", \"yes\", 1, 0.0, \"1946-01-05\", \"R/1/297\", 1.0, 0.0, \"ECOSOC POWERS\", \"TO ADOPT A SECOND 6TH COMM. AMENDMENT (A/14) TO THE PROVISIONAL RULES OF PROCEDURE, WHICH AMENDMENT EPLACES PROVISIONAL RULE T WITH A NEW TEXT AUTHORIZING THE ECONOMIC & SOC. COUNCIL TO CALL INTERNATIONAL CONFERENCES ON ANY MATTER WITHIN ITS CO\", \"ec\", \"Economic development\", 1946], [8, \"Turkey\", \"TR\", \"yes\", 1, 0.0, \"1946-01-05\", \"R/1/297\", 1.0, 0.0, \"ECOSOC POWERS\", \"TO ADOPT A SECOND 6TH COMM. AMENDMENT (A/14) TO THE PROVISIONAL RULES OF PROCEDURE, WHICH AMENDMENT EPLACES PROVISIONAL RULE T WITH A NEW TEXT AUTHORIZING THE ECONOMIC & SOC. COUNCIL TO CALL INTERNATIONAL CONFERENCES ON ANY MATTER WITHIN ITS CO\", \"ec\", \"Economic development\", 1946], [8, \"Iraq\", \"IQ\", \"yes\", 1, 0.0, \"1946-01-05\", \"R/1/297\", 1.0, 0.0, \"ECOSOC POWERS\", \"TO ADOPT A SECOND 6TH COMM. AMENDMENT (A/14) TO THE PROVISIONAL RULES OF PROCEDURE, WHICH AMENDMENT EPLACES PROVISIONAL RULE T WITH A NEW TEXT AUTHORIZING THE ECONOMIC & SOC. COUNCIL TO CALL INTERNATIONAL CONFERENCES ON ANY MATTER WITHIN ITS CO\", \"ec\", \"Economic development\", 1946], [8, \"Egypt\", \"EG\", \"yes\", 1, 0.0, \"1946-01-05\", \"R/1/297\", 1.0, 0.0, \"ECOSOC POWERS\", \"TO ADOPT A SECOND 6TH COMM. AMENDMENT (A/14) TO THE PROVISIONAL RULES OF PROCEDURE, WHICH AMENDMENT EPLACES PROVISIONAL RULE T WITH A NEW TEXT AUTHORIZING THE ECONOMIC & SOC. COUNCIL TO CALL INTERNATIONAL CONFERENCES ON ANY MATTER WITHIN ITS CO\", \"ec\", \"Economic development\", 1946], [8, \"Syria\", \"SY\", \"yes\", 1, 0.0, \"1946-01-05\", \"R/1/297\", 1.0, 0.0, \"ECOSOC POWERS\", \"TO ADOPT A SECOND 6TH COMM. AMENDMENT (A/14) TO THE PROVISIONAL RULES OF PROCEDURE, WHICH AMENDMENT EPLACES PROVISIONAL RULE T WITH A NEW TEXT AUTHORIZING THE ECONOMIC & SOC. COUNCIL TO CALL INTERNATIONAL CONFERENCES ON ANY MATTER WITHIN ITS CO\", \"ec\", \"Economic development\", 1946], [8, \"Lebanon\", \"LB\", \"yes\", 1, 0.0, \"1946-01-05\", \"R/1/297\", 1.0, 0.0, \"ECOSOC POWERS\", \"TO ADOPT A SECOND 6TH COMM. AMENDMENT (A/14) TO THE PROVISIONAL RULES OF PROCEDURE, WHICH AMENDMENT EPLACES PROVISIONAL RULE T WITH A NEW TEXT AUTHORIZING THE ECONOMIC & SOC. COUNCIL TO CALL INTERNATIONAL CONFERENCES ON ANY MATTER WITHIN ITS CO\", \"ec\", \"Economic development\", 1946], [8, \"Taiwan\", \"TW\", \"yes\", 1, 0.0, \"1946-01-05\", \"R/1/297\", 1.0, 0.0, \"ECOSOC POWERS\", \"TO ADOPT A SECOND 6TH COMM. AMENDMENT (A/14) TO THE PROVISIONAL RULES OF PROCEDURE, WHICH AMENDMENT EPLACES PROVISIONAL RULE T WITH A NEW TEXT AUTHORIZING THE ECONOMIC & SOC. COUNCIL TO CALL INTERNATIONAL CONFERENCES ON ANY MATTER WITHIN ITS CO\", \"ec\", \"Economic development\", 1946], [8, \"India\", \"IN\", \"yes\", 1, 0.0, \"1946-01-05\", \"R/1/297\", 1.0, 0.0, \"ECOSOC POWERS\", \"TO ADOPT A SECOND 6TH COMM. AMENDMENT (A/14) TO THE PROVISIONAL RULES OF PROCEDURE, WHICH AMENDMENT EPLACES PROVISIONAL RULE T WITH A NEW TEXT AUTHORIZING THE ECONOMIC & SOC. COUNCIL TO CALL INTERNATIONAL CONFERENCES ON ANY MATTER WITHIN ITS CO\", \"ec\", \"Economic development\", 1946], [8, \"Philippines\", \"PH\", \"yes\", 1, 0.0, \"1946-01-05\", \"R/1/297\", 1.0, 0.0, \"ECOSOC POWERS\", \"TO ADOPT A SECOND 6TH COMM. AMENDMENT (A/14) TO THE PROVISIONAL RULES OF PROCEDURE, WHICH AMENDMENT EPLACES PROVISIONAL RULE T WITH A NEW TEXT AUTHORIZING THE ECONOMIC & SOC. COUNCIL TO CALL INTERNATIONAL CONFERENCES ON ANY MATTER WITHIN ITS CO\", \"ec\", \"Economic development\", 1946], [8, \"Australia\", \"AU\", \"yes\", 1, 0.0, \"1946-01-05\", \"R/1/297\", 1.0, 0.0, \"ECOSOC POWERS\", \"TO ADOPT A SECOND 6TH COMM. AMENDMENT (A/14) TO THE PROVISIONAL RULES OF PROCEDURE, WHICH AMENDMENT EPLACES PROVISIONAL RULE T WITH A NEW TEXT AUTHORIZING THE ECONOMIC & SOC. COUNCIL TO CALL INTERNATIONAL CONFERENCES ON ANY MATTER WITHIN ITS CO\", \"ec\", \"Economic development\", 1946], [8, \"New Zealand\", \"NZ\", \"yes\", 1, 0.0, \"1946-01-05\", \"R/1/297\", 1.0, 0.0, \"ECOSOC POWERS\", \"TO ADOPT A SECOND 6TH COMM. AMENDMENT (A/14) TO THE PROVISIONAL RULES OF PROCEDURE, WHICH AMENDMENT EPLACES PROVISIONAL RULE T WITH A NEW TEXT AUTHORIZING THE ECONOMIC & SOC. COUNCIL TO CALL INTERNATIONAL CONFERENCES ON ANY MATTER WITHIN ITS CO\", \"ec\", \"Economic development\", 1946], [11, \"United States\", \"US\", \"yes\", 1, 0.0, \"1946-02-05\", \"R/1/376\", 0.0, 0.0, \"TRUSTEESHIP AMENDMENTS\", \"TO ADOPT DRAFT RESOLUTIONS I AND II AS A WHOLE, OF THE 4TH COMM. REPORT (A/34) ON NON-SELF-GOVERNING TERRITORIES. RESOLUTION I PROVIDES TO PROMOTE THE POLITICAL, SOCIAL, ECONOMIC, AND EDUCATIONAL ASPIRATIONS OF NON-SELF-GOVERNING PEOPLES THROUG\", \"co\", \"Colonialism\", 1946], [11, \"United States\", \"US\", \"yes\", 1, 0.0, \"1946-02-05\", \"R/1/376\", 0.0, 0.0, \"TRUSTEESHIP AMENDMENTS\", \"TO ADOPT DRAFT RESOLUTIONS I AND II AS A WHOLE, OF THE 4TH COMM. REPORT (A/34) ON NON-SELF-GOVERNING TERRITORIES. RESOLUTION I PROVIDES TO PROMOTE THE POLITICAL, SOCIAL, ECONOMIC, AND EDUCATIONAL ASPIRATIONS OF NON-SELF-GOVERNING PEOPLES THROUG\", \"ec\", \"Economic development\", 1946], [11, \"Canada\", \"CA\", \"yes\", 1, 0.0, \"1946-02-05\", \"R/1/376\", 0.0, 0.0, \"TRUSTEESHIP AMENDMENTS\", \"TO ADOPT DRAFT RESOLUTIONS I AND II AS A WHOLE, OF THE 4TH COMM. REPORT (A/34) ON NON-SELF-GOVERNING TERRITORIES. RESOLUTION I PROVIDES TO PROMOTE THE POLITICAL, SOCIAL, ECONOMIC, AND EDUCATIONAL ASPIRATIONS OF NON-SELF-GOVERNING PEOPLES THROUG\", \"co\", \"Colonialism\", 1946], [11, \"Canada\", \"CA\", \"yes\", 1, 0.0, \"1946-02-05\", \"R/1/376\", 0.0, 0.0, \"TRUSTEESHIP AMENDMENTS\", \"TO ADOPT DRAFT RESOLUTIONS I AND II AS A WHOLE, OF THE 4TH COMM. REPORT (A/34) ON NON-SELF-GOVERNING TERRITORIES. RESOLUTION I PROVIDES TO PROMOTE THE POLITICAL, SOCIAL, ECONOMIC, AND EDUCATIONAL ASPIRATIONS OF NON-SELF-GOVERNING PEOPLES THROUG\", \"ec\", \"Economic development\", 1946], [11, \"Cuba\", \"CU\", \"yes\", 1, 0.0, \"1946-02-05\", \"R/1/376\", 0.0, 0.0, \"TRUSTEESHIP AMENDMENTS\", \"TO ADOPT DRAFT RESOLUTIONS I AND II AS A WHOLE, OF THE 4TH COMM. REPORT (A/34) ON NON-SELF-GOVERNING TERRITORIES. RESOLUTION I PROVIDES TO PROMOTE THE POLITICAL, SOCIAL, ECONOMIC, AND EDUCATIONAL ASPIRATIONS OF NON-SELF-GOVERNING PEOPLES THROUG\", \"co\", \"Colonialism\", 1946], [11, \"Cuba\", \"CU\", \"yes\", 1, 0.0, \"1946-02-05\", \"R/1/376\", 0.0, 0.0, \"TRUSTEESHIP AMENDMENTS\", \"TO ADOPT DRAFT RESOLUTIONS I AND II AS A WHOLE, OF THE 4TH COMM. REPORT (A/34) ON NON-SELF-GOVERNING TERRITORIES. RESOLUTION I PROVIDES TO PROMOTE THE POLITICAL, SOCIAL, ECONOMIC, AND EDUCATIONAL ASPIRATIONS OF NON-SELF-GOVERNING PEOPLES THROUG\", \"ec\", \"Economic development\", 1946], [11, \"Dominican Republic\", \"DO\", \"yes\", 1, 0.0, \"1946-02-05\", \"R/1/376\", 0.0, 0.0, \"TRUSTEESHIP AMENDMENTS\", \"TO ADOPT DRAFT RESOLUTIONS I AND II AS A WHOLE, OF THE 4TH COMM. REPORT (A/34) ON NON-SELF-GOVERNING TERRITORIES. RESOLUTION I PROVIDES TO PROMOTE THE POLITICAL, SOCIAL, ECONOMIC, AND EDUCATIONAL ASPIRATIONS OF NON-SELF-GOVERNING PEOPLES THROUG\", \"co\", \"Colonialism\", 1946], [11, \"Dominican Republic\", \"DO\", \"yes\", 1, 0.0, \"1946-02-05\", \"R/1/376\", 0.0, 0.0, \"TRUSTEESHIP AMENDMENTS\", \"TO ADOPT DRAFT RESOLUTIONS I AND II AS A WHOLE, OF THE 4TH COMM. REPORT (A/34) ON NON-SELF-GOVERNING TERRITORIES. RESOLUTION I PROVIDES TO PROMOTE THE POLITICAL, SOCIAL, ECONOMIC, AND EDUCATIONAL ASPIRATIONS OF NON-SELF-GOVERNING PEOPLES THROUG\", \"ec\", \"Economic development\", 1946], [11, \"Honduras\", \"HN\", \"yes\", 1, 0.0, \"1946-02-05\", \"R/1/376\", 0.0, 0.0, \"TRUSTEESHIP AMENDMENTS\", \"TO ADOPT DRAFT RESOLUTIONS I AND II AS A WHOLE, OF THE 4TH COMM. REPORT (A/34) ON NON-SELF-GOVERNING TERRITORIES. RESOLUTION I PROVIDES TO PROMOTE THE POLITICAL, SOCIAL, ECONOMIC, AND EDUCATIONAL ASPIRATIONS OF NON-SELF-GOVERNING PEOPLES THROUG\", \"co\", \"Colonialism\", 1946], [11, \"Honduras\", \"HN\", \"yes\", 1, 0.0, \"1946-02-05\", \"R/1/376\", 0.0, 0.0, \"TRUSTEESHIP AMENDMENTS\", \"TO ADOPT DRAFT RESOLUTIONS I AND II AS A WHOLE, OF THE 4TH COMM. REPORT (A/34) ON NON-SELF-GOVERNING TERRITORIES. RESOLUTION I PROVIDES TO PROMOTE THE POLITICAL, SOCIAL, ECONOMIC, AND EDUCATIONAL ASPIRATIONS OF NON-SELF-GOVERNING PEOPLES THROUG\", \"ec\", \"Economic development\", 1946], [11, \"Venezuela\", \"VE\", \"yes\", 1, 0.0, \"1946-02-05\", \"R/1/376\", 0.0, 0.0, \"TRUSTEESHIP AMENDMENTS\", \"TO ADOPT DRAFT RESOLUTIONS I AND II AS A WHOLE, OF THE 4TH COMM. REPORT (A/34) ON NON-SELF-GOVERNING TERRITORIES. RESOLUTION I PROVIDES TO PROMOTE THE POLITICAL, SOCIAL, ECONOMIC, AND EDUCATIONAL ASPIRATIONS OF NON-SELF-GOVERNING PEOPLES THROUG\", \"co\", \"Colonialism\", 1946], [11, \"Venezuela\", \"VE\", \"yes\", 1, 0.0, \"1946-02-05\", \"R/1/376\", 0.0, 0.0, \"TRUSTEESHIP AMENDMENTS\", \"TO ADOPT DRAFT RESOLUTIONS I AND II AS A WHOLE, OF THE 4TH COMM. REPORT (A/34) ON NON-SELF-GOVERNING TERRITORIES. RESOLUTION I PROVIDES TO PROMOTE THE POLITICAL, SOCIAL, ECONOMIC, AND EDUCATIONAL ASPIRATIONS OF NON-SELF-GOVERNING PEOPLES THROUG\", \"ec\", \"Economic development\", 1946], [11, \"Ecuador\", \"EC\", \"yes\", 1, 0.0, \"1946-02-05\", \"R/1/376\", 0.0, 0.0, \"TRUSTEESHIP AMENDMENTS\", \"TO ADOPT DRAFT RESOLUTIONS I AND II AS A WHOLE, OF THE 4TH COMM. REPORT (A/34) ON NON-SELF-GOVERNING TERRITORIES. RESOLUTION I PROVIDES TO PROMOTE THE POLITICAL, SOCIAL, ECONOMIC, AND EDUCATIONAL ASPIRATIONS OF NON-SELF-GOVERNING PEOPLES THROUG\", \"co\", \"Colonialism\", 1946], [11, \"Ecuador\", \"EC\", \"yes\", 1, 0.0, \"1946-02-05\", \"R/1/376\", 0.0, 0.0, \"TRUSTEESHIP AMENDMENTS\", \"TO ADOPT DRAFT RESOLUTIONS I AND II AS A WHOLE, OF THE 4TH COMM. REPORT (A/34) ON NON-SELF-GOVERNING TERRITORIES. RESOLUTION I PROVIDES TO PROMOTE THE POLITICAL, SOCIAL, ECONOMIC, AND EDUCATIONAL ASPIRATIONS OF NON-SELF-GOVERNING PEOPLES THROUG\", \"ec\", \"Economic development\", 1946], [11, \"Peru\", \"PE\", \"yes\", 1, 0.0, \"1946-02-05\", \"R/1/376\", 0.0, 0.0, \"TRUSTEESHIP AMENDMENTS\", \"TO ADOPT DRAFT RESOLUTIONS I AND II AS A WHOLE, OF THE 4TH COMM. REPORT (A/34) ON NON-SELF-GOVERNING TERRITORIES. RESOLUTION I PROVIDES TO PROMOTE THE POLITICAL, SOCIAL, ECONOMIC, AND EDUCATIONAL ASPIRATIONS OF NON-SELF-GOVERNING PEOPLES THROUG\", \"co\", \"Colonialism\", 1946], [11, \"Peru\", \"PE\", \"yes\", 1, 0.0, \"1946-02-05\", \"R/1/376\", 0.0, 0.0, \"TRUSTEESHIP AMENDMENTS\", \"TO ADOPT DRAFT RESOLUTIONS I AND II AS A WHOLE, OF THE 4TH COMM. REPORT (A/34) ON NON-SELF-GOVERNING TERRITORIES. RESOLUTION I PROVIDES TO PROMOTE THE POLITICAL, SOCIAL, ECONOMIC, AND EDUCATIONAL ASPIRATIONS OF NON-SELF-GOVERNING PEOPLES THROUG\", \"ec\", \"Economic development\", 1946], [11, \"Brazil\", \"BR\", \"yes\", 1, 0.0, \"1946-02-05\", \"R/1/376\", 0.0, 0.0, \"TRUSTEESHIP AMENDMENTS\", \"TO ADOPT DRAFT RESOLUTIONS I AND II AS A WHOLE, OF THE 4TH COMM. REPORT (A/34) ON NON-SELF-GOVERNING TERRITORIES. RESOLUTION I PROVIDES TO PROMOTE THE POLITICAL, SOCIAL, ECONOMIC, AND EDUCATIONAL ASPIRATIONS OF NON-SELF-GOVERNING PEOPLES THROUG\", \"co\", \"Colonialism\", 1946], [11, \"Brazil\", \"BR\", \"yes\", 1, 0.0, \"1946-02-05\", \"R/1/376\", 0.0, 0.0, \"TRUSTEESHIP AMENDMENTS\", \"TO ADOPT DRAFT RESOLUTIONS I AND II AS A WHOLE, OF THE 4TH COMM. REPORT (A/34) ON NON-SELF-GOVERNING TERRITORIES. RESOLUTION I PROVIDES TO PROMOTE THE POLITICAL, SOCIAL, ECONOMIC, AND EDUCATIONAL ASPIRATIONS OF NON-SELF-GOVERNING PEOPLES THROUG\", \"ec\", \"Economic development\", 1946], [11, \"Bolivia\", \"BO\", \"yes\", 1, 0.0, \"1946-02-05\", \"R/1/376\", 0.0, 0.0, \"TRUSTEESHIP AMENDMENTS\", \"TO ADOPT DRAFT RESOLUTIONS I AND II AS A WHOLE, OF THE 4TH COMM. REPORT (A/34) ON NON-SELF-GOVERNING TERRITORIES. RESOLUTION I PROVIDES TO PROMOTE THE POLITICAL, SOCIAL, ECONOMIC, AND EDUCATIONAL ASPIRATIONS OF NON-SELF-GOVERNING PEOPLES THROUG\", \"co\", \"Colonialism\", 1946], [11, \"Bolivia\", \"BO\", \"yes\", 1, 0.0, \"1946-02-05\", \"R/1/376\", 0.0, 0.0, \"TRUSTEESHIP AMENDMENTS\", \"TO ADOPT DRAFT RESOLUTIONS I AND II AS A WHOLE, OF THE 4TH COMM. REPORT (A/34) ON NON-SELF-GOVERNING TERRITORIES. RESOLUTION I PROVIDES TO PROMOTE THE POLITICAL, SOCIAL, ECONOMIC, AND EDUCATIONAL ASPIRATIONS OF NON-SELF-GOVERNING PEOPLES THROUG\", \"ec\", \"Economic development\", 1946], [11, \"Paraguay\", \"PY\", \"yes\", 1, 0.0, \"1946-02-05\", \"R/1/376\", 0.0, 0.0, \"TRUSTEESHIP AMENDMENTS\", \"TO ADOPT DRAFT RESOLUTIONS I AND II AS A WHOLE, OF THE 4TH COMM. REPORT (A/34) ON NON-SELF-GOVERNING TERRITORIES. RESOLUTION I PROVIDES TO PROMOTE THE POLITICAL, SOCIAL, ECONOMIC, AND EDUCATIONAL ASPIRATIONS OF NON-SELF-GOVERNING PEOPLES THROUG\", \"co\", \"Colonialism\", 1946], [11, \"Paraguay\", \"PY\", \"yes\", 1, 0.0, \"1946-02-05\", \"R/1/376\", 0.0, 0.0, \"TRUSTEESHIP AMENDMENTS\", \"TO ADOPT DRAFT RESOLUTIONS I AND II AS A WHOLE, OF THE 4TH COMM. REPORT (A/34) ON NON-SELF-GOVERNING TERRITORIES. RESOLUTION I PROVIDES TO PROMOTE THE POLITICAL, SOCIAL, ECONOMIC, AND EDUCATIONAL ASPIRATIONS OF NON-SELF-GOVERNING PEOPLES THROUG\", \"ec\", \"Economic development\", 1946], [11, \"Chile\", \"CL\", \"yes\", 1, 0.0, \"1946-02-05\", \"R/1/376\", 0.0, 0.0, \"TRUSTEESHIP AMENDMENTS\", \"TO ADOPT DRAFT RESOLUTIONS I AND II AS A WHOLE, OF THE 4TH COMM. REPORT (A/34) ON NON-SELF-GOVERNING TERRITORIES. RESOLUTION I PROVIDES TO PROMOTE THE POLITICAL, SOCIAL, ECONOMIC, AND EDUCATIONAL ASPIRATIONS OF NON-SELF-GOVERNING PEOPLES THROUG\", \"co\", \"Colonialism\", 1946], [11, \"Chile\", \"CL\", \"yes\", 1, 0.0, \"1946-02-05\", \"R/1/376\", 0.0, 0.0, \"TRUSTEESHIP AMENDMENTS\", \"TO ADOPT DRAFT RESOLUTIONS I AND II AS A WHOLE, OF THE 4TH COMM. REPORT (A/34) ON NON-SELF-GOVERNING TERRITORIES. RESOLUTION I PROVIDES TO PROMOTE THE POLITICAL, SOCIAL, ECONOMIC, AND EDUCATIONAL ASPIRATIONS OF NON-SELF-GOVERNING PEOPLES THROUG\", \"ec\", \"Economic development\", 1946], [11, \"Argentina\", \"AR\", \"yes\", 1, 0.0, \"1946-02-05\", \"R/1/376\", 0.0, 0.0, \"TRUSTEESHIP AMENDMENTS\", \"TO ADOPT DRAFT RESOLUTIONS I AND II AS A WHOLE, OF THE 4TH COMM. REPORT (A/34) ON NON-SELF-GOVERNING TERRITORIES. RESOLUTION I PROVIDES TO PROMOTE THE POLITICAL, SOCIAL, ECONOMIC, AND EDUCATIONAL ASPIRATIONS OF NON-SELF-GOVERNING PEOPLES THROUG\", \"co\", \"Colonialism\", 1946], [11, \"Argentina\", \"AR\", \"yes\", 1, 0.0, \"1946-02-05\", \"R/1/376\", 0.0, 0.0, \"TRUSTEESHIP AMENDMENTS\", \"TO ADOPT DRAFT RESOLUTIONS I AND II AS A WHOLE, OF THE 4TH COMM. REPORT (A/34) ON NON-SELF-GOVERNING TERRITORIES. RESOLUTION I PROVIDES TO PROMOTE THE POLITICAL, SOCIAL, ECONOMIC, AND EDUCATIONAL ASPIRATIONS OF NON-SELF-GOVERNING PEOPLES THROUG\", \"ec\", \"Economic development\", 1946], [11, \"Uruguay\", \"UY\", \"yes\", 1, 0.0, \"1946-02-05\", \"R/1/376\", 0.0, 0.0, \"TRUSTEESHIP AMENDMENTS\", \"TO ADOPT DRAFT RESOLUTIONS I AND II AS A WHOLE, OF THE 4TH COMM. REPORT (A/34) ON NON-SELF-GOVERNING TERRITORIES. RESOLUTION I PROVIDES TO PROMOTE THE POLITICAL, SOCIAL, ECONOMIC, AND EDUCATIONAL ASPIRATIONS OF NON-SELF-GOVERNING PEOPLES THROUG\", \"co\", \"Colonialism\", 1946], [11, \"Uruguay\", \"UY\", \"yes\", 1, 0.0, \"1946-02-05\", \"R/1/376\", 0.0, 0.0, \"TRUSTEESHIP AMENDMENTS\", \"TO ADOPT DRAFT RESOLUTIONS I AND II AS A WHOLE, OF THE 4TH COMM. REPORT (A/34) ON NON-SELF-GOVERNING TERRITORIES. RESOLUTION I PROVIDES TO PROMOTE THE POLITICAL, SOCIAL, ECONOMIC, AND EDUCATIONAL ASPIRATIONS OF NON-SELF-GOVERNING PEOPLES THROUG\", \"ec\", \"Economic development\", 1946], [11, \"United Kingdom\", \"GB\", \"yes\", 1, 0.0, \"1946-02-05\", \"R/1/376\", 0.0, 0.0, \"TRUSTEESHIP AMENDMENTS\", \"TO ADOPT DRAFT RESOLUTIONS I AND II AS A WHOLE, OF THE 4TH COMM. REPORT (A/34) ON NON-SELF-GOVERNING TERRITORIES. RESOLUTION I PROVIDES TO PROMOTE THE POLITICAL, SOCIAL, ECONOMIC, AND EDUCATIONAL ASPIRATIONS OF NON-SELF-GOVERNING PEOPLES THROUG\", \"co\", \"Colonialism\", 1946], [11, \"United Kingdom\", \"GB\", \"yes\", 1, 0.0, \"1946-02-05\", \"R/1/376\", 0.0, 0.0, \"TRUSTEESHIP AMENDMENTS\", \"TO ADOPT DRAFT RESOLUTIONS I AND II AS A WHOLE, OF THE 4TH COMM. REPORT (A/34) ON NON-SELF-GOVERNING TERRITORIES. RESOLUTION I PROVIDES TO PROMOTE THE POLITICAL, SOCIAL, ECONOMIC, AND EDUCATIONAL ASPIRATIONS OF NON-SELF-GOVERNING PEOPLES THROUG\", \"ec\", \"Economic development\", 1946], [11, \"Belgium\", \"BE\", \"yes\", 1, 0.0, \"1946-02-05\", \"R/1/376\", 0.0, 0.0, \"TRUSTEESHIP AMENDMENTS\", \"TO ADOPT DRAFT RESOLUTIONS I AND II AS A WHOLE, OF THE 4TH COMM. REPORT (A/34) ON NON-SELF-GOVERNING TERRITORIES. RESOLUTION I PROVIDES TO PROMOTE THE POLITICAL, SOCIAL, ECONOMIC, AND EDUCATIONAL ASPIRATIONS OF NON-SELF-GOVERNING PEOPLES THROUG\", \"co\", \"Colonialism\", 1946], [11, \"Belgium\", \"BE\", \"yes\", 1, 0.0, \"1946-02-05\", \"R/1/376\", 0.0, 0.0, \"TRUSTEESHIP AMENDMENTS\", \"TO ADOPT DRAFT RESOLUTIONS I AND II AS A WHOLE, OF THE 4TH COMM. REPORT (A/34) ON NON-SELF-GOVERNING TERRITORIES. RESOLUTION I PROVIDES TO PROMOTE THE POLITICAL, SOCIAL, ECONOMIC, AND EDUCATIONAL ASPIRATIONS OF NON-SELF-GOVERNING PEOPLES THROUG\", \"ec\", \"Economic development\", 1946], [11, \"France\", \"FR\", \"yes\", 1, 0.0, \"1946-02-05\", \"R/1/376\", 0.0, 0.0, \"TRUSTEESHIP AMENDMENTS\", \"TO ADOPT DRAFT RESOLUTIONS I AND II AS A WHOLE, OF THE 4TH COMM. REPORT (A/34) ON NON-SELF-GOVERNING TERRITORIES. RESOLUTION I PROVIDES TO PROMOTE THE POLITICAL, SOCIAL, ECONOMIC, AND EDUCATIONAL ASPIRATIONS OF NON-SELF-GOVERNING PEOPLES THROUG\", \"co\", \"Colonialism\", 1946], [11, \"France\", \"FR\", \"yes\", 1, 0.0, \"1946-02-05\", \"R/1/376\", 0.0, 0.0, \"TRUSTEESHIP AMENDMENTS\", \"TO ADOPT DRAFT RESOLUTIONS I AND II AS A WHOLE, OF THE 4TH COMM. REPORT (A/34) ON NON-SELF-GOVERNING TERRITORIES. RESOLUTION I PROVIDES TO PROMOTE THE POLITICAL, SOCIAL, ECONOMIC, AND EDUCATIONAL ASPIRATIONS OF NON-SELF-GOVERNING PEOPLES THROUG\", \"ec\", \"Economic development\", 1946], [11, \"Poland\", \"PL\", \"yes\", 1, 0.0, \"1946-02-05\", \"R/1/376\", 0.0, 0.0, \"TRUSTEESHIP AMENDMENTS\", \"TO ADOPT DRAFT RESOLUTIONS I AND II AS A WHOLE, OF THE 4TH COMM. REPORT (A/34) ON NON-SELF-GOVERNING TERRITORIES. RESOLUTION I PROVIDES TO PROMOTE THE POLITICAL, SOCIAL, ECONOMIC, AND EDUCATIONAL ASPIRATIONS OF NON-SELF-GOVERNING PEOPLES THROUG\", \"co\", \"Colonialism\", 1946], [11, \"Poland\", \"PL\", \"yes\", 1, 0.0, \"1946-02-05\", \"R/1/376\", 0.0, 0.0, \"TRUSTEESHIP AMENDMENTS\", \"TO ADOPT DRAFT RESOLUTIONS I AND II AS A WHOLE, OF THE 4TH COMM. REPORT (A/34) ON NON-SELF-GOVERNING TERRITORIES. RESOLUTION I PROVIDES TO PROMOTE THE POLITICAL, SOCIAL, ECONOMIC, AND EDUCATIONAL ASPIRATIONS OF NON-SELF-GOVERNING PEOPLES THROUG\", \"ec\", \"Economic development\", 1946], [11, \"Czechoslovakia\", \"CS\", \"yes\", 1, 0.0, \"1946-02-05\", \"R/1/376\", 0.0, 0.0, \"TRUSTEESHIP AMENDMENTS\", \"TO ADOPT DRAFT RESOLUTIONS I AND II AS A WHOLE, OF THE 4TH COMM. REPORT (A/34) ON NON-SELF-GOVERNING TERRITORIES. RESOLUTION I PROVIDES TO PROMOTE THE POLITICAL, SOCIAL, ECONOMIC, AND EDUCATIONAL ASPIRATIONS OF NON-SELF-GOVERNING PEOPLES THROUG\", \"co\", \"Colonialism\", 1946], [11, \"Czechoslovakia\", \"CS\", \"yes\", 1, 0.0, \"1946-02-05\", \"R/1/376\", 0.0, 0.0, \"TRUSTEESHIP AMENDMENTS\", \"TO ADOPT DRAFT RESOLUTIONS I AND II AS A WHOLE, OF THE 4TH COMM. REPORT (A/34) ON NON-SELF-GOVERNING TERRITORIES. RESOLUTION I PROVIDES TO PROMOTE THE POLITICAL, SOCIAL, ECONOMIC, AND EDUCATIONAL ASPIRATIONS OF NON-SELF-GOVERNING PEOPLES THROUG\", \"ec\", \"Economic development\", 1946], [11, \"Yugoslavia\", \"YU\", \"yes\", 1, 0.0, \"1946-02-05\", \"R/1/376\", 0.0, 0.0, \"TRUSTEESHIP AMENDMENTS\", \"TO ADOPT DRAFT RESOLUTIONS I AND II AS A WHOLE, OF THE 4TH COMM. REPORT (A/34) ON NON-SELF-GOVERNING TERRITORIES. RESOLUTION I PROVIDES TO PROMOTE THE POLITICAL, SOCIAL, ECONOMIC, AND EDUCATIONAL ASPIRATIONS OF NON-SELF-GOVERNING PEOPLES THROUG\", \"co\", \"Colonialism\", 1946], [11, \"Yugoslavia\", \"YU\", \"yes\", 1, 0.0, \"1946-02-05\", \"R/1/376\", 0.0, 0.0, \"TRUSTEESHIP AMENDMENTS\", \"TO ADOPT DRAFT RESOLUTIONS I AND II AS A WHOLE, OF THE 4TH COMM. REPORT (A/34) ON NON-SELF-GOVERNING TERRITORIES. RESOLUTION I PROVIDES TO PROMOTE THE POLITICAL, SOCIAL, ECONOMIC, AND EDUCATIONAL ASPIRATIONS OF NON-SELF-GOVERNING PEOPLES THROUG\", \"ec\", \"Economic development\", 1946], [11, \"Greece\", \"GR\", \"yes\", 1, 0.0, \"1946-02-05\", \"R/1/376\", 0.0, 0.0, \"TRUSTEESHIP AMENDMENTS\", \"TO ADOPT DRAFT RESOLUTIONS I AND II AS A WHOLE, OF THE 4TH COMM. REPORT (A/34) ON NON-SELF-GOVERNING TERRITORIES. RESOLUTION I PROVIDES TO PROMOTE THE POLITICAL, SOCIAL, ECONOMIC, AND EDUCATIONAL ASPIRATIONS OF NON-SELF-GOVERNING PEOPLES THROUG\", \"co\", \"Colonialism\", 1946], [11, \"Greece\", \"GR\", \"yes\", 1, 0.0, \"1946-02-05\", \"R/1/376\", 0.0, 0.0, \"TRUSTEESHIP AMENDMENTS\", \"TO ADOPT DRAFT RESOLUTIONS I AND II AS A WHOLE, OF THE 4TH COMM. REPORT (A/34) ON NON-SELF-GOVERNING TERRITORIES. RESOLUTION I PROVIDES TO PROMOTE THE POLITICAL, SOCIAL, ECONOMIC, AND EDUCATIONAL ASPIRATIONS OF NON-SELF-GOVERNING PEOPLES THROUG\", \"ec\", \"Economic development\", 1946], [11, \"Russia\", \"RU\", \"yes\", 1, 0.0, \"1946-02-05\", \"R/1/376\", 0.0, 0.0, \"TRUSTEESHIP AMENDMENTS\", \"TO ADOPT DRAFT RESOLUTIONS I AND II AS A WHOLE, OF THE 4TH COMM. REPORT (A/34) ON NON-SELF-GOVERNING TERRITORIES. RESOLUTION I PROVIDES TO PROMOTE THE POLITICAL, SOCIAL, ECONOMIC, AND EDUCATIONAL ASPIRATIONS OF NON-SELF-GOVERNING PEOPLES THROUG\", \"co\", \"Colonialism\", 1946], [11, \"Russia\", \"RU\", \"yes\", 1, 0.0, \"1946-02-05\", \"R/1/376\", 0.0, 0.0, \"TRUSTEESHIP AMENDMENTS\", \"TO ADOPT DRAFT RESOLUTIONS I AND II AS A WHOLE, OF THE 4TH COMM. REPORT (A/34) ON NON-SELF-GOVERNING TERRITORIES. RESOLUTION I PROVIDES TO PROMOTE THE POLITICAL, SOCIAL, ECONOMIC, AND EDUCATIONAL ASPIRATIONS OF NON-SELF-GOVERNING PEOPLES THROUG\", \"ec\", \"Economic development\", 1946], [11, \"Ukraine\", \"UA\", \"yes\", 1, 0.0, \"1946-02-05\", \"R/1/376\", 0.0, 0.0, \"TRUSTEESHIP AMENDMENTS\", \"TO ADOPT DRAFT RESOLUTIONS I AND II AS A WHOLE, OF THE 4TH COMM. REPORT (A/34) ON NON-SELF-GOVERNING TERRITORIES. RESOLUTION I PROVIDES TO PROMOTE THE POLITICAL, SOCIAL, ECONOMIC, AND EDUCATIONAL ASPIRATIONS OF NON-SELF-GOVERNING PEOPLES THROUG\", \"co\", \"Colonialism\", 1946], [11, \"Ukraine\", \"UA\", \"yes\", 1, 0.0, \"1946-02-05\", \"R/1/376\", 0.0, 0.0, \"TRUSTEESHIP AMENDMENTS\", \"TO ADOPT DRAFT RESOLUTIONS I AND II AS A WHOLE, OF THE 4TH COMM. REPORT (A/34) ON NON-SELF-GOVERNING TERRITORIES. RESOLUTION I PROVIDES TO PROMOTE THE POLITICAL, SOCIAL, ECONOMIC, AND EDUCATIONAL ASPIRATIONS OF NON-SELF-GOVERNING PEOPLES THROUG\", \"ec\", \"Economic development\", 1946], [11, \"Belarus\", \"BY\", \"yes\", 1, 0.0, \"1946-02-05\", \"R/1/376\", 0.0, 0.0, \"TRUSTEESHIP AMENDMENTS\", \"TO ADOPT DRAFT RESOLUTIONS I AND II AS A WHOLE, OF THE 4TH COMM. REPORT (A/34) ON NON-SELF-GOVERNING TERRITORIES. RESOLUTION I PROVIDES TO PROMOTE THE POLITICAL, SOCIAL, ECONOMIC, AND EDUCATIONAL ASPIRATIONS OF NON-SELF-GOVERNING PEOPLES THROUG\", \"co\", \"Colonialism\", 1946], [11, \"Belarus\", \"BY\", \"yes\", 1, 0.0, \"1946-02-05\", \"R/1/376\", 0.0, 0.0, \"TRUSTEESHIP AMENDMENTS\", \"TO ADOPT DRAFT RESOLUTIONS I AND II AS A WHOLE, OF THE 4TH COMM. REPORT (A/34) ON NON-SELF-GOVERNING TERRITORIES. RESOLUTION I PROVIDES TO PROMOTE THE POLITICAL, SOCIAL, ECONOMIC, AND EDUCATIONAL ASPIRATIONS OF NON-SELF-GOVERNING PEOPLES THROUG\", \"ec\", \"Economic development\", 1946], [11, \"Norway\", \"NO\", \"yes\", 1, 0.0, \"1946-02-05\", \"R/1/376\", 0.0, 0.0, \"TRUSTEESHIP AMENDMENTS\", \"TO ADOPT DRAFT RESOLUTIONS I AND II AS A WHOLE, OF THE 4TH COMM. REPORT (A/34) ON NON-SELF-GOVERNING TERRITORIES. RESOLUTION I PROVIDES TO PROMOTE THE POLITICAL, SOCIAL, ECONOMIC, AND EDUCATIONAL ASPIRATIONS OF NON-SELF-GOVERNING PEOPLES THROUG\", \"co\", \"Colonialism\", 1946], [11, \"Norway\", \"NO\", \"yes\", 1, 0.0, \"1946-02-05\", \"R/1/376\", 0.0, 0.0, \"TRUSTEESHIP AMENDMENTS\", \"TO ADOPT DRAFT RESOLUTIONS I AND II AS A WHOLE, OF THE 4TH COMM. REPORT (A/34) ON NON-SELF-GOVERNING TERRITORIES. RESOLUTION I PROVIDES TO PROMOTE THE POLITICAL, SOCIAL, ECONOMIC, AND EDUCATIONAL ASPIRATIONS OF NON-SELF-GOVERNING PEOPLES THROUG\", \"ec\", \"Economic development\", 1946], [11, \"Denmark\", \"DK\", \"yes\", 1, 0.0, \"1946-02-05\", \"R/1/376\", 0.0, 0.0, \"TRUSTEESHIP AMENDMENTS\", \"TO ADOPT DRAFT RESOLUTIONS I AND II AS A WHOLE, OF THE 4TH COMM. REPORT (A/34) ON NON-SELF-GOVERNING TERRITORIES. RESOLUTION I PROVIDES TO PROMOTE THE POLITICAL, SOCIAL, ECONOMIC, AND EDUCATIONAL ASPIRATIONS OF NON-SELF-GOVERNING PEOPLES THROUG\", \"co\", \"Colonialism\", 1946], [11, \"Denmark\", \"DK\", \"yes\", 1, 0.0, \"1946-02-05\", \"R/1/376\", 0.0, 0.0, \"TRUSTEESHIP AMENDMENTS\", \"TO ADOPT DRAFT RESOLUTIONS I AND II AS A WHOLE, OF THE 4TH COMM. REPORT (A/34) ON NON-SELF-GOVERNING TERRITORIES. RESOLUTION I PROVIDES TO PROMOTE THE POLITICAL, SOCIAL, ECONOMIC, AND EDUCATIONAL ASPIRATIONS OF NON-SELF-GOVERNING PEOPLES THROUG\", \"ec\", \"Economic development\", 1946], [11, \"Liberia\", \"LR\", \"yes\", 1, 0.0, \"1946-02-05\", \"R/1/376\", 0.0, 0.0, \"TRUSTEESHIP AMENDMENTS\", \"TO ADOPT DRAFT RESOLUTIONS I AND II AS A WHOLE, OF THE 4TH COMM. REPORT (A/34) ON NON-SELF-GOVERNING TERRITORIES. RESOLUTION I PROVIDES TO PROMOTE THE POLITICAL, SOCIAL, ECONOMIC, AND EDUCATIONAL ASPIRATIONS OF NON-SELF-GOVERNING PEOPLES THROUG\", \"co\", \"Colonialism\", 1946], [11, \"Liberia\", \"LR\", \"yes\", 1, 0.0, \"1946-02-05\", \"R/1/376\", 0.0, 0.0, \"TRUSTEESHIP AMENDMENTS\", \"TO ADOPT DRAFT RESOLUTIONS I AND II AS A WHOLE, OF THE 4TH COMM. REPORT (A/34) ON NON-SELF-GOVERNING TERRITORIES. RESOLUTION I PROVIDES TO PROMOTE THE POLITICAL, SOCIAL, ECONOMIC, AND EDUCATIONAL ASPIRATIONS OF NON-SELF-GOVERNING PEOPLES THROUG\", \"ec\", \"Economic development\", 1946], [11, \"Ethiopia\", \"ET\", \"yes\", 1, 0.0, \"1946-02-05\", \"R/1/376\", 0.0, 0.0, \"TRUSTEESHIP AMENDMENTS\", \"TO ADOPT DRAFT RESOLUTIONS I AND II AS A WHOLE, OF THE 4TH COMM. REPORT (A/34) ON NON-SELF-GOVERNING TERRITORIES. RESOLUTION I PROVIDES TO PROMOTE THE POLITICAL, SOCIAL, ECONOMIC, AND EDUCATIONAL ASPIRATIONS OF NON-SELF-GOVERNING PEOPLES THROUG\", \"co\", \"Colonialism\", 1946], [11, \"Ethiopia\", \"ET\", \"yes\", 1, 0.0, \"1946-02-05\", \"R/1/376\", 0.0, 0.0, \"TRUSTEESHIP AMENDMENTS\", \"TO ADOPT DRAFT RESOLUTIONS I AND II AS A WHOLE, OF THE 4TH COMM. REPORT (A/34) ON NON-SELF-GOVERNING TERRITORIES. RESOLUTION I PROVIDES TO PROMOTE THE POLITICAL, SOCIAL, ECONOMIC, AND EDUCATIONAL ASPIRATIONS OF NON-SELF-GOVERNING PEOPLES THROUG\", \"ec\", \"Economic development\", 1946], [11, \"South Africa\", \"ZA\", \"yes\", 1, 0.0, \"1946-02-05\", \"R/1/376\", 0.0, 0.0, \"TRUSTEESHIP AMENDMENTS\", \"TO ADOPT DRAFT RESOLUTIONS I AND II AS A WHOLE, OF THE 4TH COMM. REPORT (A/34) ON NON-SELF-GOVERNING TERRITORIES. RESOLUTION I PROVIDES TO PROMOTE THE POLITICAL, SOCIAL, ECONOMIC, AND EDUCATIONAL ASPIRATIONS OF NON-SELF-GOVERNING PEOPLES THROUG\", \"co\", \"Colonialism\", 1946], [11, \"South Africa\", \"ZA\", \"yes\", 1, 0.0, \"1946-02-05\", \"R/1/376\", 0.0, 0.0, \"TRUSTEESHIP AMENDMENTS\", \"TO ADOPT DRAFT RESOLUTIONS I AND II AS A WHOLE, OF THE 4TH COMM. REPORT (A/34) ON NON-SELF-GOVERNING TERRITORIES. RESOLUTION I PROVIDES TO PROMOTE THE POLITICAL, SOCIAL, ECONOMIC, AND EDUCATIONAL ASPIRATIONS OF NON-SELF-GOVERNING PEOPLES THROUG\", \"ec\", \"Economic development\", 1946], [11, \"Iran\", \"IR\", \"yes\", 1, 0.0, \"1946-02-05\", \"R/1/376\", 0.0, 0.0, \"TRUSTEESHIP AMENDMENTS\", \"TO ADOPT DRAFT RESOLUTIONS I AND II AS A WHOLE, OF THE 4TH COMM. REPORT (A/34) ON NON-SELF-GOVERNING TERRITORIES. RESOLUTION I PROVIDES TO PROMOTE THE POLITICAL, SOCIAL, ECONOMIC, AND EDUCATIONAL ASPIRATIONS OF NON-SELF-GOVERNING PEOPLES THROUG\", \"co\", \"Colonialism\", 1946], [11, \"Iran\", \"IR\", \"yes\", 1, 0.0, \"1946-02-05\", \"R/1/376\", 0.0, 0.0, \"TRUSTEESHIP AMENDMENTS\", \"TO ADOPT DRAFT RESOLUTIONS I AND II AS A WHOLE, OF THE 4TH COMM. REPORT (A/34) ON NON-SELF-GOVERNING TERRITORIES. RESOLUTION I PROVIDES TO PROMOTE THE POLITICAL, SOCIAL, ECONOMIC, AND EDUCATIONAL ASPIRATIONS OF NON-SELF-GOVERNING PEOPLES THROUG\", \"ec\", \"Economic development\", 1946], [11, \"Turkey\", \"TR\", \"yes\", 1, 0.0, \"1946-02-05\", \"R/1/376\", 0.0, 0.0, \"TRUSTEESHIP AMENDMENTS\", \"TO ADOPT DRAFT RESOLUTIONS I AND II AS A WHOLE, OF THE 4TH COMM. REPORT (A/34) ON NON-SELF-GOVERNING TERRITORIES. RESOLUTION I PROVIDES TO PROMOTE THE POLITICAL, SOCIAL, ECONOMIC, AND EDUCATIONAL ASPIRATIONS OF NON-SELF-GOVERNING PEOPLES THROUG\", \"co\", \"Colonialism\", 1946], [11, \"Turkey\", \"TR\", \"yes\", 1, 0.0, \"1946-02-05\", \"R/1/376\", 0.0, 0.0, \"TRUSTEESHIP AMENDMENTS\", \"TO ADOPT DRAFT RESOLUTIONS I AND II AS A WHOLE, OF THE 4TH COMM. REPORT (A/34) ON NON-SELF-GOVERNING TERRITORIES. RESOLUTION I PROVIDES TO PROMOTE THE POLITICAL, SOCIAL, ECONOMIC, AND EDUCATIONAL ASPIRATIONS OF NON-SELF-GOVERNING PEOPLES THROUG\", \"ec\", \"Economic development\", 1946], [11, \"Iraq\", \"IQ\", \"yes\", 1, 0.0, \"1946-02-05\", \"R/1/376\", 0.0, 0.0, \"TRUSTEESHIP AMENDMENTS\", \"TO ADOPT DRAFT RESOLUTIONS I AND II AS A WHOLE, OF THE 4TH COMM. REPORT (A/34) ON NON-SELF-GOVERNING TERRITORIES. RESOLUTION I PROVIDES TO PROMOTE THE POLITICAL, SOCIAL, ECONOMIC, AND EDUCATIONAL ASPIRATIONS OF NON-SELF-GOVERNING PEOPLES THROUG\", \"co\", \"Colonialism\", 1946], [11, \"Iraq\", \"IQ\", \"yes\", 1, 0.0, \"1946-02-05\", \"R/1/376\", 0.0, 0.0, \"TRUSTEESHIP AMENDMENTS\", \"TO ADOPT DRAFT RESOLUTIONS I AND II AS A WHOLE, OF THE 4TH COMM. REPORT (A/34) ON NON-SELF-GOVERNING TERRITORIES. RESOLUTION I PROVIDES TO PROMOTE THE POLITICAL, SOCIAL, ECONOMIC, AND EDUCATIONAL ASPIRATIONS OF NON-SELF-GOVERNING PEOPLES THROUG\", \"ec\", \"Economic development\", 1946], [11, \"Egypt\", \"EG\", \"yes\", 1, 0.0, \"1946-02-05\", \"R/1/376\", 0.0, 0.0, \"TRUSTEESHIP AMENDMENTS\", \"TO ADOPT DRAFT RESOLUTIONS I AND II AS A WHOLE, OF THE 4TH COMM. REPORT (A/34) ON NON-SELF-GOVERNING TERRITORIES. RESOLUTION I PROVIDES TO PROMOTE THE POLITICAL, SOCIAL, ECONOMIC, AND EDUCATIONAL ASPIRATIONS OF NON-SELF-GOVERNING PEOPLES THROUG\", \"co\", \"Colonialism\", 1946], [11, \"Egypt\", \"EG\", \"yes\", 1, 0.0, \"1946-02-05\", \"R/1/376\", 0.0, 0.0, \"TRUSTEESHIP AMENDMENTS\", \"TO ADOPT DRAFT RESOLUTIONS I AND II AS A WHOLE, OF THE 4TH COMM. REPORT (A/34) ON NON-SELF-GOVERNING TERRITORIES. RESOLUTION I PROVIDES TO PROMOTE THE POLITICAL, SOCIAL, ECONOMIC, AND EDUCATIONAL ASPIRATIONS OF NON-SELF-GOVERNING PEOPLES THROUG\", \"ec\", \"Economic development\", 1946], [11, \"Syria\", \"SY\", \"yes\", 1, 0.0, \"1946-02-05\", \"R/1/376\", 0.0, 0.0, \"TRUSTEESHIP AMENDMENTS\", \"TO ADOPT DRAFT RESOLUTIONS I AND II AS A WHOLE, OF THE 4TH COMM. REPORT (A/34) ON NON-SELF-GOVERNING TERRITORIES. RESOLUTION I PROVIDES TO PROMOTE THE POLITICAL, SOCIAL, ECONOMIC, AND EDUCATIONAL ASPIRATIONS OF NON-SELF-GOVERNING PEOPLES THROUG\", \"co\", \"Colonialism\", 1946], [11, \"Syria\", \"SY\", \"yes\", 1, 0.0, \"1946-02-05\", \"R/1/376\", 0.0, 0.0, \"TRUSTEESHIP AMENDMENTS\", \"TO ADOPT DRAFT RESOLUTIONS I AND II AS A WHOLE, OF THE 4TH COMM. REPORT (A/34) ON NON-SELF-GOVERNING TERRITORIES. RESOLUTION I PROVIDES TO PROMOTE THE POLITICAL, SOCIAL, ECONOMIC, AND EDUCATIONAL ASPIRATIONS OF NON-SELF-GOVERNING PEOPLES THROUG\", \"ec\", \"Economic development\", 1946], [11, \"Lebanon\", \"LB\", \"yes\", 1, 0.0, \"1946-02-05\", \"R/1/376\", 0.0, 0.0, \"TRUSTEESHIP AMENDMENTS\", \"TO ADOPT DRAFT RESOLUTIONS I AND II AS A WHOLE, OF THE 4TH COMM. REPORT (A/34) ON NON-SELF-GOVERNING TERRITORIES. RESOLUTION I PROVIDES TO PROMOTE THE POLITICAL, SOCIAL, ECONOMIC, AND EDUCATIONAL ASPIRATIONS OF NON-SELF-GOVERNING PEOPLES THROUG\", \"co\", \"Colonialism\", 1946], [11, \"Lebanon\", \"LB\", \"yes\", 1, 0.0, \"1946-02-05\", \"R/1/376\", 0.0, 0.0, \"TRUSTEESHIP AMENDMENTS\", \"TO ADOPT DRAFT RESOLUTIONS I AND II AS A WHOLE, OF THE 4TH COMM. REPORT (A/34) ON NON-SELF-GOVERNING TERRITORIES. RESOLUTION I PROVIDES TO PROMOTE THE POLITICAL, SOCIAL, ECONOMIC, AND EDUCATIONAL ASPIRATIONS OF NON-SELF-GOVERNING PEOPLES THROUG\", \"ec\", \"Economic development\", 1946], [11, \"Saudi Arabia\", \"SA\", \"yes\", 1, 0.0, \"1946-02-05\", \"R/1/376\", 0.0, 0.0, \"TRUSTEESHIP AMENDMENTS\", \"TO ADOPT DRAFT RESOLUTIONS I AND II AS A WHOLE, OF THE 4TH COMM. REPORT (A/34) ON NON-SELF-GOVERNING TERRITORIES. RESOLUTION I PROVIDES TO PROMOTE THE POLITICAL, SOCIAL, ECONOMIC, AND EDUCATIONAL ASPIRATIONS OF NON-SELF-GOVERNING PEOPLES THROUG\", \"co\", \"Colonialism\", 1946], [11, \"Saudi Arabia\", \"SA\", \"yes\", 1, 0.0, \"1946-02-05\", \"R/1/376\", 0.0, 0.0, \"TRUSTEESHIP AMENDMENTS\", \"TO ADOPT DRAFT RESOLUTIONS I AND II AS A WHOLE, OF THE 4TH COMM. REPORT (A/34) ON NON-SELF-GOVERNING TERRITORIES. RESOLUTION I PROVIDES TO PROMOTE THE POLITICAL, SOCIAL, ECONOMIC, AND EDUCATIONAL ASPIRATIONS OF NON-SELF-GOVERNING PEOPLES THROUG\", \"ec\", \"Economic development\", 1946], [11, \"Taiwan\", \"TW\", \"yes\", 1, 0.0, \"1946-02-05\", \"R/1/376\", 0.0, 0.0, \"TRUSTEESHIP AMENDMENTS\", \"TO ADOPT DRAFT RESOLUTIONS I AND II AS A WHOLE, OF THE 4TH COMM. REPORT (A/34) ON NON-SELF-GOVERNING TERRITORIES. RESOLUTION I PROVIDES TO PROMOTE THE POLITICAL, SOCIAL, ECONOMIC, AND EDUCATIONAL ASPIRATIONS OF NON-SELF-GOVERNING PEOPLES THROUG\", \"co\", \"Colonialism\", 1946], [11, \"Taiwan\", \"TW\", \"yes\", 1, 0.0, \"1946-02-05\", \"R/1/376\", 0.0, 0.0, \"TRUSTEESHIP AMENDMENTS\", \"TO ADOPT DRAFT RESOLUTIONS I AND II AS A WHOLE, OF THE 4TH COMM. REPORT (A/34) ON NON-SELF-GOVERNING TERRITORIES. RESOLUTION I PROVIDES TO PROMOTE THE POLITICAL, SOCIAL, ECONOMIC, AND EDUCATIONAL ASPIRATIONS OF NON-SELF-GOVERNING PEOPLES THROUG\", \"ec\", \"Economic development\", 1946], [11, \"India\", \"IN\", \"yes\", 1, 0.0, \"1946-02-05\", \"R/1/376\", 0.0, 0.0, \"TRUSTEESHIP AMENDMENTS\", \"TO ADOPT DRAFT RESOLUTIONS I AND II AS A WHOLE, OF THE 4TH COMM. REPORT (A/34) ON NON-SELF-GOVERNING TERRITORIES. RESOLUTION I PROVIDES TO PROMOTE THE POLITICAL, SOCIAL, ECONOMIC, AND EDUCATIONAL ASPIRATIONS OF NON-SELF-GOVERNING PEOPLES THROUG\", \"co\", \"Colonialism\", 1946], [11, \"India\", \"IN\", \"yes\", 1, 0.0, \"1946-02-05\", \"R/1/376\", 0.0, 0.0, \"TRUSTEESHIP AMENDMENTS\", \"TO ADOPT DRAFT RESOLUTIONS I AND II AS A WHOLE, OF THE 4TH COMM. REPORT (A/34) ON NON-SELF-GOVERNING TERRITORIES. RESOLUTION I PROVIDES TO PROMOTE THE POLITICAL, SOCIAL, ECONOMIC, AND EDUCATIONAL ASPIRATIONS OF NON-SELF-GOVERNING PEOPLES THROUG\", \"ec\", \"Economic development\", 1946], [11, \"Philippines\", \"PH\", \"yes\", 1, 0.0, \"1946-02-05\", \"R/1/376\", 0.0, 0.0, \"TRUSTEESHIP AMENDMENTS\", \"TO ADOPT DRAFT RESOLUTIONS I AND II AS A WHOLE, OF THE 4TH COMM. REPORT (A/34) ON NON-SELF-GOVERNING TERRITORIES. RESOLUTION I PROVIDES TO PROMOTE THE POLITICAL, SOCIAL, ECONOMIC, AND EDUCATIONAL ASPIRATIONS OF NON-SELF-GOVERNING PEOPLES THROUG\", \"co\", \"Colonialism\", 1946], [11, \"Philippines\", \"PH\", \"yes\", 1, 0.0, \"1946-02-05\", \"R/1/376\", 0.0, 0.0, \"TRUSTEESHIP AMENDMENTS\", \"TO ADOPT DRAFT RESOLUTIONS I AND II AS A WHOLE, OF THE 4TH COMM. REPORT (A/34) ON NON-SELF-GOVERNING TERRITORIES. RESOLUTION I PROVIDES TO PROMOTE THE POLITICAL, SOCIAL, ECONOMIC, AND EDUCATIONAL ASPIRATIONS OF NON-SELF-GOVERNING PEOPLES THROUG\", \"ec\", \"Economic development\", 1946], [11, \"Australia\", \"AU\", \"yes\", 1, 0.0, \"1946-02-05\", \"R/1/376\", 0.0, 0.0, \"TRUSTEESHIP AMENDMENTS\", \"TO ADOPT DRAFT RESOLUTIONS I AND II AS A WHOLE, OF THE 4TH COMM. REPORT (A/34) ON NON-SELF-GOVERNING TERRITORIES. RESOLUTION I PROVIDES TO PROMOTE THE POLITICAL, SOCIAL, ECONOMIC, AND EDUCATIONAL ASPIRATIONS OF NON-SELF-GOVERNING PEOPLES THROUG\", \"co\", \"Colonialism\", 1946], [11, \"Australia\", \"AU\", \"yes\", 1, 0.0, \"1946-02-05\", \"R/1/376\", 0.0, 0.0, \"TRUSTEESHIP AMENDMENTS\", \"TO ADOPT DRAFT RESOLUTIONS I AND II AS A WHOLE, OF THE 4TH COMM. REPORT (A/34) ON NON-SELF-GOVERNING TERRITORIES. RESOLUTION I PROVIDES TO PROMOTE THE POLITICAL, SOCIAL, ECONOMIC, AND EDUCATIONAL ASPIRATIONS OF NON-SELF-GOVERNING PEOPLES THROUG\", \"ec\", \"Economic development\", 1946], [11, \"New Zealand\", \"NZ\", \"yes\", 1, 0.0, \"1946-02-05\", \"R/1/376\", 0.0, 0.0, \"TRUSTEESHIP AMENDMENTS\", \"TO ADOPT DRAFT RESOLUTIONS I AND II AS A WHOLE, OF THE 4TH COMM. REPORT (A/34) ON NON-SELF-GOVERNING TERRITORIES. RESOLUTION I PROVIDES TO PROMOTE THE POLITICAL, SOCIAL, ECONOMIC, AND EDUCATIONAL ASPIRATIONS OF NON-SELF-GOVERNING PEOPLES THROUG\", \"co\", \"Colonialism\", 1946], [11, \"New Zealand\", \"NZ\", \"yes\", 1, 0.0, \"1946-02-05\", \"R/1/376\", 0.0, 0.0, \"TRUSTEESHIP AMENDMENTS\", \"TO ADOPT DRAFT RESOLUTIONS I AND II AS A WHOLE, OF THE 4TH COMM. REPORT (A/34) ON NON-SELF-GOVERNING TERRITORIES. RESOLUTION I PROVIDES TO PROMOTE THE POLITICAL, SOCIAL, ECONOMIC, AND EDUCATIONAL ASPIRATIONS OF NON-SELF-GOVERNING PEOPLES THROUG\", \"ec\", \"Economic development\", 1946], [18, \"United States\", \"US\", \"no\", 1, 0.0, \"1946-02-03\", \"R/1/532\", 1.0, 0.0, \"ECOSOC CONSULTANTS\", \"TO ADOPT USSR (ORAL) AMENDMENT REPLACING THE 1ST COMM. DRAFT RESOLUTION (A/54/REV.1) WITH THE FOLLOWING:  \\\\TAKING INTO CONSIDERATION THE QUESTION RAISED BY THE WORLD FEDERATION OF TRADE UNIONS CONCERNING ITS PARTICIPATION IN THE WORK OF THE ECO\", \"ec\", \"Economic development\", 1946], [18, \"Canada\", \"CA\", \"no\", 1, 0.0, \"1946-02-03\", \"R/1/532\", 1.0, 0.0, \"ECOSOC CONSULTANTS\", \"TO ADOPT USSR (ORAL) AMENDMENT REPLACING THE 1ST COMM. DRAFT RESOLUTION (A/54/REV.1) WITH THE FOLLOWING:  \\\\TAKING INTO CONSIDERATION THE QUESTION RAISED BY THE WORLD FEDERATION OF TRADE UNIONS CONCERNING ITS PARTICIPATION IN THE WORK OF THE ECO\", \"ec\", \"Economic development\", 1946], [18, \"Cuba\", \"CU\", \"no\", 1, 0.0, \"1946-02-03\", \"R/1/532\", 1.0, 0.0, \"ECOSOC CONSULTANTS\", \"TO ADOPT USSR (ORAL) AMENDMENT REPLACING THE 1ST COMM. DRAFT RESOLUTION (A/54/REV.1) WITH THE FOLLOWING:  \\\\TAKING INTO CONSIDERATION THE QUESTION RAISED BY THE WORLD FEDERATION OF TRADE UNIONS CONCERNING ITS PARTICIPATION IN THE WORK OF THE ECO\", \"ec\", \"Economic development\", 1946], [18, \"Haiti\", \"HT\", \"no\", 1, 0.0, \"1946-02-03\", \"R/1/532\", 1.0, 0.0, \"ECOSOC CONSULTANTS\", \"TO ADOPT USSR (ORAL) AMENDMENT REPLACING THE 1ST COMM. DRAFT RESOLUTION (A/54/REV.1) WITH THE FOLLOWING:  \\\\TAKING INTO CONSIDERATION THE QUESTION RAISED BY THE WORLD FEDERATION OF TRADE UNIONS CONCERNING ITS PARTICIPATION IN THE WORK OF THE ECO\", \"ec\", \"Economic development\", 1946], [18, \"Dominican Republic\", \"DO\", \"no\", 1, 0.0, \"1946-02-03\", \"R/1/532\", 1.0, 0.0, \"ECOSOC CONSULTANTS\", \"TO ADOPT USSR (ORAL) AMENDMENT REPLACING THE 1ST COMM. DRAFT RESOLUTION (A/54/REV.1) WITH THE FOLLOWING:  \\\\TAKING INTO CONSIDERATION THE QUESTION RAISED BY THE WORLD FEDERATION OF TRADE UNIONS CONCERNING ITS PARTICIPATION IN THE WORK OF THE ECO\", \"ec\", \"Economic development\", 1946], [18, \"Mexico\", \"MX\", \"abstain\", 1, 0.0, \"1946-02-03\", \"R/1/532\", 1.0, 0.0, \"ECOSOC CONSULTANTS\", \"TO ADOPT USSR (ORAL) AMENDMENT REPLACING THE 1ST COMM. DRAFT RESOLUTION (A/54/REV.1) WITH THE FOLLOWING:  \\\\TAKING INTO CONSIDERATION THE QUESTION RAISED BY THE WORLD FEDERATION OF TRADE UNIONS CONCERNING ITS PARTICIPATION IN THE WORK OF THE ECO\", \"ec\", \"Economic development\", 1946], [18, \"Guatemala\", \"GT\", \"yes\", 1, 0.0, \"1946-02-03\", \"R/1/532\", 1.0, 0.0, \"ECOSOC CONSULTANTS\", \"TO ADOPT USSR (ORAL) AMENDMENT REPLACING THE 1ST COMM. DRAFT RESOLUTION (A/54/REV.1) WITH THE FOLLOWING:  \\\\TAKING INTO CONSIDERATION THE QUESTION RAISED BY THE WORLD FEDERATION OF TRADE UNIONS CONCERNING ITS PARTICIPATION IN THE WORK OF THE ECO\", \"ec\", \"Economic development\", 1946], [18, \"Nicaragua\", \"NI\", \"abstain\", 1, 0.0, \"1946-02-03\", \"R/1/532\", 1.0, 0.0, \"ECOSOC CONSULTANTS\", \"TO ADOPT USSR (ORAL) AMENDMENT REPLACING THE 1ST COMM. DRAFT RESOLUTION (A/54/REV.1) WITH THE FOLLOWING:  \\\\TAKING INTO CONSIDERATION THE QUESTION RAISED BY THE WORLD FEDERATION OF TRADE UNIONS CONCERNING ITS PARTICIPATION IN THE WORK OF THE ECO\", \"ec\", \"Economic development\", 1946], [18, \"Panama\", \"PA\", \"abstain\", 1, 0.0, \"1946-02-03\", \"R/1/532\", 1.0, 0.0, \"ECOSOC CONSULTANTS\", \"TO ADOPT USSR (ORAL) AMENDMENT REPLACING THE 1ST COMM. DRAFT RESOLUTION (A/54/REV.1) WITH THE FOLLOWING:  \\\\TAKING INTO CONSIDERATION THE QUESTION RAISED BY THE WORLD FEDERATION OF TRADE UNIONS CONCERNING ITS PARTICIPATION IN THE WORK OF THE ECO\", \"ec\", \"Economic development\", 1946], [18, \"Colombia\", \"CO\", \"yes\", 1, 0.0, \"1946-02-03\", \"R/1/532\", 1.0, 0.0, \"ECOSOC CONSULTANTS\", \"TO ADOPT USSR (ORAL) AMENDMENT REPLACING THE 1ST COMM. DRAFT RESOLUTION (A/54/REV.1) WITH THE FOLLOWING:  \\\\TAKING INTO CONSIDERATION THE QUESTION RAISED BY THE WORLD FEDERATION OF TRADE UNIONS CONCERNING ITS PARTICIPATION IN THE WORK OF THE ECO\", \"ec\", \"Economic development\", 1946], [18, \"Venezuela\", \"VE\", \"no\", 1, 0.0, \"1946-02-03\", \"R/1/532\", 1.0, 0.0, \"ECOSOC CONSULTANTS\", \"TO ADOPT USSR (ORAL) AMENDMENT REPLACING THE 1ST COMM. DRAFT RESOLUTION (A/54/REV.1) WITH THE FOLLOWING:  \\\\TAKING INTO CONSIDERATION THE QUESTION RAISED BY THE WORLD FEDERATION OF TRADE UNIONS CONCERNING ITS PARTICIPATION IN THE WORK OF THE ECO\", \"ec\", \"Economic development\", 1946], [18, \"Ecuador\", \"EC\", \"no\", 1, 0.0, \"1946-02-03\", \"R/1/532\", 1.0, 0.0, \"ECOSOC CONSULTANTS\", \"TO ADOPT USSR (ORAL) AMENDMENT REPLACING THE 1ST COMM. DRAFT RESOLUTION (A/54/REV.1) WITH THE FOLLOWING:  \\\\TAKING INTO CONSIDERATION THE QUESTION RAISED BY THE WORLD FEDERATION OF TRADE UNIONS CONCERNING ITS PARTICIPATION IN THE WORK OF THE ECO\", \"ec\", \"Economic development\", 1946], [18, \"Peru\", \"PE\", \"no\", 1, 0.0, \"1946-02-03\", \"R/1/532\", 1.0, 0.0, \"ECOSOC CONSULTANTS\", \"TO ADOPT USSR (ORAL) AMENDMENT REPLACING THE 1ST COMM. DRAFT RESOLUTION (A/54/REV.1) WITH THE FOLLOWING:  \\\\TAKING INTO CONSIDERATION THE QUESTION RAISED BY THE WORLD FEDERATION OF TRADE UNIONS CONCERNING ITS PARTICIPATION IN THE WORK OF THE ECO\", \"ec\", \"Economic development\", 1946], [18, \"Brazil\", \"BR\", \"no\", 1, 0.0, \"1946-02-03\", \"R/1/532\", 1.0, 0.0, \"ECOSOC CONSULTANTS\", \"TO ADOPT USSR (ORAL) AMENDMENT REPLACING THE 1ST COMM. DRAFT RESOLUTION (A/54/REV.1) WITH THE FOLLOWING:  \\\\TAKING INTO CONSIDERATION THE QUESTION RAISED BY THE WORLD FEDERATION OF TRADE UNIONS CONCERNING ITS PARTICIPATION IN THE WORK OF THE ECO\", \"ec\", \"Economic development\", 1946], [18, \"Bolivia\", \"BO\", \"yes\", 1, 0.0, \"1946-02-03\", \"R/1/532\", 1.0, 0.0, \"ECOSOC CONSULTANTS\", \"TO ADOPT USSR (ORAL) AMENDMENT REPLACING THE 1ST COMM. DRAFT RESOLUTION (A/54/REV.1) WITH THE FOLLOWING:  \\\\TAKING INTO CONSIDERATION THE QUESTION RAISED BY THE WORLD FEDERATION OF TRADE UNIONS CONCERNING ITS PARTICIPATION IN THE WORK OF THE ECO\", \"ec\", \"Economic development\", 1946], [18, \"Chile\", \"CL\", \"yes\", 1, 0.0, \"1946-02-03\", \"R/1/532\", 1.0, 0.0, \"ECOSOC CONSULTANTS\", \"TO ADOPT USSR (ORAL) AMENDMENT REPLACING THE 1ST COMM. DRAFT RESOLUTION (A/54/REV.1) WITH THE FOLLOWING:  \\\\TAKING INTO CONSIDERATION THE QUESTION RAISED BY THE WORLD FEDERATION OF TRADE UNIONS CONCERNING ITS PARTICIPATION IN THE WORK OF THE ECO\", \"ec\", \"Economic development\", 1946], [18, \"Argentina\", \"AR\", \"no\", 1, 0.0, \"1946-02-03\", \"R/1/532\", 1.0, 0.0, \"ECOSOC CONSULTANTS\", \"TO ADOPT USSR (ORAL) AMENDMENT REPLACING THE 1ST COMM. DRAFT RESOLUTION (A/54/REV.1) WITH THE FOLLOWING:  \\\\TAKING INTO CONSIDERATION THE QUESTION RAISED BY THE WORLD FEDERATION OF TRADE UNIONS CONCERNING ITS PARTICIPATION IN THE WORK OF THE ECO\", \"ec\", \"Economic development\", 1946], [18, \"Uruguay\", \"UY\", \"no\", 1, 0.0, \"1946-02-03\", \"R/1/532\", 1.0, 0.0, \"ECOSOC CONSULTANTS\", \"TO ADOPT USSR (ORAL) AMENDMENT REPLACING THE 1ST COMM. DRAFT RESOLUTION (A/54/REV.1) WITH THE FOLLOWING:  \\\\TAKING INTO CONSIDERATION THE QUESTION RAISED BY THE WORLD FEDERATION OF TRADE UNIONS CONCERNING ITS PARTICIPATION IN THE WORK OF THE ECO\", \"ec\", \"Economic development\", 1946], [18, \"United Kingdom\", \"GB\", \"no\", 1, 0.0, \"1946-02-03\", \"R/1/532\", 1.0, 0.0, \"ECOSOC CONSULTANTS\", \"TO ADOPT USSR (ORAL) AMENDMENT REPLACING THE 1ST COMM. DRAFT RESOLUTION (A/54/REV.1) WITH THE FOLLOWING:  \\\\TAKING INTO CONSIDERATION THE QUESTION RAISED BY THE WORLD FEDERATION OF TRADE UNIONS CONCERNING ITS PARTICIPATION IN THE WORK OF THE ECO\", \"ec\", \"Economic development\", 1946], [18, \"Netherlands\", \"NL\", \"no\", 1, 0.0, \"1946-02-03\", \"R/1/532\", 1.0, 0.0, \"ECOSOC CONSULTANTS\", \"TO ADOPT USSR (ORAL) AMENDMENT REPLACING THE 1ST COMM. DRAFT RESOLUTION (A/54/REV.1) WITH THE FOLLOWING:  \\\\TAKING INTO CONSIDERATION THE QUESTION RAISED BY THE WORLD FEDERATION OF TRADE UNIONS CONCERNING ITS PARTICIPATION IN THE WORK OF THE ECO\", \"ec\", \"Economic development\", 1946], [18, \"Belgium\", \"BE\", \"abstain\", 1, 0.0, \"1946-02-03\", \"R/1/532\", 1.0, 0.0, \"ECOSOC CONSULTANTS\", \"TO ADOPT USSR (ORAL) AMENDMENT REPLACING THE 1ST COMM. DRAFT RESOLUTION (A/54/REV.1) WITH THE FOLLOWING:  \\\\TAKING INTO CONSIDERATION THE QUESTION RAISED BY THE WORLD FEDERATION OF TRADE UNIONS CONCERNING ITS PARTICIPATION IN THE WORK OF THE ECO\", \"ec\", \"Economic development\", 1946], [18, \"Luxembourg\", \"LU\", \"no\", 1, 0.0, \"1946-02-03\", \"R/1/532\", 1.0, 0.0, \"ECOSOC CONSULTANTS\", \"TO ADOPT USSR (ORAL) AMENDMENT REPLACING THE 1ST COMM. DRAFT RESOLUTION (A/54/REV.1) WITH THE FOLLOWING:  \\\\TAKING INTO CONSIDERATION THE QUESTION RAISED BY THE WORLD FEDERATION OF TRADE UNIONS CONCERNING ITS PARTICIPATION IN THE WORK OF THE ECO\", \"ec\", \"Economic development\", 1946], [18, \"France\", \"FR\", \"yes\", 1, 0.0, \"1946-02-03\", \"R/1/532\", 1.0, 0.0, \"ECOSOC CONSULTANTS\", \"TO ADOPT USSR (ORAL) AMENDMENT REPLACING THE 1ST COMM. DRAFT RESOLUTION (A/54/REV.1) WITH THE FOLLOWING:  \\\\TAKING INTO CONSIDERATION THE QUESTION RAISED BY THE WORLD FEDERATION OF TRADE UNIONS CONCERNING ITS PARTICIPATION IN THE WORK OF THE ECO\", \"ec\", \"Economic development\", 1946], [18, \"Poland\", \"PL\", \"yes\", 1, 0.0, \"1946-02-03\", \"R/1/532\", 1.0, 0.0, \"ECOSOC CONSULTANTS\", \"TO ADOPT USSR (ORAL) AMENDMENT REPLACING THE 1ST COMM. DRAFT RESOLUTION (A/54/REV.1) WITH THE FOLLOWING:  \\\\TAKING INTO CONSIDERATION THE QUESTION RAISED BY THE WORLD FEDERATION OF TRADE UNIONS CONCERNING ITS PARTICIPATION IN THE WORK OF THE ECO\", \"ec\", \"Economic development\", 1946], [18, \"Czechoslovakia\", \"CS\", \"yes\", 1, 0.0, \"1946-02-03\", \"R/1/532\", 1.0, 0.0, \"ECOSOC CONSULTANTS\", \"TO ADOPT USSR (ORAL) AMENDMENT REPLACING THE 1ST COMM. DRAFT RESOLUTION (A/54/REV.1) WITH THE FOLLOWING:  \\\\TAKING INTO CONSIDERATION THE QUESTION RAISED BY THE WORLD FEDERATION OF TRADE UNIONS CONCERNING ITS PARTICIPATION IN THE WORK OF THE ECO\", \"ec\", \"Economic development\", 1946], [18, \"Yugoslavia\", \"YU\", \"yes\", 1, 0.0, \"1946-02-03\", \"R/1/532\", 1.0, 0.0, \"ECOSOC CONSULTANTS\", \"TO ADOPT USSR (ORAL) AMENDMENT REPLACING THE 1ST COMM. DRAFT RESOLUTION (A/54/REV.1) WITH THE FOLLOWING:  \\\\TAKING INTO CONSIDERATION THE QUESTION RAISED BY THE WORLD FEDERATION OF TRADE UNIONS CONCERNING ITS PARTICIPATION IN THE WORK OF THE ECO\", \"ec\", \"Economic development\", 1946], [18, \"Greece\", \"GR\", \"no\", 1, 0.0, \"1946-02-03\", \"R/1/532\", 1.0, 0.0, \"ECOSOC CONSULTANTS\", \"TO ADOPT USSR (ORAL) AMENDMENT REPLACING THE 1ST COMM. DRAFT RESOLUTION (A/54/REV.1) WITH THE FOLLOWING:  \\\\TAKING INTO CONSIDERATION THE QUESTION RAISED BY THE WORLD FEDERATION OF TRADE UNIONS CONCERNING ITS PARTICIPATION IN THE WORK OF THE ECO\", \"ec\", \"Economic development\", 1946], [18, \"Russia\", \"RU\", \"yes\", 1, 0.0, \"1946-02-03\", \"R/1/532\", 1.0, 0.0, \"ECOSOC CONSULTANTS\", \"TO ADOPT USSR (ORAL) AMENDMENT REPLACING THE 1ST COMM. DRAFT RESOLUTION (A/54/REV.1) WITH THE FOLLOWING:  \\\\TAKING INTO CONSIDERATION THE QUESTION RAISED BY THE WORLD FEDERATION OF TRADE UNIONS CONCERNING ITS PARTICIPATION IN THE WORK OF THE ECO\", \"ec\", \"Economic development\", 1946], [18, \"Ukraine\", \"UA\", \"yes\", 1, 0.0, \"1946-02-03\", \"R/1/532\", 1.0, 0.0, \"ECOSOC CONSULTANTS\", \"TO ADOPT USSR (ORAL) AMENDMENT REPLACING THE 1ST COMM. DRAFT RESOLUTION (A/54/REV.1) WITH THE FOLLOWING:  \\\\TAKING INTO CONSIDERATION THE QUESTION RAISED BY THE WORLD FEDERATION OF TRADE UNIONS CONCERNING ITS PARTICIPATION IN THE WORK OF THE ECO\", \"ec\", \"Economic development\", 1946], [18, \"Belarus\", \"BY\", \"yes\", 1, 0.0, \"1946-02-03\", \"R/1/532\", 1.0, 0.0, \"ECOSOC CONSULTANTS\", \"TO ADOPT USSR (ORAL) AMENDMENT REPLACING THE 1ST COMM. DRAFT RESOLUTION (A/54/REV.1) WITH THE FOLLOWING:  \\\\TAKING INTO CONSIDERATION THE QUESTION RAISED BY THE WORLD FEDERATION OF TRADE UNIONS CONCERNING ITS PARTICIPATION IN THE WORK OF THE ECO\", \"ec\", \"Economic development\", 1946], [18, \"Norway\", \"NO\", \"no\", 1, 0.0, \"1946-02-03\", \"R/1/532\", 1.0, 0.0, \"ECOSOC CONSULTANTS\", \"TO ADOPT USSR (ORAL) AMENDMENT REPLACING THE 1ST COMM. DRAFT RESOLUTION (A/54/REV.1) WITH THE FOLLOWING:  \\\\TAKING INTO CONSIDERATION THE QUESTION RAISED BY THE WORLD FEDERATION OF TRADE UNIONS CONCERNING ITS PARTICIPATION IN THE WORK OF THE ECO\", \"ec\", \"Economic development\", 1946], [18, \"Denmark\", \"DK\", \"no\", 1, 0.0, \"1946-02-03\", \"R/1/532\", 1.0, 0.0, \"ECOSOC CONSULTANTS\", \"TO ADOPT USSR (ORAL) AMENDMENT REPLACING THE 1ST COMM. DRAFT RESOLUTION (A/54/REV.1) WITH THE FOLLOWING:  \\\\TAKING INTO CONSIDERATION THE QUESTION RAISED BY THE WORLD FEDERATION OF TRADE UNIONS CONCERNING ITS PARTICIPATION IN THE WORK OF THE ECO\", \"ec\", \"Economic development\", 1946], [18, \"Liberia\", \"LR\", \"no\", 1, 0.0, \"1946-02-03\", \"R/1/532\", 1.0, 0.0, \"ECOSOC CONSULTANTS\", \"TO ADOPT USSR (ORAL) AMENDMENT REPLACING THE 1ST COMM. DRAFT RESOLUTION (A/54/REV.1) WITH THE FOLLOWING:  \\\\TAKING INTO CONSIDERATION THE QUESTION RAISED BY THE WORLD FEDERATION OF TRADE UNIONS CONCERNING ITS PARTICIPATION IN THE WORK OF THE ECO\", \"ec\", \"Economic development\", 1946], [18, \"Ethiopia\", \"ET\", \"no\", 1, 0.0, \"1946-02-03\", \"R/1/532\", 1.0, 0.0, \"ECOSOC CONSULTANTS\", \"TO ADOPT USSR (ORAL) AMENDMENT REPLACING THE 1ST COMM. DRAFT RESOLUTION (A/54/REV.1) WITH THE FOLLOWING:  \\\\TAKING INTO CONSIDERATION THE QUESTION RAISED BY THE WORLD FEDERATION OF TRADE UNIONS CONCERNING ITS PARTICIPATION IN THE WORK OF THE ECO\", \"ec\", \"Economic development\", 1946], [18, \"South Africa\", \"ZA\", \"no\", 1, 0.0, \"1946-02-03\", \"R/1/532\", 1.0, 0.0, \"ECOSOC CONSULTANTS\", \"TO ADOPT USSR (ORAL) AMENDMENT REPLACING THE 1ST COMM. DRAFT RESOLUTION (A/54/REV.1) WITH THE FOLLOWING:  \\\\TAKING INTO CONSIDERATION THE QUESTION RAISED BY THE WORLD FEDERATION OF TRADE UNIONS CONCERNING ITS PARTICIPATION IN THE WORK OF THE ECO\", \"ec\", \"Economic development\", 1946], [18, \"Iran\", \"IR\", \"abstain\", 1, 0.0, \"1946-02-03\", \"R/1/532\", 1.0, 0.0, \"ECOSOC CONSULTANTS\", \"TO ADOPT USSR (ORAL) AMENDMENT REPLACING THE 1ST COMM. DRAFT RESOLUTION (A/54/REV.1) WITH THE FOLLOWING:  \\\\TAKING INTO CONSIDERATION THE QUESTION RAISED BY THE WORLD FEDERATION OF TRADE UNIONS CONCERNING ITS PARTICIPATION IN THE WORK OF THE ECO\", \"ec\", \"Economic development\", 1946], [18, \"Turkey\", \"TR\", \"no\", 1, 0.0, \"1946-02-03\", \"R/1/532\", 1.0, 0.0, \"ECOSOC CONSULTANTS\", \"TO ADOPT USSR (ORAL) AMENDMENT REPLACING THE 1ST COMM. DRAFT RESOLUTION (A/54/REV.1) WITH THE FOLLOWING:  \\\\TAKING INTO CONSIDERATION THE QUESTION RAISED BY THE WORLD FEDERATION OF TRADE UNIONS CONCERNING ITS PARTICIPATION IN THE WORK OF THE ECO\", \"ec\", \"Economic development\", 1946], [18, \"Iraq\", \"IQ\", \"yes\", 1, 0.0, \"1946-02-03\", \"R/1/532\", 1.0, 0.0, \"ECOSOC CONSULTANTS\", \"TO ADOPT USSR (ORAL) AMENDMENT REPLACING THE 1ST COMM. DRAFT RESOLUTION (A/54/REV.1) WITH THE FOLLOWING:  \\\\TAKING INTO CONSIDERATION THE QUESTION RAISED BY THE WORLD FEDERATION OF TRADE UNIONS CONCERNING ITS PARTICIPATION IN THE WORK OF THE ECO\", \"ec\", \"Economic development\", 1946], [18, \"Egypt\", \"EG\", \"abstain\", 1, 0.0, \"1946-02-03\", \"R/1/532\", 1.0, 0.0, \"ECOSOC CONSULTANTS\", \"TO ADOPT USSR (ORAL) AMENDMENT REPLACING THE 1ST COMM. DRAFT RESOLUTION (A/54/REV.1) WITH THE FOLLOWING:  \\\\TAKING INTO CONSIDERATION THE QUESTION RAISED BY THE WORLD FEDERATION OF TRADE UNIONS CONCERNING ITS PARTICIPATION IN THE WORK OF THE ECO\", \"ec\", \"Economic development\", 1946], [18, \"Syria\", \"SY\", \"abstain\", 1, 0.0, \"1946-02-03\", \"R/1/532\", 1.0, 0.0, \"ECOSOC CONSULTANTS\", \"TO ADOPT USSR (ORAL) AMENDMENT REPLACING THE 1ST COMM. DRAFT RESOLUTION (A/54/REV.1) WITH THE FOLLOWING:  \\\\TAKING INTO CONSIDERATION THE QUESTION RAISED BY THE WORLD FEDERATION OF TRADE UNIONS CONCERNING ITS PARTICIPATION IN THE WORK OF THE ECO\", \"ec\", \"Economic development\", 1946], [18, \"Lebanon\", \"LB\", \"abstain\", 1, 0.0, \"1946-02-03\", \"R/1/532\", 1.0, 0.0, \"ECOSOC CONSULTANTS\", \"TO ADOPT USSR (ORAL) AMENDMENT REPLACING THE 1ST COMM. DRAFT RESOLUTION (A/54/REV.1) WITH THE FOLLOWING:  \\\\TAKING INTO CONSIDERATION THE QUESTION RAISED BY THE WORLD FEDERATION OF TRADE UNIONS CONCERNING ITS PARTICIPATION IN THE WORK OF THE ECO\", \"ec\", \"Economic development\", 1946], [18, \"Saudi Arabia\", \"SA\", \"abstain\", 1, 0.0, \"1946-02-03\", \"R/1/532\", 1.0, 0.0, \"ECOSOC CONSULTANTS\", \"TO ADOPT USSR (ORAL) AMENDMENT REPLACING THE 1ST COMM. DRAFT RESOLUTION (A/54/REV.1) WITH THE FOLLOWING:  \\\\TAKING INTO CONSIDERATION THE QUESTION RAISED BY THE WORLD FEDERATION OF TRADE UNIONS CONCERNING ITS PARTICIPATION IN THE WORK OF THE ECO\", \"ec\", \"Economic development\", 1946], [18, \"Taiwan\", \"TW\", \"no\", 1, 0.0, \"1946-02-03\", \"R/1/532\", 1.0, 0.0, \"ECOSOC CONSULTANTS\", \"TO ADOPT USSR (ORAL) AMENDMENT REPLACING THE 1ST COMM. DRAFT RESOLUTION (A/54/REV.1) WITH THE FOLLOWING:  \\\\TAKING INTO CONSIDERATION THE QUESTION RAISED BY THE WORLD FEDERATION OF TRADE UNIONS CONCERNING ITS PARTICIPATION IN THE WORK OF THE ECO\", \"ec\", \"Economic development\", 1946], [18, \"India\", \"IN\", \"no\", 1, 0.0, \"1946-02-03\", \"R/1/532\", 1.0, 0.0, \"ECOSOC CONSULTANTS\", \"TO ADOPT USSR (ORAL) AMENDMENT REPLACING THE 1ST COMM. DRAFT RESOLUTION (A/54/REV.1) WITH THE FOLLOWING:  \\\\TAKING INTO CONSIDERATION THE QUESTION RAISED BY THE WORLD FEDERATION OF TRADE UNIONS CONCERNING ITS PARTICIPATION IN THE WORK OF THE ECO\", \"ec\", \"Economic development\", 1946], [18, \"Philippines\", \"PH\", \"no\", 1, 0.0, \"1946-02-03\", \"R/1/532\", 1.0, 0.0, \"ECOSOC CONSULTANTS\", \"TO ADOPT USSR (ORAL) AMENDMENT REPLACING THE 1ST COMM. DRAFT RESOLUTION (A/54/REV.1) WITH THE FOLLOWING:  \\\\TAKING INTO CONSIDERATION THE QUESTION RAISED BY THE WORLD FEDERATION OF TRADE UNIONS CONCERNING ITS PARTICIPATION IN THE WORK OF THE ECO\", \"ec\", \"Economic development\", 1946], [18, \"Australia\", \"AU\", \"no\", 1, 0.0, \"1946-02-03\", \"R/1/532\", 1.0, 0.0, \"ECOSOC CONSULTANTS\", \"TO ADOPT USSR (ORAL) AMENDMENT REPLACING THE 1ST COMM. DRAFT RESOLUTION (A/54/REV.1) WITH THE FOLLOWING:  \\\\TAKING INTO CONSIDERATION THE QUESTION RAISED BY THE WORLD FEDERATION OF TRADE UNIONS CONCERNING ITS PARTICIPATION IN THE WORK OF THE ECO\", \"ec\", \"Economic development\", 1946], [18, \"New Zealand\", \"NZ\", \"no\", 1, 0.0, \"1946-02-03\", \"R/1/532\", 1.0, 0.0, \"ECOSOC CONSULTANTS\", \"TO ADOPT USSR (ORAL) AMENDMENT REPLACING THE 1ST COMM. DRAFT RESOLUTION (A/54/REV.1) WITH THE FOLLOWING:  \\\\TAKING INTO CONSIDERATION THE QUESTION RAISED BY THE WORLD FEDERATION OF TRADE UNIONS CONCERNING ITS PARTICIPATION IN THE WORK OF THE ECO\", \"ec\", \"Economic development\", 1946], [19, \"United States\", \"US\", \"yes\", 1, 0.0, \"1946-02-03\", \"R/1/534\", 0.0, 0.0, \"ECOSOC CONSULTANTS\", \"TO ADOPT THE 1ST COMM. DRAFT RESOLUTION (A/54/REV.1) PROVIDING THAT THE E.S.C. ARRANGE FOR CONSULTATIVE COLLABORATION WITH NON-GOVERNMENTAL ORGANIZATIONS, INTERNATIONAL, NATIONAL OR REGIONAL.\", \"ec\", \"Economic development\", 1946], [19, \"Canada\", \"CA\", \"yes\", 1, 0.0, \"1946-02-03\", \"R/1/534\", 0.0, 0.0, \"ECOSOC CONSULTANTS\", \"TO ADOPT THE 1ST COMM. DRAFT RESOLUTION (A/54/REV.1) PROVIDING THAT THE E.S.C. ARRANGE FOR CONSULTATIVE COLLABORATION WITH NON-GOVERNMENTAL ORGANIZATIONS, INTERNATIONAL, NATIONAL OR REGIONAL.\", \"ec\", \"Economic development\", 1946], [19, \"Cuba\", \"CU\", \"yes\", 1, 0.0, \"1946-02-03\", \"R/1/534\", 0.0, 0.0, \"ECOSOC CONSULTANTS\", \"TO ADOPT THE 1ST COMM. DRAFT RESOLUTION (A/54/REV.1) PROVIDING THAT THE E.S.C. ARRANGE FOR CONSULTATIVE COLLABORATION WITH NON-GOVERNMENTAL ORGANIZATIONS, INTERNATIONAL, NATIONAL OR REGIONAL.\", \"ec\", \"Economic development\", 1946], [19, \"Haiti\", \"HT\", \"yes\", 1, 0.0, \"1946-02-03\", \"R/1/534\", 0.0, 0.0, \"ECOSOC CONSULTANTS\", \"TO ADOPT THE 1ST COMM. DRAFT RESOLUTION (A/54/REV.1) PROVIDING THAT THE E.S.C. ARRANGE FOR CONSULTATIVE COLLABORATION WITH NON-GOVERNMENTAL ORGANIZATIONS, INTERNATIONAL, NATIONAL OR REGIONAL.\", \"ec\", \"Economic development\", 1946], [19, \"Dominican Republic\", \"DO\", \"yes\", 1, 0.0, \"1946-02-03\", \"R/1/534\", 0.0, 0.0, \"ECOSOC CONSULTANTS\", \"TO ADOPT THE 1ST COMM. DRAFT RESOLUTION (A/54/REV.1) PROVIDING THAT THE E.S.C. ARRANGE FOR CONSULTATIVE COLLABORATION WITH NON-GOVERNMENTAL ORGANIZATIONS, INTERNATIONAL, NATIONAL OR REGIONAL.\", \"ec\", \"Economic development\", 1946], [19, \"Mexico\", \"MX\", \"abstain\", 1, 0.0, \"1946-02-03\", \"R/1/534\", 0.0, 0.0, \"ECOSOC CONSULTANTS\", \"TO ADOPT THE 1ST COMM. DRAFT RESOLUTION (A/54/REV.1) PROVIDING THAT THE E.S.C. ARRANGE FOR CONSULTATIVE COLLABORATION WITH NON-GOVERNMENTAL ORGANIZATIONS, INTERNATIONAL, NATIONAL OR REGIONAL.\", \"ec\", \"Economic development\", 1946], [19, \"Honduras\", \"HN\", \"yes\", 1, 0.0, \"1946-02-03\", \"R/1/534\", 0.0, 0.0, \"ECOSOC CONSULTANTS\", \"TO ADOPT THE 1ST COMM. DRAFT RESOLUTION (A/54/REV.1) PROVIDING THAT THE E.S.C. ARRANGE FOR CONSULTATIVE COLLABORATION WITH NON-GOVERNMENTAL ORGANIZATIONS, INTERNATIONAL, NATIONAL OR REGIONAL.\", \"ec\", \"Economic development\", 1946], [19, \"El Salvador\", \"SV\", \"yes\", 1, 0.0, \"1946-02-03\", \"R/1/534\", 0.0, 0.0, \"ECOSOC CONSULTANTS\", \"TO ADOPT THE 1ST COMM. DRAFT RESOLUTION (A/54/REV.1) PROVIDING THAT THE E.S.C. ARRANGE FOR CONSULTATIVE COLLABORATION WITH NON-GOVERNMENTAL ORGANIZATIONS, INTERNATIONAL, NATIONAL OR REGIONAL.\", \"ec\", \"Economic development\", 1946], [19, \"Nicaragua\", \"NI\", \"yes\", 1, 0.0, \"1946-02-03\", \"R/1/534\", 0.0, 0.0, \"ECOSOC CONSULTANTS\", \"TO ADOPT THE 1ST COMM. DRAFT RESOLUTION (A/54/REV.1) PROVIDING THAT THE E.S.C. ARRANGE FOR CONSULTATIVE COLLABORATION WITH NON-GOVERNMENTAL ORGANIZATIONS, INTERNATIONAL, NATIONAL OR REGIONAL.\", \"ec\", \"Economic development\", 1946], [19, \"Panama\", \"PA\", \"yes\", 1, 0.0, \"1946-02-03\", \"R/1/534\", 0.0, 0.0, \"ECOSOC CONSULTANTS\", \"TO ADOPT THE 1ST COMM. DRAFT RESOLUTION (A/54/REV.1) PROVIDING THAT THE E.S.C. ARRANGE FOR CONSULTATIVE COLLABORATION WITH NON-GOVERNMENTAL ORGANIZATIONS, INTERNATIONAL, NATIONAL OR REGIONAL.\", \"ec\", \"Economic development\", 1946], [19, \"Colombia\", \"CO\", \"abstain\", 1, 0.0, \"1946-02-03\", \"R/1/534\", 0.0, 0.0, \"ECOSOC CONSULTANTS\", \"TO ADOPT THE 1ST COMM. DRAFT RESOLUTION (A/54/REV.1) PROVIDING THAT THE E.S.C. ARRANGE FOR CONSULTATIVE COLLABORATION WITH NON-GOVERNMENTAL ORGANIZATIONS, INTERNATIONAL, NATIONAL OR REGIONAL.\", \"ec\", \"Economic development\", 1946], [19, \"Venezuela\", \"VE\", \"yes\", 1, 0.0, \"1946-02-03\", \"R/1/534\", 0.0, 0.0, \"ECOSOC CONSULTANTS\", \"TO ADOPT THE 1ST COMM. DRAFT RESOLUTION (A/54/REV.1) PROVIDING THAT THE E.S.C. ARRANGE FOR CONSULTATIVE COLLABORATION WITH NON-GOVERNMENTAL ORGANIZATIONS, INTERNATIONAL, NATIONAL OR REGIONAL.\", \"ec\", \"Economic development\", 1946], [19, \"Ecuador\", \"EC\", \"yes\", 1, 0.0, \"1946-02-03\", \"R/1/534\", 0.0, 0.0, \"ECOSOC CONSULTANTS\", \"TO ADOPT THE 1ST COMM. DRAFT RESOLUTION (A/54/REV.1) PROVIDING THAT THE E.S.C. ARRANGE FOR CONSULTATIVE COLLABORATION WITH NON-GOVERNMENTAL ORGANIZATIONS, INTERNATIONAL, NATIONAL OR REGIONAL.\", \"ec\", \"Economic development\", 1946], [19, \"Peru\", \"PE\", \"yes\", 1, 0.0, \"1946-02-03\", \"R/1/534\", 0.0, 0.0, \"ECOSOC CONSULTANTS\", \"TO ADOPT THE 1ST COMM. DRAFT RESOLUTION (A/54/REV.1) PROVIDING THAT THE E.S.C. ARRANGE FOR CONSULTATIVE COLLABORATION WITH NON-GOVERNMENTAL ORGANIZATIONS, INTERNATIONAL, NATIONAL OR REGIONAL.\", \"ec\", \"Economic development\", 1946], [19, \"Brazil\", \"BR\", \"yes\", 1, 0.0, \"1946-02-03\", \"R/1/534\", 0.0, 0.0, \"ECOSOC CONSULTANTS\", \"TO ADOPT THE 1ST COMM. DRAFT RESOLUTION (A/54/REV.1) PROVIDING THAT THE E.S.C. ARRANGE FOR CONSULTATIVE COLLABORATION WITH NON-GOVERNMENTAL ORGANIZATIONS, INTERNATIONAL, NATIONAL OR REGIONAL.\", \"ec\", \"Economic development\", 1946], [19, \"Bolivia\", \"BO\", \"yes\", 1, 0.0, \"1946-02-03\", \"R/1/534\", 0.0, 0.0, \"ECOSOC CONSULTANTS\", \"TO ADOPT THE 1ST COMM. DRAFT RESOLUTION (A/54/REV.1) PROVIDING THAT THE E.S.C. ARRANGE FOR CONSULTATIVE COLLABORATION WITH NON-GOVERNMENTAL ORGANIZATIONS, INTERNATIONAL, NATIONAL OR REGIONAL.\", \"ec\", \"Economic development\", 1946], [19, \"Paraguay\", \"PY\", \"yes\", 1, 0.0, \"1946-02-03\", \"R/1/534\", 0.0, 0.0, \"ECOSOC CONSULTANTS\", \"TO ADOPT THE 1ST COMM. DRAFT RESOLUTION (A/54/REV.1) PROVIDING THAT THE E.S.C. ARRANGE FOR CONSULTATIVE COLLABORATION WITH NON-GOVERNMENTAL ORGANIZATIONS, INTERNATIONAL, NATIONAL OR REGIONAL.\", \"ec\", \"Economic development\", 1946], [19, \"Chile\", \"CL\", \"abstain\", 1, 0.0, \"1946-02-03\", \"R/1/534\", 0.0, 0.0, \"ECOSOC CONSULTANTS\", \"TO ADOPT THE 1ST COMM. DRAFT RESOLUTION (A/54/REV.1) PROVIDING THAT THE E.S.C. ARRANGE FOR CONSULTATIVE COLLABORATION WITH NON-GOVERNMENTAL ORGANIZATIONS, INTERNATIONAL, NATIONAL OR REGIONAL.\", \"ec\", \"Economic development\", 1946], [19, \"Argentina\", \"AR\", \"yes\", 1, 0.0, \"1946-02-03\", \"R/1/534\", 0.0, 0.0, \"ECOSOC CONSULTANTS\", \"TO ADOPT THE 1ST COMM. DRAFT RESOLUTION (A/54/REV.1) PROVIDING THAT THE E.S.C. ARRANGE FOR CONSULTATIVE COLLABORATION WITH NON-GOVERNMENTAL ORGANIZATIONS, INTERNATIONAL, NATIONAL OR REGIONAL.\", \"ec\", \"Economic development\", 1946], [19, \"Uruguay\", \"UY\", \"yes\", 1, 0.0, \"1946-02-03\", \"R/1/534\", 0.0, 0.0, \"ECOSOC CONSULTANTS\", \"TO ADOPT THE 1ST COMM. DRAFT RESOLUTION (A/54/REV.1) PROVIDING THAT THE E.S.C. ARRANGE FOR CONSULTATIVE COLLABORATION WITH NON-GOVERNMENTAL ORGANIZATIONS, INTERNATIONAL, NATIONAL OR REGIONAL.\", \"ec\", \"Economic development\", 1946], [19, \"United Kingdom\", \"GB\", \"yes\", 1, 0.0, \"1946-02-03\", \"R/1/534\", 0.0, 0.0, \"ECOSOC CONSULTANTS\", \"TO ADOPT THE 1ST COMM. DRAFT RESOLUTION (A/54/REV.1) PROVIDING THAT THE E.S.C. ARRANGE FOR CONSULTATIVE COLLABORATION WITH NON-GOVERNMENTAL ORGANIZATIONS, INTERNATIONAL, NATIONAL OR REGIONAL.\", \"ec\", \"Economic development\", 1946], [19, \"Netherlands\", \"NL\", \"yes\", 1, 0.0, \"1946-02-03\", \"R/1/534\", 0.0, 0.0, \"ECOSOC CONSULTANTS\", \"TO ADOPT THE 1ST COMM. DRAFT RESOLUTION (A/54/REV.1) PROVIDING THAT THE E.S.C. ARRANGE FOR CONSULTATIVE COLLABORATION WITH NON-GOVERNMENTAL ORGANIZATIONS, INTERNATIONAL, NATIONAL OR REGIONAL.\", \"ec\", \"Economic development\", 1946], [19, \"Belgium\", \"BE\", \"abstain\", 1, 0.0, \"1946-02-03\", \"R/1/534\", 0.0, 0.0, \"ECOSOC CONSULTANTS\", \"TO ADOPT THE 1ST COMM. DRAFT RESOLUTION (A/54/REV.1) PROVIDING THAT THE E.S.C. ARRANGE FOR CONSULTATIVE COLLABORATION WITH NON-GOVERNMENTAL ORGANIZATIONS, INTERNATIONAL, NATIONAL OR REGIONAL.\", \"ec\", \"Economic development\", 1946], [19, \"Luxembourg\", \"LU\", \"yes\", 1, 0.0, \"1946-02-03\", \"R/1/534\", 0.0, 0.0, \"ECOSOC CONSULTANTS\", \"TO ADOPT THE 1ST COMM. DRAFT RESOLUTION (A/54/REV.1) PROVIDING THAT THE E.S.C. ARRANGE FOR CONSULTATIVE COLLABORATION WITH NON-GOVERNMENTAL ORGANIZATIONS, INTERNATIONAL, NATIONAL OR REGIONAL.\", \"ec\", \"Economic development\", 1946], [19, \"France\", \"FR\", \"abstain\", 1, 0.0, \"1946-02-03\", \"R/1/534\", 0.0, 0.0, \"ECOSOC CONSULTANTS\", \"TO ADOPT THE 1ST COMM. DRAFT RESOLUTION (A/54/REV.1) PROVIDING THAT THE E.S.C. ARRANGE FOR CONSULTATIVE COLLABORATION WITH NON-GOVERNMENTAL ORGANIZATIONS, INTERNATIONAL, NATIONAL OR REGIONAL.\", \"ec\", \"Economic development\", 1946], [19, \"Poland\", \"PL\", \"no\", 1, 0.0, \"1946-02-03\", \"R/1/534\", 0.0, 0.0, \"ECOSOC CONSULTANTS\", \"TO ADOPT THE 1ST COMM. DRAFT RESOLUTION (A/54/REV.1) PROVIDING THAT THE E.S.C. ARRANGE FOR CONSULTATIVE COLLABORATION WITH NON-GOVERNMENTAL ORGANIZATIONS, INTERNATIONAL, NATIONAL OR REGIONAL.\", \"ec\", \"Economic development\", 1946], [19, \"Czechoslovakia\", \"CS\", \"no\", 1, 0.0, \"1946-02-03\", \"R/1/534\", 0.0, 0.0, \"ECOSOC CONSULTANTS\", \"TO ADOPT THE 1ST COMM. DRAFT RESOLUTION (A/54/REV.1) PROVIDING THAT THE E.S.C. ARRANGE FOR CONSULTATIVE COLLABORATION WITH NON-GOVERNMENTAL ORGANIZATIONS, INTERNATIONAL, NATIONAL OR REGIONAL.\", \"ec\", \"Economic development\", 1946], [19, \"Yugoslavia\", \"YU\", \"no\", 1, 0.0, \"1946-02-03\", \"R/1/534\", 0.0, 0.0, \"ECOSOC CONSULTANTS\", \"TO ADOPT THE 1ST COMM. DRAFT RESOLUTION (A/54/REV.1) PROVIDING THAT THE E.S.C. ARRANGE FOR CONSULTATIVE COLLABORATION WITH NON-GOVERNMENTAL ORGANIZATIONS, INTERNATIONAL, NATIONAL OR REGIONAL.\", \"ec\", \"Economic development\", 1946], [19, \"Greece\", \"GR\", \"yes\", 1, 0.0, \"1946-02-03\", \"R/1/534\", 0.0, 0.0, \"ECOSOC CONSULTANTS\", \"TO ADOPT THE 1ST COMM. DRAFT RESOLUTION (A/54/REV.1) PROVIDING THAT THE E.S.C. ARRANGE FOR CONSULTATIVE COLLABORATION WITH NON-GOVERNMENTAL ORGANIZATIONS, INTERNATIONAL, NATIONAL OR REGIONAL.\", \"ec\", \"Economic development\", 1946], [19, \"Russia\", \"RU\", \"no\", 1, 0.0, \"1946-02-03\", \"R/1/534\", 0.0, 0.0, \"ECOSOC CONSULTANTS\", \"TO ADOPT THE 1ST COMM. DRAFT RESOLUTION (A/54/REV.1) PROVIDING THAT THE E.S.C. ARRANGE FOR CONSULTATIVE COLLABORATION WITH NON-GOVERNMENTAL ORGANIZATIONS, INTERNATIONAL, NATIONAL OR REGIONAL.\", \"ec\", \"Economic development\", 1946], [19, \"Ukraine\", \"UA\", \"no\", 1, 0.0, \"1946-02-03\", \"R/1/534\", 0.0, 0.0, \"ECOSOC CONSULTANTS\", \"TO ADOPT THE 1ST COMM. DRAFT RESOLUTION (A/54/REV.1) PROVIDING THAT THE E.S.C. ARRANGE FOR CONSULTATIVE COLLABORATION WITH NON-GOVERNMENTAL ORGANIZATIONS, INTERNATIONAL, NATIONAL OR REGIONAL.\", \"ec\", \"Economic development\", 1946], [19, \"Belarus\", \"BY\", \"no\", 1, 0.0, \"1946-02-03\", \"R/1/534\", 0.0, 0.0, \"ECOSOC CONSULTANTS\", \"TO ADOPT THE 1ST COMM. DRAFT RESOLUTION (A/54/REV.1) PROVIDING THAT THE E.S.C. ARRANGE FOR CONSULTATIVE COLLABORATION WITH NON-GOVERNMENTAL ORGANIZATIONS, INTERNATIONAL, NATIONAL OR REGIONAL.\", \"ec\", \"Economic development\", 1946], [19, \"Norway\", \"NO\", \"yes\", 1, 0.0, \"1946-02-03\", \"R/1/534\", 0.0, 0.0, \"ECOSOC CONSULTANTS\", \"TO ADOPT THE 1ST COMM. DRAFT RESOLUTION (A/54/REV.1) PROVIDING THAT THE E.S.C. ARRANGE FOR CONSULTATIVE COLLABORATION WITH NON-GOVERNMENTAL ORGANIZATIONS, INTERNATIONAL, NATIONAL OR REGIONAL.\", \"ec\", \"Economic development\", 1946], [19, \"Denmark\", \"DK\", \"yes\", 1, 0.0, \"1946-02-03\", \"R/1/534\", 0.0, 0.0, \"ECOSOC CONSULTANTS\", \"TO ADOPT THE 1ST COMM. DRAFT RESOLUTION (A/54/REV.1) PROVIDING THAT THE E.S.C. ARRANGE FOR CONSULTATIVE COLLABORATION WITH NON-GOVERNMENTAL ORGANIZATIONS, INTERNATIONAL, NATIONAL OR REGIONAL.\", \"ec\", \"Economic development\", 1946], [19, \"Liberia\", \"LR\", \"yes\", 1, 0.0, \"1946-02-03\", \"R/1/534\", 0.0, 0.0, \"ECOSOC CONSULTANTS\", \"TO ADOPT THE 1ST COMM. DRAFT RESOLUTION (A/54/REV.1) PROVIDING THAT THE E.S.C. ARRANGE FOR CONSULTATIVE COLLABORATION WITH NON-GOVERNMENTAL ORGANIZATIONS, INTERNATIONAL, NATIONAL OR REGIONAL.\", \"ec\", \"Economic development\", 1946], [19, \"Ethiopia\", \"ET\", \"yes\", 1, 0.0, \"1946-02-03\", \"R/1/534\", 0.0, 0.0, \"ECOSOC CONSULTANTS\", \"TO ADOPT THE 1ST COMM. DRAFT RESOLUTION (A/54/REV.1) PROVIDING THAT THE E.S.C. ARRANGE FOR CONSULTATIVE COLLABORATION WITH NON-GOVERNMENTAL ORGANIZATIONS, INTERNATIONAL, NATIONAL OR REGIONAL.\", \"ec\", \"Economic development\", 1946], [19, \"South Africa\", \"ZA\", \"yes\", 1, 0.0, \"1946-02-03\", \"R/1/534\", 0.0, 0.0, \"ECOSOC CONSULTANTS\", \"TO ADOPT THE 1ST COMM. DRAFT RESOLUTION (A/54/REV.1) PROVIDING THAT THE E.S.C. ARRANGE FOR CONSULTATIVE COLLABORATION WITH NON-GOVERNMENTAL ORGANIZATIONS, INTERNATIONAL, NATIONAL OR REGIONAL.\", \"ec\", \"Economic development\", 1946], [19, \"Iran\", \"IR\", \"abstain\", 1, 0.0, \"1946-02-03\", \"R/1/534\", 0.0, 0.0, \"ECOSOC CONSULTANTS\", \"TO ADOPT THE 1ST COMM. DRAFT RESOLUTION (A/54/REV.1) PROVIDING THAT THE E.S.C. ARRANGE FOR CONSULTATIVE COLLABORATION WITH NON-GOVERNMENTAL ORGANIZATIONS, INTERNATIONAL, NATIONAL OR REGIONAL.\", \"ec\", \"Economic development\", 1946], [19, \"Turkey\", \"TR\", \"yes\", 1, 0.0, \"1946-02-03\", \"R/1/534\", 0.0, 0.0, \"ECOSOC CONSULTANTS\", \"TO ADOPT THE 1ST COMM. DRAFT RESOLUTION (A/54/REV.1) PROVIDING THAT THE E.S.C. ARRANGE FOR CONSULTATIVE COLLABORATION WITH NON-GOVERNMENTAL ORGANIZATIONS, INTERNATIONAL, NATIONAL OR REGIONAL.\", \"ec\", \"Economic development\", 1946], [19, \"Iraq\", \"IQ\", \"abstain\", 1, 0.0, \"1946-02-03\", \"R/1/534\", 0.0, 0.0, \"ECOSOC CONSULTANTS\", \"TO ADOPT THE 1ST COMM. DRAFT RESOLUTION (A/54/REV.1) PROVIDING THAT THE E.S.C. ARRANGE FOR CONSULTATIVE COLLABORATION WITH NON-GOVERNMENTAL ORGANIZATIONS, INTERNATIONAL, NATIONAL OR REGIONAL.\", \"ec\", \"Economic development\", 1946], [19, \"Egypt\", \"EG\", \"abstain\", 1, 0.0, \"1946-02-03\", \"R/1/534\", 0.0, 0.0, \"ECOSOC CONSULTANTS\", \"TO ADOPT THE 1ST COMM. DRAFT RESOLUTION (A/54/REV.1) PROVIDING THAT THE E.S.C. ARRANGE FOR CONSULTATIVE COLLABORATION WITH NON-GOVERNMENTAL ORGANIZATIONS, INTERNATIONAL, NATIONAL OR REGIONAL.\", \"ec\", \"Economic development\", 1946], [19, \"Syria\", \"SY\", \"abstain\", 1, 0.0, \"1946-02-03\", \"R/1/534\", 0.0, 0.0, \"ECOSOC CONSULTANTS\", \"TO ADOPT THE 1ST COMM. DRAFT RESOLUTION (A/54/REV.1) PROVIDING THAT THE E.S.C. ARRANGE FOR CONSULTATIVE COLLABORATION WITH NON-GOVERNMENTAL ORGANIZATIONS, INTERNATIONAL, NATIONAL OR REGIONAL.\", \"ec\", \"Economic development\", 1946], [19, \"Lebanon\", \"LB\", \"abstain\", 1, 0.0, \"1946-02-03\", \"R/1/534\", 0.0, 0.0, \"ECOSOC CONSULTANTS\", \"TO ADOPT THE 1ST COMM. DRAFT RESOLUTION (A/54/REV.1) PROVIDING THAT THE E.S.C. ARRANGE FOR CONSULTATIVE COLLABORATION WITH NON-GOVERNMENTAL ORGANIZATIONS, INTERNATIONAL, NATIONAL OR REGIONAL.\", \"ec\", \"Economic development\", 1946], [19, \"Saudi Arabia\", \"SA\", \"abstain\", 1, 0.0, \"1946-02-03\", \"R/1/534\", 0.0, 0.0, \"ECOSOC CONSULTANTS\", \"TO ADOPT THE 1ST COMM. DRAFT RESOLUTION (A/54/REV.1) PROVIDING THAT THE E.S.C. ARRANGE FOR CONSULTATIVE COLLABORATION WITH NON-GOVERNMENTAL ORGANIZATIONS, INTERNATIONAL, NATIONAL OR REGIONAL.\", \"ec\", \"Economic development\", 1946], [19, \"Taiwan\", \"TW\", \"yes\", 1, 0.0, \"1946-02-03\", \"R/1/534\", 0.0, 0.0, \"ECOSOC CONSULTANTS\", \"TO ADOPT THE 1ST COMM. DRAFT RESOLUTION (A/54/REV.1) PROVIDING THAT THE E.S.C. ARRANGE FOR CONSULTATIVE COLLABORATION WITH NON-GOVERNMENTAL ORGANIZATIONS, INTERNATIONAL, NATIONAL OR REGIONAL.\", \"ec\", \"Economic development\", 1946], [19, \"India\", \"IN\", \"yes\", 1, 0.0, \"1946-02-03\", \"R/1/534\", 0.0, 0.0, \"ECOSOC CONSULTANTS\", \"TO ADOPT THE 1ST COMM. DRAFT RESOLUTION (A/54/REV.1) PROVIDING THAT THE E.S.C. ARRANGE FOR CONSULTATIVE COLLABORATION WITH NON-GOVERNMENTAL ORGANIZATIONS, INTERNATIONAL, NATIONAL OR REGIONAL.\", \"ec\", \"Economic development\", 1946], [19, \"Philippines\", \"PH\", \"yes\", 1, 0.0, \"1946-02-03\", \"R/1/534\", 0.0, 0.0, \"ECOSOC CONSULTANTS\", \"TO ADOPT THE 1ST COMM. DRAFT RESOLUTION (A/54/REV.1) PROVIDING THAT THE E.S.C. ARRANGE FOR CONSULTATIVE COLLABORATION WITH NON-GOVERNMENTAL ORGANIZATIONS, INTERNATIONAL, NATIONAL OR REGIONAL.\", \"ec\", \"Economic development\", 1946], [19, \"Australia\", \"AU\", \"yes\", 1, 0.0, \"1946-02-03\", \"R/1/534\", 0.0, 0.0, \"ECOSOC CONSULTANTS\", \"TO ADOPT THE 1ST COMM. DRAFT RESOLUTION (A/54/REV.1) PROVIDING THAT THE E.S.C. ARRANGE FOR CONSULTATIVE COLLABORATION WITH NON-GOVERNMENTAL ORGANIZATIONS, INTERNATIONAL, NATIONAL OR REGIONAL.\", \"ec\", \"Economic development\", 1946], [19, \"New Zealand\", \"NZ\", \"yes\", 1, 0.0, \"1946-02-03\", \"R/1/534\", 0.0, 0.0, \"ECOSOC CONSULTANTS\", \"TO ADOPT THE 1ST COMM. DRAFT RESOLUTION (A/54/REV.1) PROVIDING THAT THE E.S.C. ARRANGE FOR CONSULTATIVE COLLABORATION WITH NON-GOVERNMENTAL ORGANIZATIONS, INTERNATIONAL, NATIONAL OR REGIONAL.\", \"ec\", \"Economic development\", 1946], [24, \"United States\", \"US\", \"yes\", 1, 0.0, \"1946-12-05\", \"R/1/1229\", 0.0, 0.0, \"ECOSOC ELECTIONS\", \"TO ADOPT BELGIAN ORAL PROPOSAL TO SURRENDER BELGIUM'S SEAT IN THE E.S.C., PROVIDING THAT THE NETHERLANDS AND TURKEY BE THEREBY ELECTED TO THE 2 REMAINING VACANCIES.\", \"ec\", \"Economic development\", 1946], [24, \"Canada\", \"CA\", \"yes\", 1, 0.0, \"1946-12-05\", \"R/1/1229\", 0.0, 0.0, \"ECOSOC ELECTIONS\", \"TO ADOPT BELGIAN ORAL PROPOSAL TO SURRENDER BELGIUM'S SEAT IN THE E.S.C., PROVIDING THAT THE NETHERLANDS AND TURKEY BE THEREBY ELECTED TO THE 2 REMAINING VACANCIES.\", \"ec\", \"Economic development\", 1946], [24, \"Cuba\", \"CU\", \"yes\", 1, 0.0, \"1946-12-05\", \"R/1/1229\", 0.0, 0.0, \"ECOSOC ELECTIONS\", \"TO ADOPT BELGIAN ORAL PROPOSAL TO SURRENDER BELGIUM'S SEAT IN THE E.S.C., PROVIDING THAT THE NETHERLANDS AND TURKEY BE THEREBY ELECTED TO THE 2 REMAINING VACANCIES.\", \"ec\", \"Economic development\", 1946], [24, \"Haiti\", \"HT\", \"abstain\", 1, 0.0, \"1946-12-05\", \"R/1/1229\", 0.0, 0.0, \"ECOSOC ELECTIONS\", \"TO ADOPT BELGIAN ORAL PROPOSAL TO SURRENDER BELGIUM'S SEAT IN THE E.S.C., PROVIDING THAT THE NETHERLANDS AND TURKEY BE THEREBY ELECTED TO THE 2 REMAINING VACANCIES.\", \"ec\", \"Economic development\", 1946], [24, \"Dominican Republic\", \"DO\", \"yes\", 1, 0.0, \"1946-12-05\", \"R/1/1229\", 0.0, 0.0, \"ECOSOC ELECTIONS\", \"TO ADOPT BELGIAN ORAL PROPOSAL TO SURRENDER BELGIUM'S SEAT IN THE E.S.C., PROVIDING THAT THE NETHERLANDS AND TURKEY BE THEREBY ELECTED TO THE 2 REMAINING VACANCIES.\", \"ec\", \"Economic development\", 1946], [9092, \"Sierra Leone\", \"SL\", \"yes\", 74, NaN, \"2019-12-12\", \"A/RES/74/34\", NaN, NaN, \"Further practical measures for the prevention of an arms race in outer space \", \"Further practical measures for the prevention of an arms race in outer space \", \"ec\", \"Economic development\", 2019], [9092, \"Singapore\", \"SG\", \"yes\", 74, NaN, \"2019-12-12\", \"A/RES/74/34\", NaN, NaN, \"Further practical measures for the prevention of an arms race in outer space \", \"Further practical measures for the prevention of an arms race in outer space \", \"di\", \"Arms control and disarmament\", 2019], [9092, \"Singapore\", \"SG\", \"yes\", 74, NaN, \"2019-12-12\", \"A/RES/74/34\", NaN, NaN, \"Further practical measures for the prevention of an arms race in outer space \", \"Further practical measures for the prevention of an arms race in outer space \", \"co\", \"Colonialism\", 2019], [9092, \"Singapore\", \"SG\", \"yes\", 74, NaN, \"2019-12-12\", \"A/RES/74/34\", NaN, NaN, \"Further practical measures for the prevention of an arms race in outer space \", \"Further practical measures for the prevention of an arms race in outer space \", \"ec\", \"Economic development\", 2019], [9092, \"Slovakia\", \"SK\", \"abstain\", 74, NaN, \"2019-12-12\", \"A/RES/74/34\", NaN, NaN, \"Further practical measures for the prevention of an arms race in outer space \", \"Further practical measures for the prevention of an arms race in outer space \", \"di\", \"Arms control and disarmament\", 2019], [9092, \"Slovakia\", \"SK\", \"abstain\", 74, NaN, \"2019-12-12\", \"A/RES/74/34\", NaN, NaN, \"Further practical measures for the prevention of an arms race in outer space \", \"Further practical measures for the prevention of an arms race in outer space \", \"co\", \"Colonialism\", 2019], [9092, \"Slovakia\", \"SK\", \"abstain\", 74, NaN, \"2019-12-12\", \"A/RES/74/34\", NaN, NaN, \"Further practical measures for the prevention of an arms race in outer space \", \"Further practical measures for the prevention of an arms race in outer space \", \"ec\", \"Economic development\", 2019], [9092, \"Slovenia\", \"SI\", \"abstain\", 74, NaN, \"2019-12-12\", \"A/RES/74/34\", NaN, NaN, \"Further practical measures for the prevention of an arms race in outer space \", \"Further practical measures for the prevention of an arms race in outer space \", \"di\", \"Arms control and disarmament\", 2019], [9092, \"Slovenia\", \"SI\", \"abstain\", 74, NaN, \"2019-12-12\", \"A/RES/74/34\", NaN, NaN, \"Further practical measures for the prevention of an arms race in outer space \", \"Further practical measures for the prevention of an arms race in outer space \", \"co\", \"Colonialism\", 2019], [9092, \"Slovenia\", \"SI\", \"abstain\", 74, NaN, \"2019-12-12\", \"A/RES/74/34\", NaN, NaN, \"Further practical measures for the prevention of an arms race in outer space \", \"Further practical measures for the prevention of an arms race in outer space \", \"ec\", \"Economic development\", 2019], [9092, \"Solomon Islands\", \"SB\", \"yes\", 74, NaN, \"2019-12-12\", \"A/RES/74/34\", NaN, NaN, \"Further practical measures for the prevention of an arms race in outer space \", \"Further practical measures for the prevention of an arms race in outer space \", \"di\", \"Arms control and disarmament\", 2019], [9092, \"Solomon Islands\", \"SB\", \"yes\", 74, NaN, \"2019-12-12\", \"A/RES/74/34\", NaN, NaN, \"Further practical measures for the prevention of an arms race in outer space \", \"Further practical measures for the prevention of an arms race in outer space \", \"co\", \"Colonialism\", 2019], [9092, \"Solomon Islands\", \"SB\", \"yes\", 74, NaN, \"2019-12-12\", \"A/RES/74/34\", NaN, NaN, \"Further practical measures for the prevention of an arms race in outer space \", \"Further practical measures for the prevention of an arms race in outer space \", \"ec\", \"Economic development\", 2019], [9092, \"South Africa\", \"ZA\", \"yes\", 74, NaN, \"2019-12-12\", \"A/RES/74/34\", NaN, NaN, \"Further practical measures for the prevention of an arms race in outer space \", \"Further practical measures for the prevention of an arms race in outer space \", \"di\", \"Arms control and disarmament\", 2019], [9092, \"South Africa\", \"ZA\", \"yes\", 74, NaN, \"2019-12-12\", \"A/RES/74/34\", NaN, NaN, \"Further practical measures for the prevention of an arms race in outer space \", \"Further practical measures for the prevention of an arms race in outer space \", \"co\", \"Colonialism\", 2019], [9092, \"South Africa\", \"ZA\", \"yes\", 74, NaN, \"2019-12-12\", \"A/RES/74/34\", NaN, NaN, \"Further practical measures for the prevention of an arms race in outer space \", \"Further practical measures for the prevention of an arms race in outer space \", \"ec\", \"Economic development\", 2019], [9092, \"South Sudan\", \"SS\", \"yes\", 74, NaN, \"2019-12-12\", \"A/RES/74/34\", NaN, NaN, \"Further practical measures for the prevention of an arms race in outer space \", \"Further practical measures for the prevention of an arms race in outer space \", \"di\", \"Arms control and disarmament\", 2019], [9092, \"South Sudan\", \"SS\", \"yes\", 74, NaN, \"2019-12-12\", \"A/RES/74/34\", NaN, NaN, \"Further practical measures for the prevention of an arms race in outer space \", \"Further practical measures for the prevention of an arms race in outer space \", \"co\", \"Colonialism\", 2019], [9092, \"South Sudan\", \"SS\", \"yes\", 74, NaN, \"2019-12-12\", \"A/RES/74/34\", NaN, NaN, \"Further practical measures for the prevention of an arms race in outer space \", \"Further practical measures for the prevention of an arms race in outer space \", \"ec\", \"Economic development\", 2019], [9092, \"Spain\", \"ES\", \"abstain\", 74, NaN, \"2019-12-12\", \"A/RES/74/34\", NaN, NaN, \"Further practical measures for the prevention of an arms race in outer space \", \"Further practical measures for the prevention of an arms race in outer space \", \"di\", \"Arms control and disarmament\", 2019], [9092, \"Spain\", \"ES\", \"abstain\", 74, NaN, \"2019-12-12\", \"A/RES/74/34\", NaN, NaN, \"Further practical measures for the prevention of an arms race in outer space \", \"Further practical measures for the prevention of an arms race in outer space \", \"co\", \"Colonialism\", 2019], [9092, \"Spain\", \"ES\", \"abstain\", 74, NaN, \"2019-12-12\", \"A/RES/74/34\", NaN, NaN, \"Further practical measures for the prevention of an arms race in outer space \", \"Further practical measures for the prevention of an arms race in outer space \", \"ec\", \"Economic development\", 2019], [9092, \"Sri Lanka\", \"LK\", \"yes\", 74, NaN, \"2019-12-12\", \"A/RES/74/34\", NaN, NaN, \"Further practical measures for the prevention of an arms race in outer space \", \"Further practical measures for the prevention of an arms race in outer space \", \"di\", \"Arms control and disarmament\", 2019], [9092, \"Sri Lanka\", \"LK\", \"yes\", 74, NaN, \"2019-12-12\", \"A/RES/74/34\", NaN, NaN, \"Further practical measures for the prevention of an arms race in outer space \", \"Further practical measures for the prevention of an arms race in outer space \", \"co\", \"Colonialism\", 2019], [9092, \"Sri Lanka\", \"LK\", \"yes\", 74, NaN, \"2019-12-12\", \"A/RES/74/34\", NaN, NaN, \"Further practical measures for the prevention of an arms race in outer space \", \"Further practical measures for the prevention of an arms race in outer space \", \"ec\", \"Economic development\", 2019], [9092, \"Sudan\", \"SD\", \"yes\", 74, NaN, \"2019-12-12\", \"A/RES/74/34\", NaN, NaN, \"Further practical measures for the prevention of an arms race in outer space \", \"Further practical measures for the prevention of an arms race in outer space \", \"di\", \"Arms control and disarmament\", 2019], [9092, \"Sudan\", \"SD\", \"yes\", 74, NaN, \"2019-12-12\", \"A/RES/74/34\", NaN, NaN, \"Further practical measures for the prevention of an arms race in outer space \", \"Further practical measures for the prevention of an arms race in outer space \", \"co\", \"Colonialism\", 2019], [9092, \"Sudan\", \"SD\", \"yes\", 74, NaN, \"2019-12-12\", \"A/RES/74/34\", NaN, NaN, \"Further practical measures for the prevention of an arms race in outer space \", \"Further practical measures for the prevention of an arms race in outer space \", \"ec\", \"Economic development\", 2019], [9092, \"Suriname\", \"SR\", \"yes\", 74, NaN, \"2019-12-12\", \"A/RES/74/34\", NaN, NaN, \"Further practical measures for the prevention of an arms race in outer space \", \"Further practical measures for the prevention of an arms race in outer space \", \"di\", \"Arms control and disarmament\", 2019], [9092, \"Suriname\", \"SR\", \"yes\", 74, NaN, \"2019-12-12\", \"A/RES/74/34\", NaN, NaN, \"Further practical measures for the prevention of an arms race in outer space \", \"Further practical measures for the prevention of an arms race in outer space \", \"co\", \"Colonialism\", 2019], [9092, \"Suriname\", \"SR\", \"yes\", 74, NaN, \"2019-12-12\", \"A/RES/74/34\", NaN, NaN, \"Further practical measures for the prevention of an arms race in outer space \", \"Further practical measures for the prevention of an arms race in outer space \", \"ec\", \"Economic development\", 2019], [9092, \"Sweden\", \"SE\", \"abstain\", 74, NaN, \"2019-12-12\", \"A/RES/74/34\", NaN, NaN, \"Further practical measures for the prevention of an arms race in outer space \", \"Further practical measures for the prevention of an arms race in outer space \", \"di\", \"Arms control and disarmament\", 2019], [9092, \"Sweden\", \"SE\", \"abstain\", 74, NaN, \"2019-12-12\", \"A/RES/74/34\", NaN, NaN, \"Further practical measures for the prevention of an arms race in outer space \", \"Further practical measures for the prevention of an arms race in outer space \", \"co\", \"Colonialism\", 2019], [9092, \"Sweden\", \"SE\", \"abstain\", 74, NaN, \"2019-12-12\", \"A/RES/74/34\", NaN, NaN, \"Further practical measures for the prevention of an arms race in outer space \", \"Further practical measures for the prevention of an arms race in outer space \", \"ec\", \"Economic development\", 2019], [9092, \"Switzerland\", \"CH\", \"abstain\", 74, NaN, \"2019-12-12\", \"A/RES/74/34\", NaN, NaN, \"Further practical measures for the prevention of an arms race in outer space \", \"Further practical measures for the prevention of an arms race in outer space \", \"di\", \"Arms control and disarmament\", 2019], [9092, \"Switzerland\", \"CH\", \"abstain\", 74, NaN, \"2019-12-12\", \"A/RES/74/34\", NaN, NaN, \"Further practical measures for the prevention of an arms race in outer space \", \"Further practical measures for the prevention of an arms race in outer space \", \"co\", \"Colonialism\", 2019], [9092, \"Switzerland\", \"CH\", \"abstain\", 74, NaN, \"2019-12-12\", \"A/RES/74/34\", NaN, NaN, \"Further practical measures for the prevention of an arms race in outer space \", \"Further practical measures for the prevention of an arms race in outer space \", \"ec\", \"Economic development\", 2019], [9092, \"Syria\", \"SY\", \"yes\", 74, NaN, \"2019-12-12\", \"A/RES/74/34\", NaN, NaN, \"Further practical measures for the prevention of an arms race in outer space \", \"Further practical measures for the prevention of an arms race in outer space \", \"di\", \"Arms control and disarmament\", 2019], [9092, \"Syria\", \"SY\", \"yes\", 74, NaN, \"2019-12-12\", \"A/RES/74/34\", NaN, NaN, \"Further practical measures for the prevention of an arms race in outer space \", \"Further practical measures for the prevention of an arms race in outer space \", \"co\", \"Colonialism\", 2019], [9092, \"Syria\", \"SY\", \"yes\", 74, NaN, \"2019-12-12\", \"A/RES/74/34\", NaN, NaN, \"Further practical measures for the prevention of an arms race in outer space \", \"Further practical measures for the prevention of an arms race in outer space \", \"ec\", \"Economic development\", 2019], [9092, \"Tajikistan\", \"TJ\", \"yes\", 74, NaN, \"2019-12-12\", \"A/RES/74/34\", NaN, NaN, \"Further practical measures for the prevention of an arms race in outer space \", \"Further practical measures for the prevention of an arms race in outer space \", \"di\", \"Arms control and disarmament\", 2019], [9092, \"Tajikistan\", \"TJ\", \"yes\", 74, NaN, \"2019-12-12\", \"A/RES/74/34\", NaN, NaN, \"Further practical measures for the prevention of an arms race in outer space \", \"Further practical measures for the prevention of an arms race in outer space \", \"co\", \"Colonialism\", 2019], [9092, \"Tajikistan\", \"TJ\", \"yes\", 74, NaN, \"2019-12-12\", \"A/RES/74/34\", NaN, NaN, \"Further practical measures for the prevention of an arms race in outer space \", \"Further practical measures for the prevention of an arms race in outer space \", \"ec\", \"Economic development\", 2019], [9092, \"Thailand\", \"TH\", \"yes\", 74, NaN, \"2019-12-12\", \"A/RES/74/34\", NaN, NaN, \"Further practical measures for the prevention of an arms race in outer space \", \"Further practical measures for the prevention of an arms race in outer space \", \"di\", \"Arms control and disarmament\", 2019], [9092, \"Thailand\", \"TH\", \"yes\", 74, NaN, \"2019-12-12\", \"A/RES/74/34\", NaN, NaN, \"Further practical measures for the prevention of an arms race in outer space \", \"Further practical measures for the prevention of an arms race in outer space \", \"co\", \"Colonialism\", 2019], [9092, \"Thailand\", \"TH\", \"yes\", 74, NaN, \"2019-12-12\", \"A/RES/74/34\", NaN, NaN, \"Further practical measures for the prevention of an arms race in outer space \", \"Further practical measures for the prevention of an arms race in outer space \", \"ec\", \"Economic development\", 2019], [9092, \"Timor-Leste\", \"TL\", \"yes\", 74, NaN, \"2019-12-12\", \"A/RES/74/34\", NaN, NaN, \"Further practical measures for the prevention of an arms race in outer space \", \"Further practical measures for the prevention of an arms race in outer space \", \"di\", \"Arms control and disarmament\", 2019], [9092, \"Timor-Leste\", \"TL\", \"yes\", 74, NaN, \"2019-12-12\", \"A/RES/74/34\", NaN, NaN, \"Further practical measures for the prevention of an arms race in outer space \", \"Further practical measures for the prevention of an arms race in outer space \", \"co\", \"Colonialism\", 2019], [9092, \"Timor-Leste\", \"TL\", \"yes\", 74, NaN, \"2019-12-12\", \"A/RES/74/34\", NaN, NaN, \"Further practical measures for the prevention of an arms race in outer space \", \"Further practical measures for the prevention of an arms race in outer space \", \"ec\", \"Economic development\", 2019], [9092, \"Togo\", \"TG\", \"yes\", 74, NaN, \"2019-12-12\", \"A/RES/74/34\", NaN, NaN, \"Further practical measures for the prevention of an arms race in outer space \", \"Further practical measures for the prevention of an arms race in outer space \", \"di\", \"Arms control and disarmament\", 2019], [9092, \"Togo\", \"TG\", \"yes\", 74, NaN, \"2019-12-12\", \"A/RES/74/34\", NaN, NaN, \"Further practical measures for the prevention of an arms race in outer space \", \"Further practical measures for the prevention of an arms race in outer space \", \"co\", \"Colonialism\", 2019], [9092, \"Togo\", \"TG\", \"yes\", 74, NaN, \"2019-12-12\", \"A/RES/74/34\", NaN, NaN, \"Further practical measures for the prevention of an arms race in outer space \", \"Further practical measures for the prevention of an arms race in outer space \", \"ec\", \"Economic development\", 2019], [9092, \"Trinidad & Tobago\", \"TT\", \"yes\", 74, NaN, \"2019-12-12\", \"A/RES/74/34\", NaN, NaN, \"Further practical measures for the prevention of an arms race in outer space \", \"Further practical measures for the prevention of an arms race in outer space \", \"di\", \"Arms control and disarmament\", 2019], [9092, \"Trinidad & Tobago\", \"TT\", \"yes\", 74, NaN, \"2019-12-12\", \"A/RES/74/34\", NaN, NaN, \"Further practical measures for the prevention of an arms race in outer space \", \"Further practical measures for the prevention of an arms race in outer space \", \"co\", \"Colonialism\", 2019], [9092, \"Trinidad & Tobago\", \"TT\", \"yes\", 74, NaN, \"2019-12-12\", \"A/RES/74/34\", NaN, NaN, \"Further practical measures for the prevention of an arms race in outer space \", \"Further practical measures for the prevention of an arms race in outer space \", \"ec\", \"Economic development\", 2019], [9092, \"Tunisia\", \"TN\", \"yes\", 74, NaN, \"2019-12-12\", \"A/RES/74/34\", NaN, NaN, \"Further practical measures for the prevention of an arms race in outer space \", \"Further practical measures for the prevention of an arms race in outer space \", \"di\", \"Arms control and disarmament\", 2019], [9092, \"Tunisia\", \"TN\", \"yes\", 74, NaN, \"2019-12-12\", \"A/RES/74/34\", NaN, NaN, \"Further practical measures for the prevention of an arms race in outer space \", \"Further practical measures for the prevention of an arms race in outer space \", \"co\", \"Colonialism\", 2019], [9092, \"Tunisia\", \"TN\", \"yes\", 74, NaN, \"2019-12-12\", \"A/RES/74/34\", NaN, NaN, \"Further practical measures for the prevention of an arms race in outer space \", \"Further practical measures for the prevention of an arms race in outer space \", \"ec\", \"Economic development\", 2019], [9092, \"Turkey\", \"TR\", \"abstain\", 74, NaN, \"2019-12-12\", \"A/RES/74/34\", NaN, NaN, \"Further practical measures for the prevention of an arms race in outer space \", \"Further practical measures for the prevention of an arms race in outer space \", \"di\", \"Arms control and disarmament\", 2019], [9092, \"Turkey\", \"TR\", \"abstain\", 74, NaN, \"2019-12-12\", \"A/RES/74/34\", NaN, NaN, \"Further practical measures for the prevention of an arms race in outer space \", \"Further practical measures for the prevention of an arms race in outer space \", \"co\", \"Colonialism\", 2019], [9092, \"Turkey\", \"TR\", \"abstain\", 74, NaN, \"2019-12-12\", \"A/RES/74/34\", NaN, NaN, \"Further practical measures for the prevention of an arms race in outer space \", \"Further practical measures for the prevention of an arms race in outer space \", \"ec\", \"Economic development\", 2019], [9092, \"Turkmenistan\", \"TM\", \"yes\", 74, NaN, \"2019-12-12\", \"A/RES/74/34\", NaN, NaN, \"Further practical measures for the prevention of an arms race in outer space \", \"Further practical measures for the prevention of an arms race in outer space \", \"di\", \"Arms control and disarmament\", 2019], [9092, \"Turkmenistan\", \"TM\", \"yes\", 74, NaN, \"2019-12-12\", \"A/RES/74/34\", NaN, NaN, \"Further practical measures for the prevention of an arms race in outer space \", \"Further practical measures for the prevention of an arms race in outer space \", \"co\", \"Colonialism\", 2019], [9092, \"Turkmenistan\", \"TM\", \"yes\", 74, NaN, \"2019-12-12\", \"A/RES/74/34\", NaN, NaN, \"Further practical measures for the prevention of an arms race in outer space \", \"Further practical measures for the prevention of an arms race in outer space \", \"ec\", \"Economic development\", 2019], [9092, \"Tuvalu\", \"TV\", \"yes\", 74, NaN, \"2019-12-12\", \"A/RES/74/34\", NaN, NaN, \"Further practical measures for the prevention of an arms race in outer space \", \"Further practical measures for the prevention of an arms race in outer space \", \"di\", \"Arms control and disarmament\", 2019], [9092, \"Tuvalu\", \"TV\", \"yes\", 74, NaN, \"2019-12-12\", \"A/RES/74/34\", NaN, NaN, \"Further practical measures for the prevention of an arms race in outer space \", \"Further practical measures for the prevention of an arms race in outer space \", \"co\", \"Colonialism\", 2019], [9092, \"Tuvalu\", \"TV\", \"yes\", 74, NaN, \"2019-12-12\", \"A/RES/74/34\", NaN, NaN, \"Further practical measures for the prevention of an arms race in outer space \", \"Further practical measures for the prevention of an arms race in outer space \", \"ec\", \"Economic development\", 2019], [9092, \"Uganda\", \"UG\", \"yes\", 74, NaN, \"2019-12-12\", \"A/RES/74/34\", NaN, NaN, \"Further practical measures for the prevention of an arms race in outer space \", \"Further practical measures for the prevention of an arms race in outer space \", \"di\", \"Arms control and disarmament\", 2019], [9092, \"Uganda\", \"UG\", \"yes\", 74, NaN, \"2019-12-12\", \"A/RES/74/34\", NaN, NaN, \"Further practical measures for the prevention of an arms race in outer space \", \"Further practical measures for the prevention of an arms race in outer space \", \"co\", \"Colonialism\", 2019], [9092, \"Uganda\", \"UG\", \"yes\", 74, NaN, \"2019-12-12\", \"A/RES/74/34\", NaN, NaN, \"Further practical measures for the prevention of an arms race in outer space \", \"Further practical measures for the prevention of an arms race in outer space \", \"ec\", \"Economic development\", 2019], [9092, \"Ukraine\", \"UA\", \"no\", 74, NaN, \"2019-12-12\", \"A/RES/74/34\", NaN, NaN, \"Further practical measures for the prevention of an arms race in outer space \", \"Further practical measures for the prevention of an arms race in outer space \", \"di\", \"Arms control and disarmament\", 2019], [9092, \"Ukraine\", \"UA\", \"no\", 74, NaN, \"2019-12-12\", \"A/RES/74/34\", NaN, NaN, \"Further practical measures for the prevention of an arms race in outer space \", \"Further practical measures for the prevention of an arms race in outer space \", \"co\", \"Colonialism\", 2019], [9092, \"Ukraine\", \"UA\", \"no\", 74, NaN, \"2019-12-12\", \"A/RES/74/34\", NaN, NaN, \"Further practical measures for the prevention of an arms race in outer space \", \"Further practical measures for the prevention of an arms race in outer space \", \"ec\", \"Economic development\", 2019], [9092, \"United Arab Emirates\", \"AE\", \"yes\", 74, NaN, \"2019-12-12\", \"A/RES/74/34\", NaN, NaN, \"Further practical measures for the prevention of an arms race in outer space \", \"Further practical measures for the prevention of an arms race in outer space \", \"di\", \"Arms control and disarmament\", 2019], [9092, \"United Arab Emirates\", \"AE\", \"yes\", 74, NaN, \"2019-12-12\", \"A/RES/74/34\", NaN, NaN, \"Further practical measures for the prevention of an arms race in outer space \", \"Further practical measures for the prevention of an arms race in outer space \", \"co\", \"Colonialism\", 2019], [9092, \"United Arab Emirates\", \"AE\", \"yes\", 74, NaN, \"2019-12-12\", \"A/RES/74/34\", NaN, NaN, \"Further practical measures for the prevention of an arms race in outer space \", \"Further practical measures for the prevention of an arms race in outer space \", \"ec\", \"Economic development\", 2019], [9092, \"United Kingdom\", \"GB\", \"no\", 74, NaN, \"2019-12-12\", \"A/RES/74/34\", NaN, NaN, \"Further practical measures for the prevention of an arms race in outer space \", \"Further practical measures for the prevention of an arms race in outer space \", \"di\", \"Arms control and disarmament\", 2019], [9092, \"United Kingdom\", \"GB\", \"no\", 74, NaN, \"2019-12-12\", \"A/RES/74/34\", NaN, NaN, \"Further practical measures for the prevention of an arms race in outer space \", \"Further practical measures for the prevention of an arms race in outer space \", \"co\", \"Colonialism\", 2019], [9092, \"United Kingdom\", \"GB\", \"no\", 74, NaN, \"2019-12-12\", \"A/RES/74/34\", NaN, NaN, \"Further practical measures for the prevention of an arms race in outer space \", \"Further practical measures for the prevention of an arms race in outer space \", \"ec\", \"Economic development\", 2019], [9092, \"Tanzania\", \"TZ\", \"yes\", 74, NaN, \"2019-12-12\", \"A/RES/74/34\", NaN, NaN, \"Further practical measures for the prevention of an arms race in outer space \", \"Further practical measures for the prevention of an arms race in outer space \", \"di\", \"Arms control and disarmament\", 2019], [9092, \"Tanzania\", \"TZ\", \"yes\", 74, NaN, \"2019-12-12\", \"A/RES/74/34\", NaN, NaN, \"Further practical measures for the prevention of an arms race in outer space \", \"Further practical measures for the prevention of an arms race in outer space \", \"co\", \"Colonialism\", 2019], [9092, \"Tanzania\", \"TZ\", \"yes\", 74, NaN, \"2019-12-12\", \"A/RES/74/34\", NaN, NaN, \"Further practical measures for the prevention of an arms race in outer space \", \"Further practical measures for the prevention of an arms race in outer space \", \"ec\", \"Economic development\", 2019], [9092, \"United States\", \"US\", \"no\", 74, NaN, \"2019-12-12\", \"A/RES/74/34\", NaN, NaN, \"Further practical measures for the prevention of an arms race in outer space \", \"Further practical measures for the prevention of an arms race in outer space \", \"di\", \"Arms control and disarmament\", 2019], [9092, \"United States\", \"US\", \"no\", 74, NaN, \"2019-12-12\", \"A/RES/74/34\", NaN, NaN, \"Further practical measures for the prevention of an arms race in outer space \", \"Further practical measures for the prevention of an arms race in outer space \", \"co\", \"Colonialism\", 2019], [9092, \"United States\", \"US\", \"no\", 74, NaN, \"2019-12-12\", \"A/RES/74/34\", NaN, NaN, \"Further practical measures for the prevention of an arms race in outer space \", \"Further practical measures for the prevention of an arms race in outer space \", \"ec\", \"Economic development\", 2019], [9092, \"Uruguay\", \"UY\", \"yes\", 74, NaN, \"2019-12-12\", \"A/RES/74/34\", NaN, NaN, \"Further practical measures for the prevention of an arms race in outer space \", \"Further practical measures for the prevention of an arms race in outer space \", \"di\", \"Arms control and disarmament\", 2019], [9092, \"Uruguay\", \"UY\", \"yes\", 74, NaN, \"2019-12-12\", \"A/RES/74/34\", NaN, NaN, \"Further practical measures for the prevention of an arms race in outer space \", \"Further practical measures for the prevention of an arms race in outer space \", \"co\", \"Colonialism\", 2019], [9092, \"Uruguay\", \"UY\", \"yes\", 74, NaN, \"2019-12-12\", \"A/RES/74/34\", NaN, NaN, \"Further practical measures for the prevention of an arms race in outer space \", \"Further practical measures for the prevention of an arms race in outer space \", \"ec\", \"Economic development\", 2019], [9092, \"Uzbekistan\", \"UZ\", \"yes\", 74, NaN, \"2019-12-12\", \"A/RES/74/34\", NaN, NaN, \"Further practical measures for the prevention of an arms race in outer space \", \"Further practical measures for the prevention of an arms race in outer space \", \"di\", \"Arms control and disarmament\", 2019], [9092, \"Uzbekistan\", \"UZ\", \"yes\", 74, NaN, \"2019-12-12\", \"A/RES/74/34\", NaN, NaN, \"Further practical measures for the prevention of an arms race in outer space \", \"Further practical measures for the prevention of an arms race in outer space \", \"co\", \"Colonialism\", 2019], [9092, \"Uzbekistan\", \"UZ\", \"yes\", 74, NaN, \"2019-12-12\", \"A/RES/74/34\", NaN, NaN, \"Further practical measures for the prevention of an arms race in outer space \", \"Further practical measures for the prevention of an arms race in outer space \", \"ec\", \"Economic development\", 2019], [9092, \"Vanuatu\", \"VU\", \"yes\", 74, NaN, \"2019-12-12\", \"A/RES/74/34\", NaN, NaN, \"Further practical measures for the prevention of an arms race in outer space \", \"Further practical measures for the prevention of an arms race in outer space \", \"di\", \"Arms control and disarmament\", 2019], [9092, \"Vanuatu\", \"VU\", \"yes\", 74, NaN, \"2019-12-12\", \"A/RES/74/34\", NaN, NaN, \"Further practical measures for the prevention of an arms race in outer space \", \"Further practical measures for the prevention of an arms race in outer space \", \"co\", \"Colonialism\", 2019], [9092, \"Vanuatu\", \"VU\", \"yes\", 74, NaN, \"2019-12-12\", \"A/RES/74/34\", NaN, NaN, \"Further practical measures for the prevention of an arms race in outer space \", \"Further practical measures for the prevention of an arms race in outer space \", \"ec\", \"Economic development\", 2019], [9092, \"Venezuela\", \"VE\", \"yes\", 74, NaN, \"2019-12-12\", \"A/RES/74/34\", NaN, NaN, \"Further practical measures for the prevention of an arms race in outer space \", \"Further practical measures for the prevention of an arms race in outer space \", \"di\", \"Arms control and disarmament\", 2019], [9092, \"Venezuela\", \"VE\", \"yes\", 74, NaN, \"2019-12-12\", \"A/RES/74/34\", NaN, NaN, \"Further practical measures for the prevention of an arms race in outer space \", \"Further practical measures for the prevention of an arms race in outer space \", \"co\", \"Colonialism\", 2019], [9092, \"Venezuela\", \"VE\", \"yes\", 74, NaN, \"2019-12-12\", \"A/RES/74/34\", NaN, NaN, \"Further practical measures for the prevention of an arms race in outer space \", \"Further practical measures for the prevention of an arms race in outer space \", \"ec\", \"Economic development\", 2019], [9092, \"Vietnam\", \"VN\", \"yes\", 74, NaN, \"2019-12-12\", \"A/RES/74/34\", NaN, NaN, \"Further practical measures for the prevention of an arms race in outer space \", \"Further practical measures for the prevention of an arms race in outer space \", \"di\", \"Arms control and disarmament\", 2019], [9092, \"Vietnam\", \"VN\", \"yes\", 74, NaN, \"2019-12-12\", \"A/RES/74/34\", NaN, NaN, \"Further practical measures for the prevention of an arms race in outer space \", \"Further practical measures for the prevention of an arms race in outer space \", \"co\", \"Colonialism\", 2019], [9092, \"Vietnam\", \"VN\", \"yes\", 74, NaN, \"2019-12-12\", \"A/RES/74/34\", NaN, NaN, \"Further practical measures for the prevention of an arms race in outer space \", \"Further practical measures for the prevention of an arms race in outer space \", \"ec\", \"Economic development\", 2019], [9092, \"Yemen\", \"YE\", \"yes\", 74, NaN, \"2019-12-12\", \"A/RES/74/34\", NaN, NaN, \"Further practical measures for the prevention of an arms race in outer space \", \"Further practical measures for the prevention of an arms race in outer space \", \"di\", \"Arms control and disarmament\", 2019], [9092, \"Yemen\", \"YE\", \"yes\", 74, NaN, \"2019-12-12\", \"A/RES/74/34\", NaN, NaN, \"Further practical measures for the prevention of an arms race in outer space \", \"Further practical measures for the prevention of an arms race in outer space \", \"co\", \"Colonialism\", 2019], [9092, \"Yemen\", \"YE\", \"yes\", 74, NaN, \"2019-12-12\", \"A/RES/74/34\", NaN, NaN, \"Further practical measures for the prevention of an arms race in outer space \", \"Further practical measures for the prevention of an arms race in outer space \", \"ec\", \"Economic development\", 2019], [9092, \"Zambia\", \"ZM\", \"yes\", 74, NaN, \"2019-12-12\", \"A/RES/74/34\", NaN, NaN, \"Further practical measures for the prevention of an arms race in outer space \", \"Further practical measures for the prevention of an arms race in outer space \", \"di\", \"Arms control and disarmament\", 2019], [9092, \"Zambia\", \"ZM\", \"yes\", 74, NaN, \"2019-12-12\", \"A/RES/74/34\", NaN, NaN, \"Further practical measures for the prevention of an arms race in outer space \", \"Further practical measures for the prevention of an arms race in outer space \", \"co\", \"Colonialism\", 2019], [9092, \"Zambia\", \"ZM\", \"yes\", 74, NaN, \"2019-12-12\", \"A/RES/74/34\", NaN, NaN, \"Further practical measures for the prevention of an arms race in outer space \", \"Further practical measures for the prevention of an arms race in outer space \", \"ec\", \"Economic development\", 2019], [9092, \"Zimbabwe\", \"ZW\", \"yes\", 74, NaN, \"2019-12-12\", \"A/RES/74/34\", NaN, NaN, \"Further practical measures for the prevention of an arms race in outer space \", \"Further practical measures for the prevention of an arms race in outer space \", \"di\", \"Arms control and disarmament\", 2019], [9092, \"Zimbabwe\", \"ZW\", \"yes\", 74, NaN, \"2019-12-12\", \"A/RES/74/34\", NaN, NaN, \"Further practical measures for the prevention of an arms race in outer space \", \"Further practical measures for the prevention of an arms race in outer space \", \"co\", \"Colonialism\", 2019], [9092, \"Zimbabwe\", \"ZW\", \"yes\", 74, NaN, \"2019-12-12\", \"A/RES/74/34\", NaN, NaN, \"Further practical measures for the prevention of an arms race in outer space \", \"Further practical measures for the prevention of an arms race in outer space \", \"ec\", \"Economic development\", 2019], [9101, \"Afghanistan\", \"AF\", \"yes\", 74, NaN, \"2019-12-03\", \"A/RES/74/12\", NaN, NaN, \"Division for Palestinian Rights of the Secretariat \", \"Division for Palestinian Rights of the Secretariat \", \"me\", \"Palestinian conflict\", 2019], [9101, \"Albania\", \"AL\", \"abstain\", 74, NaN, \"2019-12-03\", \"A/RES/74/12\", NaN, NaN, \"Division for Palestinian Rights of the Secretariat \", \"Division for Palestinian Rights of the Secretariat \", \"me\", \"Palestinian conflict\", 2019], [9101, \"Algeria\", \"DZ\", \"yes\", 74, NaN, \"2019-12-03\", \"A/RES/74/12\", NaN, NaN, \"Division for Palestinian Rights of the Secretariat \", \"Division for Palestinian Rights of the Secretariat \", \"me\", \"Palestinian conflict\", 2019], [9101, \"Andorra\", \"AD\", \"abstain\", 74, NaN, \"2019-12-03\", \"A/RES/74/12\", NaN, NaN, \"Division for Palestinian Rights of the Secretariat \", \"Division for Palestinian Rights of the Secretariat \", \"me\", \"Palestinian conflict\", 2019], [9101, \"Angola\", \"AO\", \"yes\", 74, NaN, \"2019-12-03\", \"A/RES/74/12\", NaN, NaN, \"Division for Palestinian Rights of the Secretariat \", \"Division for Palestinian Rights of the Secretariat \", \"me\", \"Palestinian conflict\", 2019], [9101, \"Antigua & Barbuda\", \"AG\", \"yes\", 74, NaN, \"2019-12-03\", \"A/RES/74/12\", NaN, NaN, \"Division for Palestinian Rights of the Secretariat \", \"Division for Palestinian Rights of the Secretariat \", \"me\", \"Palestinian conflict\", 2019], [9101, \"Argentina\", \"AR\", \"abstain\", 74, NaN, \"2019-12-03\", \"A/RES/74/12\", NaN, NaN, \"Division for Palestinian Rights of the Secretariat \", \"Division for Palestinian Rights of the Secretariat \", \"me\", \"Palestinian conflict\", 2019], [9101, \"Armenia\", \"AM\", \"abstain\", 74, NaN, \"2019-12-03\", \"A/RES/74/12\", NaN, NaN, \"Division for Palestinian Rights of the Secretariat \", \"Division for Palestinian Rights of the Secretariat \", \"me\", \"Palestinian conflict\", 2019], [9101, \"Australia\", \"AU\", \"no\", 74, NaN, \"2019-12-03\", \"A/RES/74/12\", NaN, NaN, \"Division for Palestinian Rights of the Secretariat \", \"Division for Palestinian Rights of the Secretariat \", \"me\", \"Palestinian conflict\", 2019], [9101, \"Austria\", \"AT\", \"no\", 74, NaN, \"2019-12-03\", \"A/RES/74/12\", NaN, NaN, \"Division for Palestinian Rights of the Secretariat \", \"Division for Palestinian Rights of the Secretariat \", \"me\", \"Palestinian conflict\", 2019], [9101, \"Azerbaijan\", \"AZ\", \"yes\", 74, NaN, \"2019-12-03\", \"A/RES/74/12\", NaN, NaN, \"Division for Palestinian Rights of the Secretariat \", \"Division for Palestinian Rights of the Secretariat \", \"me\", \"Palestinian conflict\", 2019], [9101, \"Bahrain\", \"BH\", \"yes\", 74, NaN, \"2019-12-03\", \"A/RES/74/12\", NaN, NaN, \"Division for Palestinian Rights of the Secretariat \", \"Division for Palestinian Rights of the Secretariat \", \"me\", \"Palestinian conflict\", 2019], [9101, \"Bangladesh\", \"BD\", \"yes\", 74, NaN, \"2019-12-03\", \"A/RES/74/12\", NaN, NaN, \"Division for Palestinian Rights of the Secretariat \", \"Division for Palestinian Rights of the Secretariat \", \"me\", \"Palestinian conflict\", 2019], [9101, \"Belarus\", \"BY\", \"abstain\", 74, NaN, \"2019-12-03\", \"A/RES/74/12\", NaN, NaN, \"Division for Palestinian Rights of the Secretariat \", \"Division for Palestinian Rights of the Secretariat \", \"me\", \"Palestinian conflict\", 2019], [9101, \"Belgium\", \"BE\", \"abstain\", 74, NaN, \"2019-12-03\", \"A/RES/74/12\", NaN, NaN, \"Division for Palestinian Rights of the Secretariat \", \"Division for Palestinian Rights of the Secretariat \", \"me\", \"Palestinian conflict\", 2019], [9101, \"Belize\", \"BZ\", \"yes\", 74, NaN, \"2019-12-03\", \"A/RES/74/12\", NaN, NaN, \"Division for Palestinian Rights of the Secretariat \", \"Division for Palestinian Rights of the Secretariat \", \"me\", \"Palestinian conflict\", 2019], [9101, \"Bhutan\", \"BT\", \"yes\", 74, NaN, \"2019-12-03\", \"A/RES/74/12\", NaN, NaN, \"Division for Palestinian Rights of the Secretariat \", \"Division for Palestinian Rights of the Secretariat \", \"me\", \"Palestinian conflict\", 2019], [9101, \"Bolivia\", \"BO\", \"yes\", 74, NaN, \"2019-12-03\", \"A/RES/74/12\", NaN, NaN, \"Division for Palestinian Rights of the Secretariat \", \"Division for Palestinian Rights of the Secretariat \", \"me\", \"Palestinian conflict\", 2019], [9101, \"Bosnia & Herzegovina\", \"BA\", \"abstain\", 74, NaN, \"2019-12-03\", \"A/RES/74/12\", NaN, NaN, \"Division for Palestinian Rights of the Secretariat \", \"Division for Palestinian Rights of the Secretariat \", \"me\", \"Palestinian conflict\", 2019], [9101, \"Botswana\", \"BW\", \"yes\", 74, NaN, \"2019-12-03\", \"A/RES/74/12\", NaN, NaN, \"Division for Palestinian Rights of the Secretariat \", \"Division for Palestinian Rights of the Secretariat \", \"me\", \"Palestinian conflict\", 2019], [9101, \"Brazil\", \"BR\", \"no\", 74, NaN, \"2019-12-03\", \"A/RES/74/12\", NaN, NaN, \"Division for Palestinian Rights of the Secretariat \", \"Division for Palestinian Rights of the Secretariat \", \"me\", \"Palestinian conflict\", 2019], [9101, \"Brunei\", \"BN\", \"yes\", 74, NaN, \"2019-12-03\", \"A/RES/74/12\", NaN, NaN, \"Division for Palestinian Rights of the Secretariat \", \"Division for Palestinian Rights of the Secretariat \", \"me\", \"Palestinian conflict\", 2019], [9101, \"Bulgaria\", \"BG\", \"no\", 74, NaN, \"2019-12-03\", \"A/RES/74/12\", NaN, NaN, \"Division for Palestinian Rights of the Secretariat \", \"Division for Palestinian Rights of the Secretariat \", \"me\", \"Palestinian conflict\", 2019], [9101, \"Burundi\", \"BI\", \"yes\", 74, NaN, \"2019-12-03\", \"A/RES/74/12\", NaN, NaN, \"Division for Palestinian Rights of the Secretariat \", \"Division for Palestinian Rights of the Secretariat \", \"me\", \"Palestinian conflict\", 2019], [9101, \"Cape Verde\", \"CV\", \"abstain\", 74, NaN, \"2019-12-03\", \"A/RES/74/12\", NaN, NaN, \"Division for Palestinian Rights of the Secretariat \", \"Division for Palestinian Rights of the Secretariat \", \"me\", \"Palestinian conflict\", 2019], [9101, \"Cambodia\", \"KH\", \"yes\", 74, NaN, \"2019-12-03\", \"A/RES/74/12\", NaN, NaN, \"Division for Palestinian Rights of the Secretariat \", \"Division for Palestinian Rights of the Secretariat \", \"me\", \"Palestinian conflict\", 2019], [9101, \"Cameroon\", \"CM\", \"abstain\", 74, NaN, \"2019-12-03\", \"A/RES/74/12\", NaN, NaN, \"Division for Palestinian Rights of the Secretariat \", \"Division for Palestinian Rights of the Secretariat \", \"me\", \"Palestinian conflict\", 2019], [9101, \"Canada\", \"CA\", \"no\", 74, NaN, \"2019-12-03\", \"A/RES/74/12\", NaN, NaN, \"Division for Palestinian Rights of the Secretariat \", \"Division for Palestinian Rights of the Secretariat \", \"me\", \"Palestinian conflict\", 2019], [9101, \"Chile\", \"CL\", \"yes\", 74, NaN, \"2019-12-03\", \"A/RES/74/12\", NaN, NaN, \"Division for Palestinian Rights of the Secretariat \", \"Division for Palestinian Rights of the Secretariat \", \"me\", \"Palestinian conflict\", 2019], [9101, \"China\", \"CN\", \"yes\", 74, NaN, \"2019-12-03\", \"A/RES/74/12\", NaN, NaN, \"Division for Palestinian Rights of the Secretariat \", \"Division for Palestinian Rights of the Secretariat \", \"me\", \"Palestinian conflict\", 2019], [9101, \"Colombia\", \"CO\", \"no\", 74, NaN, \"2019-12-03\", \"A/RES/74/12\", NaN, NaN, \"Division for Palestinian Rights of the Secretariat \", \"Division for Palestinian Rights of the Secretariat \", \"me\", \"Palestinian conflict\", 2019], [9101, \"Costa Rica\", \"CR\", \"yes\", 74, NaN, \"2019-12-03\", \"A/RES/74/12\", NaN, NaN, \"Division for Palestinian Rights of the Secretariat \", \"Division for Palestinian Rights of the Secretariat \", \"me\", \"Palestinian conflict\", 2019], [9101, \"C\\u00f4te d\\u2019Ivoire\", \"CI\", \"abstain\", 74, NaN, \"2019-12-03\", \"A/RES/74/12\", NaN, NaN, \"Division for Palestinian Rights of the Secretariat \", \"Division for Palestinian Rights of the Secretariat \", \"me\", \"Palestinian conflict\", 2019], [9101, \"Croatia\", \"HR\", \"abstain\", 74, NaN, \"2019-12-03\", \"A/RES/74/12\", NaN, NaN, \"Division for Palestinian Rights of the Secretariat \", \"Division for Palestinian Rights of the Secretariat \", \"me\", \"Palestinian conflict\", 2019], [9101, \"Cuba\", \"CU\", \"yes\", 74, NaN, \"2019-12-03\", \"A/RES/74/12\", NaN, NaN, \"Division for Palestinian Rights of the Secretariat \", \"Division for Palestinian Rights of the Secretariat \", \"me\", \"Palestinian conflict\", 2019], [9101, \"Cyprus\", \"CY\", \"yes\", 74, NaN, \"2019-12-03\", \"A/RES/74/12\", NaN, NaN, \"Division for Palestinian Rights of the Secretariat \", \"Division for Palestinian Rights of the Secretariat \", \"me\", \"Palestinian conflict\", 2019], [9101, \"Czechia\", \"CZ\", \"no\", 74, NaN, \"2019-12-03\", \"A/RES/74/12\", NaN, NaN, \"Division for Palestinian Rights of the Secretariat \", \"Division for Palestinian Rights of the Secretariat \", \"me\", \"Palestinian conflict\", 2019], [9101, \"North Korea\", \"KP\", \"yes\", 74, NaN, \"2019-12-03\", \"A/RES/74/12\", NaN, NaN, \"Division for Palestinian Rights of the Secretariat \", \"Division for Palestinian Rights of the Secretariat \", \"me\", \"Palestinian conflict\", 2019], [9101, \"Denmark\", \"DK\", \"no\", 74, NaN, \"2019-12-03\", \"A/RES/74/12\", NaN, NaN, \"Division for Palestinian Rights of the Secretariat \", \"Division for Palestinian Rights of the Secretariat \", \"me\", \"Palestinian conflict\", 2019], [9101, \"Djibouti\", \"DJ\", \"yes\", 74, NaN, \"2019-12-03\", \"A/RES/74/12\", NaN, NaN, \"Division for Palestinian Rights of the Secretariat \", \"Division for Palestinian Rights of the Secretariat \", \"me\", \"Palestinian conflict\", 2019], [9101, \"Dominican Republic\", \"DO\", \"yes\", 74, NaN, \"2019-12-03\", \"A/RES/74/12\", NaN, NaN, \"Division for Palestinian Rights of the Secretariat \", \"Division for Palestinian Rights of the Secretariat \", \"me\", \"Palestinian conflict\", 2019], [9101, \"Ecuador\", \"EC\", \"yes\", 74, NaN, \"2019-12-03\", \"A/RES/74/12\", NaN, NaN, \"Division for Palestinian Rights of the Secretariat \", \"Division for Palestinian Rights of the Secretariat \", \"me\", \"Palestinian conflict\", 2019], [9101, \"Egypt\", \"EG\", \"yes\", 74, NaN, \"2019-12-03\", \"A/RES/74/12\", NaN, NaN, \"Division for Palestinian Rights of the Secretariat \", \"Division for Palestinian Rights of the Secretariat \", \"me\", \"Palestinian conflict\", 2019], [9101, \"El Salvador\", \"SV\", \"yes\", 74, NaN, \"2019-12-03\", \"A/RES/74/12\", NaN, NaN, \"Division for Palestinian Rights of the Secretariat \", \"Division for Palestinian Rights of the Secretariat \", \"me\", \"Palestinian conflict\", 2019], [9101, \"Eritrea\", \"ER\", \"yes\", 74, NaN, \"2019-12-03\", \"A/RES/74/12\", NaN, NaN, \"Division for Palestinian Rights of the Secretariat \", \"Division for Palestinian Rights of the Secretariat \", \"me\", \"Palestinian conflict\", 2019], [9101, \"Estonia\", \"EE\", \"no\", 74, NaN, \"2019-12-03\", \"A/RES/74/12\", NaN, NaN, \"Division for Palestinian Rights of the Secretariat \", \"Division for Palestinian Rights of the Secretariat \", \"me\", \"Palestinian conflict\", 2019], [9101, \"Ethiopia\", \"ET\", \"yes\", 74, NaN, \"2019-12-03\", \"A/RES/74/12\", NaN, NaN, \"Division for Palestinian Rights of the Secretariat \", \"Division for Palestinian Rights of the Secretariat \", \"me\", \"Palestinian conflict\", 2019], [9101, \"Fiji\", \"FJ\", \"abstain\", 74, NaN, \"2019-12-03\", \"A/RES/74/12\", NaN, NaN, \"Division for Palestinian Rights of the Secretariat \", \"Division for Palestinian Rights of the Secretariat \", \"me\", \"Palestinian conflict\", 2019], [9101, \"Finland\", \"FI\", \"abstain\", 74, NaN, \"2019-12-03\", \"A/RES/74/12\", NaN, NaN, \"Division for Palestinian Rights of the Secretariat \", \"Division for Palestinian Rights of the Secretariat \", \"me\", \"Palestinian conflict\", 2019], [9101, \"France\", \"FR\", \"abstain\", 74, NaN, \"2019-12-03\", \"A/RES/74/12\", NaN, NaN, \"Division for Palestinian Rights of the Secretariat \", \"Division for Palestinian Rights of the Secretariat \", \"me\", \"Palestinian conflict\", 2019], [9101, \"Gabon\", \"GA\", \"yes\", 74, NaN, \"2019-12-03\", \"A/RES/74/12\", NaN, NaN, \"Division for Palestinian Rights of the Secretariat \", \"Division for Palestinian Rights of the Secretariat \", \"me\", \"Palestinian conflict\", 2019], [9101, \"Gambia\", \"GM\", \"yes\", 74, NaN, \"2019-12-03\", \"A/RES/74/12\", NaN, NaN, \"Division for Palestinian Rights of the Secretariat \", \"Division for Palestinian Rights of the Secretariat \", \"me\", \"Palestinian conflict\", 2019], [9101, \"Georgia\", \"GE\", \"abstain\", 74, NaN, \"2019-12-03\", \"A/RES/74/12\", NaN, NaN, \"Division for Palestinian Rights of the Secretariat \", \"Division for Palestinian Rights of the Secretariat \", \"me\", \"Palestinian conflict\", 2019], [9101, \"Germany\", \"DE\", \"no\", 74, NaN, \"2019-12-03\", \"A/RES/74/12\", NaN, NaN, \"Division for Palestinian Rights of the Secretariat \", \"Division for Palestinian Rights of the Secretariat \", \"me\", \"Palestinian conflict\", 2019], [9101, \"Ghana\", \"GH\", \"abstain\", 74, NaN, \"2019-12-03\", \"A/RES/74/12\", NaN, NaN, \"Division for Palestinian Rights of the Secretariat \", \"Division for Palestinian Rights of the Secretariat \", \"me\", \"Palestinian conflict\", 2019], [9101, \"Greece\", \"GR\", \"no\", 74, NaN, \"2019-12-03\", \"A/RES/74/12\", NaN, NaN, \"Division for Palestinian Rights of the Secretariat \", \"Division for Palestinian Rights of the Secretariat \", \"me\", \"Palestinian conflict\", 2019], [9101, \"Guatemala\", \"GT\", \"no\", 74, NaN, \"2019-12-03\", \"A/RES/74/12\", NaN, NaN, \"Division for Palestinian Rights of the Secretariat \", \"Division for Palestinian Rights of the Secretariat \", \"me\", \"Palestinian conflict\", 2019], [9101, \"Guinea\", \"GN\", \"yes\", 74, NaN, \"2019-12-03\", \"A/RES/74/12\", NaN, NaN, \"Division for Palestinian Rights of the Secretariat \", \"Division for Palestinian Rights of the Secretariat \", \"me\", \"Palestinian conflict\", 2019], [9101, \"Guyana\", \"GY\", \"yes\", 74, NaN, \"2019-12-03\", \"A/RES/74/12\", NaN, NaN, \"Division for Palestinian Rights of the Secretariat \", \"Division for Palestinian Rights of the Secretariat \", \"me\", \"Palestinian conflict\", 2019], [9101, \"Honduras\", \"HN\", \"no\", 74, NaN, \"2019-12-03\", \"A/RES/74/12\", NaN, NaN, \"Division for Palestinian Rights of the Secretariat \", \"Division for Palestinian Rights of the Secretariat \", \"me\", \"Palestinian conflict\", 2019], [9101, \"Hungary\", \"HU\", \"no\", 74, NaN, \"2019-12-03\", \"A/RES/74/12\", NaN, NaN, \"Division for Palestinian Rights of the Secretariat \", \"Division for Palestinian Rights of the Secretariat \", \"me\", \"Palestinian conflict\", 2019], [9101, \"Iceland\", \"IS\", \"abstain\", 74, NaN, \"2019-12-03\", \"A/RES/74/12\", NaN, NaN, \"Division for Palestinian Rights of the Secretariat \", \"Division for Palestinian Rights of the Secretariat \", \"me\", \"Palestinian conflict\", 2019], [9101, \"India\", \"IN\", \"yes\", 74, NaN, \"2019-12-03\", \"A/RES/74/12\", NaN, NaN, \"Division for Palestinian Rights of the Secretariat \", \"Division for Palestinian Rights of the Secretariat \", \"me\", \"Palestinian conflict\", 2019], [9101, \"Indonesia\", \"ID\", \"yes\", 74, NaN, \"2019-12-03\", \"A/RES/74/12\", NaN, NaN, \"Division for Palestinian Rights of the Secretariat \", \"Division for Palestinian Rights of the Secretariat \", \"me\", \"Palestinian conflict\", 2019], [9101, \"Iran\", \"IR\", \"yes\", 74, NaN, \"2019-12-03\", \"A/RES/74/12\", NaN, NaN, \"Division for Palestinian Rights of the Secretariat \", \"Division for Palestinian Rights of the Secretariat \", \"me\", \"Palestinian conflict\", 2019], [9101, \"Iraq\", \"IQ\", \"yes\", 74, NaN, \"2019-12-03\", \"A/RES/74/12\", NaN, NaN, \"Division for Palestinian Rights of the Secretariat \", \"Division for Palestinian Rights of the Secretariat \", \"me\", \"Palestinian conflict\", 2019], [9101, \"Ireland\", \"IE\", \"abstain\", 74, NaN, \"2019-12-03\", \"A/RES/74/12\", NaN, NaN, \"Division for Palestinian Rights of the Secretariat \", \"Division for Palestinian Rights of the Secretariat \", \"me\", \"Palestinian conflict\", 2019], [9101, \"Israel\", \"IL\", \"no\", 74, NaN, \"2019-12-03\", \"A/RES/74/12\", NaN, NaN, \"Division for Palestinian Rights of the Secretariat \", \"Division for Palestinian Rights of the Secretariat \", \"me\", \"Palestinian conflict\", 2019], [9101, \"Italy\", \"IT\", \"abstain\", 74, NaN, \"2019-12-03\", \"A/RES/74/12\", NaN, NaN, \"Division for Palestinian Rights of the Secretariat \", \"Division for Palestinian Rights of the Secretariat \", \"me\", \"Palestinian conflict\", 2019], [9101, \"Jamaica\", \"JM\", \"yes\", 74, NaN, \"2019-12-03\", \"A/RES/74/12\", NaN, NaN, \"Division for Palestinian Rights of the Secretariat \", \"Division for Palestinian Rights of the Secretariat \", \"me\", \"Palestinian conflict\", 2019], [9101, \"Japan\", \"JP\", \"abstain\", 74, NaN, \"2019-12-03\", \"A/RES/74/12\", NaN, NaN, \"Division for Palestinian Rights of the Secretariat \", \"Division for Palestinian Rights of the Secretariat \", \"me\", \"Palestinian conflict\", 2019], [9101, \"Jordan\", \"JO\", \"yes\", 74, NaN, \"2019-12-03\", \"A/RES/74/12\", NaN, NaN, \"Division for Palestinian Rights of the Secretariat \", \"Division for Palestinian Rights of the Secretariat \", \"me\", \"Palestinian conflict\", 2019], [9101, \"Kazakhstan\", \"KZ\", \"yes\", 74, NaN, \"2019-12-03\", \"A/RES/74/12\", NaN, NaN, \"Division for Palestinian Rights of the Secretariat \", \"Division for Palestinian Rights of the Secretariat \", \"me\", \"Palestinian conflict\", 2019], [9101, \"Kenya\", \"KE\", \"yes\", 74, NaN, \"2019-12-03\", \"A/RES/74/12\", NaN, NaN, \"Division for Palestinian Rights of the Secretariat \", \"Division for Palestinian Rights of the Secretariat \", \"me\", \"Palestinian conflict\", 2019], [9101, \"Kuwait\", \"KW\", \"yes\", 74, NaN, \"2019-12-03\", \"A/RES/74/12\", NaN, NaN, \"Division for Palestinian Rights of the Secretariat \", \"Division for Palestinian Rights of the Secretariat \", \"me\", \"Palestinian conflict\", 2019], [9101, \"Kyrgyzstan\", \"KG\", \"yes\", 74, NaN, \"2019-12-03\", \"A/RES/74/12\", NaN, NaN, \"Division for Palestinian Rights of the Secretariat \", \"Division for Palestinian Rights of the Secretariat \", \"me\", \"Palestinian conflict\", 2019], [9101, \"Laos\", \"LA\", \"yes\", 74, NaN, \"2019-12-03\", \"A/RES/74/12\", NaN, NaN, \"Division for Palestinian Rights of the Secretariat \", \"Division for Palestinian Rights of the Secretariat \", \"me\", \"Palestinian conflict\", 2019], [9101, \"Latvia\", \"LV\", \"abstain\", 74, NaN, \"2019-12-03\", \"A/RES/74/12\", NaN, NaN, \"Division for Palestinian Rights of the Secretariat \", \"Division for Palestinian Rights of the Secretariat \", \"me\", \"Palestinian conflict\", 2019], [9101, \"Lebanon\", \"LB\", \"yes\", 74, NaN, \"2019-12-03\", \"A/RES/74/12\", NaN, NaN, \"Division for Palestinian Rights of the Secretariat \", \"Division for Palestinian Rights of the Secretariat \", \"me\", \"Palestinian conflict\", 2019], [9101, \"Lesotho\", \"LS\", \"yes\", 74, NaN, \"2019-12-03\", \"A/RES/74/12\", NaN, NaN, \"Division for Palestinian Rights of the Secretariat \", \"Division for Palestinian Rights of the Secretariat \", \"me\", \"Palestinian conflict\", 2019], [9101, \"Libya\", \"LY\", \"yes\", 74, NaN, \"2019-12-03\", \"A/RES/74/12\", NaN, NaN, \"Division for Palestinian Rights of the Secretariat \", \"Division for Palestinian Rights of the Secretariat \", \"me\", \"Palestinian conflict\", 2019], [9101, \"Liechtenstein\", \"LI\", \"abstain\", 74, NaN, \"2019-12-03\", \"A/RES/74/12\", NaN, NaN, \"Division for Palestinian Rights of the Secretariat \", \"Division for Palestinian Rights of the Secretariat \", \"me\", \"Palestinian conflict\", 2019], [9101, \"Lithuania\", \"LT\", \"no\", 74, NaN, \"2019-12-03\", \"A/RES/74/12\", NaN, NaN, \"Division for Palestinian Rights of the Secretariat \", \"Division for Palestinian Rights of the Secretariat \", \"me\", \"Palestinian conflict\", 2019], [9101, \"Luxembourg\", \"LU\", \"abstain\", 74, NaN, \"2019-12-03\", \"A/RES/74/12\", NaN, NaN, \"Division for Palestinian Rights of the Secretariat \", \"Division for Palestinian Rights of the Secretariat \", \"me\", \"Palestinian conflict\", 2019], [9101, \"Malaysia\", \"MY\", \"yes\", 74, NaN, \"2019-12-03\", \"A/RES/74/12\", NaN, NaN, \"Division for Palestinian Rights of the Secretariat \", \"Division for Palestinian Rights of the Secretariat \", \"me\", \"Palestinian conflict\", 2019], [9101, \"Maldives\", \"MV\", \"yes\", 74, NaN, \"2019-12-03\", \"A/RES/74/12\", NaN, NaN, \"Division for Palestinian Rights of the Secretariat \", \"Division for Palestinian Rights of the Secretariat \", \"me\", \"Palestinian conflict\", 2019], [9101, \"Mali\", \"ML\", \"yes\", 74, NaN, \"2019-12-03\", \"A/RES/74/12\", NaN, NaN, \"Division for Palestinian Rights of the Secretariat \", \"Division for Palestinian Rights of the Secretariat \", \"me\", \"Palestinian conflict\", 2019], [9101, \"Malta\", \"MT\", \"yes\", 74, NaN, \"2019-12-03\", \"A/RES/74/12\", NaN, NaN, \"Division for Palestinian Rights of the Secretariat \", \"Division for Palestinian Rights of the Secretariat \", \"me\", \"Palestinian conflict\", 2019], [9101, \"Marshall Islands\", \"MH\", \"no\", 74, NaN, \"2019-12-03\", \"A/RES/74/12\", NaN, NaN, \"Division for Palestinian Rights of the Secretariat \", \"Division for Palestinian Rights of the Secretariat \", \"me\", \"Palestinian conflict\", 2019], [9101, \"Mauritania\", \"MR\", \"yes\", 74, NaN, \"2019-12-03\", \"A/RES/74/12\", NaN, NaN, \"Division for Palestinian Rights of the Secretariat \", \"Division for Palestinian Rights of the Secretariat \", \"me\", \"Palestinian conflict\", 2019], [9101, \"Mauritius\", \"MU\", \"yes\", 74, NaN, \"2019-12-03\", \"A/RES/74/12\", NaN, NaN, \"Division for Palestinian Rights of the Secretariat \", \"Division for Palestinian Rights of the Secretariat \", \"me\", \"Palestinian conflict\", 2019], [9101, \"Mexico\", \"MX\", \"abstain\", 74, NaN, \"2019-12-03\", \"A/RES/74/12\", NaN, NaN, \"Division for Palestinian Rights of the Secretariat \", \"Division for Palestinian Rights of the Secretariat \", \"me\", \"Palestinian conflict\", 2019], [9101, \"Micronesia (Federated States of)\", \"FM\", \"no\", 74, NaN, \"2019-12-03\", \"A/RES/74/12\", NaN, NaN, \"Division for Palestinian Rights of the Secretariat \", \"Division for Palestinian Rights of the Secretariat \", \"me\", \"Palestinian conflict\", 2019], [9101, \"Monaco\", \"MC\", \"abstain\", 74, NaN, \"2019-12-03\", \"A/RES/74/12\", NaN, NaN, \"Division for Palestinian Rights of the Secretariat \", \"Division for Palestinian Rights of the Secretariat \", \"me\", \"Palestinian conflict\", 2019], [9101, \"Montenegro\", \"ME\", \"abstain\", 74, NaN, \"2019-12-03\", \"A/RES/74/12\", NaN, NaN, \"Division for Palestinian Rights of the Secretariat \", \"Division for Palestinian Rights of the Secretariat \", \"me\", \"Palestinian conflict\", 2019], [9101, \"Morocco\", \"MA\", \"yes\", 74, NaN, \"2019-12-03\", \"A/RES/74/12\", NaN, NaN, \"Division for Palestinian Rights of the Secretariat \", \"Division for Palestinian Rights of the Secretariat \", \"me\", \"Palestinian conflict\", 2019], [9101, \"Mozambique\", \"MZ\", \"yes\", 74, NaN, \"2019-12-03\", \"A/RES/74/12\", NaN, NaN, \"Division for Palestinian Rights of the Secretariat \", \"Division for Palestinian Rights of the Secretariat \", \"me\", \"Palestinian conflict\", 2019], [9101, \"Namibia\", \"NaN\", \"yes\", 74, NaN, \"2019-12-03\", \"A/RES/74/12\", NaN, NaN, \"Division for Palestinian Rights of the Secretariat \", \"Division for Palestinian Rights of the Secretariat \", \"me\", \"Palestinian conflict\", 2019], [9101, \"Nauru\", \"NR\", \"no\", 74, NaN, \"2019-12-03\", \"A/RES/74/12\", NaN, NaN, \"Division for Palestinian Rights of the Secretariat \", \"Division for Palestinian Rights of the Secretariat \", \"me\", \"Palestinian conflict\", 2019], [9101, \"Nepal\", \"NP\", \"yes\", 74, NaN, \"2019-12-03\", \"A/RES/74/12\", NaN, NaN, \"Division for Palestinian Rights of the Secretariat \", \"Division for Palestinian Rights of the Secretariat \", \"me\", \"Palestinian conflict\", 2019], [9101, \"Netherlands\", \"NL\", \"no\", 74, NaN, \"2019-12-03\", \"A/RES/74/12\", NaN, NaN, \"Division for Palestinian Rights of the Secretariat \", \"Division for Palestinian Rights of the Secretariat \", \"me\", \"Palestinian conflict\", 2019], [9101, \"New Zealand\", \"NZ\", \"abstain\", 74, NaN, \"2019-12-03\", \"A/RES/74/12\", NaN, NaN, \"Division for Palestinian Rights of the Secretariat \", \"Division for Palestinian Rights of the Secretariat \", \"me\", \"Palestinian conflict\", 2019], [9101, \"Nicaragua\", \"NI\", \"yes\", 74, NaN, \"2019-12-03\", \"A/RES/74/12\", NaN, NaN, \"Division for Palestinian Rights of the Secretariat \", \"Division for Palestinian Rights of the Secretariat \", \"me\", \"Palestinian conflict\", 2019], [9101, \"Nigeria\", \"NG\", \"yes\", 74, NaN, \"2019-12-03\", \"A/RES/74/12\", NaN, NaN, \"Division for Palestinian Rights of the Secretariat \", \"Division for Palestinian Rights of the Secretariat \", \"me\", \"Palestinian conflict\", 2019], [9101, \"North Macedonia\", \"MK\", \"abstain\", 74, NaN, \"2019-12-03\", \"A/RES/74/12\", NaN, NaN, \"Division for Palestinian Rights of the Secretariat \", \"Division for Palestinian Rights of the Secretariat \", \"me\", \"Palestinian conflict\", 2019], [9101, \"Norway\", \"NO\", \"abstain\", 74, NaN, \"2019-12-03\", \"A/RES/74/12\", NaN, NaN, \"Division for Palestinian Rights of the Secretariat \", \"Division for Palestinian Rights of the Secretariat \", \"me\", \"Palestinian conflict\", 2019], [9101, \"Oman\", \"OM\", \"yes\", 74, NaN, \"2019-12-03\", \"A/RES/74/12\", NaN, NaN, \"Division for Palestinian Rights of the Secretariat \", \"Division for Palestinian Rights of the Secretariat \", \"me\", \"Palestinian conflict\", 2019], [9101, \"Pakistan\", \"PK\", \"yes\", 74, NaN, \"2019-12-03\", \"A/RES/74/12\", NaN, NaN, \"Division for Palestinian Rights of the Secretariat \", \"Division for Palestinian Rights of the Secretariat \", \"me\", \"Palestinian conflict\", 2019], [9101, \"Palau\", \"PW\", \"abstain\", 74, NaN, \"2019-12-03\", \"A/RES/74/12\", NaN, NaN, \"Division for Palestinian Rights of the Secretariat \", \"Division for Palestinian Rights of the Secretariat \", \"me\", \"Palestinian conflict\", 2019], [9101, \"Panama\", \"PA\", \"abstain\", 74, NaN, \"2019-12-03\", \"A/RES/74/12\", NaN, NaN, \"Division for Palestinian Rights of the Secretariat \", \"Division for Palestinian Rights of the Secretariat \", \"me\", \"Palestinian conflict\", 2019], [9101, \"Papua New Guinea\", \"PG\", \"abstain\", 74, NaN, \"2019-12-03\", \"A/RES/74/12\", NaN, NaN, \"Division for Palestinian Rights of the Secretariat \", \"Division for Palestinian Rights of the Secretariat \", \"me\", \"Palestinian conflict\", 2019], [9101, \"Paraguay\", \"PY\", \"abstain\", 74, NaN, \"2019-12-03\", \"A/RES/74/12\", NaN, NaN, \"Division for Palestinian Rights of the Secretariat \", \"Division for Palestinian Rights of the Secretariat \", \"me\", \"Palestinian conflict\", 2019], [9101, \"Peru\", \"PE\", \"abstain\", 74, NaN, \"2019-12-03\", \"A/RES/74/12\", NaN, NaN, \"Division for Palestinian Rights of the Secretariat \", \"Division for Palestinian Rights of the Secretariat \", \"me\", \"Palestinian conflict\", 2019], [9101, \"Philippines\", \"PH\", \"yes\", 74, NaN, \"2019-12-03\", \"A/RES/74/12\", NaN, NaN, \"Division for Palestinian Rights of the Secretariat \", \"Division for Palestinian Rights of the Secretariat \", \"me\", \"Palestinian conflict\", 2019], [9101, \"Poland\", \"PL\", \"abstain\", 74, NaN, \"2019-12-03\", \"A/RES/74/12\", NaN, NaN, \"Division for Palestinian Rights of the Secretariat \", \"Division for Palestinian Rights of the Secretariat \", \"me\", \"Palestinian conflict\", 2019], [9101, \"Portugal\", \"PT\", \"abstain\", 74, NaN, \"2019-12-03\", \"A/RES/74/12\", NaN, NaN, \"Division for Palestinian Rights of the Secretariat \", \"Division for Palestinian Rights of the Secretariat \", \"me\", \"Palestinian conflict\", 2019], [9101, \"Qatar\", \"QA\", \"yes\", 74, NaN, \"2019-12-03\", \"A/RES/74/12\", NaN, NaN, \"Division for Palestinian Rights of the Secretariat \", \"Division for Palestinian Rights of the Secretariat \", \"me\", \"Palestinian conflict\", 2019], [9101, \"South Korea\", \"KR\", \"abstain\", 74, NaN, \"2019-12-03\", \"A/RES/74/12\", NaN, NaN, \"Division for Palestinian Rights of the Secretariat \", \"Division for Palestinian Rights of the Secretariat \", \"me\", \"Palestinian conflict\", 2019], [9101, \"Moldova\", \"MD\", \"abstain\", 74, NaN, \"2019-12-03\", \"A/RES/74/12\", NaN, NaN, \"Division for Palestinian Rights of the Secretariat \", \"Division for Palestinian Rights of the Secretariat \", \"me\", \"Palestinian conflict\", 2019], [9101, \"Romania\", \"RO\", \"no\", 74, NaN, \"2019-12-03\", \"A/RES/74/12\", NaN, NaN, \"Division for Palestinian Rights of the Secretariat \", \"Division for Palestinian Rights of the Secretariat \", \"me\", \"Palestinian conflict\", 2019], [9101, \"Russia\", \"RU\", \"abstain\", 74, NaN, \"2019-12-03\", \"A/RES/74/12\", NaN, NaN, \"Division for Palestinian Rights of the Secretariat \", \"Division for Palestinian Rights of the Secretariat \", \"me\", \"Palestinian conflict\", 2019], [9101, \"Rwanda\", \"RW\", \"abstain\", 74, NaN, \"2019-12-03\", \"A/RES/74/12\", NaN, NaN, \"Division for Palestinian Rights of the Secretariat \", \"Division for Palestinian Rights of the Secretariat \", \"me\", \"Palestinian conflict\", 2019], [9101, \"St. Lucia\", \"LC\", \"yes\", 74, NaN, \"2019-12-03\", \"A/RES/74/12\", NaN, NaN, \"Division for Palestinian Rights of the Secretariat \", \"Division for Palestinian Rights of the Secretariat \", \"me\", \"Palestinian conflict\", 2019], [9101, \"St. Vincent & Grenadines\", \"VC\", \"yes\", 74, NaN, \"2019-12-03\", \"A/RES/74/12\", NaN, NaN, \"Division for Palestinian Rights of the Secretariat \", \"Division for Palestinian Rights of the Secretariat \", \"me\", \"Palestinian conflict\", 2019], [9101, \"Samoa\", \"WS\", \"abstain\", 74, NaN, \"2019-12-03\", \"A/RES/74/12\", NaN, NaN, \"Division for Palestinian Rights of the Secretariat \", \"Division for Palestinian Rights of the Secretariat \", \"me\", \"Palestinian conflict\", 2019], [9101, \"San Marino\", \"SM\", \"abstain\", 74, NaN, \"2019-12-03\", \"A/RES/74/12\", NaN, NaN, \"Division for Palestinian Rights of the Secretariat \", \"Division for Palestinian Rights of the Secretariat \", \"me\", \"Palestinian conflict\", 2019], [9101, \"Saudi Arabia\", \"SA\", \"yes\", 74, NaN, \"2019-12-03\", \"A/RES/74/12\", NaN, NaN, \"Division for Palestinian Rights of the Secretariat \", \"Division for Palestinian Rights of the Secretariat \", \"me\", \"Palestinian conflict\", 2019], [9101, \"Senegal\", \"SN\", \"yes\", 74, NaN, \"2019-12-03\", \"A/RES/74/12\", NaN, NaN, \"Division for Palestinian Rights of the Secretariat \", \"Division for Palestinian Rights of the Secretariat \", \"me\", \"Palestinian conflict\", 2019], [9101, \"Yugoslavia\", \"YU\", \"abstain\", 74, NaN, \"2019-12-03\", \"A/RES/74/12\", NaN, NaN, \"Division for Palestinian Rights of the Secretariat \", \"Division for Palestinian Rights of the Secretariat \", \"me\", \"Palestinian conflict\", 2019], [9101, \"Sierra Leone\", \"SL\", \"yes\", 74, NaN, \"2019-12-03\", \"A/RES/74/12\", NaN, NaN, \"Division for Palestinian Rights of the Secretariat \", \"Division for Palestinian Rights of the Secretariat \", \"me\", \"Palestinian conflict\", 2019], [9101, \"Singapore\", \"SG\", \"yes\", 74, NaN, \"2019-12-03\", \"A/RES/74/12\", NaN, NaN, \"Division for Palestinian Rights of the Secretariat \", \"Division for Palestinian Rights of the Secretariat \", \"me\", \"Palestinian conflict\", 2019], [9101, \"Slovakia\", \"SK\", \"no\", 74, NaN, \"2019-12-03\", \"A/RES/74/12\", NaN, NaN, \"Division for Palestinian Rights of the Secretariat \", \"Division for Palestinian Rights of the Secretariat \", \"me\", \"Palestinian conflict\", 2019], [9101, \"Slovenia\", \"SI\", \"abstain\", 74, NaN, \"2019-12-03\", \"A/RES/74/12\", NaN, NaN, \"Division for Palestinian Rights of the Secretariat \", \"Division for Palestinian Rights of the Secretariat \", \"me\", \"Palestinian conflict\", 2019], [9101, \"Solomon Islands\", \"SB\", \"abstain\", 74, NaN, \"2019-12-03\", \"A/RES/74/12\", NaN, NaN, \"Division for Palestinian Rights of the Secretariat \", \"Division for Palestinian Rights of the Secretariat \", \"me\", \"Palestinian conflict\", 2019], [9101, \"Somalia\", \"SO\", \"yes\", 74, NaN, \"2019-12-03\", \"A/RES/74/12\", NaN, NaN, \"Division for Palestinian Rights of the Secretariat \", \"Division for Palestinian Rights of the Secretariat \", \"me\", \"Palestinian conflict\", 2019], [9101, \"South Africa\", \"ZA\", \"yes\", 74, NaN, \"2019-12-03\", \"A/RES/74/12\", NaN, NaN, \"Division for Palestinian Rights of the Secretariat \", \"Division for Palestinian Rights of the Secretariat \", \"me\", \"Palestinian conflict\", 2019], [9101, \"South Sudan\", \"SS\", \"abstain\", 74, NaN, \"2019-12-03\", \"A/RES/74/12\", NaN, NaN, \"Division for Palestinian Rights of the Secretariat \", \"Division for Palestinian Rights of the Secretariat \", \"me\", \"Palestinian conflict\", 2019], [9101, \"Spain\", \"ES\", \"abstain\", 74, NaN, \"2019-12-03\", \"A/RES/74/12\", NaN, NaN, \"Division for Palestinian Rights of the Secretariat \", \"Division for Palestinian Rights of the Secretariat \", \"me\", \"Palestinian conflict\", 2019], [9101, \"Sri Lanka\", \"LK\", \"yes\", 74, NaN, \"2019-12-03\", \"A/RES/74/12\", NaN, NaN, \"Division for Palestinian Rights of the Secretariat \", \"Division for Palestinian Rights of the Secretariat \", \"me\", \"Palestinian conflict\", 2019], [9101, \"Sudan\", \"SD\", \"yes\", 74, NaN, \"2019-12-03\", \"A/RES/74/12\", NaN, NaN, \"Division for Palestinian Rights of the Secretariat \", \"Division for Palestinian Rights of the Secretariat \", \"me\", \"Palestinian conflict\", 2019], [9101, \"Suriname\", \"SR\", \"yes\", 74, NaN, \"2019-12-03\", \"A/RES/74/12\", NaN, NaN, \"Division for Palestinian Rights of the Secretariat \", \"Division for Palestinian Rights of the Secretariat \", \"me\", \"Palestinian conflict\", 2019], [9101, \"Sweden\", \"SE\", \"abstain\", 74, NaN, \"2019-12-03\", \"A/RES/74/12\", NaN, NaN, \"Division for Palestinian Rights of the Secretariat \", \"Division for Palestinian Rights of the Secretariat \", \"me\", \"Palestinian conflict\", 2019], [9101, \"Switzerland\", \"CH\", \"abstain\", 74, NaN, \"2019-12-03\", \"A/RES/74/12\", NaN, NaN, \"Division for Palestinian Rights of the Secretariat \", \"Division for Palestinian Rights of the Secretariat \", \"me\", \"Palestinian conflict\", 2019], [9101, \"Syria\", \"SY\", \"yes\", 74, NaN, \"2019-12-03\", \"A/RES/74/12\", NaN, NaN, \"Division for Palestinian Rights of the Secretariat \", \"Division for Palestinian Rights of the Secretariat \", \"me\", \"Palestinian conflict\", 2019], [9101, \"Tajikistan\", \"TJ\", \"yes\", 74, NaN, \"2019-12-03\", \"A/RES/74/12\", NaN, NaN, \"Division for Palestinian Rights of the Secretariat \", \"Division for Palestinian Rights of the Secretariat \", \"me\", \"Palestinian conflict\", 2019], [9101, \"Thailand\", \"TH\", \"yes\", 74, NaN, \"2019-12-03\", \"A/RES/74/12\", NaN, NaN, \"Division for Palestinian Rights of the Secretariat \", \"Division for Palestinian Rights of the Secretariat \", \"me\", \"Palestinian conflict\", 2019], [9101, \"Togo\", \"TG\", \"abstain\", 74, NaN, \"2019-12-03\", \"A/RES/74/12\", NaN, NaN, \"Division for Palestinian Rights of the Secretariat \", \"Division for Palestinian Rights of the Secretariat \", \"me\", \"Palestinian conflict\", 2019], [9101, \"Tonga\", \"TO\", \"abstain\", 74, NaN, \"2019-12-03\", \"A/RES/74/12\", NaN, NaN, \"Division for Palestinian Rights of the Secretariat \", \"Division for Palestinian Rights of the Secretariat \", \"me\", \"Palestinian conflict\", 2019], [9101, \"Tunisia\", \"TN\", \"yes\", 74, NaN, \"2019-12-03\", \"A/RES/74/12\", NaN, NaN, \"Division for Palestinian Rights of the Secretariat \", \"Division for Palestinian Rights of the Secretariat \", \"me\", \"Palestinian conflict\", 2019], [9101, \"Turkey\", \"TR\", \"yes\", 74, NaN, \"2019-12-03\", \"A/RES/74/12\", NaN, NaN, \"Division for Palestinian Rights of the Secretariat \", \"Division for Palestinian Rights of the Secretariat \", \"me\", \"Palestinian conflict\", 2019], [9101, \"Turkmenistan\", \"TM\", \"yes\", 74, NaN, \"2019-12-03\", \"A/RES/74/12\", NaN, NaN, \"Division for Palestinian Rights of the Secretariat \", \"Division for Palestinian Rights of the Secretariat \", \"me\", \"Palestinian conflict\", 2019], [9101, \"Uganda\", \"UG\", \"yes\", 74, NaN, \"2019-12-03\", \"A/RES/74/12\", NaN, NaN, \"Division for Palestinian Rights of the Secretariat \", \"Division for Palestinian Rights of the Secretariat \", \"me\", \"Palestinian conflict\", 2019], [9101, \"Ukraine\", \"UA\", \"abstain\", 74, NaN, \"2019-12-03\", \"A/RES/74/12\", NaN, NaN, \"Division for Palestinian Rights of the Secretariat \", \"Division for Palestinian Rights of the Secretariat \", \"me\", \"Palestinian conflict\", 2019], [9101, \"United Arab Emirates\", \"AE\", \"yes\", 74, NaN, \"2019-12-03\", \"A/RES/74/12\", NaN, NaN, \"Division for Palestinian Rights of the Secretariat \", \"Division for Palestinian Rights of the Secretariat \", \"me\", \"Palestinian conflict\", 2019], [9101, \"United Kingdom\", \"GB\", \"abstain\", 74, NaN, \"2019-12-03\", \"A/RES/74/12\", NaN, NaN, \"Division for Palestinian Rights of the Secretariat \", \"Division for Palestinian Rights of the Secretariat \", \"me\", \"Palestinian conflict\", 2019], [9101, \"United States\", \"US\", \"no\", 74, NaN, \"2019-12-03\", \"A/RES/74/12\", NaN, NaN, \"Division for Palestinian Rights of the Secretariat \", \"Division for Palestinian Rights of the Secretariat \", \"me\", \"Palestinian conflict\", 2019], [9101, \"Uruguay\", \"UY\", \"yes\", 74, NaN, \"2019-12-03\", \"A/RES/74/12\", NaN, NaN, \"Division for Palestinian Rights of the Secretariat \", \"Division for Palestinian Rights of the Secretariat \", \"me\", \"Palestinian conflict\", 2019], [9101, \"Uzbekistan\", \"UZ\", \"yes\", 74, NaN, \"2019-12-03\", \"A/RES/74/12\", NaN, NaN, \"Division for Palestinian Rights of the Secretariat \", \"Division for Palestinian Rights of the Secretariat \", \"me\", \"Palestinian conflict\", 2019], [9101, \"Vanuatu\", \"VU\", \"abstain\", 74, NaN, \"2019-12-03\", \"A/RES/74/12\", NaN, NaN, \"Division for Palestinian Rights of the Secretariat \", \"Division for Palestinian Rights of the Secretariat \", \"me\", \"Palestinian conflict\", 2019], [9101, \"Venezuela\", \"VE\", \"yes\", 74, NaN, \"2019-12-03\", \"A/RES/74/12\", NaN, NaN, \"Division for Palestinian Rights of the Secretariat \", \"Division for Palestinian Rights of the Secretariat \", \"me\", \"Palestinian conflict\", 2019], [9101, \"Vietnam\", \"VN\", \"yes\", 74, NaN, \"2019-12-03\", \"A/RES/74/12\", NaN, NaN, \"Division for Palestinian Rights of the Secretariat \", \"Division for Palestinian Rights of the Secretariat \", \"me\", \"Palestinian conflict\", 2019], [9101, \"Yemen\", \"YE\", \"yes\", 74, NaN, \"2019-12-03\", \"A/RES/74/12\", NaN, NaN, \"Division for Palestinian Rights of the Secretariat \", \"Division for Palestinian Rights of the Secretariat \", \"me\", \"Palestinian conflict\", 2019], [9101, \"Zambia\", \"ZM\", \"yes\", 74, NaN, \"2019-12-03\", \"A/RES/74/12\", NaN, NaN, \"Division for Palestinian Rights of the Secretariat \", \"Division for Palestinian Rights of the Secretariat \", \"me\", \"Palestinian conflict\", 2019], [9101, \"Zimbabwe\", \"ZW\", \"yes\", 74, NaN, \"2019-12-03\", \"A/RES/74/12\", NaN, NaN, \"Division for Palestinian Rights of the Secretariat \", \"Division for Palestinian Rights of the Secretariat \", \"me\", \"Palestinian conflict\", 2019]];\n",
       "\n",
       "        // Define the dt_args\n",
       "        let dt_args = {\"layout\": {\"topStart\": \"pageLength\", \"topEnd\": \"search\", \"bottomStart\": \"info\", \"bottomEnd\": \"paging\"}, \"order\": [], \"fnInfoCallback\": function (oSettings, iStart, iEnd, iMax, iTotal, sPre) { return sPre + ' (<a href=\"https://mwouts.github.io/itables/downsampling.html\">downsampled</a> from 857,878x15 to 546x15 as maxBytes=64KB)'; }};\n",
       "        dt_args[\"data\"] = data;\n",
       "\n",
       "        \n",
       "        new DataTable(table, dt_args);\n",
       "    });\n",
       "</script>\n"
      ],
      "text/plain": [
       "<IPython.core.display.HTML object>"
      ]
     },
     "metadata": {},
     "output_type": "display_data"
    }
   ],
   "source": [
    "# Copy and paste the code here:\n",
    "# Python can list all the different countries:\n",
    "country_list = list(DF['country'].unique())\n",
    "\n",
    "# Show the data in a nice way\n",
    "show(pd.DataFrame(country_list,columns=['country']))\n",
    "show(DF)"
   ]
  },
  {
   "cell_type": "markdown",
   "id": "a3fac6d0-283f-45a8-8f04-824bce2bc030",
   "metadata": {},
   "source": [
    "### Problem 1\n",
    "\n",
    "Do some initial exploration of this data and write about it in the markdown cell below.\n",
    "\n",
    "* How man columns are there?\n",
    "* What do the columns represent?\n",
    "* What countries are there?\n",
    "* Can you search for a country you are interested in?\n",
    "* How many rows are there?\n",
    "* What other observations do you have?\n",
    "\n"
   ]
  },
  {
   "cell_type": "markdown",
   "id": "5d647175-19fd-404b-84e2-b92e627413a1",
   "metadata": {},
   "source": [
    "**(Double Click Here)**\n",
    "I counted 15 columns.\n",
    "Each column represents some form of data whether it be a name, or country code on top of it. \n",
    "It seems to have countries from all around the world from North America, South America, Asia, or even Middle Easter. \n",
    "Spain has 4 rows.\n",
    "They all have different issues but were represented in the same year. "
   ]
  },
  {
   "cell_type": "markdown",
   "id": "a5ec908c-b134-4b31-907d-93f4415315b4",
   "metadata": {},
   "source": [
    "-------------------------------\n",
    "### Make Python Explore the Data!:\n",
    "-------------------------------\n",
    "\n",
    "Copy and paste the command that will show you a list of the counties:"
   ]
  },
  {
   "cell_type": "code",
   "execution_count": 20,
   "id": "76ada79b-d012-48ff-bfe5-b110ce00ac4b",
   "metadata": {},
   "outputs": [
    {
     "data": {
      "text/html": [
       "<table id=\"itables_81e51259_a93d_4cad_9f25_d37526082b9f\" class=\"display nowrap\" data-quarto-disable-processing=\"true\" style=\"table-layout:auto;width:auto;margin:auto;caption-side:bottom\">\n",
       "<thead>\n",
       "    <tr style=\"text-align: right;\">\n",
       "      \n",
       "      <th>country</th>\n",
       "    </tr>\n",
       "  </thead><tbody><tr>\n",
       "<td style=\"vertical-align:middle; text-align:left\">\n",
       "<div style=\"float:left; margin-right: 10px;\">\n",
       "<a href=https://mwouts.github.io/itables/><svg class=\"main-svg\" xmlns=\"http://www.w3.org/2000/svg\" xmlns:xlink=\"http://www.w3.org/1999/xlink\"\n",
       "width=\"64\" viewBox=\"0 0 500 400\" style=\"font-family: 'Droid Sans', sans-serif;\">\n",
       "    <g style=\"fill:#d9d7fc\">\n",
       "        <path d=\"M100,400H500V357H100Z\" />\n",
       "        <path d=\"M100,300H400V257H100Z\" />\n",
       "        <path d=\"M0,200H400V157H0Z\" />\n",
       "        <path d=\"M100,100H500V57H100Z\" />\n",
       "        <path d=\"M100,350H500V307H100Z\" />\n",
       "        <path d=\"M100,250H400V207H100Z\" />\n",
       "        <path d=\"M0,150H400V107H0Z\" />\n",
       "        <path d=\"M100,50H500V7H100Z\" />\n",
       "    </g>\n",
       "    <g style=\"fill:#1a1366;stroke:#1a1366;\">\n",
       "   <rect x=\"100\" y=\"7\" width=\"400\" height=\"43\">\n",
       "    <animate\n",
       "      attributeName=\"width\"\n",
       "      values=\"0;400;0\"\n",
       "      dur=\"5s\"\n",
       "      repeatCount=\"indefinite\" />\n",
       "      <animate\n",
       "      attributeName=\"x\"\n",
       "      values=\"100;100;500\"\n",
       "      dur=\"5s\"\n",
       "      repeatCount=\"indefinite\" />\n",
       "  </rect>\n",
       "        <rect x=\"0\" y=\"107\" width=\"400\" height=\"43\">\n",
       "    <animate\n",
       "      attributeName=\"width\"\n",
       "      values=\"0;400;0\"\n",
       "      dur=\"3.5s\"\n",
       "      repeatCount=\"indefinite\" />\n",
       "    <animate\n",
       "      attributeName=\"x\"\n",
       "      values=\"0;0;400\"\n",
       "      dur=\"3.5s\"\n",
       "      repeatCount=\"indefinite\" />\n",
       "  </rect>\n",
       "        <rect x=\"100\" y=\"207\" width=\"300\" height=\"43\">\n",
       "    <animate\n",
       "      attributeName=\"width\"\n",
       "      values=\"0;300;0\"\n",
       "      dur=\"3s\"\n",
       "      repeatCount=\"indefinite\" />\n",
       "    <animate\n",
       "      attributeName=\"x\"\n",
       "      values=\"100;100;400\"\n",
       "      dur=\"3s\"\n",
       "      repeatCount=\"indefinite\" />\n",
       "  </rect>\n",
       "        <rect x=\"100\" y=\"307\" width=\"400\" height=\"43\">\n",
       "    <animate\n",
       "      attributeName=\"width\"\n",
       "      values=\"0;400;0\"\n",
       "      dur=\"4s\"\n",
       "      repeatCount=\"indefinite\" />\n",
       "      <animate\n",
       "      attributeName=\"x\"\n",
       "      values=\"100;100;500\"\n",
       "      dur=\"4s\"\n",
       "      repeatCount=\"indefinite\" />\n",
       "  </rect>\n",
       "        <g style=\"fill:transparent;stroke-width:8; stroke-linejoin:round\" rx=\"5\">\n",
       "            <g transform=\"translate(45 50) rotate(-45)\">\n",
       "                <circle r=\"33\" cx=\"0\" cy=\"0\" />\n",
       "                <rect x=\"-8\" y=\"32\" width=\"16\" height=\"30\" />\n",
       "            </g>\n",
       "\n",
       "            <g transform=\"translate(450 152)\">\n",
       "                <polyline points=\"-15,-20 -35,-20 -35,40 25,40 25,20\" />\n",
       "                <rect x=\"-15\" y=\"-40\" width=\"60\" height=\"60\" />\n",
       "            </g>\n",
       "\n",
       "            <g transform=\"translate(50 352)\">\n",
       "                <polygon points=\"-35,-5 0,-40 35,-5\" />\n",
       "                <polygon points=\"-35,10 0,45 35,10\" />\n",
       "            </g>\n",
       "\n",
       "            <g transform=\"translate(75 250)\">\n",
       "                <polyline points=\"-30,30 -60,0 -30,-30\" />\n",
       "                <polyline points=\"0,30 -30,0 0,-30\" />\n",
       "            </g>\n",
       "\n",
       "            <g transform=\"translate(425 250) rotate(180)\">\n",
       "                <polyline points=\"-30,30 -60,0 -30,-30\" />\n",
       "                <polyline points=\"0,30 -30,0 0,-30\" />\n",
       "            </g>\n",
       "        </g>\n",
       "    </g>\n",
       "</svg>\n",
       "</a>\n",
       "</div>\n",
       "<div>\n",
       "Loading ITables v2.1.4 from the internet...\n",
       "(need <a href=https://mwouts.github.io/itables/troubleshooting.html>help</a>?)</td>\n",
       "</div>\n",
       "</tr></tbody>\n",
       "\n",
       "</table>\n",
       "<link href=\"https://www.unpkg.com/dt_for_itables@2.0.11/dt_bundle.css\" rel=\"stylesheet\">\n",
       "<script type=\"module\">\n",
       "    import {DataTable, jQuery as $} from 'https://www.unpkg.com/dt_for_itables@2.0.11/dt_bundle.js';\n",
       "\n",
       "    document.querySelectorAll(\"#itables_81e51259_a93d_4cad_9f25_d37526082b9f:not(.dataTable)\").forEach(table => {\n",
       "        // Define the table data\n",
       "        const data = [[\"United States\"], [\"Canada\"], [\"Cuba\"], [\"Dominican Republic\"], [\"Mexico\"], [\"Guatemala\"], [\"Honduras\"], [\"El Salvador\"], [\"Nicaragua\"], [\"Panama\"], [\"Colombia\"], [\"Venezuela\"], [\"Ecuador\"], [\"Peru\"], [\"Brazil\"], [\"Bolivia\"], [\"Paraguay\"], [\"Chile\"], [\"Argentina\"], [\"Uruguay\"], [\"United Kingdom\"], [\"Netherlands\"], [\"Belgium\"], [\"Luxembourg\"], [\"France\"], [\"Poland\"], [\"Czechoslovakia\"], [\"Yugoslavia\"], [\"Greece\"], [\"Russia\"], [\"Ukraine\"], [\"Belarus\"], [\"Norway\"], [\"Denmark\"], [\"Liberia\"], [\"Ethiopia\"], [\"South Africa\"], [\"Iran\"], [\"Turkey\"], [\"Iraq\"], [\"Egypt\"], [\"Syria\"], [\"Lebanon\"], [\"Saudi Arabia\"], [\"Taiwan\"], [\"India\"], [\"Philippines\"], [\"Australia\"], [\"New Zealand\"], [\"Costa Rica\"], [\"Haiti\"], [\"Sweden\"], [\"Iceland\"], [\"Afghanistan\"], [\"Yemen Arab Republic\"], [\"Pakistan\"], [\"Thailand\"], [\"Myanmar (Burma)\"], [\"Israel\"], [\"Indonesia\"], [\"Hungary\"], [\"Jordan\"], [\"Sri Lanka\"], [\"Spain\"], [\"Romania\"], [\"Ireland\"], [\"Portugal\"], [\"Austria\"], [\"Italy\"], [\"Albania\"], [\"Bulgaria\"], [\"Finland\"], [\"Morocco\"], [\"Tunisia\"], [\"Libya\"], [\"Sudan\"], [\"Nepal\"], [\"Cambodia\"], [\"Laos\"], [\"Japan\"], [\"Ghana\"], [\"Malaysia\"], [\"Guinea\"], [\"Cyprus\"], [\"Mali\"], [\"Senegal\"], [\"Benin\"], [\"Niger\"], [\"C\\u00f4te d\\u2019Ivoire\"], [\"Burkina Faso\"], [\"Togo\"], [\"Cameroon\"], [\"Nigeria\"], [\"Gabon\"], [\"Central African Republic\"], [\"Chad\"], [\"Congo - Brazzaville\"], [\"Somalia\"], [\"Madagascar\"], [\"Congo - Kinshasa\"], [\"Mauritania\"], [\"Sierra Leone\"], [\"Mongolia\"], [\"Tanzania\"], [\"Jamaica\"], [\"Trinidad & Tobago\"], [\"Uganda\"], [\"Burundi\"], [\"Rwanda\"], [\"Algeria\"], [\"Kuwait\"], [\"Kenya\"], [\"Zanzibar\"], [\"Malta\"], [\"Zambia\"], [\"Maldives\"], [\"Malawi\"], [\"Singapore\"], [\"Guyana\"], [\"Gambia\"], [\"Lesotho\"], [\"Barbados\"], [\"Botswana\"], [\"Yemen People's Republic\"], [\"Mauritius\"], [\"Equatorial Guinea\"], [\"Eswatini\"], [\"Fiji\"], [\"Bahrain\"], [\"Qatar\"], [\"China\"], [\"Oman\"], [\"United Arab Emirates\"], [\"Bhutan\"], [\"Federal Republic of Germany\"], [\"German Democratic Republic\"], [\"Bahamas\"], [\"Bangladesh\"], [\"Grenada\"], [\"Guinea-Bissau\"], [\"Cape Verde\"], [\"S\\u00e3o Tom\\u00e9 & Pr\\u00edncipe\"], [\"Mozambique\"], [\"Comoros\"], [\"Papua New Guinea\"], [\"Suriname\"], [\"Angola\"], [\"Djibouti\"], [\"Vietnam\"], [\"Samoa\"], [\"Seychelles\"], [\"St. Lucia\"], [\"Solomon Islands\"], [\"Zimbabwe\"], [\"Vanuatu\"], [\"Antigua & Barbuda\"], [\"Belize\"], [\"St. Vincent & Grenadines\"], [\"Dominica\"], [\"St. Kitts & Nevis\"], [\"Brunei\"], [\"Liechtenstein\"], [\"Namibia\"], [\"Germany\"], [\"Estonia\"], [\"Latvia\"], [\"Lithuania\"], [\"Yemen\"], [\"North Korea\"], [\"South Korea\"], [\"Marshall Islands\"], [\"Micronesia (Federated States of)\"], [\"Croatia\"], [\"Slovenia\"], [\"Moldova\"], [\"San Marino\"], [\"Armenia\"], [\"Azerbaijan\"], [\"Bosnia & Herzegovina\"], [\"Kazakhstan\"], [\"Tajikistan\"], [\"Turkmenistan\"], [\"Kyrgyzstan\"], [\"Andorra\"], [\"Czechia\"], [\"Slovakia\"], [\"North Macedonia\"], [\"Monaco\"], [\"Georgia\"], [\"Eritrea\"], [\"Uzbekistan\"], [\"Palau\"], [\"Tonga\"], [\"Nauru\"], [\"Tuvalu\"], [\"Kiribati\"], [\"Switzerland\"], [\"Timor-Leste\"], [\"Montenegro\"], [\"South Sudan\"]];\n",
       "\n",
       "        // Define the dt_args\n",
       "        let dt_args = {\"layout\": {\"topStart\": \"pageLength\", \"topEnd\": \"search\", \"bottomStart\": \"info\", \"bottomEnd\": \"paging\"}, \"order\": []};\n",
       "        dt_args[\"data\"] = data;\n",
       "\n",
       "        \n",
       "        new DataTable(table, dt_args);\n",
       "    });\n",
       "</script>\n"
      ],
      "text/plain": [
       "<IPython.core.display.HTML object>"
      ]
     },
     "metadata": {},
     "output_type": "display_data"
    }
   ],
   "source": [
    "# Copy and # Python can list all the different countries:\n",
    "country_list = list(DF['country'].unique())\n",
    "\n",
    "# Show the data in a nice way\n",
    "show(pd.DataFrame(country_list,columns=['country']))\n"
   ]
  },
  {
   "cell_type": "markdown",
   "id": "e6869f91-d574-4e4f-8200-7f7ba12ef657",
   "metadata": {},
   "source": [
    "Copy and paste the command that will count up the number of countries:"
   ]
  },
  {
   "cell_type": "code",
   "execution_count": 22,
   "id": "fa93e932-08e9-46b8-ae03-1f6504a8d7b7",
   "metadata": {},
   "outputs": [
    {
     "name": "stdout",
     "output_type": "stream",
     "text": [
      "200\n"
     ]
    }
   ],
   "source": [
    "# Copy and paste the code here:\n",
    "# Python can count up the number of countries.\n",
    "# Find the length of the list\n",
    "print(len(country_list))"
   ]
  },
  {
   "cell_type": "markdown",
   "id": "8fc80b9c-3777-4ed3-903f-610f9a889561",
   "metadata": {},
   "source": [
    "### Problem 2\n",
    "\n",
    "Try writing some code for your self. Above we found a countries list by focusing on the column named 'country'. See if you can redo that same code but change it to focus on the column named 'issue'.\n",
    "\n",
    "What do I expect here:\n",
    "\n",
    "* First copy and past the code from above\n",
    "* Then change that code slightly\n",
    "* Run the cell to see if it worked"
   ]
  },
  {
   "cell_type": "code",
   "execution_count": 24,
   "id": "8322841e-daef-4ff3-a74b-20560af34c52",
   "metadata": {},
   "outputs": [
    {
     "data": {
      "text/plain": [
       "['Human rights',\n",
       " 'Economic development',\n",
       " 'Colonialism',\n",
       " 'Palestinian conflict',\n",
       " 'Arms control and disarmament',\n",
       " 'Nuclear weapons and nuclear material']"
      ]
     },
     "execution_count": 24,
     "metadata": {},
     "output_type": "execute_result"
    }
   ],
   "source": [
    "issues_list = list(DF['issue'].unique())\n",
    "issues_list# Write your code here\n"
   ]
  },
  {
   "cell_type": "markdown",
   "id": "7ebdffc3-dbc2-4100-83d6-ea94d27f9456",
   "metadata": {},
   "source": [
    "-------------------------------\n",
    "### Data Visualization:\n",
    "-------------------------------\n",
    "\n",
    "Now we will select three countries that we are interested in and see how their votes have changed over time. Below you should see code that selects: Turkey, United States, and United Kingdom.\n",
    "\n",
    "**IMPORTANT** These have to be spelled and capitalized exactly like they are in the data. Python is unforgiving of typos!\n",
    "\n",
    "You can just run the cell below - assuming you have done all the parts above!"
   ]
  },
  {
   "cell_type": "code",
   "execution_count": 37,
   "id": "cb0dfbd6-1959-4881-890a-aa184248699d",
   "metadata": {},
   "outputs": [
    {
     "name": "stdout",
     "output_type": "stream",
     "text": [
      "['Human rights', 'Economic development', 'Colonialism', 'Palestinian conflict', 'Arms control and disarmament', 'Nuclear weapons and nuclear material']\n"
     ]
    }
   ],
   "source": [
    "countries = ['Spain', 'Italy', 'France']\n",
    "issues = list(DF['issue'].unique())\n",
    "c_groups = DF.groupby(['country','issue'])\n",
    "print(issues)"
   ]
  },
  {
   "cell_type": "markdown",
   "id": "00a813fa-de2b-4c25-a96c-68234b9b9503",
   "metadata": {},
   "source": [
    "Now that we have our focus countries, we can make pretty pictures.\n",
    "\n",
    "You can just run the cell below - assuming you have done all the parts above!"
   ]
  },
  {
   "cell_type": "code",
   "execution_count": 39,
   "id": "0004cb71-264f-4580-b847-41f8b01fa300",
   "metadata": {
    "scrolled": true
   },
   "outputs": [
    {
     "data": {
      "application/vnd.plotly.v1+json": {
       "config": {
        "plotlyServerURL": "https://plot.ly"
       },
       "data": [
        {
         "hovertemplate": "Country=Spain<br>x=%{x}<br>y=%{y}<extra></extra>",
         "legendgroup": "Spain",
         "marker": {
          "color": "#636efa",
          "symbol": "circle"
         },
         "mode": "markers",
         "name": "Spain",
         "orientation": "v",
         "showlegend": true,
         "type": "scatter",
         "x": [
          1956,
          1958,
          1959,
          1961,
          1962,
          1965,
          1966,
          1967,
          1968,
          1969,
          1970,
          1971,
          1972,
          1973,
          1974,
          1975,
          1976,
          1977,
          1978,
          1979,
          1980,
          1981,
          1982,
          1983,
          1984,
          1985,
          1986,
          1987,
          1988,
          1989,
          1990,
          1991,
          1992,
          1993,
          1994,
          1995,
          1996,
          1997,
          1998,
          1999,
          2000,
          2001,
          2002,
          2003,
          2004,
          2006,
          2005,
          2007,
          2008,
          2009,
          2010,
          2011,
          2012,
          2013,
          2014,
          2015,
          2016,
          2017,
          2018,
          2019
         ],
         "xaxis": "x",
         "y": [
          100,
          0,
          0,
          66.66666666666666,
          0,
          50,
          88.88888888888889,
          40,
          100,
          80,
          85.71428571428571,
          77.77777777777779,
          64.70588235294117,
          62.5,
          65,
          70,
          64.70588235294117,
          52.63157894736842,
          68.75,
          68.75,
          87.5,
          84.61538461538461,
          61.904761904761905,
          84.21052631578947,
          66.66666666666666,
          62.5,
          62.5,
          63.1578947368421,
          47.05882352941176,
          64.28571428571429,
          60,
          72.72727272727273,
          72.72727272727273,
          72.72727272727273,
          64.28571428571429,
          71.42857142857143,
          64.70588235294117,
          60,
          64.70588235294117,
          50,
          52.94117647058824,
          45,
          56.52173913043478,
          52,
          50,
          50,
          61.904761904761905,
          55.55555555555556,
          50,
          39.130434782608695,
          56.00000000000001,
          48,
          52.17391304347826,
          42.857142857142854,
          44.44444444444444,
          42.10526315789473,
          31.57894736842105,
          53.333333333333336,
          54.54545454545454,
          42.857142857142854
         ],
         "yaxis": "y"
        },
        {
         "hovertemplate": "<b>LOWESS trendline</b><br><br>Country=Spain<br>x=%{x}<br>y=%{y} <b>(trend)</b><extra></extra>",
         "legendgroup": "Spain",
         "marker": {
          "color": "#636efa",
          "symbol": "circle"
         },
         "mode": "lines",
         "name": "Spain",
         "showlegend": false,
         "type": "scatter",
         "x": [
          1956,
          1958,
          1959,
          1961,
          1962,
          1965,
          1966,
          1967,
          1968,
          1969,
          1970,
          1971,
          1972,
          1973,
          1974,
          1975,
          1976,
          1977,
          1978,
          1979,
          1980,
          1981,
          1982,
          1983,
          1984,
          1985,
          1986,
          1987,
          1988,
          1989,
          1990,
          1991,
          1992,
          1993,
          1994,
          1995,
          1996,
          1997,
          1998,
          1999,
          2000,
          2001,
          2002,
          2003,
          2004,
          2005,
          2006,
          2007,
          2008,
          2009,
          2010,
          2011,
          2012,
          2013,
          2014,
          2015,
          2016,
          2017,
          2018,
          2019
         ],
         "xaxis": "x",
         "y": [
          68.55210742808673,
          68.5051701876886,
          68.47415909150043,
          68.39520861655053,
          68.34655412766901,
          68.16388893191451,
          68.09171877494434,
          68.01614615181587,
          67.93927595680191,
          67.86340733882378,
          67.7908538809589,
          67.72296303625306,
          67.65986361608766,
          67.60016150360939,
          67.54170791564822,
          67.48149824902546,
          67.41401935733846,
          67.32810442615248,
          67.19128401988846,
          67.05317842068747,
          66.90998914401732,
          66.73460011655573,
          66.56601308512776,
          66.36760092450474,
          66.16462110307101,
          65.92837511951473,
          65.64922770114653,
          65.32583768863702,
          64.96091427581727,
          64.54945178190312,
          64.08507763624237,
          63.56259197252694,
          62.98597209314966,
          62.36724114368766,
          61.7178468151698,
          61.049252702688094,
          60.37246767923717,
          59.692810766426106,
          59.00468457399083,
          58.29508748147537,
          57.55195195683682,
          56.69839673155599,
          55.8681761492715,
          55.05268150613947,
          54.2446557279403,
          53.44104137537729,
          52.6408078644628,
          51.843258901001704,
          51.0480855154524,
          50.25504361047436,
          49.46416369660558,
          48.675870511131755,
          47.89037058787588,
          47.107784996886195,
          46.328100168409506,
          45.55151338028763,
          44.77841740202882,
          44.009516537657085,
          43.24587536884253,
          42.48799751190941
         ],
         "yaxis": "y"
        },
        {
         "hovertemplate": "Country=Italy<br>x=%{x}<br>y=%{y}<extra></extra>",
         "legendgroup": "Italy",
         "marker": {
          "color": "#EF553B",
          "symbol": "circle"
         },
         "mode": "markers",
         "name": "Italy",
         "orientation": "v",
         "showlegend": true,
         "type": "scatter",
         "x": [
          1956,
          1958,
          1959,
          1961,
          1962,
          1965,
          1966,
          1967,
          1968,
          1969,
          1970,
          1971,
          1972,
          1973,
          1974,
          1975,
          1976,
          1977,
          1978,
          1979,
          1980,
          1981,
          1982,
          1983,
          1984,
          1985,
          1986,
          1987,
          1988,
          1989,
          1990,
          1991,
          1992,
          1993,
          1994,
          1995,
          1996,
          1997,
          1998,
          1999,
          2000,
          2001,
          2002,
          2003,
          2004,
          2006,
          2005,
          2007,
          2008,
          2009,
          2010,
          2011,
          2012,
          2013,
          2014,
          2015,
          2016,
          2017,
          2018,
          2019
         ],
         "xaxis": "x",
         "y": [
          83.33333333333334,
          100,
          33.33333333333333,
          25,
          0,
          50,
          66.66666666666666,
          20,
          0,
          40,
          50,
          44.44444444444444,
          35.294117647058826,
          37.5,
          35,
          33.33333333333333,
          23.52941176470588,
          31.57894736842105,
          37.5,
          37.5,
          38.88888888888889,
          38.46153846153847,
          28.57142857142857,
          31.57894736842105,
          33.33333333333333,
          31.25,
          45.83333333333333,
          36.84210526315789,
          23.52941176470588,
          35.714285714285715,
          30,
          36.36363636363637,
          45.45454545454545,
          54.54545454545454,
          64.28571428571429,
          71.42857142857143,
          64.70588235294117,
          60,
          64.70588235294117,
          50,
          52.94117647058824,
          45,
          56.52173913043478,
          52,
          50,
          57.14285714285714,
          61.904761904761905,
          55.55555555555556,
          50,
          39.130434782608695,
          48,
          44,
          52.17391304347826,
          42.857142857142854,
          44.44444444444444,
          45,
          36.84210526315789,
          53.333333333333336,
          54.54545454545454,
          42.857142857142854
         ],
         "yaxis": "y"
        },
        {
         "hovertemplate": "<b>LOWESS trendline</b><br><br>Country=Italy<br>x=%{x}<br>y=%{y} <b>(trend)</b><extra></extra>",
         "legendgroup": "Italy",
         "marker": {
          "color": "#EF553B",
          "symbol": "circle"
         },
         "mode": "lines",
         "name": "Italy",
         "showlegend": false,
         "type": "scatter",
         "x": [
          1956,
          1958,
          1959,
          1961,
          1962,
          1965,
          1966,
          1967,
          1968,
          1969,
          1970,
          1971,
          1972,
          1973,
          1974,
          1975,
          1976,
          1977,
          1978,
          1979,
          1980,
          1981,
          1982,
          1983,
          1984,
          1985,
          1986,
          1987,
          1988,
          1989,
          1990,
          1991,
          1992,
          1993,
          1994,
          1995,
          1996,
          1997,
          1998,
          1999,
          2000,
          2001,
          2002,
          2003,
          2004,
          2005,
          2006,
          2007,
          2008,
          2009,
          2010,
          2011,
          2012,
          2013,
          2014,
          2015,
          2016,
          2017,
          2018,
          2019
         ],
         "xaxis": "x",
         "y": [
          36.35833822601813,
          36.38303194621507,
          36.385255673006405,
          36.368997980380236,
          36.35145396766627,
          36.282370310167664,
          36.261653322758114,
          36.24505351560669,
          36.2335744967067,
          36.229029730459665,
          36.23342894410394,
          36.24818359986324,
          36.27313917779356,
          36.30614312450056,
          36.34276932401417,
          36.37474230349861,
          36.38769552502485,
          36.35980006261666,
          36.411309466611584,
          36.55767942299945,
          36.82303278861018,
          36.89643143360003,
          37.39054633864107,
          38.00513856910232,
          38.36541561330917,
          39.16686813960759,
          40.01120016443151,
          40.878863149039184,
          41.76104803677657,
          42.648617723389144,
          43.53162185569208,
          44.39819476860525,
          45.23639410469177,
          46.038310336774266,
          46.80206727773932,
          47.534026582398866,
          48.239592740100285,
          48.91428831441055,
          49.54299810392428,
          50.10423242563557,
          50.57935771187128,
          50.496654868180954,
          50.39251152308869,
          50.283059599065766,
          50.16693777983135,
          50.03967602888471,
          49.89792194023822,
          49.739186047615675,
          49.56173048761462,
          49.36447746371929,
          49.147122363204716,
          48.91023256945529,
          48.65477227906217,
          48.381964156751934,
          48.09298202549075,
          47.78924122661766,
          47.472365079531684,
          47.144179818801724,
          46.80681167793835,
          46.46186594691358
         ],
         "yaxis": "y"
        },
        {
         "hovertemplate": "Country=France<br>x=%{x}<br>y=%{y}<extra></extra>",
         "legendgroup": "France",
         "marker": {
          "color": "#00cc96",
          "symbol": "circle"
         },
         "mode": "markers",
         "name": "France",
         "orientation": "v",
         "showlegend": true,
         "type": "scatter",
         "x": [
          1946,
          1948,
          1949,
          1950,
          1952,
          1953,
          1954,
          1955,
          1956,
          1958,
          1959,
          1961,
          1962,
          1965,
          1966,
          1967,
          1968,
          1969,
          1970,
          1971,
          1972,
          1973,
          1974,
          1975,
          1976,
          1977,
          1978,
          1979,
          1980,
          1981,
          1982,
          1983,
          1984,
          1985,
          1986,
          1987,
          1988,
          1989,
          1990,
          1991,
          1992,
          1993,
          1994,
          1995,
          1996,
          1997,
          1998,
          1999,
          2000,
          2001,
          2002,
          2003,
          2004,
          2006,
          2005,
          2007,
          2008,
          2009,
          2010,
          2011,
          2012,
          2013,
          2014,
          2015,
          2016,
          2017,
          2018,
          2019
         ],
         "xaxis": "x",
         "y": [
          50,
          16.666666666666664,
          83.33333333333334,
          0,
          25,
          50,
          100,
          50,
          83.33333333333334,
          50,
          0,
          0,
          0,
          0,
          75,
          20,
          0,
          60,
          57.14285714285714,
          11.11111111111111,
          33.33333333333333,
          34.78260869565217,
          25,
          35,
          18.75,
          31.57894736842105,
          43.75,
          25,
          38.88888888888889,
          46.15384615384615,
          28.57142857142857,
          36.84210526315789,
          33.33333333333333,
          31.25,
          45.83333333333333,
          42.10526315789473,
          23.52941176470588,
          35.714285714285715,
          20,
          36.36363636363637,
          45.45454545454545,
          54.54545454545454,
          64.28571428571429,
          71.42857142857143,
          64.70588235294117,
          60,
          64.70588235294117,
          50,
          52.94117647058824,
          45,
          54.54545454545454,
          52,
          50,
          50,
          61.904761904761905,
          55.55555555555556,
          50,
          39.130434782608695,
          52,
          48,
          52.17391304347826,
          42.857142857142854,
          44.44444444444444,
          40,
          31.57894736842105,
          53.333333333333336,
          54.54545454545454,
          42.857142857142854
         ],
         "yaxis": "y"
        },
        {
         "hovertemplate": "<b>LOWESS trendline</b><br><br>Country=France<br>x=%{x}<br>y=%{y} <b>(trend)</b><extra></extra>",
         "legendgroup": "France",
         "marker": {
          "color": "#00cc96",
          "symbol": "circle"
         },
         "mode": "lines",
         "name": "France",
         "showlegend": false,
         "type": "scatter",
         "x": [
          1946,
          1948,
          1949,
          1950,
          1952,
          1953,
          1954,
          1955,
          1956,
          1958,
          1959,
          1961,
          1962,
          1965,
          1966,
          1967,
          1968,
          1969,
          1970,
          1971,
          1972,
          1973,
          1974,
          1975,
          1976,
          1977,
          1978,
          1979,
          1980,
          1981,
          1982,
          1983,
          1984,
          1985,
          1986,
          1987,
          1988,
          1989,
          1990,
          1991,
          1992,
          1993,
          1994,
          1995,
          1996,
          1997,
          1998,
          1999,
          2000,
          2001,
          2002,
          2003,
          2004,
          2005,
          2006,
          2007,
          2008,
          2009,
          2010,
          2011,
          2012,
          2013,
          2014,
          2015,
          2016,
          2017,
          2018,
          2019
         ],
         "xaxis": "x",
         "y": [
          31.692414100420272,
          31.536546053293478,
          31.466344091035097,
          31.4010382585443,
          31.285948991578096,
          31.23751523490309,
          31.19635625775515,
          31.162865907660652,
          31.137108443052952,
          31.105855510049945,
          31.09799996620917,
          31.087680012282288,
          31.080391449686143,
          31.01974549418408,
          30.976766372593033,
          30.916754783801544,
          30.836718043286847,
          30.73707687972927,
          30.62477253295962,
          30.50071737182671,
          30.585598154243296,
          30.723809055249255,
          30.94844146039884,
          31.290296412240423,
          31.63911433060739,
          32.30358083669057,
          33.07852908187253,
          33.94070929449723,
          34.860670878148404,
          35.81597417954616,
          36.783838497106096,
          37.742975085691604,
          38.60646675493325,
          39.538128233648585,
          40.447895355858236,
          41.2976360584717,
          42.184328816699434,
          43.03599607393767,
          43.84969370846827,
          44.62396546480763,
          45.35387458587506,
          46.037028504114716,
          46.67713024827705,
          47.2726932555979,
          47.82066033950876,
          48.32393813587921,
          48.46082036706155,
          48.560598907954066,
          48.653202103627116,
          48.74603067946197,
          48.83692466674341,
          48.9221168773027,
          48.99821635286892,
          49.06264837474672,
          49.11353852686002,
          49.149327930281345,
          49.16886232831159,
          49.17123305623893,
          49.15587063833558,
          49.122664568067336,
          49.0716431522665,
          49.002935251678466,
          48.916718864398845,
          48.813413255844395,
          48.69369512174701,
          48.558623880586225,
          48.40966668049511,
          48.248101137397995
         ],
         "yaxis": "y"
        }
       ],
       "layout": {
        "autosize": true,
        "legend": {
         "title": {
          "text": "Country"
         },
         "tracegroupgap": 0
        },
        "margin": {
         "t": 60
        },
        "template": {
         "data": {
          "bar": [
           {
            "error_x": {
             "color": "#2a3f5f"
            },
            "error_y": {
             "color": "#2a3f5f"
            },
            "marker": {
             "line": {
              "color": "#E5ECF6",
              "width": 0.5
             },
             "pattern": {
              "fillmode": "overlay",
              "size": 10,
              "solidity": 0.2
             }
            },
            "type": "bar"
           }
          ],
          "barpolar": [
           {
            "marker": {
             "line": {
              "color": "#E5ECF6",
              "width": 0.5
             },
             "pattern": {
              "fillmode": "overlay",
              "size": 10,
              "solidity": 0.2
             }
            },
            "type": "barpolar"
           }
          ],
          "carpet": [
           {
            "aaxis": {
             "endlinecolor": "#2a3f5f",
             "gridcolor": "white",
             "linecolor": "white",
             "minorgridcolor": "white",
             "startlinecolor": "#2a3f5f"
            },
            "baxis": {
             "endlinecolor": "#2a3f5f",
             "gridcolor": "white",
             "linecolor": "white",
             "minorgridcolor": "white",
             "startlinecolor": "#2a3f5f"
            },
            "type": "carpet"
           }
          ],
          "choropleth": [
           {
            "colorbar": {
             "outlinewidth": 0,
             "ticks": ""
            },
            "type": "choropleth"
           }
          ],
          "contour": [
           {
            "colorbar": {
             "outlinewidth": 0,
             "ticks": ""
            },
            "colorscale": [
             [
              0,
              "#0d0887"
             ],
             [
              0.1111111111111111,
              "#46039f"
             ],
             [
              0.2222222222222222,
              "#7201a8"
             ],
             [
              0.3333333333333333,
              "#9c179e"
             ],
             [
              0.4444444444444444,
              "#bd3786"
             ],
             [
              0.5555555555555556,
              "#d8576b"
             ],
             [
              0.6666666666666666,
              "#ed7953"
             ],
             [
              0.7777777777777778,
              "#fb9f3a"
             ],
             [
              0.8888888888888888,
              "#fdca26"
             ],
             [
              1,
              "#f0f921"
             ]
            ],
            "type": "contour"
           }
          ],
          "contourcarpet": [
           {
            "colorbar": {
             "outlinewidth": 0,
             "ticks": ""
            },
            "type": "contourcarpet"
           }
          ],
          "heatmap": [
           {
            "colorbar": {
             "outlinewidth": 0,
             "ticks": ""
            },
            "colorscale": [
             [
              0,
              "#0d0887"
             ],
             [
              0.1111111111111111,
              "#46039f"
             ],
             [
              0.2222222222222222,
              "#7201a8"
             ],
             [
              0.3333333333333333,
              "#9c179e"
             ],
             [
              0.4444444444444444,
              "#bd3786"
             ],
             [
              0.5555555555555556,
              "#d8576b"
             ],
             [
              0.6666666666666666,
              "#ed7953"
             ],
             [
              0.7777777777777778,
              "#fb9f3a"
             ],
             [
              0.8888888888888888,
              "#fdca26"
             ],
             [
              1,
              "#f0f921"
             ]
            ],
            "type": "heatmap"
           }
          ],
          "heatmapgl": [
           {
            "colorbar": {
             "outlinewidth": 0,
             "ticks": ""
            },
            "colorscale": [
             [
              0,
              "#0d0887"
             ],
             [
              0.1111111111111111,
              "#46039f"
             ],
             [
              0.2222222222222222,
              "#7201a8"
             ],
             [
              0.3333333333333333,
              "#9c179e"
             ],
             [
              0.4444444444444444,
              "#bd3786"
             ],
             [
              0.5555555555555556,
              "#d8576b"
             ],
             [
              0.6666666666666666,
              "#ed7953"
             ],
             [
              0.7777777777777778,
              "#fb9f3a"
             ],
             [
              0.8888888888888888,
              "#fdca26"
             ],
             [
              1,
              "#f0f921"
             ]
            ],
            "type": "heatmapgl"
           }
          ],
          "histogram": [
           {
            "marker": {
             "pattern": {
              "fillmode": "overlay",
              "size": 10,
              "solidity": 0.2
             }
            },
            "type": "histogram"
           }
          ],
          "histogram2d": [
           {
            "colorbar": {
             "outlinewidth": 0,
             "ticks": ""
            },
            "colorscale": [
             [
              0,
              "#0d0887"
             ],
             [
              0.1111111111111111,
              "#46039f"
             ],
             [
              0.2222222222222222,
              "#7201a8"
             ],
             [
              0.3333333333333333,
              "#9c179e"
             ],
             [
              0.4444444444444444,
              "#bd3786"
             ],
             [
              0.5555555555555556,
              "#d8576b"
             ],
             [
              0.6666666666666666,
              "#ed7953"
             ],
             [
              0.7777777777777778,
              "#fb9f3a"
             ],
             [
              0.8888888888888888,
              "#fdca26"
             ],
             [
              1,
              "#f0f921"
             ]
            ],
            "type": "histogram2d"
           }
          ],
          "histogram2dcontour": [
           {
            "colorbar": {
             "outlinewidth": 0,
             "ticks": ""
            },
            "colorscale": [
             [
              0,
              "#0d0887"
             ],
             [
              0.1111111111111111,
              "#46039f"
             ],
             [
              0.2222222222222222,
              "#7201a8"
             ],
             [
              0.3333333333333333,
              "#9c179e"
             ],
             [
              0.4444444444444444,
              "#bd3786"
             ],
             [
              0.5555555555555556,
              "#d8576b"
             ],
             [
              0.6666666666666666,
              "#ed7953"
             ],
             [
              0.7777777777777778,
              "#fb9f3a"
             ],
             [
              0.8888888888888888,
              "#fdca26"
             ],
             [
              1,
              "#f0f921"
             ]
            ],
            "type": "histogram2dcontour"
           }
          ],
          "mesh3d": [
           {
            "colorbar": {
             "outlinewidth": 0,
             "ticks": ""
            },
            "type": "mesh3d"
           }
          ],
          "parcoords": [
           {
            "line": {
             "colorbar": {
              "outlinewidth": 0,
              "ticks": ""
             }
            },
            "type": "parcoords"
           }
          ],
          "pie": [
           {
            "automargin": true,
            "type": "pie"
           }
          ],
          "scatter": [
           {
            "fillpattern": {
             "fillmode": "overlay",
             "size": 10,
             "solidity": 0.2
            },
            "type": "scatter"
           }
          ],
          "scatter3d": [
           {
            "line": {
             "colorbar": {
              "outlinewidth": 0,
              "ticks": ""
             }
            },
            "marker": {
             "colorbar": {
              "outlinewidth": 0,
              "ticks": ""
             }
            },
            "type": "scatter3d"
           }
          ],
          "scattercarpet": [
           {
            "marker": {
             "colorbar": {
              "outlinewidth": 0,
              "ticks": ""
             }
            },
            "type": "scattercarpet"
           }
          ],
          "scattergeo": [
           {
            "marker": {
             "colorbar": {
              "outlinewidth": 0,
              "ticks": ""
             }
            },
            "type": "scattergeo"
           }
          ],
          "scattergl": [
           {
            "marker": {
             "colorbar": {
              "outlinewidth": 0,
              "ticks": ""
             }
            },
            "type": "scattergl"
           }
          ],
          "scattermapbox": [
           {
            "marker": {
             "colorbar": {
              "outlinewidth": 0,
              "ticks": ""
             }
            },
            "type": "scattermapbox"
           }
          ],
          "scatterpolar": [
           {
            "marker": {
             "colorbar": {
              "outlinewidth": 0,
              "ticks": ""
             }
            },
            "type": "scatterpolar"
           }
          ],
          "scatterpolargl": [
           {
            "marker": {
             "colorbar": {
              "outlinewidth": 0,
              "ticks": ""
             }
            },
            "type": "scatterpolargl"
           }
          ],
          "scatterternary": [
           {
            "marker": {
             "colorbar": {
              "outlinewidth": 0,
              "ticks": ""
             }
            },
            "type": "scatterternary"
           }
          ],
          "surface": [
           {
            "colorbar": {
             "outlinewidth": 0,
             "ticks": ""
            },
            "colorscale": [
             [
              0,
              "#0d0887"
             ],
             [
              0.1111111111111111,
              "#46039f"
             ],
             [
              0.2222222222222222,
              "#7201a8"
             ],
             [
              0.3333333333333333,
              "#9c179e"
             ],
             [
              0.4444444444444444,
              "#bd3786"
             ],
             [
              0.5555555555555556,
              "#d8576b"
             ],
             [
              0.6666666666666666,
              "#ed7953"
             ],
             [
              0.7777777777777778,
              "#fb9f3a"
             ],
             [
              0.8888888888888888,
              "#fdca26"
             ],
             [
              1,
              "#f0f921"
             ]
            ],
            "type": "surface"
           }
          ],
          "table": [
           {
            "cells": {
             "fill": {
              "color": "#EBF0F8"
             },
             "line": {
              "color": "white"
             }
            },
            "header": {
             "fill": {
              "color": "#C8D4E3"
             },
             "line": {
              "color": "white"
             }
            },
            "type": "table"
           }
          ]
         },
         "layout": {
          "annotationdefaults": {
           "arrowcolor": "#2a3f5f",
           "arrowhead": 0,
           "arrowwidth": 1
          },
          "autotypenumbers": "strict",
          "coloraxis": {
           "colorbar": {
            "outlinewidth": 0,
            "ticks": ""
           }
          },
          "colorscale": {
           "diverging": [
            [
             0,
             "#8e0152"
            ],
            [
             0.1,
             "#c51b7d"
            ],
            [
             0.2,
             "#de77ae"
            ],
            [
             0.3,
             "#f1b6da"
            ],
            [
             0.4,
             "#fde0ef"
            ],
            [
             0.5,
             "#f7f7f7"
            ],
            [
             0.6,
             "#e6f5d0"
            ],
            [
             0.7,
             "#b8e186"
            ],
            [
             0.8,
             "#7fbc41"
            ],
            [
             0.9,
             "#4d9221"
            ],
            [
             1,
             "#276419"
            ]
           ],
           "sequential": [
            [
             0,
             "#0d0887"
            ],
            [
             0.1111111111111111,
             "#46039f"
            ],
            [
             0.2222222222222222,
             "#7201a8"
            ],
            [
             0.3333333333333333,
             "#9c179e"
            ],
            [
             0.4444444444444444,
             "#bd3786"
            ],
            [
             0.5555555555555556,
             "#d8576b"
            ],
            [
             0.6666666666666666,
             "#ed7953"
            ],
            [
             0.7777777777777778,
             "#fb9f3a"
            ],
            [
             0.8888888888888888,
             "#fdca26"
            ],
            [
             1,
             "#f0f921"
            ]
           ],
           "sequentialminus": [
            [
             0,
             "#0d0887"
            ],
            [
             0.1111111111111111,
             "#46039f"
            ],
            [
             0.2222222222222222,
             "#7201a8"
            ],
            [
             0.3333333333333333,
             "#9c179e"
            ],
            [
             0.4444444444444444,
             "#bd3786"
            ],
            [
             0.5555555555555556,
             "#d8576b"
            ],
            [
             0.6666666666666666,
             "#ed7953"
            ],
            [
             0.7777777777777778,
             "#fb9f3a"
            ],
            [
             0.8888888888888888,
             "#fdca26"
            ],
            [
             1,
             "#f0f921"
            ]
           ]
          },
          "colorway": [
           "#636efa",
           "#EF553B",
           "#00cc96",
           "#ab63fa",
           "#FFA15A",
           "#19d3f3",
           "#FF6692",
           "#B6E880",
           "#FF97FF",
           "#FECB52"
          ],
          "font": {
           "color": "#2a3f5f"
          },
          "geo": {
           "bgcolor": "white",
           "lakecolor": "white",
           "landcolor": "#E5ECF6",
           "showlakes": true,
           "showland": true,
           "subunitcolor": "white"
          },
          "hoverlabel": {
           "align": "left"
          },
          "hovermode": "closest",
          "mapbox": {
           "style": "light"
          },
          "paper_bgcolor": "white",
          "plot_bgcolor": "#E5ECF6",
          "polar": {
           "angularaxis": {
            "gridcolor": "white",
            "linecolor": "white",
            "ticks": ""
           },
           "bgcolor": "#E5ECF6",
           "radialaxis": {
            "gridcolor": "white",
            "linecolor": "white",
            "ticks": ""
           }
          },
          "scene": {
           "xaxis": {
            "backgroundcolor": "#E5ECF6",
            "gridcolor": "white",
            "gridwidth": 2,
            "linecolor": "white",
            "showbackground": true,
            "ticks": "",
            "zerolinecolor": "white"
           },
           "yaxis": {
            "backgroundcolor": "#E5ECF6",
            "gridcolor": "white",
            "gridwidth": 2,
            "linecolor": "white",
            "showbackground": true,
            "ticks": "",
            "zerolinecolor": "white"
           },
           "zaxis": {
            "backgroundcolor": "#E5ECF6",
            "gridcolor": "white",
            "gridwidth": 2,
            "linecolor": "white",
            "showbackground": true,
            "ticks": "",
            "zerolinecolor": "white"
           }
          },
          "shapedefaults": {
           "line": {
            "color": "#2a3f5f"
           }
          },
          "ternary": {
           "aaxis": {
            "gridcolor": "white",
            "linecolor": "white",
            "ticks": ""
           },
           "baxis": {
            "gridcolor": "white",
            "linecolor": "white",
            "ticks": ""
           },
           "bgcolor": "#E5ECF6",
           "caxis": {
            "gridcolor": "white",
            "linecolor": "white",
            "ticks": ""
           }
          },
          "title": {
           "x": 0.05
          },
          "xaxis": {
           "automargin": true,
           "gridcolor": "white",
           "linecolor": "white",
           "ticks": "",
           "title": {
            "standoff": 15
           },
           "zerolinecolor": "white",
           "zerolinewidth": 2
          },
          "yaxis": {
           "automargin": true,
           "gridcolor": "white",
           "linecolor": "white",
           "ticks": "",
           "title": {
            "standoff": 15
           },
           "zerolinecolor": "white",
           "zerolinewidth": 2
          }
         }
        },
        "title": {
         "text": "Human rights<br>",
         "x": 0.5,
         "xanchor": "center",
         "y": 0.9,
         "yanchor": "top"
        },
        "xaxis": {
         "anchor": "y",
         "autorange": true,
         "domain": [
          0,
          1
         ],
         "range": [
          1941.6050106014955,
          2023.3949893985045
         ],
         "title": {
          "text": "Year"
         },
         "type": "linear"
        },
        "yaxis": {
         "anchor": "x",
         "autorange": true,
         "domain": [
          0,
          1
         ],
         "range": [
          -7.742782152230971,
          107.74278215223097
         ],
         "title": {
          "text": "% Yes"
         },
         "type": "linear"
        }
       }
      },
      "image/png": "[encoded data removed]",
      "text/html": [
       "<div>                            <div id=\"e15b1495-b843-44a0-b083-213d2e00b594\" class=\"plotly-graph-div\" style=\"height:525px; width:100%;\"></div>            <script type=\"text/javascript\">                require([\"plotly\"], function(Plotly) {                    window.PLOTLYENV=window.PLOTLYENV || {};                                    if (document.getElementById(\"e15b1495-b843-44a0-b083-213d2e00b594\")) {                    Plotly.newPlot(                        \"e15b1495-b843-44a0-b083-213d2e00b594\",                        [{\"hovertemplate\":\"Country=Spain\\u003cbr\\u003ex=%{x}\\u003cbr\\u003ey=%{y}\\u003cextra\\u003e\\u003c\\u002fextra\\u003e\",\"legendgroup\":\"Spain\",\"marker\":{\"color\":\"#636efa\",\"symbol\":\"circle\"},\"mode\":\"markers\",\"name\":\"Spain\",\"orientation\":\"v\",\"showlegend\":true,\"x\":[1956,1958,1959,1961,1962,1965,1966,1967,1968,1969,1970,1971,1972,1973,1974,1975,1976,1977,1978,1979,1980,1981,1982,1983,1984,1985,1986,1987,1988,1989,1990,1991,1992,1993,1994,1995,1996,1997,1998,1999,2000,2001,2002,2003,2004,2006,2005,2007,2008,2009,2010,2011,2012,2013,2014,2015,2016,2017,2018,2019],\"xaxis\":\"x\",\"y\":[100.0,0.0,0.0,66.66666666666666,0.0,50.0,88.88888888888889,40.0,100.0,80.0,85.71428571428571,77.77777777777779,64.70588235294117,62.5,65.0,70.0,64.70588235294117,52.63157894736842,68.75,68.75,87.5,84.61538461538461,61.904761904761905,84.21052631578947,66.66666666666666,62.5,62.5,63.1578947368421,47.05882352941176,64.28571428571429,60.0,72.72727272727273,72.72727272727273,72.72727272727273,64.28571428571429,71.42857142857143,64.70588235294117,60.0,64.70588235294117,50.0,52.94117647058824,45.0,56.52173913043478,52.0,50.0,50.0,61.904761904761905,55.55555555555556,50.0,39.130434782608695,56.00000000000001,48.0,52.17391304347826,42.857142857142854,44.44444444444444,42.10526315789473,31.57894736842105,53.333333333333336,54.54545454545454,42.857142857142854],\"yaxis\":\"y\",\"type\":\"scatter\"},{\"hovertemplate\":\"\\u003cb\\u003eLOWESS trendline\\u003c\\u002fb\\u003e\\u003cbr\\u003e\\u003cbr\\u003eCountry=Spain\\u003cbr\\u003ex=%{x}\\u003cbr\\u003ey=%{y} \\u003cb\\u003e(trend)\\u003c\\u002fb\\u003e\\u003cextra\\u003e\\u003c\\u002fextra\\u003e\",\"legendgroup\":\"Spain\",\"marker\":{\"color\":\"#636efa\",\"symbol\":\"circle\"},\"mode\":\"lines\",\"name\":\"Spain\",\"showlegend\":false,\"x\":[1956,1958,1959,1961,1962,1965,1966,1967,1968,1969,1970,1971,1972,1973,1974,1975,1976,1977,1978,1979,1980,1981,1982,1983,1984,1985,1986,1987,1988,1989,1990,1991,1992,1993,1994,1995,1996,1997,1998,1999,2000,2001,2002,2003,2004,2005,2006,2007,2008,2009,2010,2011,2012,2013,2014,2015,2016,2017,2018,2019],\"xaxis\":\"x\",\"y\":[68.55210742808673,68.5051701876886,68.47415909150043,68.39520861655053,68.34655412766901,68.16388893191451,68.09171877494434,68.01614615181587,67.93927595680191,67.86340733882378,67.7908538809589,67.72296303625306,67.65986361608766,67.60016150360939,67.54170791564822,67.48149824902546,67.41401935733846,67.32810442615248,67.19128401988846,67.05317842068747,66.90998914401732,66.73460011655573,66.56601308512776,66.36760092450474,66.16462110307101,65.92837511951473,65.64922770114653,65.32583768863702,64.96091427581727,64.54945178190312,64.08507763624237,63.56259197252694,62.98597209314966,62.36724114368766,61.7178468151698,61.049252702688094,60.37246767923717,59.692810766426106,59.00468457399083,58.29508748147537,57.55195195683682,56.69839673155599,55.8681761492715,55.05268150613947,54.2446557279403,53.44104137537729,52.6408078644628,51.843258901001704,51.0480855154524,50.25504361047436,49.46416369660558,48.675870511131755,47.89037058787588,47.107784996886195,46.328100168409506,45.55151338028763,44.77841740202882,44.009516537657085,43.24587536884253,42.48799751190941],\"yaxis\":\"y\",\"type\":\"scatter\"},{\"hovertemplate\":\"Country=Italy\\u003cbr\\u003ex=%{x}\\u003cbr\\u003ey=%{y}\\u003cextra\\u003e\\u003c\\u002fextra\\u003e\",\"legendgroup\":\"Italy\",\"marker\":{\"color\":\"#EF553B\",\"symbol\":\"circle\"},\"mode\":\"markers\",\"name\":\"Italy\",\"orientation\":\"v\",\"showlegend\":true,\"x\":[1956,1958,1959,1961,1962,1965,1966,1967,1968,1969,1970,1971,1972,1973,1974,1975,1976,1977,1978,1979,1980,1981,1982,1983,1984,1985,1986,1987,1988,1989,1990,1991,1992,1993,1994,1995,1996,1997,1998,1999,2000,2001,2002,2003,2004,2006,2005,2007,2008,2009,2010,2011,2012,2013,2014,2015,2016,2017,2018,2019],\"xaxis\":\"x\",\"y\":[83.33333333333334,100.0,33.33333333333333,25.0,0.0,50.0,66.66666666666666,20.0,0.0,40.0,50.0,44.44444444444444,35.294117647058826,37.5,35.0,33.33333333333333,23.52941176470588,31.57894736842105,37.5,37.5,38.88888888888889,38.46153846153847,28.57142857142857,31.57894736842105,33.33333333333333,31.25,45.83333333333333,36.84210526315789,23.52941176470588,35.714285714285715,30.0,36.36363636363637,45.45454545454545,54.54545454545454,64.28571428571429,71.42857142857143,64.70588235294117,60.0,64.70588235294117,50.0,52.94117647058824,45.0,56.52173913043478,52.0,50.0,57.14285714285714,61.904761904761905,55.55555555555556,50.0,39.130434782608695,48.0,44.0,52.17391304347826,42.857142857142854,44.44444444444444,45.0,36.84210526315789,53.333333333333336,54.54545454545454,42.857142857142854],\"yaxis\":\"y\",\"type\":\"scatter\"},{\"hovertemplate\":\"\\u003cb\\u003eLOWESS trendline\\u003c\\u002fb\\u003e\\u003cbr\\u003e\\u003cbr\\u003eCountry=Italy\\u003cbr\\u003ex=%{x}\\u003cbr\\u003ey=%{y} \\u003cb\\u003e(trend)\\u003c\\u002fb\\u003e\\u003cextra\\u003e\\u003c\\u002fextra\\u003e\",\"legendgroup\":\"Italy\",\"marker\":{\"color\":\"#EF553B\",\"symbol\":\"circle\"},\"mode\":\"lines\",\"name\":\"Italy\",\"showlegend\":false,\"x\":[1956,1958,1959,1961,1962,1965,1966,1967,1968,1969,1970,1971,1972,1973,1974,1975,1976,1977,1978,1979,1980,1981,1982,1983,1984,1985,1986,1987,1988,1989,1990,1991,1992,1993,1994,1995,1996,1997,1998,1999,2000,2001,2002,2003,2004,2005,2006,2007,2008,2009,2010,2011,2012,2013,2014,2015,2016,2017,2018,2019],\"xaxis\":\"x\",\"y\":[36.35833822601813,36.38303194621507,36.385255673006405,36.368997980380236,36.35145396766627,36.282370310167664,36.261653322758114,36.24505351560669,36.2335744967067,36.229029730459665,36.23342894410394,36.24818359986324,36.27313917779356,36.30614312450056,36.34276932401417,36.37474230349861,36.38769552502485,36.35980006261666,36.411309466611584,36.55767942299945,36.82303278861018,36.89643143360003,37.39054633864107,38.00513856910232,38.36541561330917,39.16686813960759,40.01120016443151,40.878863149039184,41.76104803677657,42.648617723389144,43.53162185569208,44.39819476860525,45.23639410469177,46.038310336774266,46.80206727773932,47.534026582398866,48.239592740100285,48.91428831441055,49.54299810392428,50.10423242563557,50.57935771187128,50.496654868180954,50.39251152308869,50.283059599065766,50.16693777983135,50.03967602888471,49.89792194023822,49.739186047615675,49.56173048761462,49.36447746371929,49.147122363204716,48.91023256945529,48.65477227906217,48.381964156751934,48.09298202549075,47.78924122661766,47.472365079531684,47.144179818801724,46.80681167793835,46.46186594691358],\"yaxis\":\"y\",\"type\":\"scatter\"},{\"hovertemplate\":\"Country=France\\u003cbr\\u003ex=%{x}\\u003cbr\\u003ey=%{y}\\u003cextra\\u003e\\u003c\\u002fextra\\u003e\",\"legendgroup\":\"France\",\"marker\":{\"color\":\"#00cc96\",\"symbol\":\"circle\"},\"mode\":\"markers\",\"name\":\"France\",\"orientation\":\"v\",\"showlegend\":true,\"x\":[1946,1948,1949,1950,1952,1953,1954,1955,1956,1958,1959,1961,1962,1965,1966,1967,1968,1969,1970,1971,1972,1973,1974,1975,1976,1977,1978,1979,1980,1981,1982,1983,1984,1985,1986,1987,1988,1989,1990,1991,1992,1993,1994,1995,1996,1997,1998,1999,2000,2001,2002,2003,2004,2006,2005,2007,2008,2009,2010,2011,2012,2013,2014,2015,2016,2017,2018,2019],\"xaxis\":\"x\",\"y\":[50.0,16.666666666666664,83.33333333333334,0.0,25.0,50.0,100.0,50.0,83.33333333333334,50.0,0.0,0.0,0.0,0.0,75.0,20.0,0.0,60.0,57.14285714285714,11.11111111111111,33.33333333333333,34.78260869565217,25.0,35.0,18.75,31.57894736842105,43.75,25.0,38.88888888888889,46.15384615384615,28.57142857142857,36.84210526315789,33.33333333333333,31.25,45.83333333333333,42.10526315789473,23.52941176470588,35.714285714285715,20.0,36.36363636363637,45.45454545454545,54.54545454545454,64.28571428571429,71.42857142857143,64.70588235294117,60.0,64.70588235294117,50.0,52.94117647058824,45.0,54.54545454545454,52.0,50.0,50.0,61.904761904761905,55.55555555555556,50.0,39.130434782608695,52.0,48.0,52.17391304347826,42.857142857142854,44.44444444444444,40.0,31.57894736842105,53.333333333333336,54.54545454545454,42.857142857142854],\"yaxis\":\"y\",\"type\":\"scatter\"},{\"hovertemplate\":\"\\u003cb\\u003eLOWESS trendline\\u003c\\u002fb\\u003e\\u003cbr\\u003e\\u003cbr\\u003eCountry=France\\u003cbr\\u003ex=%{x}\\u003cbr\\u003ey=%{y} \\u003cb\\u003e(trend)\\u003c\\u002fb\\u003e\\u003cextra\\u003e\\u003c\\u002fextra\\u003e\",\"legendgroup\":\"France\",\"marker\":{\"color\":\"#00cc96\",\"symbol\":\"circle\"},\"mode\":\"lines\",\"name\":\"France\",\"showlegend\":false,\"x\":[1946,1948,1949,1950,1952,1953,1954,1955,1956,1958,1959,1961,1962,1965,1966,1967,1968,1969,1970,1971,1972,1973,1974,1975,1976,1977,1978,1979,1980,1981,1982,1983,1984,1985,1986,1987,1988,1989,1990,1991,1992,1993,1994,1995,1996,1997,1998,1999,2000,2001,2002,2003,2004,2005,2006,2007,2008,2009,2010,2011,2012,2013,2014,2015,2016,2017,2018,2019],\"xaxis\":\"x\",\"y\":[31.692414100420272,31.536546053293478,31.466344091035097,31.4010382585443,31.285948991578096,31.23751523490309,31.19635625775515,31.162865907660652,31.137108443052952,31.105855510049945,31.09799996620917,31.087680012282288,31.080391449686143,31.01974549418408,30.976766372593033,30.916754783801544,30.836718043286847,30.73707687972927,30.62477253295962,30.50071737182671,30.585598154243296,30.723809055249255,30.94844146039884,31.290296412240423,31.63911433060739,32.30358083669057,33.07852908187253,33.94070929449723,34.860670878148404,35.81597417954616,36.783838497106096,37.742975085691604,38.60646675493325,39.538128233648585,40.447895355858236,41.2976360584717,42.184328816699434,43.03599607393767,43.84969370846827,44.62396546480763,45.35387458587506,46.037028504114716,46.67713024827705,47.2726932555979,47.82066033950876,48.32393813587921,48.46082036706155,48.560598907954066,48.653202103627116,48.74603067946197,48.83692466674341,48.9221168773027,48.99821635286892,49.06264837474672,49.11353852686002,49.149327930281345,49.16886232831159,49.17123305623893,49.15587063833558,49.122664568067336,49.0716431522665,49.002935251678466,48.916718864398845,48.813413255844395,48.69369512174701,48.558623880586225,48.40966668049511,48.248101137397995],\"yaxis\":\"y\",\"type\":\"scatter\"}],                        {\"template\":{\"data\":{\"histogram2dcontour\":[{\"type\":\"histogram2dcontour\",\"colorbar\":{\"outlinewidth\":0,\"ticks\":\"\"},\"colorscale\":[[0.0,\"#0d0887\"],[0.1111111111111111,\"#46039f\"],[0.2222222222222222,\"#7201a8\"],[0.3333333333333333,\"#9c179e\"],[0.4444444444444444,\"#bd3786\"],[0.5555555555555556,\"#d8576b\"],[0.6666666666666666,\"#ed7953\"],[0.7777777777777778,\"#fb9f3a\"],[0.8888888888888888,\"#fdca26\"],[1.0,\"#f0f921\"]]}],\"choropleth\":[{\"type\":\"choropleth\",\"colorbar\":{\"outlinewidth\":0,\"ticks\":\"\"}}],\"histogram2d\":[{\"type\":\"histogram2d\",\"colorbar\":{\"outlinewidth\":0,\"ticks\":\"\"},\"colorscale\":[[0.0,\"#0d0887\"],[0.1111111111111111,\"#46039f\"],[0.2222222222222222,\"#7201a8\"],[0.3333333333333333,\"#9c179e\"],[0.4444444444444444,\"#bd3786\"],[0.5555555555555556,\"#d8576b\"],[0.6666666666666666,\"#ed7953\"],[0.7777777777777778,\"#fb9f3a\"],[0.8888888888888888,\"#fdca26\"],[1.0,\"#f0f921\"]]}],\"heatmap\":[{\"type\":\"heatmap\",\"colorbar\":{\"outlinewidth\":0,\"ticks\":\"\"},\"colorscale\":[[0.0,\"#0d0887\"],[0.1111111111111111,\"#46039f\"],[0.2222222222222222,\"#7201a8\"],[0.3333333333333333,\"#9c179e\"],[0.4444444444444444,\"#bd3786\"],[0.5555555555555556,\"#d8576b\"],[0.6666666666666666,\"#ed7953\"],[0.7777777777777778,\"#fb9f3a\"],[0.8888888888888888,\"#fdca26\"],[1.0,\"#f0f921\"]]}],\"heatmapgl\":[{\"type\":\"heatmapgl\",\"colorbar\":{\"outlinewidth\":0,\"ticks\":\"\"},\"colorscale\":[[0.0,\"#0d0887\"],[0.1111111111111111,\"#46039f\"],[0.2222222222222222,\"#7201a8\"],[0.3333333333333333,\"#9c179e\"],[0.4444444444444444,\"#bd3786\"],[0.5555555555555556,\"#d8576b\"],[0.6666666666666666,\"#ed7953\"],[0.7777777777777778,\"#fb9f3a\"],[0.8888888888888888,\"#fdca26\"],[1.0,\"#f0f921\"]]}],\"contourcarpet\":[{\"type\":\"contourcarpet\",\"colorbar\":{\"outlinewidth\":0,\"ticks\":\"\"}}],\"contour\":[{\"type\":\"contour\",\"colorbar\":{\"outlinewidth\":0,\"ticks\":\"\"},\"colorscale\":[[0.0,\"#0d0887\"],[0.1111111111111111,\"#46039f\"],[0.2222222222222222,\"#7201a8\"],[0.3333333333333333,\"#9c179e\"],[0.4444444444444444,\"#bd3786\"],[0.5555555555555556,\"#d8576b\"],[0.6666666666666666,\"#ed7953\"],[0.7777777777777778,\"#fb9f3a\"],[0.8888888888888888,\"#fdca26\"],[1.0,\"#f0f921\"]]}],\"surface\":[{\"type\":\"surface\",\"colorbar\":{\"outlinewidth\":0,\"ticks\":\"\"},\"colorscale\":[[0.0,\"#0d0887\"],[0.1111111111111111,\"#46039f\"],[0.2222222222222222,\"#7201a8\"],[0.3333333333333333,\"#9c179e\"],[0.4444444444444444,\"#bd3786\"],[0.5555555555555556,\"#d8576b\"],[0.6666666666666666,\"#ed7953\"],[0.7777777777777778,\"#fb9f3a\"],[0.8888888888888888,\"#fdca26\"],[1.0,\"#f0f921\"]]}],\"mesh3d\":[{\"type\":\"mesh3d\",\"colorbar\":{\"outlinewidth\":0,\"ticks\":\"\"}}],\"scatter\":[{\"fillpattern\":{\"fillmode\":\"overlay\",\"size\":10,\"solidity\":0.2},\"type\":\"scatter\"}],\"parcoords\":[{\"type\":\"parcoords\",\"line\":{\"colorbar\":{\"outlinewidth\":0,\"ticks\":\"\"}}}],\"scatterpolargl\":[{\"type\":\"scatterpolargl\",\"marker\":{\"colorbar\":{\"outlinewidth\":0,\"ticks\":\"\"}}}],\"bar\":[{\"error_x\":{\"color\":\"#2a3f5f\"},\"error_y\":{\"color\":\"#2a3f5f\"},\"marker\":{\"line\":{\"color\":\"#E5ECF6\",\"width\":0.5},\"pattern\":{\"fillmode\":\"overlay\",\"size\":10,\"solidity\":0.2}},\"type\":\"bar\"}],\"scattergeo\":[{\"type\":\"scattergeo\",\"marker\":{\"colorbar\":{\"outlinewidth\":0,\"ticks\":\"\"}}}],\"scatterpolar\":[{\"type\":\"scatterpolar\",\"marker\":{\"colorbar\":{\"outlinewidth\":0,\"ticks\":\"\"}}}],\"histogram\":[{\"marker\":{\"pattern\":{\"fillmode\":\"overlay\",\"size\":10,\"solidity\":0.2}},\"type\":\"histogram\"}],\"scattergl\":[{\"type\":\"scattergl\",\"marker\":{\"colorbar\":{\"outlinewidth\":0,\"ticks\":\"\"}}}],\"scatter3d\":[{\"type\":\"scatter3d\",\"line\":{\"colorbar\":{\"outlinewidth\":0,\"ticks\":\"\"}},\"marker\":{\"colorbar\":{\"outlinewidth\":0,\"ticks\":\"\"}}}],\"scattermapbox\":[{\"type\":\"scattermapbox\",\"marker\":{\"colorbar\":{\"outlinewidth\":0,\"ticks\":\"\"}}}],\"scatterternary\":[{\"type\":\"scatterternary\",\"marker\":{\"colorbar\":{\"outlinewidth\":0,\"ticks\":\"\"}}}],\"scattercarpet\":[{\"type\":\"scattercarpet\",\"marker\":{\"colorbar\":{\"outlinewidth\":0,\"ticks\":\"\"}}}],\"carpet\":[{\"aaxis\":{\"endlinecolor\":\"#2a3f5f\",\"gridcolor\":\"white\",\"linecolor\":\"white\",\"minorgridcolor\":\"white\",\"startlinecolor\":\"#2a3f5f\"},\"baxis\":{\"endlinecolor\":\"#2a3f5f\",\"gridcolor\":\"white\",\"linecolor\":\"white\",\"minorgridcolor\":\"white\",\"startlinecolor\":\"#2a3f5f\"},\"type\":\"carpet\"}],\"table\":[{\"cells\":{\"fill\":{\"color\":\"#EBF0F8\"},\"line\":{\"color\":\"white\"}},\"header\":{\"fill\":{\"color\":\"#C8D4E3\"},\"line\":{\"color\":\"white\"}},\"type\":\"table\"}],\"barpolar\":[{\"marker\":{\"line\":{\"color\":\"#E5ECF6\",\"width\":0.5},\"pattern\":{\"fillmode\":\"overlay\",\"size\":10,\"solidity\":0.2}},\"type\":\"barpolar\"}],\"pie\":[{\"automargin\":true,\"type\":\"pie\"}]},\"layout\":{\"autotypenumbers\":\"strict\",\"colorway\":[\"#636efa\",\"#EF553B\",\"#00cc96\",\"#ab63fa\",\"#FFA15A\",\"#19d3f3\",\"#FF6692\",\"#B6E880\",\"#FF97FF\",\"#FECB52\"],\"font\":{\"color\":\"#2a3f5f\"},\"hovermode\":\"closest\",\"hoverlabel\":{\"align\":\"left\"},\"paper_bgcolor\":\"white\",\"plot_bgcolor\":\"#E5ECF6\",\"polar\":{\"bgcolor\":\"#E5ECF6\",\"angularaxis\":{\"gridcolor\":\"white\",\"linecolor\":\"white\",\"ticks\":\"\"},\"radialaxis\":{\"gridcolor\":\"white\",\"linecolor\":\"white\",\"ticks\":\"\"}},\"ternary\":{\"bgcolor\":\"#E5ECF6\",\"aaxis\":{\"gridcolor\":\"white\",\"linecolor\":\"white\",\"ticks\":\"\"},\"baxis\":{\"gridcolor\":\"white\",\"linecolor\":\"white\",\"ticks\":\"\"},\"caxis\":{\"gridcolor\":\"white\",\"linecolor\":\"white\",\"ticks\":\"\"}},\"coloraxis\":{\"colorbar\":{\"outlinewidth\":0,\"ticks\":\"\"}},\"colorscale\":{\"sequential\":[[0.0,\"#0d0887\"],[0.1111111111111111,\"#46039f\"],[0.2222222222222222,\"#7201a8\"],[0.3333333333333333,\"#9c179e\"],[0.4444444444444444,\"#bd3786\"],[0.5555555555555556,\"#d8576b\"],[0.6666666666666666,\"#ed7953\"],[0.7777777777777778,\"#fb9f3a\"],[0.8888888888888888,\"#fdca26\"],[1.0,\"#f0f921\"]],\"sequentialminus\":[[0.0,\"#0d0887\"],[0.1111111111111111,\"#46039f\"],[0.2222222222222222,\"#7201a8\"],[0.3333333333333333,\"#9c179e\"],[0.4444444444444444,\"#bd3786\"],[0.5555555555555556,\"#d8576b\"],[0.6666666666666666,\"#ed7953\"],[0.7777777777777778,\"#fb9f3a\"],[0.8888888888888888,\"#fdca26\"],[1.0,\"#f0f921\"]],\"diverging\":[[0,\"#8e0152\"],[0.1,\"#c51b7d\"],[0.2,\"#de77ae\"],[0.3,\"#f1b6da\"],[0.4,\"#fde0ef\"],[0.5,\"#f7f7f7\"],[0.6,\"#e6f5d0\"],[0.7,\"#b8e186\"],[0.8,\"#7fbc41\"],[0.9,\"#4d9221\"],[1,\"#276419\"]]},\"xaxis\":{\"gridcolor\":\"white\",\"linecolor\":\"white\",\"ticks\":\"\",\"title\":{\"standoff\":15},\"zerolinecolor\":\"white\",\"automargin\":true,\"zerolinewidth\":2},\"yaxis\":{\"gridcolor\":\"white\",\"linecolor\":\"white\",\"ticks\":\"\",\"title\":{\"standoff\":15},\"zerolinecolor\":\"white\",\"automargin\":true,\"zerolinewidth\":2},\"scene\":{\"xaxis\":{\"backgroundcolor\":\"#E5ECF6\",\"gridcolor\":\"white\",\"linecolor\":\"white\",\"showbackground\":true,\"ticks\":\"\",\"zerolinecolor\":\"white\",\"gridwidth\":2},\"yaxis\":{\"backgroundcolor\":\"#E5ECF6\",\"gridcolor\":\"white\",\"linecolor\":\"white\",\"showbackground\":true,\"ticks\":\"\",\"zerolinecolor\":\"white\",\"gridwidth\":2},\"zaxis\":{\"backgroundcolor\":\"#E5ECF6\",\"gridcolor\":\"white\",\"linecolor\":\"white\",\"showbackground\":true,\"ticks\":\"\",\"zerolinecolor\":\"white\",\"gridwidth\":2}},\"shapedefaults\":{\"line\":{\"color\":\"#2a3f5f\"}},\"annotationdefaults\":{\"arrowcolor\":\"#2a3f5f\",\"arrowhead\":0,\"arrowwidth\":1},\"geo\":{\"bgcolor\":\"white\",\"landcolor\":\"#E5ECF6\",\"subunitcolor\":\"white\",\"showland\":true,\"showlakes\":true,\"lakecolor\":\"white\"},\"title\":{\"x\":0.05},\"mapbox\":{\"style\":\"light\"}}},\"xaxis\":{\"anchor\":\"y\",\"domain\":[0.0,1.0],\"title\":{\"text\":\"Year\"}},\"yaxis\":{\"anchor\":\"x\",\"domain\":[0.0,1.0],\"title\":{\"text\":\"% Yes\"}},\"legend\":{\"title\":{\"text\":\"Country\"},\"tracegroupgap\":0},\"margin\":{\"t\":60},\"title\":{\"text\":\"Human rights\\u003cbr\\u003e\",\"y\":0.9,\"x\":0.5,\"xanchor\":\"center\",\"yanchor\":\"top\"}},                        {\"responsive\": true}                    ).then(function(){\n",
       "                            \n",
       "var gd = document.getElementById('e15b1495-b843-44a0-b083-213d2e00b594');\n",
       "var x = new MutationObserver(function (mutations, observer) {{\n",
       "        var display = window.getComputedStyle(gd).display;\n",
       "        if (!display || display === 'none') {{\n",
       "            console.log([gd, 'removed!']);\n",
       "            Plotly.purge(gd);\n",
       "            observer.disconnect();\n",
       "        }}\n",
       "}});\n",
       "\n",
       "// Listen for the removal of the full notebook cells\n",
       "var notebookContainer = gd.closest('#notebook-container');\n",
       "if (notebookContainer) {{\n",
       "    x.observe(notebookContainer, {childList: true});\n",
       "}}\n",
       "\n",
       "// Listen for the clearing of the current output cell\n",
       "var outputEl = gd.closest('.output');\n",
       "if (outputEl) {{\n",
       "    x.observe(outputEl, {childList: true});\n",
       "}}\n",
       "\n",
       "                        })                };                });            </script>        </div>"
      ]
     },
     "metadata": {},
     "output_type": "display_data"
    },
    {
     "data": {
      "application/vnd.plotly.v1+json": {
       "config": {
        "plotlyServerURL": "https://plot.ly"
       },
       "data": [
        {
         "hovertemplate": "Country=Spain<br>x=%{x}<br>y=%{y}<extra></extra>",
         "legendgroup": "Spain",
         "marker": {
          "color": "#636efa",
          "symbol": "circle"
         },
         "mode": "markers",
         "name": "Spain",
         "orientation": "v",
         "showlegend": true,
         "type": "scatter",
         "x": [
          1956,
          1957,
          1958,
          1959,
          1961,
          1962,
          1963,
          1966,
          1967,
          1968,
          1969,
          1970,
          1971,
          1972,
          1973,
          1974,
          1975,
          1976,
          1977,
          1979,
          1978,
          1980,
          1981,
          1982,
          1983,
          1984,
          1985,
          1986,
          1987,
          1988,
          1989,
          1990,
          1991,
          1992,
          1993,
          1994,
          1995,
          1996,
          1997,
          1998,
          1999,
          2000,
          2001,
          2002,
          2003,
          2004,
          2005,
          2006,
          2007,
          2008,
          2009,
          2010,
          2011,
          2012,
          2013,
          2014,
          2015,
          2016,
          2017,
          2018,
          2019
         ],
         "xaxis": "x",
         "y": [
          100,
          100,
          60,
          50,
          44.44444444444444,
          50,
          50,
          60,
          100,
          66.66666666666666,
          50,
          44.44444444444444,
          92.3076923076923,
          76,
          52.63157894736842,
          42.857142857142854,
          72.72727272727273,
          62.96296296296296,
          82.6086956521739,
          56.00000000000001,
          86.95652173913044,
          68.75,
          76.19047619047619,
          57.14285714285714,
          60,
          35,
          48,
          35,
          40,
          33.33333333333333,
          42.10526315789473,
          33.33333333333333,
          50,
          50,
          50,
          50,
          60,
          33.33333333333333,
          50,
          50,
          57.14285714285714,
          100,
          50,
          66.66666666666666,
          85.71428571428571,
          100,
          77.77777777777779,
          66.66666666666666,
          75,
          76.92307692307693,
          66.66666666666666,
          71.42857142857143,
          77.77777777777779,
          75,
          85.71428571428571,
          72.72727272727273,
          62.5,
          71.42857142857143,
          75,
          72.22222222222221,
          37.5
         ],
         "yaxis": "y"
        },
        {
         "hovertemplate": "<b>LOWESS trendline</b><br><br>Country=Spain<br>x=%{x}<br>y=%{y} <b>(trend)</b><extra></extra>",
         "legendgroup": "Spain",
         "marker": {
          "color": "#636efa",
          "symbol": "circle"
         },
         "mode": "lines",
         "name": "Spain",
         "showlegend": false,
         "type": "scatter",
         "x": [
          1956,
          1957,
          1958,
          1959,
          1961,
          1962,
          1963,
          1966,
          1967,
          1968,
          1969,
          1970,
          1971,
          1972,
          1973,
          1974,
          1975,
          1976,
          1977,
          1978,
          1979,
          1980,
          1981,
          1982,
          1983,
          1984,
          1985,
          1986,
          1987,
          1988,
          1989,
          1990,
          1991,
          1992,
          1993,
          1994,
          1995,
          1996,
          1997,
          1998,
          1999,
          2000,
          2001,
          2002,
          2003,
          2004,
          2005,
          2006,
          2007,
          2008,
          2009,
          2010,
          2011,
          2012,
          2013,
          2014,
          2015,
          2016,
          2017,
          2018,
          2019
         ],
         "xaxis": "x",
         "y": [
          68.15834403381115,
          67.80929457081031,
          67.45886969609683,
          67.10273537409482,
          66.35678767758448,
          65.96000995699187,
          65.54390522721822,
          64.17332616119364,
          63.67782095158169,
          63.16590518807153,
          62.639947618857505,
          62.10344978495501,
          61.56282545386182,
          61.02885664018946,
          60.51676766882462,
          60.048413944279964,
          59.65501041267444,
          59.366858013429905,
          59.152373622726806,
          58.54475328514878,
          57.881586592554605,
          57.18407587993334,
          56.48211014158563,
          55.79776042053878,
          55.16127434878479,
          54.602314650296364,
          53.84271127397768,
          53.395423556962456,
          53.056921614887116,
          52.834608450115915,
          52.744951654862575,
          52.80698100619665,
          53.02452591374465,
          53.387088922411486,
          53.88996549913575,
          54.538779280318806,
          55.340056451402155,
          56.28170824714607,
          57.339493235074706,
          58.487940452505676,
          59.705458317643505,
          60.970369842227655,
          62.05712158571393,
          63.06709419903118,
          64.05000345560944,
          65.02464984173025,
          65.99573624233138,
          66.96279005513318,
          67.9239327308308,
          68.87723667885054,
          69.82055276056185,
          70.75157632901032,
          71.66829631004885,
          72.56882004559766,
          73.4511352613319,
          74.31313704822674,
          75.1524240417617,
          75.96697297316786,
          76.7556732329883,
          77.51796910118236,
          78.2536130290043
         ],
         "yaxis": "y"
        },
        {
         "hovertemplate": "Country=Italy<br>x=%{x}<br>y=%{y}<extra></extra>",
         "legendgroup": "Italy",
         "marker": {
          "color": "#EF553B",
          "symbol": "circle"
         },
         "mode": "markers",
         "name": "Italy",
         "orientation": "v",
         "showlegend": true,
         "type": "scatter",
         "x": [
          1956,
          1957,
          1958,
          1959,
          1961,
          1962,
          1963,
          1966,
          1967,
          1968,
          1969,
          1970,
          1971,
          1972,
          1973,
          1974,
          1975,
          1976,
          1977,
          1979,
          1978,
          1980,
          1981,
          1982,
          1983,
          1984,
          1985,
          1986,
          1987,
          1988,
          1989,
          1990,
          1991,
          1992,
          1993,
          1994,
          1995,
          1996,
          1997,
          1998,
          1999,
          2000,
          2001,
          2002,
          2003,
          2004,
          2005,
          2006,
          2007,
          2008,
          2009,
          2010,
          2011,
          2012,
          2013,
          2014,
          2015,
          2016,
          2017,
          2018,
          2019
         ],
         "xaxis": "x",
         "y": [
          100,
          100,
          80,
          66.66666666666666,
          54.54545454545454,
          66.66666666666666,
          100,
          83.33333333333334,
          16.666666666666664,
          33.33333333333333,
          25,
          44.44444444444444,
          81.48148148148148,
          72.41379310344827,
          55.00000000000001,
          42.857142857142854,
          45.45454545454545,
          37.03703703703704,
          65.21739130434783,
          24,
          52.17391304347826,
          43.75,
          42.857142857142854,
          39.285714285714285,
          48,
          25,
          32,
          30,
          35,
          22.22222222222222,
          42.10526315789473,
          50,
          50,
          33.33333333333333,
          33.33333333333333,
          25,
          60,
          33.33333333333333,
          50,
          50,
          57.14285714285714,
          100,
          50,
          66.66666666666666,
          100,
          100,
          77.77777777777779,
          88.88888888888889,
          75,
          76.92307692307693,
          66.66666666666666,
          71.42857142857143,
          77.77777777777779,
          75,
          85.71428571428571,
          72.72727272727273,
          75,
          78.57142857142857,
          75,
          61.111111111111114,
          31.25
         ],
         "yaxis": "y"
        },
        {
         "hovertemplate": "<b>LOWESS trendline</b><br><br>Country=Italy<br>x=%{x}<br>y=%{y} <b>(trend)</b><extra></extra>",
         "legendgroup": "Italy",
         "marker": {
          "color": "#EF553B",
          "symbol": "circle"
         },
         "mode": "lines",
         "name": "Italy",
         "showlegend": false,
         "type": "scatter",
         "x": [
          1956,
          1957,
          1958,
          1959,
          1961,
          1962,
          1963,
          1966,
          1967,
          1968,
          1969,
          1970,
          1971,
          1972,
          1973,
          1974,
          1975,
          1976,
          1977,
          1978,
          1979,
          1980,
          1981,
          1982,
          1983,
          1984,
          1985,
          1986,
          1987,
          1988,
          1989,
          1990,
          1991,
          1992,
          1993,
          1994,
          1995,
          1996,
          1997,
          1998,
          1999,
          2000,
          2001,
          2002,
          2003,
          2004,
          2005,
          2006,
          2007,
          2008,
          2009,
          2010,
          2011,
          2012,
          2013,
          2014,
          2015,
          2016,
          2017,
          2018,
          2019
         ],
         "xaxis": "x",
         "y": [
          83.86393179955726,
          82.05287696500174,
          80.25342454586092,
          78.46407804127351,
          74.90947025976338,
          73.14207104574751,
          71.38089696029219,
          66.13442800600204,
          64.39550299848436,
          62.658981248337845,
          60.922870904332285,
          59.18595084531124,
          57.44816140341677,
          55.710816963590254,
          53.97602072226265,
          52.24941651056745,
          50.550222165884776,
          48.93076328798166,
          47.47018702101128,
          46.35539429067572,
          45.35755799160077,
          44.48883420197236,
          43.76680413422421,
          43.20511828247537,
          42.809516986882194,
          42.57179333818549,
          42.02637099980439,
          42.03164749611008,
          42.20516503446841,
          42.58269969059013,
          43.197427148981916,
          44.06306050110863,
          45.15769618596345,
          46.43308073278607,
          47.83814208623783,
          49.33236685176142,
          50.89157166931615,
          52.4953947439626,
          54.12510314651335,
          55.76310383347986,
          57.3989760414418,
          59.03104409759619,
          60.45145988751453,
          61.832740926292495,
          63.21012340462998,
          64.59282090108623,
          65.98076449549735,
          67.37103743301878,
          68.75993033346991,
          70.14331075956535,
          71.51720863429568,
          72.87797642058695,
          74.22267364859543,
          75.54882390915299,
          76.8541221042572,
          78.13644492792707,
          79.39360838848825,
          80.62395954103788,
          81.82641208930538,
          83.00031029023683,
          84.14577960368145
         ],
         "yaxis": "y"
        },
        {
         "hovertemplate": "Country=France<br>x=%{x}<br>y=%{y}<extra></extra>",
         "legendgroup": "France",
         "marker": {
          "color": "#00cc96",
          "symbol": "circle"
         },
         "mode": "markers",
         "name": "France",
         "orientation": "v",
         "showlegend": true,
         "type": "scatter",
         "x": [
          1946,
          1947,
          1948,
          1949,
          1950,
          1952,
          1953,
          1954,
          1956,
          1957,
          1958,
          1959,
          1961,
          1962,
          1963,
          1966,
          1967,
          1968,
          1969,
          1970,
          1971,
          1972,
          1973,
          1974,
          1975,
          1976,
          1977,
          1979,
          1978,
          1980,
          1981,
          1982,
          1983,
          1984,
          1985,
          1986,
          1987,
          1988,
          1989,
          1990,
          1991,
          1992,
          1993,
          1994,
          1995,
          1996,
          1997,
          1998,
          1999,
          2000,
          2001,
          2002,
          2003,
          2004,
          2005,
          2006,
          2007,
          2008,
          2009,
          2010,
          2011,
          2012,
          2013,
          2014,
          2015,
          2016,
          2017,
          2018,
          2019
         ],
         "xaxis": "x",
         "y": [
          70,
          100,
          50,
          25,
          0,
          33.33333333333333,
          100,
          100,
          100,
          100,
          60,
          66.66666666666666,
          27.27272727272727,
          33.33333333333333,
          0,
          66.66666666666666,
          16.666666666666664,
          0,
          33.33333333333333,
          44.44444444444444,
          55.55555555555556,
          64.28571428571429,
          50,
          28.57142857142857,
          45.45454545454545,
          29.629629629629626,
          52.17391304347826,
          20,
          39.130434782608695,
          37.5,
          38.095238095238095,
          39.285714285714285,
          48,
          20,
          36,
          25,
          35,
          22.22222222222222,
          36.84210526315789,
          33.33333333333333,
          50,
          50,
          50,
          50,
          60,
          33.33333333333333,
          25,
          33.33333333333333,
          42.857142857142854,
          66.66666666666666,
          25,
          33.33333333333333,
          71.42857142857143,
          71.42857142857143,
          55.55555555555556,
          44.44444444444444,
          58.333333333333336,
          69.23076923076923,
          58.333333333333336,
          42.857142857142854,
          66.66666666666666,
          66.66666666666666,
          71.42857142857143,
          63.63636363636363,
          50,
          57.14285714285714,
          73.68421052631578,
          66.66666666666666,
          31.25
         ],
         "yaxis": "y"
        },
        {
         "hovertemplate": "<b>LOWESS trendline</b><br><br>Country=France<br>x=%{x}<br>y=%{y} <b>(trend)</b><extra></extra>",
         "legendgroup": "France",
         "marker": {
          "color": "#00cc96",
          "symbol": "circle"
         },
         "mode": "lines",
         "name": "France",
         "showlegend": false,
         "type": "scatter",
         "x": [
          1946,
          1947,
          1948,
          1949,
          1950,
          1952,
          1953,
          1954,
          1956,
          1957,
          1958,
          1959,
          1961,
          1962,
          1963,
          1966,
          1967,
          1968,
          1969,
          1970,
          1971,
          1972,
          1973,
          1974,
          1975,
          1976,
          1977,
          1978,
          1979,
          1980,
          1981,
          1982,
          1983,
          1984,
          1985,
          1986,
          1987,
          1988,
          1989,
          1990,
          1991,
          1992,
          1993,
          1994,
          1995,
          1996,
          1997,
          1998,
          1999,
          2000,
          2001,
          2002,
          2003,
          2004,
          2005,
          2006,
          2007,
          2008,
          2009,
          2010,
          2011,
          2012,
          2013,
          2014,
          2015,
          2016,
          2017,
          2018,
          2019
         ],
         "xaxis": "x",
         "y": [
          69.28255342636376,
          68.2321961868016,
          67.18336773357768,
          66.1354975305497,
          65.08857423902305,
          63.001576684668606,
          61.96433890488929,
          60.93408498780148,
          58.901201339828226,
          57.90062607029796,
          56.911093530264445,
          55.931876033617584,
          53.998122927508206,
          53.038569003528146,
          52.080145487246156,
          49.17999140433751,
          48.187536980889384,
          47.16485943177846,
          46.094438231947784,
          44.955489877212045,
          43.955231568116545,
          43.00224728728993,
          42.117804352927855,
          41.32934874178517,
          40.65916267677546,
          39.83145885113586,
          39.484351668433604,
          39.26833476782034,
          39.15736460002958,
          39.126706046101766,
          39.151536028037455,
          39.21527354034588,
          39.30947442577631,
          39.26884294850941,
          39.39064406100126,
          39.559140427834826,
          39.78448702878919,
          39.783888354431305,
          40.1156214717142,
          40.52934255676363,
          41.03734689924198,
          41.64556486688963,
          42.35102296162156,
          43.1406452175516,
          43.99377783796934,
          44.89290268080065,
          45.828272555854376,
          46.84423661915415,
          47.798157391270756,
          48.706865939453095,
          49.588867649518576,
          50.45541870533789,
          51.31397895880221,
          52.16970705976504,
          53.025352188602305,
          53.88207593050851,
          54.74048391843824,
          55.601096045474826,
          56.464029773041254,
          57.32884924158216,
          58.19501192920126,
          59.062218445661735,
          59.9299121523433,
          60.797172793990725,
          61.66272282322948,
          62.525284110504344,
          63.38402997925153,
          64.23836410662295,
          65.0874182213983
         ],
         "yaxis": "y"
        }
       ],
       "layout": {
        "autosize": true,
        "legend": {
         "title": {
          "text": "Country"
         },
         "tracegroupgap": 0
        },
        "margin": {
         "t": 60
        },
        "template": {
         "data": {
          "bar": [
           {
            "error_x": {
             "color": "#2a3f5f"
            },
            "error_y": {
             "color": "#2a3f5f"
            },
            "marker": {
             "line": {
              "color": "#E5ECF6",
              "width": 0.5
             },
             "pattern": {
              "fillmode": "overlay",
              "size": 10,
              "solidity": 0.2
             }
            },
            "type": "bar"
           }
          ],
          "barpolar": [
           {
            "marker": {
             "line": {
              "color": "#E5ECF6",
              "width": 0.5
             },
             "pattern": {
              "fillmode": "overlay",
              "size": 10,
              "solidity": 0.2
             }
            },
            "type": "barpolar"
           }
          ],
          "carpet": [
           {
            "aaxis": {
             "endlinecolor": "#2a3f5f",
             "gridcolor": "white",
             "linecolor": "white",
             "minorgridcolor": "white",
             "startlinecolor": "#2a3f5f"
            },
            "baxis": {
             "endlinecolor": "#2a3f5f",
             "gridcolor": "white",
             "linecolor": "white",
             "minorgridcolor": "white",
             "startlinecolor": "#2a3f5f"
            },
            "type": "carpet"
           }
          ],
          "choropleth": [
           {
            "colorbar": {
             "outlinewidth": 0,
             "ticks": ""
            },
            "type": "choropleth"
           }
          ],
          "contour": [
           {
            "colorbar": {
             "outlinewidth": 0,
             "ticks": ""
            },
            "colorscale": [
             [
              0,
              "#0d0887"
             ],
             [
              0.1111111111111111,
              "#46039f"
             ],
             [
              0.2222222222222222,
              "#7201a8"
             ],
             [
              0.3333333333333333,
              "#9c179e"
             ],
             [
              0.4444444444444444,
              "#bd3786"
             ],
             [
              0.5555555555555556,
              "#d8576b"
             ],
             [
              0.6666666666666666,
              "#ed7953"
             ],
             [
              0.7777777777777778,
              "#fb9f3a"
             ],
             [
              0.8888888888888888,
              "#fdca26"
             ],
             [
              1,
              "#f0f921"
             ]
            ],
            "type": "contour"
           }
          ],
          "contourcarpet": [
           {
            "colorbar": {
             "outlinewidth": 0,
             "ticks": ""
            },
            "type": "contourcarpet"
           }
          ],
          "heatmap": [
           {
            "colorbar": {
             "outlinewidth": 0,
             "ticks": ""
            },
            "colorscale": [
             [
              0,
              "#0d0887"
             ],
             [
              0.1111111111111111,
              "#46039f"
             ],
             [
              0.2222222222222222,
              "#7201a8"
             ],
             [
              0.3333333333333333,
              "#9c179e"
             ],
             [
              0.4444444444444444,
              "#bd3786"
             ],
             [
              0.5555555555555556,
              "#d8576b"
             ],
             [
              0.6666666666666666,
              "#ed7953"
             ],
             [
              0.7777777777777778,
              "#fb9f3a"
             ],
             [
              0.8888888888888888,
              "#fdca26"
             ],
             [
              1,
              "#f0f921"
             ]
            ],
            "type": "heatmap"
           }
          ],
          "heatmapgl": [
           {
            "colorbar": {
             "outlinewidth": 0,
             "ticks": ""
            },
            "colorscale": [
             [
              0,
              "#0d0887"
             ],
             [
              0.1111111111111111,
              "#46039f"
             ],
             [
              0.2222222222222222,
              "#7201a8"
             ],
             [
              0.3333333333333333,
              "#9c179e"
             ],
             [
              0.4444444444444444,
              "#bd3786"
             ],
             [
              0.5555555555555556,
              "#d8576b"
             ],
             [
              0.6666666666666666,
              "#ed7953"
             ],
             [
              0.7777777777777778,
              "#fb9f3a"
             ],
             [
              0.8888888888888888,
              "#fdca26"
             ],
             [
              1,
              "#f0f921"
             ]
            ],
            "type": "heatmapgl"
           }
          ],
          "histogram": [
           {
            "marker": {
             "pattern": {
              "fillmode": "overlay",
              "size": 10,
              "solidity": 0.2
             }
            },
            "type": "histogram"
           }
          ],
          "histogram2d": [
           {
            "colorbar": {
             "outlinewidth": 0,
             "ticks": ""
            },
            "colorscale": [
             [
              0,
              "#0d0887"
             ],
             [
              0.1111111111111111,
              "#46039f"
             ],
             [
              0.2222222222222222,
              "#7201a8"
             ],
             [
              0.3333333333333333,
              "#9c179e"
             ],
             [
              0.4444444444444444,
              "#bd3786"
             ],
             [
              0.5555555555555556,
              "#d8576b"
             ],
             [
              0.6666666666666666,
              "#ed7953"
             ],
             [
              0.7777777777777778,
              "#fb9f3a"
             ],
             [
              0.8888888888888888,
              "#fdca26"
             ],
             [
              1,
              "#f0f921"
             ]
            ],
            "type": "histogram2d"
           }
          ],
          "histogram2dcontour": [
           {
            "colorbar": {
             "outlinewidth": 0,
             "ticks": ""
            },
            "colorscale": [
             [
              0,
              "#0d0887"
             ],
             [
              0.1111111111111111,
              "#46039f"
             ],
             [
              0.2222222222222222,
              "#7201a8"
             ],
             [
              0.3333333333333333,
              "#9c179e"
             ],
             [
              0.4444444444444444,
              "#bd3786"
             ],
             [
              0.5555555555555556,
              "#d8576b"
             ],
             [
              0.6666666666666666,
              "#ed7953"
             ],
             [
              0.7777777777777778,
              "#fb9f3a"
             ],
             [
              0.8888888888888888,
              "#fdca26"
             ],
             [
              1,
              "#f0f921"
             ]
            ],
            "type": "histogram2dcontour"
           }
          ],
          "mesh3d": [
           {
            "colorbar": {
             "outlinewidth": 0,
             "ticks": ""
            },
            "type": "mesh3d"
           }
          ],
          "parcoords": [
           {
            "line": {
             "colorbar": {
              "outlinewidth": 0,
              "ticks": ""
             }
            },
            "type": "parcoords"
           }
          ],
          "pie": [
           {
            "automargin": true,
            "type": "pie"
           }
          ],
          "scatter": [
           {
            "fillpattern": {
             "fillmode": "overlay",
             "size": 10,
             "solidity": 0.2
            },
            "type": "scatter"
           }
          ],
          "scatter3d": [
           {
            "line": {
             "colorbar": {
              "outlinewidth": 0,
              "ticks": ""
             }
            },
            "marker": {
             "colorbar": {
              "outlinewidth": 0,
              "ticks": ""
             }
            },
            "type": "scatter3d"
           }
          ],
          "scattercarpet": [
           {
            "marker": {
             "colorbar": {
              "outlinewidth": 0,
              "ticks": ""
             }
            },
            "type": "scattercarpet"
           }
          ],
          "scattergeo": [
           {
            "marker": {
             "colorbar": {
              "outlinewidth": 0,
              "ticks": ""
             }
            },
            "type": "scattergeo"
           }
          ],
          "scattergl": [
           {
            "marker": {
             "colorbar": {
              "outlinewidth": 0,
              "ticks": ""
             }
            },
            "type": "scattergl"
           }
          ],
          "scattermapbox": [
           {
            "marker": {
             "colorbar": {
              "outlinewidth": 0,
              "ticks": ""
             }
            },
            "type": "scattermapbox"
           }
          ],
          "scatterpolar": [
           {
            "marker": {
             "colorbar": {
              "outlinewidth": 0,
              "ticks": ""
             }
            },
            "type": "scatterpolar"
           }
          ],
          "scatterpolargl": [
           {
            "marker": {
             "colorbar": {
              "outlinewidth": 0,
              "ticks": ""
             }
            },
            "type": "scatterpolargl"
           }
          ],
          "scatterternary": [
           {
            "marker": {
             "colorbar": {
              "outlinewidth": 0,
              "ticks": ""
             }
            },
            "type": "scatterternary"
           }
          ],
          "surface": [
           {
            "colorbar": {
             "outlinewidth": 0,
             "ticks": ""
            },
            "colorscale": [
             [
              0,
              "#0d0887"
             ],
             [
              0.1111111111111111,
              "#46039f"
             ],
             [
              0.2222222222222222,
              "#7201a8"
             ],
             [
              0.3333333333333333,
              "#9c179e"
             ],
             [
              0.4444444444444444,
              "#bd3786"
             ],
             [
              0.5555555555555556,
              "#d8576b"
             ],
             [
              0.6666666666666666,
              "#ed7953"
             ],
             [
              0.7777777777777778,
              "#fb9f3a"
             ],
             [
              0.8888888888888888,
              "#fdca26"
             ],
             [
              1,
              "#f0f921"
             ]
            ],
            "type": "surface"
           }
          ],
          "table": [
           {
            "cells": {
             "fill": {
              "color": "#EBF0F8"
             },
             "line": {
              "color": "white"
             }
            },
            "header": {
             "fill": {
              "color": "#C8D4E3"
             },
             "line": {
              "color": "white"
             }
            },
            "type": "table"
           }
          ]
         },
         "layout": {
          "annotationdefaults": {
           "arrowcolor": "#2a3f5f",
           "arrowhead": 0,
           "arrowwidth": 1
          },
          "autotypenumbers": "strict",
          "coloraxis": {
           "colorbar": {
            "outlinewidth": 0,
            "ticks": ""
           }
          },
          "colorscale": {
           "diverging": [
            [
             0,
             "#8e0152"
            ],
            [
             0.1,
             "#c51b7d"
            ],
            [
             0.2,
             "#de77ae"
            ],
            [
             0.3,
             "#f1b6da"
            ],
            [
             0.4,
             "#fde0ef"
            ],
            [
             0.5,
             "#f7f7f7"
            ],
            [
             0.6,
             "#e6f5d0"
            ],
            [
             0.7,
             "#b8e186"
            ],
            [
             0.8,
             "#7fbc41"
            ],
            [
             0.9,
             "#4d9221"
            ],
            [
             1,
             "#276419"
            ]
           ],
           "sequential": [
            [
             0,
             "#0d0887"
            ],
            [
             0.1111111111111111,
             "#46039f"
            ],
            [
             0.2222222222222222,
             "#7201a8"
            ],
            [
             0.3333333333333333,
             "#9c179e"
            ],
            [
             0.4444444444444444,
             "#bd3786"
            ],
            [
             0.5555555555555556,
             "#d8576b"
            ],
            [
             0.6666666666666666,
             "#ed7953"
            ],
            [
             0.7777777777777778,
             "#fb9f3a"
            ],
            [
             0.8888888888888888,
             "#fdca26"
            ],
            [
             1,
             "#f0f921"
            ]
           ],
           "sequentialminus": [
            [
             0,
             "#0d0887"
            ],
            [
             0.1111111111111111,
             "#46039f"
            ],
            [
             0.2222222222222222,
             "#7201a8"
            ],
            [
             0.3333333333333333,
             "#9c179e"
            ],
            [
             0.4444444444444444,
             "#bd3786"
            ],
            [
             0.5555555555555556,
             "#d8576b"
            ],
            [
             0.6666666666666666,
             "#ed7953"
            ],
            [
             0.7777777777777778,
             "#fb9f3a"
            ],
            [
             0.8888888888888888,
             "#fdca26"
            ],
            [
             1,
             "#f0f921"
            ]
           ]
          },
          "colorway": [
           "#636efa",
           "#EF553B",
           "#00cc96",
           "#ab63fa",
           "#FFA15A",
           "#19d3f3",
           "#FF6692",
           "#B6E880",
           "#FF97FF",
           "#FECB52"
          ],
          "font": {
           "color": "#2a3f5f"
          },
          "geo": {
           "bgcolor": "white",
           "lakecolor": "white",
           "landcolor": "#E5ECF6",
           "showlakes": true,
           "showland": true,
           "subunitcolor": "white"
          },
          "hoverlabel": {
           "align": "left"
          },
          "hovermode": "closest",
          "mapbox": {
           "style": "light"
          },
          "paper_bgcolor": "white",
          "plot_bgcolor": "#E5ECF6",
          "polar": {
           "angularaxis": {
            "gridcolor": "white",
            "linecolor": "white",
            "ticks": ""
           },
           "bgcolor": "#E5ECF6",
           "radialaxis": {
            "gridcolor": "white",
            "linecolor": "white",
            "ticks": ""
           }
          },
          "scene": {
           "xaxis": {
            "backgroundcolor": "#E5ECF6",
            "gridcolor": "white",
            "gridwidth": 2,
            "linecolor": "white",
            "showbackground": true,
            "ticks": "",
            "zerolinecolor": "white"
           },
           "yaxis": {
            "backgroundcolor": "#E5ECF6",
            "gridcolor": "white",
            "gridwidth": 2,
            "linecolor": "white",
            "showbackground": true,
            "ticks": "",
            "zerolinecolor": "white"
           },
           "zaxis": {
            "backgroundcolor": "#E5ECF6",
            "gridcolor": "white",
            "gridwidth": 2,
            "linecolor": "white",
            "showbackground": true,
            "ticks": "",
            "zerolinecolor": "white"
           }
          },
          "shapedefaults": {
           "line": {
            "color": "#2a3f5f"
           }
          },
          "ternary": {
           "aaxis": {
            "gridcolor": "white",
            "linecolor": "white",
            "ticks": ""
           },
           "baxis": {
            "gridcolor": "white",
            "linecolor": "white",
            "ticks": ""
           },
           "bgcolor": "#E5ECF6",
           "caxis": {
            "gridcolor": "white",
            "linecolor": "white",
            "ticks": ""
           }
          },
          "title": {
           "x": 0.05
          },
          "xaxis": {
           "automargin": true,
           "gridcolor": "white",
           "linecolor": "white",
           "ticks": "",
           "title": {
            "standoff": 15
           },
           "zerolinecolor": "white",
           "zerolinewidth": 2
          },
          "yaxis": {
           "automargin": true,
           "gridcolor": "white",
           "linecolor": "white",
           "ticks": "",
           "title": {
            "standoff": 15
           },
           "zerolinecolor": "white",
           "zerolinewidth": 2
          }
         }
        },
        "title": {
         "text": "Economic development<br>",
         "x": 0.5,
         "xanchor": "center",
         "y": 0.9,
         "yanchor": "top"
        },
        "xaxis": {
         "anchor": "y",
         "autorange": true,
         "domain": [
          0,
          1
         ],
         "range": [
          1941.6050106014955,
          2023.3949893985045
         ],
         "title": {
          "text": "Year"
         },
         "type": "linear"
        },
        "yaxis": {
         "anchor": "x",
         "autorange": true,
         "domain": [
          0,
          1
         ],
         "range": [
          -7.742782152230971,
          107.74278215223097
         ],
         "title": {
          "text": "% Yes"
         },
         "type": "linear"
        }
       }
      },
      "image/png": "[encoded data removed]",
      "text/html": [
       "<div>                            <div id=\"972f35ab-03d1-4905-bfa6-13306fd810e3\" class=\"plotly-graph-div\" style=\"height:525px; width:100%;\"></div>            <script type=\"text/javascript\">                require([\"plotly\"], function(Plotly) {                    window.PLOTLYENV=window.PLOTLYENV || {};                                    if (document.getElementById(\"972f35ab-03d1-4905-bfa6-13306fd810e3\")) {                    Plotly.newPlot(                        \"972f35ab-03d1-4905-bfa6-13306fd810e3\",                        [{\"hovertemplate\":\"Country=Spain\\u003cbr\\u003ex=%{x}\\u003cbr\\u003ey=%{y}\\u003cextra\\u003e\\u003c\\u002fextra\\u003e\",\"legendgroup\":\"Spain\",\"marker\":{\"color\":\"#636efa\",\"symbol\":\"circle\"},\"mode\":\"markers\",\"name\":\"Spain\",\"orientation\":\"v\",\"showlegend\":true,\"x\":[1956,1957,1958,1959,1961,1962,1963,1966,1967,1968,1969,1970,1971,1972,1973,1974,1975,1976,1977,1979,1978,1980,1981,1982,1983,1984,1985,1986,1987,1988,1989,1990,1991,1992,1993,1994,1995,1996,1997,1998,1999,2000,2001,2002,2003,2004,2005,2006,2007,2008,2009,2010,2011,2012,2013,2014,2015,2016,2017,2018,2019],\"xaxis\":\"x\",\"y\":[100.0,100.0,60.0,50.0,44.44444444444444,50.0,50.0,60.0,100.0,66.66666666666666,50.0,44.44444444444444,92.3076923076923,76.0,52.63157894736842,42.857142857142854,72.72727272727273,62.96296296296296,82.6086956521739,56.00000000000001,86.95652173913044,68.75,76.19047619047619,57.14285714285714,60.0,35.0,48.0,35.0,40.0,33.33333333333333,42.10526315789473,33.33333333333333,50.0,50.0,50.0,50.0,60.0,33.33333333333333,50.0,50.0,57.14285714285714,100.0,50.0,66.66666666666666,85.71428571428571,100.0,77.77777777777779,66.66666666666666,75.0,76.92307692307693,66.66666666666666,71.42857142857143,77.77777777777779,75.0,85.71428571428571,72.72727272727273,62.5,71.42857142857143,75.0,72.22222222222221,37.5],\"yaxis\":\"y\",\"type\":\"scatter\"},{\"hovertemplate\":\"\\u003cb\\u003eLOWESS trendline\\u003c\\u002fb\\u003e\\u003cbr\\u003e\\u003cbr\\u003eCountry=Spain\\u003cbr\\u003ex=%{x}\\u003cbr\\u003ey=%{y} \\u003cb\\u003e(trend)\\u003c\\u002fb\\u003e\\u003cextra\\u003e\\u003c\\u002fextra\\u003e\",\"legendgroup\":\"Spain\",\"marker\":{\"color\":\"#636efa\",\"symbol\":\"circle\"},\"mode\":\"lines\",\"name\":\"Spain\",\"showlegend\":false,\"x\":[1956,1957,1958,1959,1961,1962,1963,1966,1967,1968,1969,1970,1971,1972,1973,1974,1975,1976,1977,1978,1979,1980,1981,1982,1983,1984,1985,1986,1987,1988,1989,1990,1991,1992,1993,1994,1995,1996,1997,1998,1999,2000,2001,2002,2003,2004,2005,2006,2007,2008,2009,2010,2011,2012,2013,2014,2015,2016,2017,2018,2019],\"xaxis\":\"x\",\"y\":[68.15834403381115,67.80929457081031,67.45886969609683,67.10273537409482,66.35678767758448,65.96000995699187,65.54390522721822,64.17332616119364,63.67782095158169,63.16590518807153,62.639947618857505,62.10344978495501,61.56282545386182,61.02885664018946,60.51676766882462,60.048413944279964,59.65501041267444,59.366858013429905,59.152373622726806,58.54475328514878,57.881586592554605,57.18407587993334,56.48211014158563,55.79776042053878,55.16127434878479,54.602314650296364,53.84271127397768,53.395423556962456,53.056921614887116,52.834608450115915,52.744951654862575,52.80698100619665,53.02452591374465,53.387088922411486,53.88996549913575,54.538779280318806,55.340056451402155,56.28170824714607,57.339493235074706,58.487940452505676,59.705458317643505,60.970369842227655,62.05712158571393,63.06709419903118,64.05000345560944,65.02464984173025,65.99573624233138,66.96279005513318,67.9239327308308,68.87723667885054,69.82055276056185,70.75157632901032,71.66829631004885,72.56882004559766,73.4511352613319,74.31313704822674,75.1524240417617,75.96697297316786,76.7556732329883,77.51796910118236,78.2536130290043],\"yaxis\":\"y\",\"type\":\"scatter\"},{\"hovertemplate\":\"Country=Italy\\u003cbr\\u003ex=%{x}\\u003cbr\\u003ey=%{y}\\u003cextra\\u003e\\u003c\\u002fextra\\u003e\",\"legendgroup\":\"Italy\",\"marker\":{\"color\":\"#EF553B\",\"symbol\":\"circle\"},\"mode\":\"markers\",\"name\":\"Italy\",\"orientation\":\"v\",\"showlegend\":true,\"x\":[1956,1957,1958,1959,1961,1962,1963,1966,1967,1968,1969,1970,1971,1972,1973,1974,1975,1976,1977,1979,1978,1980,1981,1982,1983,1984,1985,1986,1987,1988,1989,1990,1991,1992,1993,1994,1995,1996,1997,1998,1999,2000,2001,2002,2003,2004,2005,2006,2007,2008,2009,2010,2011,2012,2013,2014,2015,2016,2017,2018,2019],\"xaxis\":\"x\",\"y\":[100.0,100.0,80.0,66.66666666666666,54.54545454545454,66.66666666666666,100.0,83.33333333333334,16.666666666666664,33.33333333333333,25.0,44.44444444444444,81.48148148148148,72.41379310344827,55.00000000000001,42.857142857142854,45.45454545454545,37.03703703703704,65.21739130434783,24.0,52.17391304347826,43.75,42.857142857142854,39.285714285714285,48.0,25.0,32.0,30.0,35.0,22.22222222222222,42.10526315789473,50.0,50.0,33.33333333333333,33.33333333333333,25.0,60.0,33.33333333333333,50.0,50.0,57.14285714285714,100.0,50.0,66.66666666666666,100.0,100.0,77.77777777777779,88.88888888888889,75.0,76.92307692307693,66.66666666666666,71.42857142857143,77.77777777777779,75.0,85.71428571428571,72.72727272727273,75.0,78.57142857142857,75.0,61.111111111111114,31.25],\"yaxis\":\"y\",\"type\":\"scatter\"},{\"hovertemplate\":\"\\u003cb\\u003eLOWESS trendline\\u003c\\u002fb\\u003e\\u003cbr\\u003e\\u003cbr\\u003eCountry=Italy\\u003cbr\\u003ex=%{x}\\u003cbr\\u003ey=%{y} \\u003cb\\u003e(trend)\\u003c\\u002fb\\u003e\\u003cextra\\u003e\\u003c\\u002fextra\\u003e\",\"legendgroup\":\"Italy\",\"marker\":{\"color\":\"#EF553B\",\"symbol\":\"circle\"},\"mode\":\"lines\",\"name\":\"Italy\",\"showlegend\":false,\"x\":[1956,1957,1958,1959,1961,1962,1963,1966,1967,1968,1969,1970,1971,1972,1973,1974,1975,1976,1977,1978,1979,1980,1981,1982,1983,1984,1985,1986,1987,1988,1989,1990,1991,1992,1993,1994,1995,1996,1997,1998,1999,2000,2001,2002,2003,2004,2005,2006,2007,2008,2009,2010,2011,2012,2013,2014,2015,2016,2017,2018,2019],\"xaxis\":\"x\",\"y\":[83.86393179955726,82.05287696500174,80.25342454586092,78.46407804127351,74.90947025976338,73.14207104574751,71.38089696029219,66.13442800600204,64.39550299848436,62.658981248337845,60.922870904332285,59.18595084531124,57.44816140341677,55.710816963590254,53.97602072226265,52.24941651056745,50.550222165884776,48.93076328798166,47.47018702101128,46.35539429067572,45.35755799160077,44.48883420197236,43.76680413422421,43.20511828247537,42.809516986882194,42.57179333818549,42.02637099980439,42.03164749611008,42.20516503446841,42.58269969059013,43.197427148981916,44.06306050110863,45.15769618596345,46.43308073278607,47.83814208623783,49.33236685176142,50.89157166931615,52.4953947439626,54.12510314651335,55.76310383347986,57.3989760414418,59.03104409759619,60.45145988751453,61.832740926292495,63.21012340462998,64.59282090108623,65.98076449549735,67.37103743301878,68.75993033346991,70.14331075956535,71.51720863429568,72.87797642058695,74.22267364859543,75.54882390915299,76.8541221042572,78.13644492792707,79.39360838848825,80.62395954103788,81.82641208930538,83.00031029023683,84.14577960368145],\"yaxis\":\"y\",\"type\":\"scatter\"},{\"hovertemplate\":\"Country=France\\u003cbr\\u003ex=%{x}\\u003cbr\\u003ey=%{y}\\u003cextra\\u003e\\u003c\\u002fextra\\u003e\",\"legendgroup\":\"France\",\"marker\":{\"color\":\"#00cc96\",\"symbol\":\"circle\"},\"mode\":\"markers\",\"name\":\"France\",\"orientation\":\"v\",\"showlegend\":true,\"x\":[1946,1947,1948,1949,1950,1952,1953,1954,1956,1957,1958,1959,1961,1962,1963,1966,1967,1968,1969,1970,1971,1972,1973,1974,1975,1976,1977,1979,1978,1980,1981,1982,1983,1984,1985,1986,1987,1988,1989,1990,1991,1992,1993,1994,1995,1996,1997,1998,1999,2000,2001,2002,2003,2004,2005,2006,2007,2008,2009,2010,2011,2012,2013,2014,2015,2016,2017,2018,2019],\"xaxis\":\"x\",\"y\":[70.0,100.0,50.0,25.0,0.0,33.33333333333333,100.0,100.0,100.0,100.0,60.0,66.66666666666666,27.27272727272727,33.33333333333333,0.0,66.66666666666666,16.666666666666664,0.0,33.33333333333333,44.44444444444444,55.55555555555556,64.28571428571429,50.0,28.57142857142857,45.45454545454545,29.629629629629626,52.17391304347826,20.0,39.130434782608695,37.5,38.095238095238095,39.285714285714285,48.0,20.0,36.0,25.0,35.0,22.22222222222222,36.84210526315789,33.33333333333333,50.0,50.0,50.0,50.0,60.0,33.33333333333333,25.0,33.33333333333333,42.857142857142854,66.66666666666666,25.0,33.33333333333333,71.42857142857143,71.42857142857143,55.55555555555556,44.44444444444444,58.333333333333336,69.23076923076923,58.333333333333336,42.857142857142854,66.66666666666666,66.66666666666666,71.42857142857143,63.63636363636363,50.0,57.14285714285714,73.68421052631578,66.66666666666666,31.25],\"yaxis\":\"y\",\"type\":\"scatter\"},{\"hovertemplate\":\"\\u003cb\\u003eLOWESS trendline\\u003c\\u002fb\\u003e\\u003cbr\\u003e\\u003cbr\\u003eCountry=France\\u003cbr\\u003ex=%{x}\\u003cbr\\u003ey=%{y} \\u003cb\\u003e(trend)\\u003c\\u002fb\\u003e\\u003cextra\\u003e\\u003c\\u002fextra\\u003e\",\"legendgroup\":\"France\",\"marker\":{\"color\":\"#00cc96\",\"symbol\":\"circle\"},\"mode\":\"lines\",\"name\":\"France\",\"showlegend\":false,\"x\":[1946,1947,1948,1949,1950,1952,1953,1954,1956,1957,1958,1959,1961,1962,1963,1966,1967,1968,1969,1970,1971,1972,1973,1974,1975,1976,1977,1978,1979,1980,1981,1982,1983,1984,1985,1986,1987,1988,1989,1990,1991,1992,1993,1994,1995,1996,1997,1998,1999,2000,2001,2002,2003,2004,2005,2006,2007,2008,2009,2010,2011,2012,2013,2014,2015,2016,2017,2018,2019],\"xaxis\":\"x\",\"y\":[69.28255342636376,68.2321961868016,67.18336773357768,66.1354975305497,65.08857423902305,63.001576684668606,61.96433890488929,60.93408498780148,58.901201339828226,57.90062607029796,56.911093530264445,55.931876033617584,53.998122927508206,53.038569003528146,52.080145487246156,49.17999140433751,48.187536980889384,47.16485943177846,46.094438231947784,44.955489877212045,43.955231568116545,43.00224728728993,42.117804352927855,41.32934874178517,40.65916267677546,39.83145885113586,39.484351668433604,39.26833476782034,39.15736460002958,39.126706046101766,39.151536028037455,39.21527354034588,39.30947442577631,39.26884294850941,39.39064406100126,39.559140427834826,39.78448702878919,39.783888354431305,40.1156214717142,40.52934255676363,41.03734689924198,41.64556486688963,42.35102296162156,43.1406452175516,43.99377783796934,44.89290268080065,45.828272555854376,46.84423661915415,47.798157391270756,48.706865939453095,49.588867649518576,50.45541870533789,51.31397895880221,52.16970705976504,53.025352188602305,53.88207593050851,54.74048391843824,55.601096045474826,56.464029773041254,57.32884924158216,58.19501192920126,59.062218445661735,59.9299121523433,60.797172793990725,61.66272282322948,62.525284110504344,63.38402997925153,64.23836410662295,65.0874182213983],\"yaxis\":\"y\",\"type\":\"scatter\"}],                        {\"template\":{\"data\":{\"histogram2dcontour\":[{\"type\":\"histogram2dcontour\",\"colorbar\":{\"outlinewidth\":0,\"ticks\":\"\"},\"colorscale\":[[0.0,\"#0d0887\"],[0.1111111111111111,\"#46039f\"],[0.2222222222222222,\"#7201a8\"],[0.3333333333333333,\"#9c179e\"],[0.4444444444444444,\"#bd3786\"],[0.5555555555555556,\"#d8576b\"],[0.6666666666666666,\"#ed7953\"],[0.7777777777777778,\"#fb9f3a\"],[0.8888888888888888,\"#fdca26\"],[1.0,\"#f0f921\"]]}],\"choropleth\":[{\"type\":\"choropleth\",\"colorbar\":{\"outlinewidth\":0,\"ticks\":\"\"}}],\"histogram2d\":[{\"type\":\"histogram2d\",\"colorbar\":{\"outlinewidth\":0,\"ticks\":\"\"},\"colorscale\":[[0.0,\"#0d0887\"],[0.1111111111111111,\"#46039f\"],[0.2222222222222222,\"#7201a8\"],[0.3333333333333333,\"#9c179e\"],[0.4444444444444444,\"#bd3786\"],[0.5555555555555556,\"#d8576b\"],[0.6666666666666666,\"#ed7953\"],[0.7777777777777778,\"#fb9f3a\"],[0.8888888888888888,\"#fdca26\"],[1.0,\"#f0f921\"]]}],\"heatmap\":[{\"type\":\"heatmap\",\"colorbar\":{\"outlinewidth\":0,\"ticks\":\"\"},\"colorscale\":[[0.0,\"#0d0887\"],[0.1111111111111111,\"#46039f\"],[0.2222222222222222,\"#7201a8\"],[0.3333333333333333,\"#9c179e\"],[0.4444444444444444,\"#bd3786\"],[0.5555555555555556,\"#d8576b\"],[0.6666666666666666,\"#ed7953\"],[0.7777777777777778,\"#fb9f3a\"],[0.8888888888888888,\"#fdca26\"],[1.0,\"#f0f921\"]]}],\"heatmapgl\":[{\"type\":\"heatmapgl\",\"colorbar\":{\"outlinewidth\":0,\"ticks\":\"\"},\"colorscale\":[[0.0,\"#0d0887\"],[0.1111111111111111,\"#46039f\"],[0.2222222222222222,\"#7201a8\"],[0.3333333333333333,\"#9c179e\"],[0.4444444444444444,\"#bd3786\"],[0.5555555555555556,\"#d8576b\"],[0.6666666666666666,\"#ed7953\"],[0.7777777777777778,\"#fb9f3a\"],[0.8888888888888888,\"#fdca26\"],[1.0,\"#f0f921\"]]}],\"contourcarpet\":[{\"type\":\"contourcarpet\",\"colorbar\":{\"outlinewidth\":0,\"ticks\":\"\"}}],\"contour\":[{\"type\":\"contour\",\"colorbar\":{\"outlinewidth\":0,\"ticks\":\"\"},\"colorscale\":[[0.0,\"#0d0887\"],[0.1111111111111111,\"#46039f\"],[0.2222222222222222,\"#7201a8\"],[0.3333333333333333,\"#9c179e\"],[0.4444444444444444,\"#bd3786\"],[0.5555555555555556,\"#d8576b\"],[0.6666666666666666,\"#ed7953\"],[0.7777777777777778,\"#fb9f3a\"],[0.8888888888888888,\"#fdca26\"],[1.0,\"#f0f921\"]]}],\"surface\":[{\"type\":\"surface\",\"colorbar\":{\"outlinewidth\":0,\"ticks\":\"\"},\"colorscale\":[[0.0,\"#0d0887\"],[0.1111111111111111,\"#46039f\"],[0.2222222222222222,\"#7201a8\"],[0.3333333333333333,\"#9c179e\"],[0.4444444444444444,\"#bd3786\"],[0.5555555555555556,\"#d8576b\"],[0.6666666666666666,\"#ed7953\"],[0.7777777777777778,\"#fb9f3a\"],[0.8888888888888888,\"#fdca26\"],[1.0,\"#f0f921\"]]}],\"mesh3d\":[{\"type\":\"mesh3d\",\"colorbar\":{\"outlinewidth\":0,\"ticks\":\"\"}}],\"scatter\":[{\"fillpattern\":{\"fillmode\":\"overlay\",\"size\":10,\"solidity\":0.2},\"type\":\"scatter\"}],\"parcoords\":[{\"type\":\"parcoords\",\"line\":{\"colorbar\":{\"outlinewidth\":0,\"ticks\":\"\"}}}],\"scatterpolargl\":[{\"type\":\"scatterpolargl\",\"marker\":{\"colorbar\":{\"outlinewidth\":0,\"ticks\":\"\"}}}],\"bar\":[{\"error_x\":{\"color\":\"#2a3f5f\"},\"error_y\":{\"color\":\"#2a3f5f\"},\"marker\":{\"line\":{\"color\":\"#E5ECF6\",\"width\":0.5},\"pattern\":{\"fillmode\":\"overlay\",\"size\":10,\"solidity\":0.2}},\"type\":\"bar\"}],\"scattergeo\":[{\"type\":\"scattergeo\",\"marker\":{\"colorbar\":{\"outlinewidth\":0,\"ticks\":\"\"}}}],\"scatterpolar\":[{\"type\":\"scatterpolar\",\"marker\":{\"colorbar\":{\"outlinewidth\":0,\"ticks\":\"\"}}}],\"histogram\":[{\"marker\":{\"pattern\":{\"fillmode\":\"overlay\",\"size\":10,\"solidity\":0.2}},\"type\":\"histogram\"}],\"scattergl\":[{\"type\":\"scattergl\",\"marker\":{\"colorbar\":{\"outlinewidth\":0,\"ticks\":\"\"}}}],\"scatter3d\":[{\"type\":\"scatter3d\",\"line\":{\"colorbar\":{\"outlinewidth\":0,\"ticks\":\"\"}},\"marker\":{\"colorbar\":{\"outlinewidth\":0,\"ticks\":\"\"}}}],\"scattermapbox\":[{\"type\":\"scattermapbox\",\"marker\":{\"colorbar\":{\"outlinewidth\":0,\"ticks\":\"\"}}}],\"scatterternary\":[{\"type\":\"scatterternary\",\"marker\":{\"colorbar\":{\"outlinewidth\":0,\"ticks\":\"\"}}}],\"scattercarpet\":[{\"type\":\"scattercarpet\",\"marker\":{\"colorbar\":{\"outlinewidth\":0,\"ticks\":\"\"}}}],\"carpet\":[{\"aaxis\":{\"endlinecolor\":\"#2a3f5f\",\"gridcolor\":\"white\",\"linecolor\":\"white\",\"minorgridcolor\":\"white\",\"startlinecolor\":\"#2a3f5f\"},\"baxis\":{\"endlinecolor\":\"#2a3f5f\",\"gridcolor\":\"white\",\"linecolor\":\"white\",\"minorgridcolor\":\"white\",\"startlinecolor\":\"#2a3f5f\"},\"type\":\"carpet\"}],\"table\":[{\"cells\":{\"fill\":{\"color\":\"#EBF0F8\"},\"line\":{\"color\":\"white\"}},\"header\":{\"fill\":{\"color\":\"#C8D4E3\"},\"line\":{\"color\":\"white\"}},\"type\":\"table\"}],\"barpolar\":[{\"marker\":{\"line\":{\"color\":\"#E5ECF6\",\"width\":0.5},\"pattern\":{\"fillmode\":\"overlay\",\"size\":10,\"solidity\":0.2}},\"type\":\"barpolar\"}],\"pie\":[{\"automargin\":true,\"type\":\"pie\"}]},\"layout\":{\"autotypenumbers\":\"strict\",\"colorway\":[\"#636efa\",\"#EF553B\",\"#00cc96\",\"#ab63fa\",\"#FFA15A\",\"#19d3f3\",\"#FF6692\",\"#B6E880\",\"#FF97FF\",\"#FECB52\"],\"font\":{\"color\":\"#2a3f5f\"},\"hovermode\":\"closest\",\"hoverlabel\":{\"align\":\"left\"},\"paper_bgcolor\":\"white\",\"plot_bgcolor\":\"#E5ECF6\",\"polar\":{\"bgcolor\":\"#E5ECF6\",\"angularaxis\":{\"gridcolor\":\"white\",\"linecolor\":\"white\",\"ticks\":\"\"},\"radialaxis\":{\"gridcolor\":\"white\",\"linecolor\":\"white\",\"ticks\":\"\"}},\"ternary\":{\"bgcolor\":\"#E5ECF6\",\"aaxis\":{\"gridcolor\":\"white\",\"linecolor\":\"white\",\"ticks\":\"\"},\"baxis\":{\"gridcolor\":\"white\",\"linecolor\":\"white\",\"ticks\":\"\"},\"caxis\":{\"gridcolor\":\"white\",\"linecolor\":\"white\",\"ticks\":\"\"}},\"coloraxis\":{\"colorbar\":{\"outlinewidth\":0,\"ticks\":\"\"}},\"colorscale\":{\"sequential\":[[0.0,\"#0d0887\"],[0.1111111111111111,\"#46039f\"],[0.2222222222222222,\"#7201a8\"],[0.3333333333333333,\"#9c179e\"],[0.4444444444444444,\"#bd3786\"],[0.5555555555555556,\"#d8576b\"],[0.6666666666666666,\"#ed7953\"],[0.7777777777777778,\"#fb9f3a\"],[0.8888888888888888,\"#fdca26\"],[1.0,\"#f0f921\"]],\"sequentialminus\":[[0.0,\"#0d0887\"],[0.1111111111111111,\"#46039f\"],[0.2222222222222222,\"#7201a8\"],[0.3333333333333333,\"#9c179e\"],[0.4444444444444444,\"#bd3786\"],[0.5555555555555556,\"#d8576b\"],[0.6666666666666666,\"#ed7953\"],[0.7777777777777778,\"#fb9f3a\"],[0.8888888888888888,\"#fdca26\"],[1.0,\"#f0f921\"]],\"diverging\":[[0,\"#8e0152\"],[0.1,\"#c51b7d\"],[0.2,\"#de77ae\"],[0.3,\"#f1b6da\"],[0.4,\"#fde0ef\"],[0.5,\"#f7f7f7\"],[0.6,\"#e6f5d0\"],[0.7,\"#b8e186\"],[0.8,\"#7fbc41\"],[0.9,\"#4d9221\"],[1,\"#276419\"]]},\"xaxis\":{\"gridcolor\":\"white\",\"linecolor\":\"white\",\"ticks\":\"\",\"title\":{\"standoff\":15},\"zerolinecolor\":\"white\",\"automargin\":true,\"zerolinewidth\":2},\"yaxis\":{\"gridcolor\":\"white\",\"linecolor\":\"white\",\"ticks\":\"\",\"title\":{\"standoff\":15},\"zerolinecolor\":\"white\",\"automargin\":true,\"zerolinewidth\":2},\"scene\":{\"xaxis\":{\"backgroundcolor\":\"#E5ECF6\",\"gridcolor\":\"white\",\"linecolor\":\"white\",\"showbackground\":true,\"ticks\":\"\",\"zerolinecolor\":\"white\",\"gridwidth\":2},\"yaxis\":{\"backgroundcolor\":\"#E5ECF6\",\"gridcolor\":\"white\",\"linecolor\":\"white\",\"showbackground\":true,\"ticks\":\"\",\"zerolinecolor\":\"white\",\"gridwidth\":2},\"zaxis\":{\"backgroundcolor\":\"#E5ECF6\",\"gridcolor\":\"white\",\"linecolor\":\"white\",\"showbackground\":true,\"ticks\":\"\",\"zerolinecolor\":\"white\",\"gridwidth\":2}},\"shapedefaults\":{\"line\":{\"color\":\"#2a3f5f\"}},\"annotationdefaults\":{\"arrowcolor\":\"#2a3f5f\",\"arrowhead\":0,\"arrowwidth\":1},\"geo\":{\"bgcolor\":\"white\",\"landcolor\":\"#E5ECF6\",\"subunitcolor\":\"white\",\"showland\":true,\"showlakes\":true,\"lakecolor\":\"white\"},\"title\":{\"x\":0.05},\"mapbox\":{\"style\":\"light\"}}},\"xaxis\":{\"anchor\":\"y\",\"domain\":[0.0,1.0],\"title\":{\"text\":\"Year\"}},\"yaxis\":{\"anchor\":\"x\",\"domain\":[0.0,1.0],\"title\":{\"text\":\"% Yes\"}},\"legend\":{\"title\":{\"text\":\"Country\"},\"tracegroupgap\":0},\"margin\":{\"t\":60},\"title\":{\"text\":\"Economic development\\u003cbr\\u003e\",\"y\":0.9,\"x\":0.5,\"xanchor\":\"center\",\"yanchor\":\"top\"}},                        {\"responsive\": true}                    ).then(function(){\n",
       "                            \n",
       "var gd = document.getElementById('972f35ab-03d1-4905-bfa6-13306fd810e3');\n",
       "var x = new MutationObserver(function (mutations, observer) {{\n",
       "        var display = window.getComputedStyle(gd).display;\n",
       "        if (!display || display === 'none') {{\n",
       "            console.log([gd, 'removed!']);\n",
       "            Plotly.purge(gd);\n",
       "            observer.disconnect();\n",
       "        }}\n",
       "}});\n",
       "\n",
       "// Listen for the removal of the full notebook cells\n",
       "var notebookContainer = gd.closest('#notebook-container');\n",
       "if (notebookContainer) {{\n",
       "    x.observe(notebookContainer, {childList: true});\n",
       "}}\n",
       "\n",
       "// Listen for the clearing of the current output cell\n",
       "var outputEl = gd.closest('.output');\n",
       "if (outputEl) {{\n",
       "    x.observe(outputEl, {childList: true});\n",
       "}}\n",
       "\n",
       "                        })                };                });            </script>        </div>"
      ]
     },
     "metadata": {},
     "output_type": "display_data"
    },
    {
     "data": {
      "application/vnd.plotly.v1+json": {
       "config": {
        "plotlyServerURL": "https://plot.ly"
       },
       "data": [
        {
         "hovertemplate": "Country=Spain<br>x=%{x}<br>y=%{y}<extra></extra>",
         "legendgroup": "Spain",
         "marker": {
          "color": "#636efa",
          "symbol": "circle"
         },
         "mode": "markers",
         "name": "Spain",
         "orientation": "v",
         "showlegend": true,
         "type": "scatter",
         "x": [
          1955,
          1957,
          1956,
          1959,
          1960,
          1961,
          1962,
          1963,
          1965,
          1966,
          1967,
          1968,
          1969,
          1970,
          1971,
          1972,
          1973,
          1974,
          1975,
          1976,
          1977,
          1978,
          1979,
          1980,
          1981,
          1982,
          1983,
          1984,
          1985,
          1986,
          1987,
          1988,
          1989,
          1990,
          1991,
          1992,
          1993,
          1994,
          1995,
          1996,
          1997,
          1998,
          1999,
          2000,
          2001,
          2002,
          2003,
          2004,
          2005,
          2006,
          2007,
          2008,
          2009,
          2010,
          2011,
          2012,
          2013,
          2014,
          2015,
          2016,
          2017,
          2018,
          2019
         ],
         "xaxis": "x",
         "y": [
          0,
          44.44444444444444,
          100,
          31.25,
          9.090909090909092,
          28.57142857142857,
          28.57142857142857,
          0,
          25,
          81.25,
          64.28571428571429,
          54.54545454545454,
          71.42857142857143,
          62.5,
          52.38095238095239,
          28.57142857142857,
          45.83333333333333,
          91.66666666666666,
          71.42857142857143,
          68.42105263157895,
          72.22222222222221,
          68.75,
          57.14285714285714,
          80,
          76.47058823529412,
          56.52173913043478,
          70.58823529411765,
          65.21739130434783,
          61.53846153846154,
          43.75,
          58.333333333333336,
          50,
          69.23076923076923,
          53.333333333333336,
          66.66666666666666,
          57.14285714285714,
          54.54545454545454,
          61.53846153846154,
          71.42857142857143,
          66.66666666666666,
          75,
          76.92307692307693,
          69.23076923076923,
          76.92307692307693,
          75,
          72.72727272727273,
          60,
          66.66666666666666,
          80,
          76.47058823529412,
          81.81818181818183,
          73.33333333333333,
          78.57142857142857,
          84.61538461538461,
          75,
          76.92307692307693,
          76.92307692307693,
          66.66666666666666,
          70,
          72.72727272727273,
          68.75,
          66.66666666666666,
          37.5
         ],
         "yaxis": "y"
        },
        {
         "hovertemplate": "<b>LOWESS trendline</b><br><br>Country=Spain<br>x=%{x}<br>y=%{y} <b>(trend)</b><extra></extra>",
         "legendgroup": "Spain",
         "marker": {
          "color": "#636efa",
          "symbol": "circle"
         },
         "mode": "lines",
         "name": "Spain",
         "showlegend": false,
         "type": "scatter",
         "x": [
          1955,
          1956,
          1957,
          1959,
          1960,
          1961,
          1962,
          1963,
          1965,
          1966,
          1967,
          1968,
          1969,
          1970,
          1971,
          1972,
          1973,
          1974,
          1975,
          1976,
          1977,
          1978,
          1979,
          1980,
          1981,
          1982,
          1983,
          1984,
          1985,
          1986,
          1987,
          1988,
          1989,
          1990,
          1991,
          1992,
          1993,
          1994,
          1995,
          1996,
          1997,
          1998,
          1999,
          2000,
          2001,
          2002,
          2003,
          2004,
          2005,
          2006,
          2007,
          2008,
          2009,
          2010,
          2011,
          2012,
          2013,
          2014,
          2015,
          2016,
          2017,
          2018,
          2019
         ],
         "xaxis": "x",
         "y": [
          25.869751329442703,
          27.638252363275605,
          29.388656153864947,
          32.831346650981175,
          34.519764615559254,
          36.18358017810836,
          37.82174585925175,
          39.434063609553306,
          42.584569967251916,
          44.126136505908704,
          45.64923787564911,
          47.15766229216051,
          48.65517554824485,
          50.145810654463816,
          51.63357657607158,
          53.12235265985427,
          54.615843573400305,
          56.1156352405674,
          57.61178255757368,
          59.06802995634706,
          59.91647557671512,
          60.63669608188905,
          61.22798870721836,
          61.70367462656924,
          62.100036606845684,
          62.456965581119825,
          62.80568585492056,
          63.1587717767635,
          63.46110550945844,
          63.798208725637785,
          64.12588571507804,
          64.43592717920984,
          64.72923318040911,
          65.00846425763216,
          65.28619901779568,
          65.5872851966922,
          65.93687071658093,
          66.35068247663928,
          66.83170836528394,
          67.37229937212581,
          67.95990855220073,
          68.58032026671277,
          69.21783408338193,
          69.71898145783032,
          70.12790503039079,
          70.49036737990814,
          70.82818286675422,
          71.15045843108504,
          71.46195932876158,
          71.76551046110062,
          72.06241644315774,
          72.35302421381955,
          72.63696436469785,
          72.91356334654823,
          73.18174910468068,
          73.4399933062741,
          73.68667498963701,
          73.92011654576957,
          74.13870327281394,
          74.34130946618772,
          74.52721646980197,
          74.69598196723469,
          74.84762187486463
         ],
         "yaxis": "y"
        },
        {
         "hovertemplate": "Country=Italy<br>x=%{x}<br>y=%{y}<extra></extra>",
         "legendgroup": "Italy",
         "marker": {
          "color": "#EF553B",
          "symbol": "circle"
         },
         "mode": "markers",
         "name": "Italy",
         "orientation": "v",
         "showlegend": true,
         "type": "scatter",
         "x": [
          1957,
          1956,
          1959,
          1960,
          1961,
          1962,
          1963,
          1965,
          1966,
          1967,
          1968,
          1969,
          1970,
          1971,
          1972,
          1973,
          1974,
          1975,
          1976,
          1977,
          1978,
          1979,
          1980,
          1981,
          1982,
          1983,
          1984,
          1985,
          1986,
          1987,
          1988,
          1989,
          1990,
          1991,
          1992,
          1993,
          1994,
          1995,
          1996,
          1997,
          1998,
          1999,
          2000,
          2001,
          2002,
          2003,
          2004,
          2005,
          2006,
          2007,
          2008,
          2009,
          2010,
          2011,
          2012,
          2013,
          2014,
          2015,
          2016,
          2017,
          2018,
          2019
         ],
         "xaxis": "x",
         "y": [
          44.44444444444444,
          100,
          6.25,
          18.181818181818183,
          66.66666666666666,
          38.095238095238095,
          66.66666666666666,
          33.33333333333333,
          31.25,
          21.428571428571427,
          0,
          14.285714285714285,
          17.647058823529413,
          27.27272727272727,
          12.5,
          25,
          33.33333333333333,
          45.45454545454545,
          42.10526315789473,
          38.88888888888889,
          43.75,
          42.857142857142854,
          50,
          35.294117647058826,
          21.73913043478261,
          35.294117647058826,
          30.434782608695656,
          38.46153846153847,
          18.75,
          25,
          28.57142857142857,
          30.76923076923077,
          33.33333333333333,
          46.666666666666664,
          35.714285714285715,
          27.27272727272727,
          46.15384615384615,
          57.14285714285714,
          66.66666666666666,
          75,
          76.92307692307693,
          69.23076923076923,
          69.23076923076923,
          66.66666666666666,
          63.63636363636363,
          60,
          66.66666666666666,
          70,
          88.23529411764706,
          72.72727272727273,
          73.33333333333333,
          78.57142857142857,
          76.92307692307693,
          75,
          76.92307692307693,
          76.92307692307693,
          66.66666666666666,
          70,
          72.72727272727273,
          68.75,
          66.66666666666666,
          31.25
         ],
         "yaxis": "y"
        },
        {
         "hovertemplate": "<b>LOWESS trendline</b><br><br>Country=Italy<br>x=%{x}<br>y=%{y} <b>(trend)</b><extra></extra>",
         "legendgroup": "Italy",
         "marker": {
          "color": "#EF553B",
          "symbol": "circle"
         },
         "mode": "lines",
         "name": "Italy",
         "showlegend": false,
         "type": "scatter",
         "x": [
          1956,
          1957,
          1959,
          1960,
          1961,
          1962,
          1963,
          1965,
          1966,
          1967,
          1968,
          1969,
          1970,
          1971,
          1972,
          1973,
          1974,
          1975,
          1976,
          1977,
          1978,
          1979,
          1980,
          1981,
          1982,
          1983,
          1984,
          1985,
          1986,
          1987,
          1988,
          1989,
          1990,
          1991,
          1992,
          1993,
          1994,
          1995,
          1996,
          1997,
          1998,
          1999,
          2000,
          2001,
          2002,
          2003,
          2004,
          2005,
          2006,
          2007,
          2008,
          2009,
          2010,
          2011,
          2012,
          2013,
          2014,
          2015,
          2016,
          2017,
          2018,
          2019
         ],
         "xaxis": "x",
         "y": [
          27.566503804948457,
          27.74333925594289,
          28.122513895017697,
          28.32280934234071,
          28.52986150482546,
          28.744263429035225,
          28.965814450242647,
          29.424449478946148,
          29.65649646397228,
          29.886128477715673,
          30.10961894708263,
          30.323431508403157,
          30.524800862083705,
          30.712008140284027,
          30.884589158007618,
          31.04364733787562,
          31.193557022487663,
          31.34390567851858,
          31.51221222860369,
          31.724839112445643,
          32.09695762689951,
          32.59720613327104,
          33.25344778345506,
          34.0833500816497,
          35.07992810595999,
          36.213308908185056,
          37.44379969073135,
          38.43474670055072,
          39.73445145529657,
          41.033052630439265,
          42.32372877788022,
          43.61398186247187,
          44.91671216179051,
          46.24911841934333,
          47.63023588430883,
          49.080503978571336,
          50.61251079168756,
          52.228020709694356,
          53.916402459088026,
          55.660433557945176,
          57.437117244716426,
          59.21473439873916,
          60.574142420468014,
          61.82160036029423,
          63.01621522511885,
          64.1798600401249,
          65.31939268222442,
          66.43742247443848,
          67.53518657652965,
          68.61311640017587,
          69.6707574151021,
          70.70737705467226,
          71.72208243227269,
          72.71370008008061,
          73.6809059478144,
          74.62237088262468,
          75.53675263622371,
          76.4228456034661,
          77.28004242491103,
          78.10828235883298,
          78.9079499713843,
          79.68007992180313
         ],
         "yaxis": "y"
        },
        {
         "hovertemplate": "Country=France<br>x=%{x}<br>y=%{y}<extra></extra>",
         "legendgroup": "France",
         "marker": {
          "color": "#00cc96",
          "symbol": "circle"
         },
         "mode": "markers",
         "name": "France",
         "orientation": "v",
         "showlegend": true,
         "type": "scatter",
         "x": [
          1946,
          1947,
          1948,
          1949,
          1950,
          1951,
          1952,
          1953,
          1954,
          1955,
          1957,
          1956,
          1959,
          1960,
          1961,
          1962,
          1963,
          1965,
          1966,
          1967,
          1968,
          1969,
          1970,
          1971,
          1972,
          1973,
          1974,
          1975,
          1976,
          1977,
          1978,
          1979,
          1980,
          1981,
          1982,
          1983,
          1984,
          1985,
          1986,
          1987,
          1988,
          1989,
          1990,
          1991,
          1992,
          1993,
          1994,
          1995,
          1996,
          1997,
          1998,
          1999,
          2000,
          2001,
          2002,
          2003,
          2004,
          2005,
          2006,
          2007,
          2008,
          2009,
          2010,
          2011,
          2012,
          2013,
          2014,
          2015,
          2016,
          2017,
          2018,
          2019
         ],
         "xaxis": "x",
         "y": [
          66.66666666666666,
          55.55555555555556,
          41.66666666666667,
          46.666666666666664,
          33.33333333333333,
          100,
          13.333333333333334,
          40,
          20,
          33.33333333333333,
          44.44444444444444,
          100,
          64.28571428571429,
          12.5,
          21.428571428571427,
          23.809523809523807,
          0,
          8.333333333333332,
          18.75,
          7.6923076923076925,
          0,
          0,
          12.5,
          13.636363636363635,
          12.5,
          8.695652173913043,
          16.666666666666664,
          28.57142857142857,
          22.22222222222222,
          22.22222222222222,
          25,
          19.047619047619047,
          31.25,
          17.647058823529413,
          17.391304347826086,
          29.411764705882355,
          26.08695652173913,
          30.76923076923077,
          12.5,
          30,
          27.27272727272727,
          23.076923076923077,
          20,
          40,
          28.57142857142857,
          27.27272727272727,
          38.46153846153847,
          28.57142857142857,
          41.66666666666667,
          41.66666666666667,
          50,
          38.46153846153847,
          38.46153846153847,
          41.66666666666667,
          36.36363636363637,
          40,
          22.22222222222222,
          30,
          52.94117647058824,
          36.36363636363637,
          46.666666666666664,
          42.857142857142854,
          46.15384615384615,
          50,
          46.15384615384615,
          46.15384615384615,
          22.22222222222222,
          20,
          27.27272727272727,
          43.75,
          33.33333333333333,
          31.25
         ],
         "yaxis": "y"
        },
        {
         "hovertemplate": "<b>LOWESS trendline</b><br><br>Country=France<br>x=%{x}<br>y=%{y} <b>(trend)</b><extra></extra>",
         "legendgroup": "France",
         "marker": {
          "color": "#00cc96",
          "symbol": "circle"
         },
         "mode": "lines",
         "name": "France",
         "showlegend": false,
         "type": "scatter",
         "x": [
          1946,
          1947,
          1948,
          1949,
          1950,
          1951,
          1952,
          1953,
          1954,
          1955,
          1956,
          1957,
          1959,
          1960,
          1961,
          1962,
          1963,
          1965,
          1966,
          1967,
          1968,
          1969,
          1970,
          1971,
          1972,
          1973,
          1974,
          1975,
          1976,
          1977,
          1978,
          1979,
          1980,
          1981,
          1982,
          1983,
          1984,
          1985,
          1986,
          1987,
          1988,
          1989,
          1990,
          1991,
          1992,
          1993,
          1994,
          1995,
          1996,
          1997,
          1998,
          1999,
          2000,
          2001,
          2002,
          2003,
          2004,
          2005,
          2006,
          2007,
          2008,
          2009,
          2010,
          2011,
          2012,
          2013,
          2014,
          2015,
          2016,
          2017,
          2018,
          2019
         ],
         "xaxis": "x",
         "y": [
          39.0659140809946,
          38.07665672553654,
          37.105661192674695,
          36.15317173632184,
          35.21909061347345,
          34.30293290476434,
          33.40411070265646,
          32.52203401269814,
          31.65629569547777,
          30.806317690922697,
          29.971607239284296,
          29.15152291907074,
          27.55083211336954,
          26.76651903564981,
          25.98948635328548,
          25.216623312458626,
          24.444102560604378,
          22.879479776826113,
          22.074779712948246,
          21.248346916716798,
          20.405843549201883,
          19.583225479633345,
          18.866620310048923,
          18.69284118152155,
          18.625889048458575,
          18.661219873135455,
          18.79637081453858,
          19.037104746806047,
          19.394451856731923,
          19.86791200002548,
          20.443171261622247,
          21.105253485000237,
          21.837068764765945,
          22.624157957002925,
          23.446756845141365,
          24.290458447933364,
          25.1439682971796,
          25.993904623023365,
          26.827920765991156,
          27.63831238588275,
          28.484006542927002,
          29.239835234881436,
          29.968103147947865,
          30.675992409092537,
          31.371097548396413,
          32.054221598907795,
          32.72091339085557,
          33.36606070709118,
          33.98742058075842,
          34.46159843062973,
          34.84625870481817,
          35.18247729315259,
          35.49618865146409,
          35.798932488451584,
          36.09519205628146,
          36.38648055419785,
          36.67322914417362,
          36.95548265327974,
          37.23343943956823,
          37.50729043251865,
          37.77685650177066,
          38.041816230905305,
          38.30161438151654,
          38.55551567609003,
          38.80257383918094,
          39.041599359588716,
          39.2712362568719,
          39.490116205629775,
          39.69734711458895,
          39.89260092442989,
          40.07594381867409,
          40.24746567411046
         ],
         "yaxis": "y"
        }
       ],
       "layout": {
        "autosize": true,
        "legend": {
         "title": {
          "text": "Country"
         },
         "tracegroupgap": 0
        },
        "margin": {
         "t": 60
        },
        "template": {
         "data": {
          "bar": [
           {
            "error_x": {
             "color": "#2a3f5f"
            },
            "error_y": {
             "color": "#2a3f5f"
            },
            "marker": {
             "line": {
              "color": "#E5ECF6",
              "width": 0.5
             },
             "pattern": {
              "fillmode": "overlay",
              "size": 10,
              "solidity": 0.2
             }
            },
            "type": "bar"
           }
          ],
          "barpolar": [
           {
            "marker": {
             "line": {
              "color": "#E5ECF6",
              "width": 0.5
             },
             "pattern": {
              "fillmode": "overlay",
              "size": 10,
              "solidity": 0.2
             }
            },
            "type": "barpolar"
           }
          ],
          "carpet": [
           {
            "aaxis": {
             "endlinecolor": "#2a3f5f",
             "gridcolor": "white",
             "linecolor": "white",
             "minorgridcolor": "white",
             "startlinecolor": "#2a3f5f"
            },
            "baxis": {
             "endlinecolor": "#2a3f5f",
             "gridcolor": "white",
             "linecolor": "white",
             "minorgridcolor": "white",
             "startlinecolor": "#2a3f5f"
            },
            "type": "carpet"
           }
          ],
          "choropleth": [
           {
            "colorbar": {
             "outlinewidth": 0,
             "ticks": ""
            },
            "type": "choropleth"
           }
          ],
          "contour": [
           {
            "colorbar": {
             "outlinewidth": 0,
             "ticks": ""
            },
            "colorscale": [
             [
              0,
              "#0d0887"
             ],
             [
              0.1111111111111111,
              "#46039f"
             ],
             [
              0.2222222222222222,
              "#7201a8"
             ],
             [
              0.3333333333333333,
              "#9c179e"
             ],
             [
              0.4444444444444444,
              "#bd3786"
             ],
             [
              0.5555555555555556,
              "#d8576b"
             ],
             [
              0.6666666666666666,
              "#ed7953"
             ],
             [
              0.7777777777777778,
              "#fb9f3a"
             ],
             [
              0.8888888888888888,
              "#fdca26"
             ],
             [
              1,
              "#f0f921"
             ]
            ],
            "type": "contour"
           }
          ],
          "contourcarpet": [
           {
            "colorbar": {
             "outlinewidth": 0,
             "ticks": ""
            },
            "type": "contourcarpet"
           }
          ],
          "heatmap": [
           {
            "colorbar": {
             "outlinewidth": 0,
             "ticks": ""
            },
            "colorscale": [
             [
              0,
              "#0d0887"
             ],
             [
              0.1111111111111111,
              "#46039f"
             ],
             [
              0.2222222222222222,
              "#7201a8"
             ],
             [
              0.3333333333333333,
              "#9c179e"
             ],
             [
              0.4444444444444444,
              "#bd3786"
             ],
             [
              0.5555555555555556,
              "#d8576b"
             ],
             [
              0.6666666666666666,
              "#ed7953"
             ],
             [
              0.7777777777777778,
              "#fb9f3a"
             ],
             [
              0.8888888888888888,
              "#fdca26"
             ],
             [
              1,
              "#f0f921"
             ]
            ],
            "type": "heatmap"
           }
          ],
          "heatmapgl": [
           {
            "colorbar": {
             "outlinewidth": 0,
             "ticks": ""
            },
            "colorscale": [
             [
              0,
              "#0d0887"
             ],
             [
              0.1111111111111111,
              "#46039f"
             ],
             [
              0.2222222222222222,
              "#7201a8"
             ],
             [
              0.3333333333333333,
              "#9c179e"
             ],
             [
              0.4444444444444444,
              "#bd3786"
             ],
             [
              0.5555555555555556,
              "#d8576b"
             ],
             [
              0.6666666666666666,
              "#ed7953"
             ],
             [
              0.7777777777777778,
              "#fb9f3a"
             ],
             [
              0.8888888888888888,
              "#fdca26"
             ],
             [
              1,
              "#f0f921"
             ]
            ],
            "type": "heatmapgl"
           }
          ],
          "histogram": [
           {
            "marker": {
             "pattern": {
              "fillmode": "overlay",
              "size": 10,
              "solidity": 0.2
             }
            },
            "type": "histogram"
           }
          ],
          "histogram2d": [
           {
            "colorbar": {
             "outlinewidth": 0,
             "ticks": ""
            },
            "colorscale": [
             [
              0,
              "#0d0887"
             ],
             [
              0.1111111111111111,
              "#46039f"
             ],
             [
              0.2222222222222222,
              "#7201a8"
             ],
             [
              0.3333333333333333,
              "#9c179e"
             ],
             [
              0.4444444444444444,
              "#bd3786"
             ],
             [
              0.5555555555555556,
              "#d8576b"
             ],
             [
              0.6666666666666666,
              "#ed7953"
             ],
             [
              0.7777777777777778,
              "#fb9f3a"
             ],
             [
              0.8888888888888888,
              "#fdca26"
             ],
             [
              1,
              "#f0f921"
             ]
            ],
            "type": "histogram2d"
           }
          ],
          "histogram2dcontour": [
           {
            "colorbar": {
             "outlinewidth": 0,
             "ticks": ""
            },
            "colorscale": [
             [
              0,
              "#0d0887"
             ],
             [
              0.1111111111111111,
              "#46039f"
             ],
             [
              0.2222222222222222,
              "#7201a8"
             ],
             [
              0.3333333333333333,
              "#9c179e"
             ],
             [
              0.4444444444444444,
              "#bd3786"
             ],
             [
              0.5555555555555556,
              "#d8576b"
             ],
             [
              0.6666666666666666,
              "#ed7953"
             ],
             [
              0.7777777777777778,
              "#fb9f3a"
             ],
             [
              0.8888888888888888,
              "#fdca26"
             ],
             [
              1,
              "#f0f921"
             ]
            ],
            "type": "histogram2dcontour"
           }
          ],
          "mesh3d": [
           {
            "colorbar": {
             "outlinewidth": 0,
             "ticks": ""
            },
            "type": "mesh3d"
           }
          ],
          "parcoords": [
           {
            "line": {
             "colorbar": {
              "outlinewidth": 0,
              "ticks": ""
             }
            },
            "type": "parcoords"
           }
          ],
          "pie": [
           {
            "automargin": true,
            "type": "pie"
           }
          ],
          "scatter": [
           {
            "fillpattern": {
             "fillmode": "overlay",
             "size": 10,
             "solidity": 0.2
            },
            "type": "scatter"
           }
          ],
          "scatter3d": [
           {
            "line": {
             "colorbar": {
              "outlinewidth": 0,
              "ticks": ""
             }
            },
            "marker": {
             "colorbar": {
              "outlinewidth": 0,
              "ticks": ""
             }
            },
            "type": "scatter3d"
           }
          ],
          "scattercarpet": [
           {
            "marker": {
             "colorbar": {
              "outlinewidth": 0,
              "ticks": ""
             }
            },
            "type": "scattercarpet"
           }
          ],
          "scattergeo": [
           {
            "marker": {
             "colorbar": {
              "outlinewidth": 0,
              "ticks": ""
             }
            },
            "type": "scattergeo"
           }
          ],
          "scattergl": [
           {
            "marker": {
             "colorbar": {
              "outlinewidth": 0,
              "ticks": ""
             }
            },
            "type": "scattergl"
           }
          ],
          "scattermapbox": [
           {
            "marker": {
             "colorbar": {
              "outlinewidth": 0,
              "ticks": ""
             }
            },
            "type": "scattermapbox"
           }
          ],
          "scatterpolar": [
           {
            "marker": {
             "colorbar": {
              "outlinewidth": 0,
              "ticks": ""
             }
            },
            "type": "scatterpolar"
           }
          ],
          "scatterpolargl": [
           {
            "marker": {
             "colorbar": {
              "outlinewidth": 0,
              "ticks": ""
             }
            },
            "type": "scatterpolargl"
           }
          ],
          "scatterternary": [
           {
            "marker": {
             "colorbar": {
              "outlinewidth": 0,
              "ticks": ""
             }
            },
            "type": "scatterternary"
           }
          ],
          "surface": [
           {
            "colorbar": {
             "outlinewidth": 0,
             "ticks": ""
            },
            "colorscale": [
             [
              0,
              "#0d0887"
             ],
             [
              0.1111111111111111,
              "#46039f"
             ],
             [
              0.2222222222222222,
              "#7201a8"
             ],
             [
              0.3333333333333333,
              "#9c179e"
             ],
             [
              0.4444444444444444,
              "#bd3786"
             ],
             [
              0.5555555555555556,
              "#d8576b"
             ],
             [
              0.6666666666666666,
              "#ed7953"
             ],
             [
              0.7777777777777778,
              "#fb9f3a"
             ],
             [
              0.8888888888888888,
              "#fdca26"
             ],
             [
              1,
              "#f0f921"
             ]
            ],
            "type": "surface"
           }
          ],
          "table": [
           {
            "cells": {
             "fill": {
              "color": "#EBF0F8"
             },
             "line": {
              "color": "white"
             }
            },
            "header": {
             "fill": {
              "color": "#C8D4E3"
             },
             "line": {
              "color": "white"
             }
            },
            "type": "table"
           }
          ]
         },
         "layout": {
          "annotationdefaults": {
           "arrowcolor": "#2a3f5f",
           "arrowhead": 0,
           "arrowwidth": 1
          },
          "autotypenumbers": "strict",
          "coloraxis": {
           "colorbar": {
            "outlinewidth": 0,
            "ticks": ""
           }
          },
          "colorscale": {
           "diverging": [
            [
             0,
             "#8e0152"
            ],
            [
             0.1,
             "#c51b7d"
            ],
            [
             0.2,
             "#de77ae"
            ],
            [
             0.3,
             "#f1b6da"
            ],
            [
             0.4,
             "#fde0ef"
            ],
            [
             0.5,
             "#f7f7f7"
            ],
            [
             0.6,
             "#e6f5d0"
            ],
            [
             0.7,
             "#b8e186"
            ],
            [
             0.8,
             "#7fbc41"
            ],
            [
             0.9,
             "#4d9221"
            ],
            [
             1,
             "#276419"
            ]
           ],
           "sequential": [
            [
             0,
             "#0d0887"
            ],
            [
             0.1111111111111111,
             "#46039f"
            ],
            [
             0.2222222222222222,
             "#7201a8"
            ],
            [
             0.3333333333333333,
             "#9c179e"
            ],
            [
             0.4444444444444444,
             "#bd3786"
            ],
            [
             0.5555555555555556,
             "#d8576b"
            ],
            [
             0.6666666666666666,
             "#ed7953"
            ],
            [
             0.7777777777777778,
             "#fb9f3a"
            ],
            [
             0.8888888888888888,
             "#fdca26"
            ],
            [
             1,
             "#f0f921"
            ]
           ],
           "sequentialminus": [
            [
             0,
             "#0d0887"
            ],
            [
             0.1111111111111111,
             "#46039f"
            ],
            [
             0.2222222222222222,
             "#7201a8"
            ],
            [
             0.3333333333333333,
             "#9c179e"
            ],
            [
             0.4444444444444444,
             "#bd3786"
            ],
            [
             0.5555555555555556,
             "#d8576b"
            ],
            [
             0.6666666666666666,
             "#ed7953"
            ],
            [
             0.7777777777777778,
             "#fb9f3a"
            ],
            [
             0.8888888888888888,
             "#fdca26"
            ],
            [
             1,
             "#f0f921"
            ]
           ]
          },
          "colorway": [
           "#636efa",
           "#EF553B",
           "#00cc96",
           "#ab63fa",
           "#FFA15A",
           "#19d3f3",
           "#FF6692",
           "#B6E880",
           "#FF97FF",
           "#FECB52"
          ],
          "font": {
           "color": "#2a3f5f"
          },
          "geo": {
           "bgcolor": "white",
           "lakecolor": "white",
           "landcolor": "#E5ECF6",
           "showlakes": true,
           "showland": true,
           "subunitcolor": "white"
          },
          "hoverlabel": {
           "align": "left"
          },
          "hovermode": "closest",
          "mapbox": {
           "style": "light"
          },
          "paper_bgcolor": "white",
          "plot_bgcolor": "#E5ECF6",
          "polar": {
           "angularaxis": {
            "gridcolor": "white",
            "linecolor": "white",
            "ticks": ""
           },
           "bgcolor": "#E5ECF6",
           "radialaxis": {
            "gridcolor": "white",
            "linecolor": "white",
            "ticks": ""
           }
          },
          "scene": {
           "xaxis": {
            "backgroundcolor": "#E5ECF6",
            "gridcolor": "white",
            "gridwidth": 2,
            "linecolor": "white",
            "showbackground": true,
            "ticks": "",
            "zerolinecolor": "white"
           },
           "yaxis": {
            "backgroundcolor": "#E5ECF6",
            "gridcolor": "white",
            "gridwidth": 2,
            "linecolor": "white",
            "showbackground": true,
            "ticks": "",
            "zerolinecolor": "white"
           },
           "zaxis": {
            "backgroundcolor": "#E5ECF6",
            "gridcolor": "white",
            "gridwidth": 2,
            "linecolor": "white",
            "showbackground": true,
            "ticks": "",
            "zerolinecolor": "white"
           }
          },
          "shapedefaults": {
           "line": {
            "color": "#2a3f5f"
           }
          },
          "ternary": {
           "aaxis": {
            "gridcolor": "white",
            "linecolor": "white",
            "ticks": ""
           },
           "baxis": {
            "gridcolor": "white",
            "linecolor": "white",
            "ticks": ""
           },
           "bgcolor": "#E5ECF6",
           "caxis": {
            "gridcolor": "white",
            "linecolor": "white",
            "ticks": ""
           }
          },
          "title": {
           "x": 0.05
          },
          "xaxis": {
           "automargin": true,
           "gridcolor": "white",
           "linecolor": "white",
           "ticks": "",
           "title": {
            "standoff": 15
           },
           "zerolinecolor": "white",
           "zerolinewidth": 2
          },
          "yaxis": {
           "automargin": true,
           "gridcolor": "white",
           "linecolor": "white",
           "ticks": "",
           "title": {
            "standoff": 15
           },
           "zerolinecolor": "white",
           "zerolinewidth": 2
          }
         }
        },
        "title": {
         "text": "Colonialism<br>",
         "x": 0.5,
         "xanchor": "center",
         "y": 0.9,
         "yanchor": "top"
        },
        "xaxis": {
         "anchor": "y",
         "autorange": true,
         "domain": [
          0,
          1
         ],
         "range": [
          1941.6050106014955,
          2023.3949893985045
         ],
         "title": {
          "text": "Year"
         },
         "type": "linear"
        },
        "yaxis": {
         "anchor": "x",
         "autorange": true,
         "domain": [
          0,
          1
         ],
         "range": [
          -7.742782152230971,
          107.74278215223097
         ],
         "title": {
          "text": "% Yes"
         },
         "type": "linear"
        }
       }
      },
      "image/png": "[encoded data removed]",
      "text/html": [
       "<div>                            <div id=\"b196d74e-d03f-4098-bafd-c9b0b5187de7\" class=\"plotly-graph-div\" style=\"height:525px; width:100%;\"></div>            <script type=\"text/javascript\">                require([\"plotly\"], function(Plotly) {                    window.PLOTLYENV=window.PLOTLYENV || {};                                    if (document.getElementById(\"b196d74e-d03f-4098-bafd-c9b0b5187de7\")) {                    Plotly.newPlot(                        \"b196d74e-d03f-4098-bafd-c9b0b5187de7\",                        [{\"hovertemplate\":\"Country=Spain\\u003cbr\\u003ex=%{x}\\u003cbr\\u003ey=%{y}\\u003cextra\\u003e\\u003c\\u002fextra\\u003e\",\"legendgroup\":\"Spain\",\"marker\":{\"color\":\"#636efa\",\"symbol\":\"circle\"},\"mode\":\"markers\",\"name\":\"Spain\",\"orientation\":\"v\",\"showlegend\":true,\"x\":[1955,1957,1956,1959,1960,1961,1962,1963,1965,1966,1967,1968,1969,1970,1971,1972,1973,1974,1975,1976,1977,1978,1979,1980,1981,1982,1983,1984,1985,1986,1987,1988,1989,1990,1991,1992,1993,1994,1995,1996,1997,1998,1999,2000,2001,2002,2003,2004,2005,2006,2007,2008,2009,2010,2011,2012,2013,2014,2015,2016,2017,2018,2019],\"xaxis\":\"x\",\"y\":[0.0,44.44444444444444,100.0,31.25,9.090909090909092,28.57142857142857,28.57142857142857,0.0,25.0,81.25,64.28571428571429,54.54545454545454,71.42857142857143,62.5,52.38095238095239,28.57142857142857,45.83333333333333,91.66666666666666,71.42857142857143,68.42105263157895,72.22222222222221,68.75,57.14285714285714,80.0,76.47058823529412,56.52173913043478,70.58823529411765,65.21739130434783,61.53846153846154,43.75,58.333333333333336,50.0,69.23076923076923,53.333333333333336,66.66666666666666,57.14285714285714,54.54545454545454,61.53846153846154,71.42857142857143,66.66666666666666,75.0,76.92307692307693,69.23076923076923,76.92307692307693,75.0,72.72727272727273,60.0,66.66666666666666,80.0,76.47058823529412,81.81818181818183,73.33333333333333,78.57142857142857,84.61538461538461,75.0,76.92307692307693,76.92307692307693,66.66666666666666,70.0,72.72727272727273,68.75,66.66666666666666,37.5],\"yaxis\":\"y\",\"type\":\"scatter\"},{\"hovertemplate\":\"\\u003cb\\u003eLOWESS trendline\\u003c\\u002fb\\u003e\\u003cbr\\u003e\\u003cbr\\u003eCountry=Spain\\u003cbr\\u003ex=%{x}\\u003cbr\\u003ey=%{y} \\u003cb\\u003e(trend)\\u003c\\u002fb\\u003e\\u003cextra\\u003e\\u003c\\u002fextra\\u003e\",\"legendgroup\":\"Spain\",\"marker\":{\"color\":\"#636efa\",\"symbol\":\"circle\"},\"mode\":\"lines\",\"name\":\"Spain\",\"showlegend\":false,\"x\":[1955,1956,1957,1959,1960,1961,1962,1963,1965,1966,1967,1968,1969,1970,1971,1972,1973,1974,1975,1976,1977,1978,1979,1980,1981,1982,1983,1984,1985,1986,1987,1988,1989,1990,1991,1992,1993,1994,1995,1996,1997,1998,1999,2000,2001,2002,2003,2004,2005,2006,2007,2008,2009,2010,2011,2012,2013,2014,2015,2016,2017,2018,2019],\"xaxis\":\"x\",\"y\":[25.869751329442703,27.638252363275605,29.388656153864947,32.831346650981175,34.519764615559254,36.18358017810836,37.82174585925175,39.434063609553306,42.584569967251916,44.126136505908704,45.64923787564911,47.15766229216051,48.65517554824485,50.145810654463816,51.63357657607158,53.12235265985427,54.615843573400305,56.1156352405674,57.61178255757368,59.06802995634706,59.91647557671512,60.63669608188905,61.22798870721836,61.70367462656924,62.100036606845684,62.456965581119825,62.80568585492056,63.1587717767635,63.46110550945844,63.798208725637785,64.12588571507804,64.43592717920984,64.72923318040911,65.00846425763216,65.28619901779568,65.5872851966922,65.93687071658093,66.35068247663928,66.83170836528394,67.37229937212581,67.95990855220073,68.58032026671277,69.21783408338193,69.71898145783032,70.12790503039079,70.49036737990814,70.82818286675422,71.15045843108504,71.46195932876158,71.76551046110062,72.06241644315774,72.35302421381955,72.63696436469785,72.91356334654823,73.18174910468068,73.4399933062741,73.68667498963701,73.92011654576957,74.13870327281394,74.34130946618772,74.52721646980197,74.69598196723469,74.84762187486463],\"yaxis\":\"y\",\"type\":\"scatter\"},{\"hovertemplate\":\"Country=Italy\\u003cbr\\u003ex=%{x}\\u003cbr\\u003ey=%{y}\\u003cextra\\u003e\\u003c\\u002fextra\\u003e\",\"legendgroup\":\"Italy\",\"marker\":{\"color\":\"#EF553B\",\"symbol\":\"circle\"},\"mode\":\"markers\",\"name\":\"Italy\",\"orientation\":\"v\",\"showlegend\":true,\"x\":[1957,1956,1959,1960,1961,1962,1963,1965,1966,1967,1968,1969,1970,1971,1972,1973,1974,1975,1976,1977,1978,1979,1980,1981,1982,1983,1984,1985,1986,1987,1988,1989,1990,1991,1992,1993,1994,1995,1996,1997,1998,1999,2000,2001,2002,2003,2004,2005,2006,2007,2008,2009,2010,2011,2012,2013,2014,2015,2016,2017,2018,2019],\"xaxis\":\"x\",\"y\":[44.44444444444444,100.0,6.25,18.181818181818183,66.66666666666666,38.095238095238095,66.66666666666666,33.33333333333333,31.25,21.428571428571427,0.0,14.285714285714285,17.647058823529413,27.27272727272727,12.5,25.0,33.33333333333333,45.45454545454545,42.10526315789473,38.88888888888889,43.75,42.857142857142854,50.0,35.294117647058826,21.73913043478261,35.294117647058826,30.434782608695656,38.46153846153847,18.75,25.0,28.57142857142857,30.76923076923077,33.33333333333333,46.666666666666664,35.714285714285715,27.27272727272727,46.15384615384615,57.14285714285714,66.66666666666666,75.0,76.92307692307693,69.23076923076923,69.23076923076923,66.66666666666666,63.63636363636363,60.0,66.66666666666666,70.0,88.23529411764706,72.72727272727273,73.33333333333333,78.57142857142857,76.92307692307693,75.0,76.92307692307693,76.92307692307693,66.66666666666666,70.0,72.72727272727273,68.75,66.66666666666666,31.25],\"yaxis\":\"y\",\"type\":\"scatter\"},{\"hovertemplate\":\"\\u003cb\\u003eLOWESS trendline\\u003c\\u002fb\\u003e\\u003cbr\\u003e\\u003cbr\\u003eCountry=Italy\\u003cbr\\u003ex=%{x}\\u003cbr\\u003ey=%{y} \\u003cb\\u003e(trend)\\u003c\\u002fb\\u003e\\u003cextra\\u003e\\u003c\\u002fextra\\u003e\",\"legendgroup\":\"Italy\",\"marker\":{\"color\":\"#EF553B\",\"symbol\":\"circle\"},\"mode\":\"lines\",\"name\":\"Italy\",\"showlegend\":false,\"x\":[1956,1957,1959,1960,1961,1962,1963,1965,1966,1967,1968,1969,1970,1971,1972,1973,1974,1975,1976,1977,1978,1979,1980,1981,1982,1983,1984,1985,1986,1987,1988,1989,1990,1991,1992,1993,1994,1995,1996,1997,1998,1999,2000,2001,2002,2003,2004,2005,2006,2007,2008,2009,2010,2011,2012,2013,2014,2015,2016,2017,2018,2019],\"xaxis\":\"x\",\"y\":[27.566503804948457,27.74333925594289,28.122513895017697,28.32280934234071,28.52986150482546,28.744263429035225,28.965814450242647,29.424449478946148,29.65649646397228,29.886128477715673,30.10961894708263,30.323431508403157,30.524800862083705,30.712008140284027,30.884589158007618,31.04364733787562,31.193557022487663,31.34390567851858,31.51221222860369,31.724839112445643,32.09695762689951,32.59720613327104,33.25344778345506,34.0833500816497,35.07992810595999,36.213308908185056,37.44379969073135,38.43474670055072,39.73445145529657,41.033052630439265,42.32372877788022,43.61398186247187,44.91671216179051,46.24911841934333,47.63023588430883,49.080503978571336,50.61251079168756,52.228020709694356,53.916402459088026,55.660433557945176,57.437117244716426,59.21473439873916,60.574142420468014,61.82160036029423,63.01621522511885,64.1798600401249,65.31939268222442,66.43742247443848,67.53518657652965,68.61311640017587,69.6707574151021,70.70737705467226,71.72208243227269,72.71370008008061,73.6809059478144,74.62237088262468,75.53675263622371,76.4228456034661,77.28004242491103,78.10828235883298,78.9079499713843,79.68007992180313],\"yaxis\":\"y\",\"type\":\"scatter\"},{\"hovertemplate\":\"Country=France\\u003cbr\\u003ex=%{x}\\u003cbr\\u003ey=%{y}\\u003cextra\\u003e\\u003c\\u002fextra\\u003e\",\"legendgroup\":\"France\",\"marker\":{\"color\":\"#00cc96\",\"symbol\":\"circle\"},\"mode\":\"markers\",\"name\":\"France\",\"orientation\":\"v\",\"showlegend\":true,\"x\":[1946,1947,1948,1949,1950,1951,1952,1953,1954,1955,1957,1956,1959,1960,1961,1962,1963,1965,1966,1967,1968,1969,1970,1971,1972,1973,1974,1975,1976,1977,1978,1979,1980,1981,1982,1983,1984,1985,1986,1987,1988,1989,1990,1991,1992,1993,1994,1995,1996,1997,1998,1999,2000,2001,2002,2003,2004,2005,2006,2007,2008,2009,2010,2011,2012,2013,2014,2015,2016,2017,2018,2019],\"xaxis\":\"x\",\"y\":[66.66666666666666,55.55555555555556,41.66666666666667,46.666666666666664,33.33333333333333,100.0,13.333333333333334,40.0,20.0,33.33333333333333,44.44444444444444,100.0,64.28571428571429,12.5,21.428571428571427,23.809523809523807,0.0,8.333333333333332,18.75,7.6923076923076925,0.0,0.0,12.5,13.636363636363635,12.5,8.695652173913043,16.666666666666664,28.57142857142857,22.22222222222222,22.22222222222222,25.0,19.047619047619047,31.25,17.647058823529413,17.391304347826086,29.411764705882355,26.08695652173913,30.76923076923077,12.5,30.0,27.27272727272727,23.076923076923077,20.0,40.0,28.57142857142857,27.27272727272727,38.46153846153847,28.57142857142857,41.66666666666667,41.66666666666667,50.0,38.46153846153847,38.46153846153847,41.66666666666667,36.36363636363637,40.0,22.22222222222222,30.0,52.94117647058824,36.36363636363637,46.666666666666664,42.857142857142854,46.15384615384615,50.0,46.15384615384615,46.15384615384615,22.22222222222222,20.0,27.27272727272727,43.75,33.33333333333333,31.25],\"yaxis\":\"y\",\"type\":\"scatter\"},{\"hovertemplate\":\"\\u003cb\\u003eLOWESS trendline\\u003c\\u002fb\\u003e\\u003cbr\\u003e\\u003cbr\\u003eCountry=France\\u003cbr\\u003ex=%{x}\\u003cbr\\u003ey=%{y} \\u003cb\\u003e(trend)\\u003c\\u002fb\\u003e\\u003cextra\\u003e\\u003c\\u002fextra\\u003e\",\"legendgroup\":\"France\",\"marker\":{\"color\":\"#00cc96\",\"symbol\":\"circle\"},\"mode\":\"lines\",\"name\":\"France\",\"showlegend\":false,\"x\":[1946,1947,1948,1949,1950,1951,1952,1953,1954,1955,1956,1957,1959,1960,1961,1962,1963,1965,1966,1967,1968,1969,1970,1971,1972,1973,1974,1975,1976,1977,1978,1979,1980,1981,1982,1983,1984,1985,1986,1987,1988,1989,1990,1991,1992,1993,1994,1995,1996,1997,1998,1999,2000,2001,2002,2003,2004,2005,2006,2007,2008,2009,2010,2011,2012,2013,2014,2015,2016,2017,2018,2019],\"xaxis\":\"x\",\"y\":[39.0659140809946,38.07665672553654,37.105661192674695,36.15317173632184,35.21909061347345,34.30293290476434,33.40411070265646,32.52203401269814,31.65629569547777,30.806317690922697,29.971607239284296,29.15152291907074,27.55083211336954,26.76651903564981,25.98948635328548,25.216623312458626,24.444102560604378,22.879479776826113,22.074779712948246,21.248346916716798,20.405843549201883,19.583225479633345,18.866620310048923,18.69284118152155,18.625889048458575,18.661219873135455,18.79637081453858,19.037104746806047,19.394451856731923,19.86791200002548,20.443171261622247,21.105253485000237,21.837068764765945,22.624157957002925,23.446756845141365,24.290458447933364,25.1439682971796,25.993904623023365,26.827920765991156,27.63831238588275,28.484006542927002,29.239835234881436,29.968103147947865,30.675992409092537,31.371097548396413,32.054221598907795,32.72091339085557,33.36606070709118,33.98742058075842,34.46159843062973,34.84625870481817,35.18247729315259,35.49618865146409,35.798932488451584,36.09519205628146,36.38648055419785,36.67322914417362,36.95548265327974,37.23343943956823,37.50729043251865,37.77685650177066,38.041816230905305,38.30161438151654,38.55551567609003,38.80257383918094,39.041599359588716,39.2712362568719,39.490116205629775,39.69734711458895,39.89260092442989,40.07594381867409,40.24746567411046],\"yaxis\":\"y\",\"type\":\"scatter\"}],                        {\"template\":{\"data\":{\"histogram2dcontour\":[{\"type\":\"histogram2dcontour\",\"colorbar\":{\"outlinewidth\":0,\"ticks\":\"\"},\"colorscale\":[[0.0,\"#0d0887\"],[0.1111111111111111,\"#46039f\"],[0.2222222222222222,\"#7201a8\"],[0.3333333333333333,\"#9c179e\"],[0.4444444444444444,\"#bd3786\"],[0.5555555555555556,\"#d8576b\"],[0.6666666666666666,\"#ed7953\"],[0.7777777777777778,\"#fb9f3a\"],[0.8888888888888888,\"#fdca26\"],[1.0,\"#f0f921\"]]}],\"choropleth\":[{\"type\":\"choropleth\",\"colorbar\":{\"outlinewidth\":0,\"ticks\":\"\"}}],\"histogram2d\":[{\"type\":\"histogram2d\",\"colorbar\":{\"outlinewidth\":0,\"ticks\":\"\"},\"colorscale\":[[0.0,\"#0d0887\"],[0.1111111111111111,\"#46039f\"],[0.2222222222222222,\"#7201a8\"],[0.3333333333333333,\"#9c179e\"],[0.4444444444444444,\"#bd3786\"],[0.5555555555555556,\"#d8576b\"],[0.6666666666666666,\"#ed7953\"],[0.7777777777777778,\"#fb9f3a\"],[0.8888888888888888,\"#fdca26\"],[1.0,\"#f0f921\"]]}],\"heatmap\":[{\"type\":\"heatmap\",\"colorbar\":{\"outlinewidth\":0,\"ticks\":\"\"},\"colorscale\":[[0.0,\"#0d0887\"],[0.1111111111111111,\"#46039f\"],[0.2222222222222222,\"#7201a8\"],[0.3333333333333333,\"#9c179e\"],[0.4444444444444444,\"#bd3786\"],[0.5555555555555556,\"#d8576b\"],[0.6666666666666666,\"#ed7953\"],[0.7777777777777778,\"#fb9f3a\"],[0.8888888888888888,\"#fdca26\"],[1.0,\"#f0f921\"]]}],\"heatmapgl\":[{\"type\":\"heatmapgl\",\"colorbar\":{\"outlinewidth\":0,\"ticks\":\"\"},\"colorscale\":[[0.0,\"#0d0887\"],[0.1111111111111111,\"#46039f\"],[0.2222222222222222,\"#7201a8\"],[0.3333333333333333,\"#9c179e\"],[0.4444444444444444,\"#bd3786\"],[0.5555555555555556,\"#d8576b\"],[0.6666666666666666,\"#ed7953\"],[0.7777777777777778,\"#fb9f3a\"],[0.8888888888888888,\"#fdca26\"],[1.0,\"#f0f921\"]]}],\"contourcarpet\":[{\"type\":\"contourcarpet\",\"colorbar\":{\"outlinewidth\":0,\"ticks\":\"\"}}],\"contour\":[{\"type\":\"contour\",\"colorbar\":{\"outlinewidth\":0,\"ticks\":\"\"},\"colorscale\":[[0.0,\"#0d0887\"],[0.1111111111111111,\"#46039f\"],[0.2222222222222222,\"#7201a8\"],[0.3333333333333333,\"#9c179e\"],[0.4444444444444444,\"#bd3786\"],[0.5555555555555556,\"#d8576b\"],[0.6666666666666666,\"#ed7953\"],[0.7777777777777778,\"#fb9f3a\"],[0.8888888888888888,\"#fdca26\"],[1.0,\"#f0f921\"]]}],\"surface\":[{\"type\":\"surface\",\"colorbar\":{\"outlinewidth\":0,\"ticks\":\"\"},\"colorscale\":[[0.0,\"#0d0887\"],[0.1111111111111111,\"#46039f\"],[0.2222222222222222,\"#7201a8\"],[0.3333333333333333,\"#9c179e\"],[0.4444444444444444,\"#bd3786\"],[0.5555555555555556,\"#d8576b\"],[0.6666666666666666,\"#ed7953\"],[0.7777777777777778,\"#fb9f3a\"],[0.8888888888888888,\"#fdca26\"],[1.0,\"#f0f921\"]]}],\"mesh3d\":[{\"type\":\"mesh3d\",\"colorbar\":{\"outlinewidth\":0,\"ticks\":\"\"}}],\"scatter\":[{\"fillpattern\":{\"fillmode\":\"overlay\",\"size\":10,\"solidity\":0.2},\"type\":\"scatter\"}],\"parcoords\":[{\"type\":\"parcoords\",\"line\":{\"colorbar\":{\"outlinewidth\":0,\"ticks\":\"\"}}}],\"scatterpolargl\":[{\"type\":\"scatterpolargl\",\"marker\":{\"colorbar\":{\"outlinewidth\":0,\"ticks\":\"\"}}}],\"bar\":[{\"error_x\":{\"color\":\"#2a3f5f\"},\"error_y\":{\"color\":\"#2a3f5f\"},\"marker\":{\"line\":{\"color\":\"#E5ECF6\",\"width\":0.5},\"pattern\":{\"fillmode\":\"overlay\",\"size\":10,\"solidity\":0.2}},\"type\":\"bar\"}],\"scattergeo\":[{\"type\":\"scattergeo\",\"marker\":{\"colorbar\":{\"outlinewidth\":0,\"ticks\":\"\"}}}],\"scatterpolar\":[{\"type\":\"scatterpolar\",\"marker\":{\"colorbar\":{\"outlinewidth\":0,\"ticks\":\"\"}}}],\"histogram\":[{\"marker\":{\"pattern\":{\"fillmode\":\"overlay\",\"size\":10,\"solidity\":0.2}},\"type\":\"histogram\"}],\"scattergl\":[{\"type\":\"scattergl\",\"marker\":{\"colorbar\":{\"outlinewidth\":0,\"ticks\":\"\"}}}],\"scatter3d\":[{\"type\":\"scatter3d\",\"line\":{\"colorbar\":{\"outlinewidth\":0,\"ticks\":\"\"}},\"marker\":{\"colorbar\":{\"outlinewidth\":0,\"ticks\":\"\"}}}],\"scattermapbox\":[{\"type\":\"scattermapbox\",\"marker\":{\"colorbar\":{\"outlinewidth\":0,\"ticks\":\"\"}}}],\"scatterternary\":[{\"type\":\"scatterternary\",\"marker\":{\"colorbar\":{\"outlinewidth\":0,\"ticks\":\"\"}}}],\"scattercarpet\":[{\"type\":\"scattercarpet\",\"marker\":{\"colorbar\":{\"outlinewidth\":0,\"ticks\":\"\"}}}],\"carpet\":[{\"aaxis\":{\"endlinecolor\":\"#2a3f5f\",\"gridcolor\":\"white\",\"linecolor\":\"white\",\"minorgridcolor\":\"white\",\"startlinecolor\":\"#2a3f5f\"},\"baxis\":{\"endlinecolor\":\"#2a3f5f\",\"gridcolor\":\"white\",\"linecolor\":\"white\",\"minorgridcolor\":\"white\",\"startlinecolor\":\"#2a3f5f\"},\"type\":\"carpet\"}],\"table\":[{\"cells\":{\"fill\":{\"color\":\"#EBF0F8\"},\"line\":{\"color\":\"white\"}},\"header\":{\"fill\":{\"color\":\"#C8D4E3\"},\"line\":{\"color\":\"white\"}},\"type\":\"table\"}],\"barpolar\":[{\"marker\":{\"line\":{\"color\":\"#E5ECF6\",\"width\":0.5},\"pattern\":{\"fillmode\":\"overlay\",\"size\":10,\"solidity\":0.2}},\"type\":\"barpolar\"}],\"pie\":[{\"automargin\":true,\"type\":\"pie\"}]},\"layout\":{\"autotypenumbers\":\"strict\",\"colorway\":[\"#636efa\",\"#EF553B\",\"#00cc96\",\"#ab63fa\",\"#FFA15A\",\"#19d3f3\",\"#FF6692\",\"#B6E880\",\"#FF97FF\",\"#FECB52\"],\"font\":{\"color\":\"#2a3f5f\"},\"hovermode\":\"closest\",\"hoverlabel\":{\"align\":\"left\"},\"paper_bgcolor\":\"white\",\"plot_bgcolor\":\"#E5ECF6\",\"polar\":{\"bgcolor\":\"#E5ECF6\",\"angularaxis\":{\"gridcolor\":\"white\",\"linecolor\":\"white\",\"ticks\":\"\"},\"radialaxis\":{\"gridcolor\":\"white\",\"linecolor\":\"white\",\"ticks\":\"\"}},\"ternary\":{\"bgcolor\":\"#E5ECF6\",\"aaxis\":{\"gridcolor\":\"white\",\"linecolor\":\"white\",\"ticks\":\"\"},\"baxis\":{\"gridcolor\":\"white\",\"linecolor\":\"white\",\"ticks\":\"\"},\"caxis\":{\"gridcolor\":\"white\",\"linecolor\":\"white\",\"ticks\":\"\"}},\"coloraxis\":{\"colorbar\":{\"outlinewidth\":0,\"ticks\":\"\"}},\"colorscale\":{\"sequential\":[[0.0,\"#0d0887\"],[0.1111111111111111,\"#46039f\"],[0.2222222222222222,\"#7201a8\"],[0.3333333333333333,\"#9c179e\"],[0.4444444444444444,\"#bd3786\"],[0.5555555555555556,\"#d8576b\"],[0.6666666666666666,\"#ed7953\"],[0.7777777777777778,\"#fb9f3a\"],[0.8888888888888888,\"#fdca26\"],[1.0,\"#f0f921\"]],\"sequentialminus\":[[0.0,\"#0d0887\"],[0.1111111111111111,\"#46039f\"],[0.2222222222222222,\"#7201a8\"],[0.3333333333333333,\"#9c179e\"],[0.4444444444444444,\"#bd3786\"],[0.5555555555555556,\"#d8576b\"],[0.6666666666666666,\"#ed7953\"],[0.7777777777777778,\"#fb9f3a\"],[0.8888888888888888,\"#fdca26\"],[1.0,\"#f0f921\"]],\"diverging\":[[0,\"#8e0152\"],[0.1,\"#c51b7d\"],[0.2,\"#de77ae\"],[0.3,\"#f1b6da\"],[0.4,\"#fde0ef\"],[0.5,\"#f7f7f7\"],[0.6,\"#e6f5d0\"],[0.7,\"#b8e186\"],[0.8,\"#7fbc41\"],[0.9,\"#4d9221\"],[1,\"#276419\"]]},\"xaxis\":{\"gridcolor\":\"white\",\"linecolor\":\"white\",\"ticks\":\"\",\"title\":{\"standoff\":15},\"zerolinecolor\":\"white\",\"automargin\":true,\"zerolinewidth\":2},\"yaxis\":{\"gridcolor\":\"white\",\"linecolor\":\"white\",\"ticks\":\"\",\"title\":{\"standoff\":15},\"zerolinecolor\":\"white\",\"automargin\":true,\"zerolinewidth\":2},\"scene\":{\"xaxis\":{\"backgroundcolor\":\"#E5ECF6\",\"gridcolor\":\"white\",\"linecolor\":\"white\",\"showbackground\":true,\"ticks\":\"\",\"zerolinecolor\":\"white\",\"gridwidth\":2},\"yaxis\":{\"backgroundcolor\":\"#E5ECF6\",\"gridcolor\":\"white\",\"linecolor\":\"white\",\"showbackground\":true,\"ticks\":\"\",\"zerolinecolor\":\"white\",\"gridwidth\":2},\"zaxis\":{\"backgroundcolor\":\"#E5ECF6\",\"gridcolor\":\"white\",\"linecolor\":\"white\",\"showbackground\":true,\"ticks\":\"\",\"zerolinecolor\":\"white\",\"gridwidth\":2}},\"shapedefaults\":{\"line\":{\"color\":\"#2a3f5f\"}},\"annotationdefaults\":{\"arrowcolor\":\"#2a3f5f\",\"arrowhead\":0,\"arrowwidth\":1},\"geo\":{\"bgcolor\":\"white\",\"landcolor\":\"#E5ECF6\",\"subunitcolor\":\"white\",\"showland\":true,\"showlakes\":true,\"lakecolor\":\"white\"},\"title\":{\"x\":0.05},\"mapbox\":{\"style\":\"light\"}}},\"xaxis\":{\"anchor\":\"y\",\"domain\":[0.0,1.0],\"title\":{\"text\":\"Year\"}},\"yaxis\":{\"anchor\":\"x\",\"domain\":[0.0,1.0],\"title\":{\"text\":\"% Yes\"}},\"legend\":{\"title\":{\"text\":\"Country\"},\"tracegroupgap\":0},\"margin\":{\"t\":60},\"title\":{\"text\":\"Colonialism\\u003cbr\\u003e\",\"y\":0.9,\"x\":0.5,\"xanchor\":\"center\",\"yanchor\":\"top\"}},                        {\"responsive\": true}                    ).then(function(){\n",
       "                            \n",
       "var gd = document.getElementById('b196d74e-d03f-4098-bafd-c9b0b5187de7');\n",
       "var x = new MutationObserver(function (mutations, observer) {{\n",
       "        var display = window.getComputedStyle(gd).display;\n",
       "        if (!display || display === 'none') {{\n",
       "            console.log([gd, 'removed!']);\n",
       "            Plotly.purge(gd);\n",
       "            observer.disconnect();\n",
       "        }}\n",
       "}});\n",
       "\n",
       "// Listen for the removal of the full notebook cells\n",
       "var notebookContainer = gd.closest('#notebook-container');\n",
       "if (notebookContainer) {{\n",
       "    x.observe(notebookContainer, {childList: true});\n",
       "}}\n",
       "\n",
       "// Listen for the clearing of the current output cell\n",
       "var outputEl = gd.closest('.output');\n",
       "if (outputEl) {{\n",
       "    x.observe(outputEl, {childList: true});\n",
       "}}\n",
       "\n",
       "                        })                };                });            </script>        </div>"
      ]
     },
     "metadata": {},
     "output_type": "display_data"
    },
    {
     "data": {
      "application/vnd.plotly.v1+json": {
       "config": {
        "plotlyServerURL": "https://plot.ly"
       },
       "data": [
        {
         "hovertemplate": "Country=Spain<br>x=%{x}<br>y=%{y}<extra></extra>",
         "legendgroup": "Spain",
         "marker": {
          "color": "#636efa",
          "symbol": "circle"
         },
         "mode": "markers",
         "name": "Spain",
         "orientation": "v",
         "showlegend": true,
         "type": "scatter",
         "x": [
          1957,
          1956,
          1961,
          1962,
          1963,
          1965,
          1967,
          1969,
          1970,
          1971,
          1972,
          1973,
          1974,
          1975,
          1976,
          1977,
          1978,
          1979,
          1980,
          1981,
          1982,
          1983,
          1984,
          1985,
          1986,
          1987,
          1988,
          1989,
          1990,
          1991,
          1992,
          1993,
          1994,
          1995,
          1996,
          1997,
          1998,
          1999,
          2000,
          2001,
          2002,
          2003,
          2004,
          2005,
          2006,
          2007,
          2008,
          2009,
          2010,
          2011,
          2012,
          2013,
          2014,
          2015,
          2016,
          2017,
          2018,
          2019
         ],
         "xaxis": "x",
         "y": [
          100,
          100,
          62.5,
          0,
          100,
          100,
          30.76923076923077,
          100,
          100,
          100,
          100,
          100,
          88.88888888888889,
          100,
          91.66666666666666,
          100,
          93.33333333333333,
          91.66666666666666,
          90.9090909090909,
          87.87878787878788,
          91.42857142857143,
          83.33333333333334,
          84.84848484848484,
          74.19354838709677,
          72.41379310344827,
          76.66666666666667,
          68.96551724137932,
          76.66666666666667,
          77.77777777777779,
          78.57142857142857,
          80.76923076923077,
          76.19047619047619,
          73.68421052631578,
          73.68421052631578,
          75,
          81.81818181818183,
          78.26086956521739,
          80.95238095238095,
          78.26086956521739,
          76,
          76.19047619047619,
          73.68421052631578,
          68.42105263157895,
          80,
          70,
          73.68421052631578,
          76.47058823529412,
          81.25,
          75,
          81.25,
          76.47058823529412,
          75,
          78.57142857142857,
          73.33333333333333,
          69.23076923076923,
          80,
          75,
          71.42857142857143
         ],
         "yaxis": "y"
        },
        {
         "hovertemplate": "<b>LOWESS trendline</b><br><br>Country=Spain<br>x=%{x}<br>y=%{y} <b>(trend)</b><extra></extra>",
         "legendgroup": "Spain",
         "marker": {
          "color": "#636efa",
          "symbol": "circle"
         },
         "mode": "lines",
         "name": "Spain",
         "showlegend": false,
         "type": "scatter",
         "x": [
          1956,
          1957,
          1961,
          1962,
          1963,
          1965,
          1967,
          1969,
          1970,
          1971,
          1972,
          1973,
          1974,
          1975,
          1976,
          1977,
          1978,
          1979,
          1980,
          1981,
          1982,
          1983,
          1984,
          1985,
          1986,
          1987,
          1988,
          1989,
          1990,
          1991,
          1992,
          1993,
          1994,
          1995,
          1996,
          1997,
          1998,
          1999,
          2000,
          2001,
          2002,
          2003,
          2004,
          2005,
          2006,
          2007,
          2008,
          2009,
          2010,
          2011,
          2012,
          2013,
          2014,
          2015,
          2016,
          2017,
          2018,
          2019
         ],
         "xaxis": "x",
         "y": [
          105.78108868915834,
          105.21762721860736,
          102.847947427968,
          102.22862509912866,
          101.5997080774133,
          100.31642569332416,
          99.00685183909437,
          97.68281071248231,
          97.01977976244098,
          96.35822317569126,
          95.6986944051393,
          95.0393143563066,
          94.37263574770581,
          93.67991212014785,
          92.92465741922739,
          92.05917008745188,
          91.05142809924034,
          90.0489296846269,
          89.0487171128118,
          88.01510304403631,
          87.03284587166705,
          86.09074144901626,
          85.19209012587496,
          84.33240575769531,
          83.30786189706285,
          82.49638031821114,
          81.71519420064186,
          80.96526177326484,
          80.24872430242385,
          79.57099838004942,
          78.94109217239208,
          78.36998859051816,
          77.871714326296,
          77.45423231977807,
          77.12178760591574,
          76.87383000579871,
          76.70228664833695,
          76.59128747513327,
          76.52364254230562,
          76.48014330258215,
          76.42887976334528,
          76.35854016878613,
          76.27583921160482,
          76.18547718161551,
          76.09059825362628,
          75.9931051694375,
          75.89455799149204,
          75.796201093787,
          75.69881164507004,
          75.60266748096197,
          75.5078299399843,
          75.41402969723777,
          75.32087866347658,
          75.22796253264475,
          75.13474340626934,
          75.04086405830357,
          74.94625143870327,
          74.85062669849572
         ],
         "yaxis": "y"
        },
        {
         "hovertemplate": "Country=Italy<br>x=%{x}<br>y=%{y}<extra></extra>",
         "legendgroup": "Italy",
         "marker": {
          "color": "#EF553B",
          "symbol": "circle"
         },
         "mode": "markers",
         "name": "Italy",
         "orientation": "v",
         "showlegend": true,
         "type": "scatter",
         "x": [
          1957,
          1956,
          1961,
          1962,
          1963,
          1965,
          1967,
          1969,
          1970,
          1971,
          1972,
          1973,
          1974,
          1975,
          1976,
          1977,
          1978,
          1979,
          1980,
          1981,
          1982,
          1983,
          1984,
          1985,
          1986,
          1987,
          1988,
          1989,
          1990,
          1991,
          1992,
          1993,
          1994,
          1995,
          1996,
          1997,
          1998,
          1999,
          2000,
          2001,
          2002,
          2003,
          2004,
          2005,
          2006,
          2007,
          2008,
          2009,
          2010,
          2011,
          2012,
          2013,
          2014,
          2015,
          2016,
          2017,
          2018,
          2019
         ],
         "xaxis": "x",
         "y": [
          100,
          100,
          37.5,
          100,
          100,
          100,
          23.076923076923077,
          0,
          20,
          33.33333333333333,
          60,
          40,
          33.33333333333333,
          33.33333333333333,
          33.33333333333333,
          38.46153846153847,
          40,
          41.66666666666667,
          40.909090909090914,
          33.33333333333333,
          48.57142857142857,
          50,
          54.54545454545454,
          51.61290322580645,
          48.275862068965516,
          50,
          51.724137931034484,
          60,
          59.25925925925925,
          60.71428571428571,
          65.38461538461539,
          57.14285714285714,
          68.42105263157895,
          66.66666666666666,
          76.19047619047619,
          81.81818181818183,
          78.26086956521739,
          80.95238095238095,
          78.26086956521739,
          80,
          76.19047619047619,
          73.68421052631578,
          68.42105263157895,
          80,
          75,
          73.68421052631578,
          76.47058823529412,
          76.47058823529412,
          75,
          82.35294117647058,
          76.47058823529412,
          75,
          80,
          73.33333333333333,
          69.23076923076923,
          80,
          75,
          71.42857142857143
         ],
         "yaxis": "y"
        },
        {
         "hovertemplate": "<b>LOWESS trendline</b><br><br>Country=Italy<br>x=%{x}<br>y=%{y} <b>(trend)</b><extra></extra>",
         "legendgroup": "Italy",
         "marker": {
          "color": "#EF553B",
          "symbol": "circle"
         },
         "mode": "lines",
         "name": "Italy",
         "showlegend": false,
         "type": "scatter",
         "x": [
          1956,
          1957,
          1961,
          1962,
          1963,
          1965,
          1967,
          1969,
          1970,
          1971,
          1972,
          1973,
          1974,
          1975,
          1976,
          1977,
          1978,
          1979,
          1980,
          1981,
          1982,
          1983,
          1984,
          1985,
          1986,
          1987,
          1988,
          1989,
          1990,
          1991,
          1992,
          1993,
          1994,
          1995,
          1996,
          1997,
          1998,
          1999,
          2000,
          2001,
          2002,
          2003,
          2004,
          2005,
          2006,
          2007,
          2008,
          2009,
          2010,
          2011,
          2012,
          2013,
          2014,
          2015,
          2016,
          2017,
          2018,
          2019
         ],
         "xaxis": "x",
         "y": [
          17.41471233671141,
          18.314023120844222,
          22.07127425745258,
          23.05588657671934,
          24.058087550802245,
          26.106508711259394,
          28.19744523243551,
          30.310965151043288,
          31.371327448909053,
          32.4322863905896,
          33.49406552559558,
          34.55818932864267,
          35.62797595037936,
          36.70955265229559,
          37.81497371511793,
          38.966090643251135,
          40.29485462994434,
          41.699995219622146,
          43.10900531064397,
          44.617496035842684,
          46.218923244655336,
          47.85768373243756,
          49.52945500358624,
          51.22142416654236,
          52.85443648878324,
          54.564238344101895,
          56.24832312809156,
          57.892231358442785,
          59.48323723603018,
          61.00972223329377,
          62.463815183676964,
          63.83977048710077,
          65.14145268393904,
          66.37450766748661,
          67.54270211024786,
          68.6494052332616,
          69.69440793711145,
          70.67574697338739,
          71.59389448230529,
          72.44494855442814,
          72.88849273126255,
          73.2891111514759,
          73.66727103506115,
          74.02802925797091,
          74.37237587744603,
          74.70038311924105,
          75.01228433357603,
          75.3085955001405,
          75.589859512402,
          75.85658884059558,
          76.1092372127021,
          76.34795780070938,
          76.572859033287,
          76.78408778946337,
          76.98167678417737,
          77.16591285030081,
          77.337453826445,
          77.4968470940743
         ],
         "yaxis": "y"
        },
        {
         "hovertemplate": "Country=France<br>x=%{x}<br>y=%{y}<extra></extra>",
         "legendgroup": "France",
         "marker": {
          "color": "#00cc96",
          "symbol": "circle"
         },
         "mode": "markers",
         "name": "France",
         "orientation": "v",
         "showlegend": true,
         "type": "scatter",
         "x": [
          1947,
          1948,
          1949,
          1950,
          1952,
          1957,
          1956,
          1961,
          1962,
          1963,
          1965,
          1967,
          1969,
          1970,
          1971,
          1972,
          1973,
          1974,
          1975,
          1976,
          1977,
          1978,
          1979,
          1980,
          1981,
          1982,
          1983,
          1984,
          1985,
          1986,
          1987,
          1988,
          1989,
          1990,
          1991,
          1992,
          1993,
          1994,
          1995,
          1996,
          1997,
          1998,
          1999,
          2000,
          2001,
          2002,
          2003,
          2004,
          2005,
          2006,
          2007,
          2008,
          2009,
          2010,
          2011,
          2012,
          2013,
          2014,
          2015,
          2016,
          2017,
          2018,
          2019
         ],
         "xaxis": "x",
         "y": [
          71.42857142857143,
          81.81818181818183,
          85.71428571428571,
          100,
          33.33333333333333,
          0,
          0,
          37.5,
          100,
          100,
          100,
          30.76923076923077,
          0,
          40,
          33.33333333333333,
          60,
          40,
          33.33333333333333,
          33.33333333333333,
          33.33333333333333,
          38.46153846153847,
          40,
          41.66666666666667,
          40.909090909090914,
          33.33333333333333,
          51.42857142857142,
          52.77777777777778,
          57.57575757575758,
          51.61290322580645,
          48.275862068965516,
          50,
          48.275862068965516,
          58.620689655172406,
          59.25925925925925,
          60.71428571428571,
          65.38461538461539,
          66.66666666666666,
          73.68421052631578,
          73.68421052631578,
          76.19047619047619,
          81.81818181818183,
          78.26086956521739,
          80.95238095238095,
          78.26086956521739,
          75,
          76.19047619047619,
          73.68421052631578,
          68.42105263157895,
          80,
          70,
          73.68421052631578,
          76.47058823529412,
          76.47058823529412,
          75,
          82.35294117647058,
          76.47058823529412,
          75,
          80,
          73.33333333333333,
          69.23076923076923,
          80,
          75,
          71.42857142857143
         ],
         "yaxis": "y"
        },
        {
         "hovertemplate": "<b>LOWESS trendline</b><br><br>Country=France<br>x=%{x}<br>y=%{y} <b>(trend)</b><extra></extra>",
         "legendgroup": "France",
         "marker": {
          "color": "#00cc96",
          "symbol": "circle"
         },
         "mode": "lines",
         "name": "France",
         "showlegend": false,
         "type": "scatter",
         "x": [
          1947,
          1948,
          1949,
          1950,
          1952,
          1956,
          1957,
          1961,
          1962,
          1963,
          1965,
          1967,
          1969,
          1970,
          1971,
          1972,
          1973,
          1974,
          1975,
          1976,
          1977,
          1978,
          1979,
          1980,
          1981,
          1982,
          1983,
          1984,
          1985,
          1986,
          1987,
          1988,
          1989,
          1990,
          1991,
          1992,
          1993,
          1994,
          1995,
          1996,
          1997,
          1998,
          1999,
          2000,
          2001,
          2002,
          2003,
          2004,
          2005,
          2006,
          2007,
          2008,
          2009,
          2010,
          2011,
          2012,
          2013,
          2014,
          2015,
          2016,
          2017,
          2018,
          2019
         ],
         "xaxis": "x",
         "y": [
          64.55493102726399,
          63.515364329109545,
          62.49489631079427,
          61.49344924379863,
          59.54267441172315,
          55.79698101872593,
          54.878069483678765,
          51.13163599350018,
          50.13538489535382,
          49.08964340767387,
          46.76209432615806,
          43.89877016685014,
          40.26746945826485,
          38.40515620776279,
          37.1502518113036,
          37.074634198761565,
          37.74095219143017,
          38.568479272897555,
          39.498162716620925,
          40.52062142991658,
          41.63383021630261,
          42.73355262579386,
          43.873660402409776,
          45.210663109910726,
          46.62661479511688,
          47.97890476531655,
          49.517356429419564,
          51.07752000033944,
          52.63969478081976,
          54.142856476599384,
          55.7113008659148,
          57.24595031296322,
          58.84963939402368,
          60.35727761030899,
          61.80610233670546,
          63.189992557360064,
          64.50631967151611,
          65.75409762229103,
          66.93585437026763,
          68.05571147227664,
          69.11423839761676,
          70.10815887967874,
          71.03563140234054,
          71.57265234966022,
          72.05223932058531,
          72.50337965585186,
          72.93701739920104,
          73.35493453616257,
          73.75690667578716,
          74.14287792429805,
          74.51292006456126,
          74.86749732388829,
          75.2072414579846,
          75.53274172245463,
          75.84452946081014,
          76.14307089247592,
          76.42858998683579,
          76.70126507210065,
          76.96129671480296,
          77.20879720362606,
          77.4440701012153,
          77.667713081508,
          77.8802533799222
         ],
         "yaxis": "y"
        }
       ],
       "layout": {
        "autosize": true,
        "legend": {
         "title": {
          "text": "Country"
         },
         "tracegroupgap": 0
        },
        "margin": {
         "t": 60
        },
        "template": {
         "data": {
          "bar": [
           {
            "error_x": {
             "color": "#2a3f5f"
            },
            "error_y": {
             "color": "#2a3f5f"
            },
            "marker": {
             "line": {
              "color": "#E5ECF6",
              "width": 0.5
             },
             "pattern": {
              "fillmode": "overlay",
              "size": 10,
              "solidity": 0.2
             }
            },
            "type": "bar"
           }
          ],
          "barpolar": [
           {
            "marker": {
             "line": {
              "color": "#E5ECF6",
              "width": 0.5
             },
             "pattern": {
              "fillmode": "overlay",
              "size": 10,
              "solidity": 0.2
             }
            },
            "type": "barpolar"
           }
          ],
          "carpet": [
           {
            "aaxis": {
             "endlinecolor": "#2a3f5f",
             "gridcolor": "white",
             "linecolor": "white",
             "minorgridcolor": "white",
             "startlinecolor": "#2a3f5f"
            },
            "baxis": {
             "endlinecolor": "#2a3f5f",
             "gridcolor": "white",
             "linecolor": "white",
             "minorgridcolor": "white",
             "startlinecolor": "#2a3f5f"
            },
            "type": "carpet"
           }
          ],
          "choropleth": [
           {
            "colorbar": {
             "outlinewidth": 0,
             "ticks": ""
            },
            "type": "choropleth"
           }
          ],
          "contour": [
           {
            "colorbar": {
             "outlinewidth": 0,
             "ticks": ""
            },
            "colorscale": [
             [
              0,
              "#0d0887"
             ],
             [
              0.1111111111111111,
              "#46039f"
             ],
             [
              0.2222222222222222,
              "#7201a8"
             ],
             [
              0.3333333333333333,
              "#9c179e"
             ],
             [
              0.4444444444444444,
              "#bd3786"
             ],
             [
              0.5555555555555556,
              "#d8576b"
             ],
             [
              0.6666666666666666,
              "#ed7953"
             ],
             [
              0.7777777777777778,
              "#fb9f3a"
             ],
             [
              0.8888888888888888,
              "#fdca26"
             ],
             [
              1,
              "#f0f921"
             ]
            ],
            "type": "contour"
           }
          ],
          "contourcarpet": [
           {
            "colorbar": {
             "outlinewidth": 0,
             "ticks": ""
            },
            "type": "contourcarpet"
           }
          ],
          "heatmap": [
           {
            "colorbar": {
             "outlinewidth": 0,
             "ticks": ""
            },
            "colorscale": [
             [
              0,
              "#0d0887"
             ],
             [
              0.1111111111111111,
              "#46039f"
             ],
             [
              0.2222222222222222,
              "#7201a8"
             ],
             [
              0.3333333333333333,
              "#9c179e"
             ],
             [
              0.4444444444444444,
              "#bd3786"
             ],
             [
              0.5555555555555556,
              "#d8576b"
             ],
             [
              0.6666666666666666,
              "#ed7953"
             ],
             [
              0.7777777777777778,
              "#fb9f3a"
             ],
             [
              0.8888888888888888,
              "#fdca26"
             ],
             [
              1,
              "#f0f921"
             ]
            ],
            "type": "heatmap"
           }
          ],
          "heatmapgl": [
           {
            "colorbar": {
             "outlinewidth": 0,
             "ticks": ""
            },
            "colorscale": [
             [
              0,
              "#0d0887"
             ],
             [
              0.1111111111111111,
              "#46039f"
             ],
             [
              0.2222222222222222,
              "#7201a8"
             ],
             [
              0.3333333333333333,
              "#9c179e"
             ],
             [
              0.4444444444444444,
              "#bd3786"
             ],
             [
              0.5555555555555556,
              "#d8576b"
             ],
             [
              0.6666666666666666,
              "#ed7953"
             ],
             [
              0.7777777777777778,
              "#fb9f3a"
             ],
             [
              0.8888888888888888,
              "#fdca26"
             ],
             [
              1,
              "#f0f921"
             ]
            ],
            "type": "heatmapgl"
           }
          ],
          "histogram": [
           {
            "marker": {
             "pattern": {
              "fillmode": "overlay",
              "size": 10,
              "solidity": 0.2
             }
            },
            "type": "histogram"
           }
          ],
          "histogram2d": [
           {
            "colorbar": {
             "outlinewidth": 0,
             "ticks": ""
            },
            "colorscale": [
             [
              0,
              "#0d0887"
             ],
             [
              0.1111111111111111,
              "#46039f"
             ],
             [
              0.2222222222222222,
              "#7201a8"
             ],
             [
              0.3333333333333333,
              "#9c179e"
             ],
             [
              0.4444444444444444,
              "#bd3786"
             ],
             [
              0.5555555555555556,
              "#d8576b"
             ],
             [
              0.6666666666666666,
              "#ed7953"
             ],
             [
              0.7777777777777778,
              "#fb9f3a"
             ],
             [
              0.8888888888888888,
              "#fdca26"
             ],
             [
              1,
              "#f0f921"
             ]
            ],
            "type": "histogram2d"
           }
          ],
          "histogram2dcontour": [
           {
            "colorbar": {
             "outlinewidth": 0,
             "ticks": ""
            },
            "colorscale": [
             [
              0,
              "#0d0887"
             ],
             [
              0.1111111111111111,
              "#46039f"
             ],
             [
              0.2222222222222222,
              "#7201a8"
             ],
             [
              0.3333333333333333,
              "#9c179e"
             ],
             [
              0.4444444444444444,
              "#bd3786"
             ],
             [
              0.5555555555555556,
              "#d8576b"
             ],
             [
              0.6666666666666666,
              "#ed7953"
             ],
             [
              0.7777777777777778,
              "#fb9f3a"
             ],
             [
              0.8888888888888888,
              "#fdca26"
             ],
             [
              1,
              "#f0f921"
             ]
            ],
            "type": "histogram2dcontour"
           }
          ],
          "mesh3d": [
           {
            "colorbar": {
             "outlinewidth": 0,
             "ticks": ""
            },
            "type": "mesh3d"
           }
          ],
          "parcoords": [
           {
            "line": {
             "colorbar": {
              "outlinewidth": 0,
              "ticks": ""
             }
            },
            "type": "parcoords"
           }
          ],
          "pie": [
           {
            "automargin": true,
            "type": "pie"
           }
          ],
          "scatter": [
           {
            "fillpattern": {
             "fillmode": "overlay",
             "size": 10,
             "solidity": 0.2
            },
            "type": "scatter"
           }
          ],
          "scatter3d": [
           {
            "line": {
             "colorbar": {
              "outlinewidth": 0,
              "ticks": ""
             }
            },
            "marker": {
             "colorbar": {
              "outlinewidth": 0,
              "ticks": ""
             }
            },
            "type": "scatter3d"
           }
          ],
          "scattercarpet": [
           {
            "marker": {
             "colorbar": {
              "outlinewidth": 0,
              "ticks": ""
             }
            },
            "type": "scattercarpet"
           }
          ],
          "scattergeo": [
           {
            "marker": {
             "colorbar": {
              "outlinewidth": 0,
              "ticks": ""
             }
            },
            "type": "scattergeo"
           }
          ],
          "scattergl": [
           {
            "marker": {
             "colorbar": {
              "outlinewidth": 0,
              "ticks": ""
             }
            },
            "type": "scattergl"
           }
          ],
          "scattermapbox": [
           {
            "marker": {
             "colorbar": {
              "outlinewidth": 0,
              "ticks": ""
             }
            },
            "type": "scattermapbox"
           }
          ],
          "scatterpolar": [
           {
            "marker": {
             "colorbar": {
              "outlinewidth": 0,
              "ticks": ""
             }
            },
            "type": "scatterpolar"
           }
          ],
          "scatterpolargl": [
           {
            "marker": {
             "colorbar": {
              "outlinewidth": 0,
              "ticks": ""
             }
            },
            "type": "scatterpolargl"
           }
          ],
          "scatterternary": [
           {
            "marker": {
             "colorbar": {
              "outlinewidth": 0,
              "ticks": ""
             }
            },
            "type": "scatterternary"
           }
          ],
          "surface": [
           {
            "colorbar": {
             "outlinewidth": 0,
             "ticks": ""
            },
            "colorscale": [
             [
              0,
              "#0d0887"
             ],
             [
              0.1111111111111111,
              "#46039f"
             ],
             [
              0.2222222222222222,
              "#7201a8"
             ],
             [
              0.3333333333333333,
              "#9c179e"
             ],
             [
              0.4444444444444444,
              "#bd3786"
             ],
             [
              0.5555555555555556,
              "#d8576b"
             ],
             [
              0.6666666666666666,
              "#ed7953"
             ],
             [
              0.7777777777777778,
              "#fb9f3a"
             ],
             [
              0.8888888888888888,
              "#fdca26"
             ],
             [
              1,
              "#f0f921"
             ]
            ],
            "type": "surface"
           }
          ],
          "table": [
           {
            "cells": {
             "fill": {
              "color": "#EBF0F8"
             },
             "line": {
              "color": "white"
             }
            },
            "header": {
             "fill": {
              "color": "#C8D4E3"
             },
             "line": {
              "color": "white"
             }
            },
            "type": "table"
           }
          ]
         },
         "layout": {
          "annotationdefaults": {
           "arrowcolor": "#2a3f5f",
           "arrowhead": 0,
           "arrowwidth": 1
          },
          "autotypenumbers": "strict",
          "coloraxis": {
           "colorbar": {
            "outlinewidth": 0,
            "ticks": ""
           }
          },
          "colorscale": {
           "diverging": [
            [
             0,
             "#8e0152"
            ],
            [
             0.1,
             "#c51b7d"
            ],
            [
             0.2,
             "#de77ae"
            ],
            [
             0.3,
             "#f1b6da"
            ],
            [
             0.4,
             "#fde0ef"
            ],
            [
             0.5,
             "#f7f7f7"
            ],
            [
             0.6,
             "#e6f5d0"
            ],
            [
             0.7,
             "#b8e186"
            ],
            [
             0.8,
             "#7fbc41"
            ],
            [
             0.9,
             "#4d9221"
            ],
            [
             1,
             "#276419"
            ]
           ],
           "sequential": [
            [
             0,
             "#0d0887"
            ],
            [
             0.1111111111111111,
             "#46039f"
            ],
            [
             0.2222222222222222,
             "#7201a8"
            ],
            [
             0.3333333333333333,
             "#9c179e"
            ],
            [
             0.4444444444444444,
             "#bd3786"
            ],
            [
             0.5555555555555556,
             "#d8576b"
            ],
            [
             0.6666666666666666,
             "#ed7953"
            ],
            [
             0.7777777777777778,
             "#fb9f3a"
            ],
            [
             0.8888888888888888,
             "#fdca26"
            ],
            [
             1,
             "#f0f921"
            ]
           ],
           "sequentialminus": [
            [
             0,
             "#0d0887"
            ],
            [
             0.1111111111111111,
             "#46039f"
            ],
            [
             0.2222222222222222,
             "#7201a8"
            ],
            [
             0.3333333333333333,
             "#9c179e"
            ],
            [
             0.4444444444444444,
             "#bd3786"
            ],
            [
             0.5555555555555556,
             "#d8576b"
            ],
            [
             0.6666666666666666,
             "#ed7953"
            ],
            [
             0.7777777777777778,
             "#fb9f3a"
            ],
            [
             0.8888888888888888,
             "#fdca26"
            ],
            [
             1,
             "#f0f921"
            ]
           ]
          },
          "colorway": [
           "#636efa",
           "#EF553B",
           "#00cc96",
           "#ab63fa",
           "#FFA15A",
           "#19d3f3",
           "#FF6692",
           "#B6E880",
           "#FF97FF",
           "#FECB52"
          ],
          "font": {
           "color": "#2a3f5f"
          },
          "geo": {
           "bgcolor": "white",
           "lakecolor": "white",
           "landcolor": "#E5ECF6",
           "showlakes": true,
           "showland": true,
           "subunitcolor": "white"
          },
          "hoverlabel": {
           "align": "left"
          },
          "hovermode": "closest",
          "mapbox": {
           "style": "light"
          },
          "paper_bgcolor": "white",
          "plot_bgcolor": "#E5ECF6",
          "polar": {
           "angularaxis": {
            "gridcolor": "white",
            "linecolor": "white",
            "ticks": ""
           },
           "bgcolor": "#E5ECF6",
           "radialaxis": {
            "gridcolor": "white",
            "linecolor": "white",
            "ticks": ""
           }
          },
          "scene": {
           "xaxis": {
            "backgroundcolor": "#E5ECF6",
            "gridcolor": "white",
            "gridwidth": 2,
            "linecolor": "white",
            "showbackground": true,
            "ticks": "",
            "zerolinecolor": "white"
           },
           "yaxis": {
            "backgroundcolor": "#E5ECF6",
            "gridcolor": "white",
            "gridwidth": 2,
            "linecolor": "white",
            "showbackground": true,
            "ticks": "",
            "zerolinecolor": "white"
           },
           "zaxis": {
            "backgroundcolor": "#E5ECF6",
            "gridcolor": "white",
            "gridwidth": 2,
            "linecolor": "white",
            "showbackground": true,
            "ticks": "",
            "zerolinecolor": "white"
           }
          },
          "shapedefaults": {
           "line": {
            "color": "#2a3f5f"
           }
          },
          "ternary": {
           "aaxis": {
            "gridcolor": "white",
            "linecolor": "white",
            "ticks": ""
           },
           "baxis": {
            "gridcolor": "white",
            "linecolor": "white",
            "ticks": ""
           },
           "bgcolor": "#E5ECF6",
           "caxis": {
            "gridcolor": "white",
            "linecolor": "white",
            "ticks": ""
           }
          },
          "title": {
           "x": 0.05
          },
          "xaxis": {
           "automargin": true,
           "gridcolor": "white",
           "linecolor": "white",
           "ticks": "",
           "title": {
            "standoff": 15
           },
           "zerolinecolor": "white",
           "zerolinewidth": 2
          },
          "yaxis": {
           "automargin": true,
           "gridcolor": "white",
           "linecolor": "white",
           "ticks": "",
           "title": {
            "standoff": 15
           },
           "zerolinecolor": "white",
           "zerolinewidth": 2
          }
         }
        },
        "title": {
         "text": "Palestinian conflict<br>",
         "x": 0.5,
         "xanchor": "center",
         "y": 0.9,
         "yanchor": "top"
        },
        "xaxis": {
         "anchor": "y",
         "autorange": true,
         "domain": [
          0,
          1
         ],
         "range": [
          1942.6652159357216,
          2023.3347840642784
         ],
         "title": {
          "text": "Year"
         },
         "type": "linear"
        },
        "yaxis": {
         "anchor": "x",
         "autorange": true,
         "domain": [
          0,
          1
         ],
         "range": [
          -8.0322834397173,
          111.77126616962548
         ],
         "title": {
          "text": "% Yes"
         },
         "type": "linear"
        }
       }
      },
      "image/png": "[encoded data removed]",
      "text/html": [
       "<div>                            <div id=\"48ddf03f-d1c1-463b-bc02-f2036543a419\" class=\"plotly-graph-div\" style=\"height:525px; width:100%;\"></div>            <script type=\"text/javascript\">                require([\"plotly\"], function(Plotly) {                    window.PLOTLYENV=window.PLOTLYENV || {};                                    if (document.getElementById(\"48ddf03f-d1c1-463b-bc02-f2036543a419\")) {                    Plotly.newPlot(                        \"48ddf03f-d1c1-463b-bc02-f2036543a419\",                        [{\"hovertemplate\":\"Country=Spain\\u003cbr\\u003ex=%{x}\\u003cbr\\u003ey=%{y}\\u003cextra\\u003e\\u003c\\u002fextra\\u003e\",\"legendgroup\":\"Spain\",\"marker\":{\"color\":\"#636efa\",\"symbol\":\"circle\"},\"mode\":\"markers\",\"name\":\"Spain\",\"orientation\":\"v\",\"showlegend\":true,\"x\":[1957,1956,1961,1962,1963,1965,1967,1969,1970,1971,1972,1973,1974,1975,1976,1977,1978,1979,1980,1981,1982,1983,1984,1985,1986,1987,1988,1989,1990,1991,1992,1993,1994,1995,1996,1997,1998,1999,2000,2001,2002,2003,2004,2005,2006,2007,2008,2009,2010,2011,2012,2013,2014,2015,2016,2017,2018,2019],\"xaxis\":\"x\",\"y\":[100.0,100.0,62.5,0.0,100.0,100.0,30.76923076923077,100.0,100.0,100.0,100.0,100.0,88.88888888888889,100.0,91.66666666666666,100.0,93.33333333333333,91.66666666666666,90.9090909090909,87.87878787878788,91.42857142857143,83.33333333333334,84.84848484848484,74.19354838709677,72.41379310344827,76.66666666666667,68.96551724137932,76.66666666666667,77.77777777777779,78.57142857142857,80.76923076923077,76.19047619047619,73.68421052631578,73.68421052631578,75.0,81.81818181818183,78.26086956521739,80.95238095238095,78.26086956521739,76.0,76.19047619047619,73.68421052631578,68.42105263157895,80.0,70.0,73.68421052631578,76.47058823529412,81.25,75.0,81.25,76.47058823529412,75.0,78.57142857142857,73.33333333333333,69.23076923076923,80.0,75.0,71.42857142857143],\"yaxis\":\"y\",\"type\":\"scatter\"},{\"hovertemplate\":\"\\u003cb\\u003eLOWESS trendline\\u003c\\u002fb\\u003e\\u003cbr\\u003e\\u003cbr\\u003eCountry=Spain\\u003cbr\\u003ex=%{x}\\u003cbr\\u003ey=%{y} \\u003cb\\u003e(trend)\\u003c\\u002fb\\u003e\\u003cextra\\u003e\\u003c\\u002fextra\\u003e\",\"legendgroup\":\"Spain\",\"marker\":{\"color\":\"#636efa\",\"symbol\":\"circle\"},\"mode\":\"lines\",\"name\":\"Spain\",\"showlegend\":false,\"x\":[1956,1957,1961,1962,1963,1965,1967,1969,1970,1971,1972,1973,1974,1975,1976,1977,1978,1979,1980,1981,1982,1983,1984,1985,1986,1987,1988,1989,1990,1991,1992,1993,1994,1995,1996,1997,1998,1999,2000,2001,2002,2003,2004,2005,2006,2007,2008,2009,2010,2011,2012,2013,2014,2015,2016,2017,2018,2019],\"xaxis\":\"x\",\"y\":[105.78108868915834,105.21762721860736,102.847947427968,102.22862509912866,101.5997080774133,100.31642569332416,99.00685183909437,97.68281071248231,97.01977976244098,96.35822317569126,95.6986944051393,95.0393143563066,94.37263574770581,93.67991212014785,92.92465741922739,92.05917008745188,91.05142809924034,90.0489296846269,89.0487171128118,88.01510304403631,87.03284587166705,86.09074144901626,85.19209012587496,84.33240575769531,83.30786189706285,82.49638031821114,81.71519420064186,80.96526177326484,80.24872430242385,79.57099838004942,78.94109217239208,78.36998859051816,77.871714326296,77.45423231977807,77.12178760591574,76.87383000579871,76.70228664833695,76.59128747513327,76.52364254230562,76.48014330258215,76.42887976334528,76.35854016878613,76.27583921160482,76.18547718161551,76.09059825362628,75.9931051694375,75.89455799149204,75.796201093787,75.69881164507004,75.60266748096197,75.5078299399843,75.41402969723777,75.32087866347658,75.22796253264475,75.13474340626934,75.04086405830357,74.94625143870327,74.85062669849572],\"yaxis\":\"y\",\"type\":\"scatter\"},{\"hovertemplate\":\"Country=Italy\\u003cbr\\u003ex=%{x}\\u003cbr\\u003ey=%{y}\\u003cextra\\u003e\\u003c\\u002fextra\\u003e\",\"legendgroup\":\"Italy\",\"marker\":{\"color\":\"#EF553B\",\"symbol\":\"circle\"},\"mode\":\"markers\",\"name\":\"Italy\",\"orientation\":\"v\",\"showlegend\":true,\"x\":[1957,1956,1961,1962,1963,1965,1967,1969,1970,1971,1972,1973,1974,1975,1976,1977,1978,1979,1980,1981,1982,1983,1984,1985,1986,1987,1988,1989,1990,1991,1992,1993,1994,1995,1996,1997,1998,1999,2000,2001,2002,2003,2004,2005,2006,2007,2008,2009,2010,2011,2012,2013,2014,2015,2016,2017,2018,2019],\"xaxis\":\"x\",\"y\":[100.0,100.0,37.5,100.0,100.0,100.0,23.076923076923077,0.0,20.0,33.33333333333333,60.0,40.0,33.33333333333333,33.33333333333333,33.33333333333333,38.46153846153847,40.0,41.66666666666667,40.909090909090914,33.33333333333333,48.57142857142857,50.0,54.54545454545454,51.61290322580645,48.275862068965516,50.0,51.724137931034484,60.0,59.25925925925925,60.71428571428571,65.38461538461539,57.14285714285714,68.42105263157895,66.66666666666666,76.19047619047619,81.81818181818183,78.26086956521739,80.95238095238095,78.26086956521739,80.0,76.19047619047619,73.68421052631578,68.42105263157895,80.0,75.0,73.68421052631578,76.47058823529412,76.47058823529412,75.0,82.35294117647058,76.47058823529412,75.0,80.0,73.33333333333333,69.23076923076923,80.0,75.0,71.42857142857143],\"yaxis\":\"y\",\"type\":\"scatter\"},{\"hovertemplate\":\"\\u003cb\\u003eLOWESS trendline\\u003c\\u002fb\\u003e\\u003cbr\\u003e\\u003cbr\\u003eCountry=Italy\\u003cbr\\u003ex=%{x}\\u003cbr\\u003ey=%{y} \\u003cb\\u003e(trend)\\u003c\\u002fb\\u003e\\u003cextra\\u003e\\u003c\\u002fextra\\u003e\",\"legendgroup\":\"Italy\",\"marker\":{\"color\":\"#EF553B\",\"symbol\":\"circle\"},\"mode\":\"lines\",\"name\":\"Italy\",\"showlegend\":false,\"x\":[1956,1957,1961,1962,1963,1965,1967,1969,1970,1971,1972,1973,1974,1975,1976,1977,1978,1979,1980,1981,1982,1983,1984,1985,1986,1987,1988,1989,1990,1991,1992,1993,1994,1995,1996,1997,1998,1999,2000,2001,2002,2003,2004,2005,2006,2007,2008,2009,2010,2011,2012,2013,2014,2015,2016,2017,2018,2019],\"xaxis\":\"x\",\"y\":[17.41471233671141,18.314023120844222,22.07127425745258,23.05588657671934,24.058087550802245,26.106508711259394,28.19744523243551,30.310965151043288,31.371327448909053,32.4322863905896,33.49406552559558,34.55818932864267,35.62797595037936,36.70955265229559,37.81497371511793,38.966090643251135,40.29485462994434,41.699995219622146,43.10900531064397,44.617496035842684,46.218923244655336,47.85768373243756,49.52945500358624,51.22142416654236,52.85443648878324,54.564238344101895,56.24832312809156,57.892231358442785,59.48323723603018,61.00972223329377,62.463815183676964,63.83977048710077,65.14145268393904,66.37450766748661,67.54270211024786,68.6494052332616,69.69440793711145,70.67574697338739,71.59389448230529,72.44494855442814,72.88849273126255,73.2891111514759,73.66727103506115,74.02802925797091,74.37237587744603,74.70038311924105,75.01228433357603,75.3085955001405,75.589859512402,75.85658884059558,76.1092372127021,76.34795780070938,76.572859033287,76.78408778946337,76.98167678417737,77.16591285030081,77.337453826445,77.4968470940743],\"yaxis\":\"y\",\"type\":\"scatter\"},{\"hovertemplate\":\"Country=France\\u003cbr\\u003ex=%{x}\\u003cbr\\u003ey=%{y}\\u003cextra\\u003e\\u003c\\u002fextra\\u003e\",\"legendgroup\":\"France\",\"marker\":{\"color\":\"#00cc96\",\"symbol\":\"circle\"},\"mode\":\"markers\",\"name\":\"France\",\"orientation\":\"v\",\"showlegend\":true,\"x\":[1947,1948,1949,1950,1952,1957,1956,1961,1962,1963,1965,1967,1969,1970,1971,1972,1973,1974,1975,1976,1977,1978,1979,1980,1981,1982,1983,1984,1985,1986,1987,1988,1989,1990,1991,1992,1993,1994,1995,1996,1997,1998,1999,2000,2001,2002,2003,2004,2005,2006,2007,2008,2009,2010,2011,2012,2013,2014,2015,2016,2017,2018,2019],\"xaxis\":\"x\",\"y\":[71.42857142857143,81.81818181818183,85.71428571428571,100.0,33.33333333333333,0.0,0.0,37.5,100.0,100.0,100.0,30.76923076923077,0.0,40.0,33.33333333333333,60.0,40.0,33.33333333333333,33.33333333333333,33.33333333333333,38.46153846153847,40.0,41.66666666666667,40.909090909090914,33.33333333333333,51.42857142857142,52.77777777777778,57.57575757575758,51.61290322580645,48.275862068965516,50.0,48.275862068965516,58.620689655172406,59.25925925925925,60.71428571428571,65.38461538461539,66.66666666666666,73.68421052631578,73.68421052631578,76.19047619047619,81.81818181818183,78.26086956521739,80.95238095238095,78.26086956521739,75.0,76.19047619047619,73.68421052631578,68.42105263157895,80.0,70.0,73.68421052631578,76.47058823529412,76.47058823529412,75.0,82.35294117647058,76.47058823529412,75.0,80.0,73.33333333333333,69.23076923076923,80.0,75.0,71.42857142857143],\"yaxis\":\"y\",\"type\":\"scatter\"},{\"hovertemplate\":\"\\u003cb\\u003eLOWESS trendline\\u003c\\u002fb\\u003e\\u003cbr\\u003e\\u003cbr\\u003eCountry=France\\u003cbr\\u003ex=%{x}\\u003cbr\\u003ey=%{y} \\u003cb\\u003e(trend)\\u003c\\u002fb\\u003e\\u003cextra\\u003e\\u003c\\u002fextra\\u003e\",\"legendgroup\":\"France\",\"marker\":{\"color\":\"#00cc96\",\"symbol\":\"circle\"},\"mode\":\"lines\",\"name\":\"France\",\"showlegend\":false,\"x\":[1947,1948,1949,1950,1952,1956,1957,1961,1962,1963,1965,1967,1969,1970,1971,1972,1973,1974,1975,1976,1977,1978,1979,1980,1981,1982,1983,1984,1985,1986,1987,1988,1989,1990,1991,1992,1993,1994,1995,1996,1997,1998,1999,2000,2001,2002,2003,2004,2005,2006,2007,2008,2009,2010,2011,2012,2013,2014,2015,2016,2017,2018,2019],\"xaxis\":\"x\",\"y\":[64.55493102726399,63.515364329109545,62.49489631079427,61.49344924379863,59.54267441172315,55.79698101872593,54.878069483678765,51.13163599350018,50.13538489535382,49.08964340767387,46.76209432615806,43.89877016685014,40.26746945826485,38.40515620776279,37.1502518113036,37.074634198761565,37.74095219143017,38.568479272897555,39.498162716620925,40.52062142991658,41.63383021630261,42.73355262579386,43.873660402409776,45.210663109910726,46.62661479511688,47.97890476531655,49.517356429419564,51.07752000033944,52.63969478081976,54.142856476599384,55.7113008659148,57.24595031296322,58.84963939402368,60.35727761030899,61.80610233670546,63.189992557360064,64.50631967151611,65.75409762229103,66.93585437026763,68.05571147227664,69.11423839761676,70.10815887967874,71.03563140234054,71.57265234966022,72.05223932058531,72.50337965585186,72.93701739920104,73.35493453616257,73.75690667578716,74.14287792429805,74.51292006456126,74.86749732388829,75.2072414579846,75.53274172245463,75.84452946081014,76.14307089247592,76.42858998683579,76.70126507210065,76.96129671480296,77.20879720362606,77.4440701012153,77.667713081508,77.8802533799222],\"yaxis\":\"y\",\"type\":\"scatter\"}],                        {\"template\":{\"data\":{\"histogram2dcontour\":[{\"type\":\"histogram2dcontour\",\"colorbar\":{\"outlinewidth\":0,\"ticks\":\"\"},\"colorscale\":[[0.0,\"#0d0887\"],[0.1111111111111111,\"#46039f\"],[0.2222222222222222,\"#7201a8\"],[0.3333333333333333,\"#9c179e\"],[0.4444444444444444,\"#bd3786\"],[0.5555555555555556,\"#d8576b\"],[0.6666666666666666,\"#ed7953\"],[0.7777777777777778,\"#fb9f3a\"],[0.8888888888888888,\"#fdca26\"],[1.0,\"#f0f921\"]]}],\"choropleth\":[{\"type\":\"choropleth\",\"colorbar\":{\"outlinewidth\":0,\"ticks\":\"\"}}],\"histogram2d\":[{\"type\":\"histogram2d\",\"colorbar\":{\"outlinewidth\":0,\"ticks\":\"\"},\"colorscale\":[[0.0,\"#0d0887\"],[0.1111111111111111,\"#46039f\"],[0.2222222222222222,\"#7201a8\"],[0.3333333333333333,\"#9c179e\"],[0.4444444444444444,\"#bd3786\"],[0.5555555555555556,\"#d8576b\"],[0.6666666666666666,\"#ed7953\"],[0.7777777777777778,\"#fb9f3a\"],[0.8888888888888888,\"#fdca26\"],[1.0,\"#f0f921\"]]}],\"heatmap\":[{\"type\":\"heatmap\",\"colorbar\":{\"outlinewidth\":0,\"ticks\":\"\"},\"colorscale\":[[0.0,\"#0d0887\"],[0.1111111111111111,\"#46039f\"],[0.2222222222222222,\"#7201a8\"],[0.3333333333333333,\"#9c179e\"],[0.4444444444444444,\"#bd3786\"],[0.5555555555555556,\"#d8576b\"],[0.6666666666666666,\"#ed7953\"],[0.7777777777777778,\"#fb9f3a\"],[0.8888888888888888,\"#fdca26\"],[1.0,\"#f0f921\"]]}],\"heatmapgl\":[{\"type\":\"heatmapgl\",\"colorbar\":{\"outlinewidth\":0,\"ticks\":\"\"},\"colorscale\":[[0.0,\"#0d0887\"],[0.1111111111111111,\"#46039f\"],[0.2222222222222222,\"#7201a8\"],[0.3333333333333333,\"#9c179e\"],[0.4444444444444444,\"#bd3786\"],[0.5555555555555556,\"#d8576b\"],[0.6666666666666666,\"#ed7953\"],[0.7777777777777778,\"#fb9f3a\"],[0.8888888888888888,\"#fdca26\"],[1.0,\"#f0f921\"]]}],\"contourcarpet\":[{\"type\":\"contourcarpet\",\"colorbar\":{\"outlinewidth\":0,\"ticks\":\"\"}}],\"contour\":[{\"type\":\"contour\",\"colorbar\":{\"outlinewidth\":0,\"ticks\":\"\"},\"colorscale\":[[0.0,\"#0d0887\"],[0.1111111111111111,\"#46039f\"],[0.2222222222222222,\"#7201a8\"],[0.3333333333333333,\"#9c179e\"],[0.4444444444444444,\"#bd3786\"],[0.5555555555555556,\"#d8576b\"],[0.6666666666666666,\"#ed7953\"],[0.7777777777777778,\"#fb9f3a\"],[0.8888888888888888,\"#fdca26\"],[1.0,\"#f0f921\"]]}],\"surface\":[{\"type\":\"surface\",\"colorbar\":{\"outlinewidth\":0,\"ticks\":\"\"},\"colorscale\":[[0.0,\"#0d0887\"],[0.1111111111111111,\"#46039f\"],[0.2222222222222222,\"#7201a8\"],[0.3333333333333333,\"#9c179e\"],[0.4444444444444444,\"#bd3786\"],[0.5555555555555556,\"#d8576b\"],[0.6666666666666666,\"#ed7953\"],[0.7777777777777778,\"#fb9f3a\"],[0.8888888888888888,\"#fdca26\"],[1.0,\"#f0f921\"]]}],\"mesh3d\":[{\"type\":\"mesh3d\",\"colorbar\":{\"outlinewidth\":0,\"ticks\":\"\"}}],\"scatter\":[{\"fillpattern\":{\"fillmode\":\"overlay\",\"size\":10,\"solidity\":0.2},\"type\":\"scatter\"}],\"parcoords\":[{\"type\":\"parcoords\",\"line\":{\"colorbar\":{\"outlinewidth\":0,\"ticks\":\"\"}}}],\"scatterpolargl\":[{\"type\":\"scatterpolargl\",\"marker\":{\"colorbar\":{\"outlinewidth\":0,\"ticks\":\"\"}}}],\"bar\":[{\"error_x\":{\"color\":\"#2a3f5f\"},\"error_y\":{\"color\":\"#2a3f5f\"},\"marker\":{\"line\":{\"color\":\"#E5ECF6\",\"width\":0.5},\"pattern\":{\"fillmode\":\"overlay\",\"size\":10,\"solidity\":0.2}},\"type\":\"bar\"}],\"scattergeo\":[{\"type\":\"scattergeo\",\"marker\":{\"colorbar\":{\"outlinewidth\":0,\"ticks\":\"\"}}}],\"scatterpolar\":[{\"type\":\"scatterpolar\",\"marker\":{\"colorbar\":{\"outlinewidth\":0,\"ticks\":\"\"}}}],\"histogram\":[{\"marker\":{\"pattern\":{\"fillmode\":\"overlay\",\"size\":10,\"solidity\":0.2}},\"type\":\"histogram\"}],\"scattergl\":[{\"type\":\"scattergl\",\"marker\":{\"colorbar\":{\"outlinewidth\":0,\"ticks\":\"\"}}}],\"scatter3d\":[{\"type\":\"scatter3d\",\"line\":{\"colorbar\":{\"outlinewidth\":0,\"ticks\":\"\"}},\"marker\":{\"colorbar\":{\"outlinewidth\":0,\"ticks\":\"\"}}}],\"scattermapbox\":[{\"type\":\"scattermapbox\",\"marker\":{\"colorbar\":{\"outlinewidth\":0,\"ticks\":\"\"}}}],\"scatterternary\":[{\"type\":\"scatterternary\",\"marker\":{\"colorbar\":{\"outlinewidth\":0,\"ticks\":\"\"}}}],\"scattercarpet\":[{\"type\":\"scattercarpet\",\"marker\":{\"colorbar\":{\"outlinewidth\":0,\"ticks\":\"\"}}}],\"carpet\":[{\"aaxis\":{\"endlinecolor\":\"#2a3f5f\",\"gridcolor\":\"white\",\"linecolor\":\"white\",\"minorgridcolor\":\"white\",\"startlinecolor\":\"#2a3f5f\"},\"baxis\":{\"endlinecolor\":\"#2a3f5f\",\"gridcolor\":\"white\",\"linecolor\":\"white\",\"minorgridcolor\":\"white\",\"startlinecolor\":\"#2a3f5f\"},\"type\":\"carpet\"}],\"table\":[{\"cells\":{\"fill\":{\"color\":\"#EBF0F8\"},\"line\":{\"color\":\"white\"}},\"header\":{\"fill\":{\"color\":\"#C8D4E3\"},\"line\":{\"color\":\"white\"}},\"type\":\"table\"}],\"barpolar\":[{\"marker\":{\"line\":{\"color\":\"#E5ECF6\",\"width\":0.5},\"pattern\":{\"fillmode\":\"overlay\",\"size\":10,\"solidity\":0.2}},\"type\":\"barpolar\"}],\"pie\":[{\"automargin\":true,\"type\":\"pie\"}]},\"layout\":{\"autotypenumbers\":\"strict\",\"colorway\":[\"#636efa\",\"#EF553B\",\"#00cc96\",\"#ab63fa\",\"#FFA15A\",\"#19d3f3\",\"#FF6692\",\"#B6E880\",\"#FF97FF\",\"#FECB52\"],\"font\":{\"color\":\"#2a3f5f\"},\"hovermode\":\"closest\",\"hoverlabel\":{\"align\":\"left\"},\"paper_bgcolor\":\"white\",\"plot_bgcolor\":\"#E5ECF6\",\"polar\":{\"bgcolor\":\"#E5ECF6\",\"angularaxis\":{\"gridcolor\":\"white\",\"linecolor\":\"white\",\"ticks\":\"\"},\"radialaxis\":{\"gridcolor\":\"white\",\"linecolor\":\"white\",\"ticks\":\"\"}},\"ternary\":{\"bgcolor\":\"#E5ECF6\",\"aaxis\":{\"gridcolor\":\"white\",\"linecolor\":\"white\",\"ticks\":\"\"},\"baxis\":{\"gridcolor\":\"white\",\"linecolor\":\"white\",\"ticks\":\"\"},\"caxis\":{\"gridcolor\":\"white\",\"linecolor\":\"white\",\"ticks\":\"\"}},\"coloraxis\":{\"colorbar\":{\"outlinewidth\":0,\"ticks\":\"\"}},\"colorscale\":{\"sequential\":[[0.0,\"#0d0887\"],[0.1111111111111111,\"#46039f\"],[0.2222222222222222,\"#7201a8\"],[0.3333333333333333,\"#9c179e\"],[0.4444444444444444,\"#bd3786\"],[0.5555555555555556,\"#d8576b\"],[0.6666666666666666,\"#ed7953\"],[0.7777777777777778,\"#fb9f3a\"],[0.8888888888888888,\"#fdca26\"],[1.0,\"#f0f921\"]],\"sequentialminus\":[[0.0,\"#0d0887\"],[0.1111111111111111,\"#46039f\"],[0.2222222222222222,\"#7201a8\"],[0.3333333333333333,\"#9c179e\"],[0.4444444444444444,\"#bd3786\"],[0.5555555555555556,\"#d8576b\"],[0.6666666666666666,\"#ed7953\"],[0.7777777777777778,\"#fb9f3a\"],[0.8888888888888888,\"#fdca26\"],[1.0,\"#f0f921\"]],\"diverging\":[[0,\"#8e0152\"],[0.1,\"#c51b7d\"],[0.2,\"#de77ae\"],[0.3,\"#f1b6da\"],[0.4,\"#fde0ef\"],[0.5,\"#f7f7f7\"],[0.6,\"#e6f5d0\"],[0.7,\"#b8e186\"],[0.8,\"#7fbc41\"],[0.9,\"#4d9221\"],[1,\"#276419\"]]},\"xaxis\":{\"gridcolor\":\"white\",\"linecolor\":\"white\",\"ticks\":\"\",\"title\":{\"standoff\":15},\"zerolinecolor\":\"white\",\"automargin\":true,\"zerolinewidth\":2},\"yaxis\":{\"gridcolor\":\"white\",\"linecolor\":\"white\",\"ticks\":\"\",\"title\":{\"standoff\":15},\"zerolinecolor\":\"white\",\"automargin\":true,\"zerolinewidth\":2},\"scene\":{\"xaxis\":{\"backgroundcolor\":\"#E5ECF6\",\"gridcolor\":\"white\",\"linecolor\":\"white\",\"showbackground\":true,\"ticks\":\"\",\"zerolinecolor\":\"white\",\"gridwidth\":2},\"yaxis\":{\"backgroundcolor\":\"#E5ECF6\",\"gridcolor\":\"white\",\"linecolor\":\"white\",\"showbackground\":true,\"ticks\":\"\",\"zerolinecolor\":\"white\",\"gridwidth\":2},\"zaxis\":{\"backgroundcolor\":\"#E5ECF6\",\"gridcolor\":\"white\",\"linecolor\":\"white\",\"showbackground\":true,\"ticks\":\"\",\"zerolinecolor\":\"white\",\"gridwidth\":2}},\"shapedefaults\":{\"line\":{\"color\":\"#2a3f5f\"}},\"annotationdefaults\":{\"arrowcolor\":\"#2a3f5f\",\"arrowhead\":0,\"arrowwidth\":1},\"geo\":{\"bgcolor\":\"white\",\"landcolor\":\"#E5ECF6\",\"subunitcolor\":\"white\",\"showland\":true,\"showlakes\":true,\"lakecolor\":\"white\"},\"title\":{\"x\":0.05},\"mapbox\":{\"style\":\"light\"}}},\"xaxis\":{\"anchor\":\"y\",\"domain\":[0.0,1.0],\"title\":{\"text\":\"Year\"}},\"yaxis\":{\"anchor\":\"x\",\"domain\":[0.0,1.0],\"title\":{\"text\":\"% Yes\"}},\"legend\":{\"title\":{\"text\":\"Country\"},\"tracegroupgap\":0},\"margin\":{\"t\":60},\"title\":{\"text\":\"Palestinian conflict\\u003cbr\\u003e\",\"y\":0.9,\"x\":0.5,\"xanchor\":\"center\",\"yanchor\":\"top\"}},                        {\"responsive\": true}                    ).then(function(){\n",
       "                            \n",
       "var gd = document.getElementById('48ddf03f-d1c1-463b-bc02-f2036543a419');\n",
       "var x = new MutationObserver(function (mutations, observer) {{\n",
       "        var display = window.getComputedStyle(gd).display;\n",
       "        if (!display || display === 'none') {{\n",
       "            console.log([gd, 'removed!']);\n",
       "            Plotly.purge(gd);\n",
       "            observer.disconnect();\n",
       "        }}\n",
       "}});\n",
       "\n",
       "// Listen for the removal of the full notebook cells\n",
       "var notebookContainer = gd.closest('#notebook-container');\n",
       "if (notebookContainer) {{\n",
       "    x.observe(notebookContainer, {childList: true});\n",
       "}}\n",
       "\n",
       "// Listen for the clearing of the current output cell\n",
       "var outputEl = gd.closest('.output');\n",
       "if (outputEl) {{\n",
       "    x.observe(outputEl, {childList: true});\n",
       "}}\n",
       "\n",
       "                        })                };                });            </script>        </div>"
      ]
     },
     "metadata": {},
     "output_type": "display_data"
    },
    {
     "data": {
      "application/vnd.plotly.v1+json": {
       "config": {
        "plotlyServerURL": "https://plot.ly"
       },
       "data": [
        {
         "hovertemplate": "Country=Spain<br>x=%{x}<br>y=%{y}<extra></extra>",
         "legendgroup": "Spain",
         "marker": {
          "color": "#636efa",
          "symbol": "circle"
         },
         "mode": "markers",
         "name": "Spain",
         "orientation": "v",
         "showlegend": true,
         "type": "scatter",
         "x": [
          1956,
          1957,
          1958,
          1959,
          1960,
          1961,
          1962,
          1963,
          1965,
          1966,
          1967,
          1968,
          1969,
          1970,
          1971,
          1972,
          1973,
          1974,
          1975,
          1976,
          1977,
          1979,
          1978,
          1980,
          1981,
          1982,
          1983,
          1984,
          1985,
          1986,
          1987,
          1988,
          1989,
          1990,
          1991,
          1992,
          1993,
          1994,
          1995,
          1996,
          1997,
          1998,
          1999,
          2000,
          2001,
          2002,
          2003,
          2004,
          2005,
          2006,
          2007,
          2008,
          2009,
          2010,
          2011,
          2012,
          2013,
          2014,
          2015,
          2016,
          2017,
          2018,
          2019
         ],
         "xaxis": "x",
         "y": [
          100,
          60,
          50,
          25,
          33.33333333333333,
          28.57142857142857,
          50,
          0,
          80,
          100,
          100,
          66.66666666666666,
          100,
          100,
          83.33333333333334,
          80,
          57.14285714285714,
          92.85714285714286,
          84.61538461538461,
          60,
          83.33333333333334,
          53.333333333333336,
          66.66666666666666,
          55.55555555555556,
          39.285714285714285,
          59.25925925925925,
          45.94594594594595,
          41.17647058823529,
          46.34146341463415,
          52.77777777777778,
          42.857142857142854,
          53.333333333333336,
          55.172413793103445,
          43.75,
          42.857142857142854,
          66.66666666666666,
          72.72727272727273,
          73.33333333333333,
          52.63157894736842,
          61.904761904761905,
          59.09090909090909,
          62.5,
          57.89473684210527,
          62.5,
          64.70588235294117,
          56.52173913043478,
          50,
          60,
          56.52173913043478,
          66.66666666666666,
          65,
          80,
          60,
          69.56521739130434,
          62.5,
          65.21739130434783,
          50,
          63.63636363636363,
          42.857142857142854,
          65.71428571428571,
          44.827586206896555,
          52.94117647058824,
          37.5
         ],
         "yaxis": "y"
        },
        {
         "hovertemplate": "<b>LOWESS trendline</b><br><br>Country=Spain<br>x=%{x}<br>y=%{y} <b>(trend)</b><extra></extra>",
         "legendgroup": "Spain",
         "marker": {
          "color": "#636efa",
          "symbol": "circle"
         },
         "mode": "lines",
         "name": "Spain",
         "showlegend": false,
         "type": "scatter",
         "x": [
          1956,
          1957,
          1958,
          1959,
          1960,
          1961,
          1962,
          1963,
          1965,
          1966,
          1967,
          1968,
          1969,
          1970,
          1971,
          1972,
          1973,
          1974,
          1975,
          1976,
          1977,
          1978,
          1979,
          1980,
          1981,
          1982,
          1983,
          1984,
          1985,
          1986,
          1987,
          1988,
          1989,
          1990,
          1991,
          1992,
          1993,
          1994,
          1995,
          1996,
          1997,
          1998,
          1999,
          2000,
          2001,
          2002,
          2003,
          2004,
          2005,
          2006,
          2007,
          2008,
          2009,
          2010,
          2011,
          2012,
          2013,
          2014,
          2015,
          2016,
          2017,
          2018,
          2019
         ],
         "xaxis": "x",
         "y": [
          69.44380570580711,
          69.51030699998645,
          69.53970905612663,
          69.52794379731166,
          69.47245149856688,
          69.37229858608053,
          69.2285467300452,
          69.04438489475461,
          68.57757778122482,
          68.30971261553078,
          68.0304340096701,
          67.74923097214804,
          67.47666315454161,
          67.225748499196,
          67.01180456260084,
          66.85221723345506,
          66.76442791556033,
          66.7561956899221,
          66.7917040833783,
          66.70378703591189,
          65.92017571204272,
          65.00361913408271,
          64.00751777167363,
          62.98611228741167,
          61.98125610174844,
          61.029757209374395,
          60.15665266157849,
          59.37159464839016,
          58.162020182698235,
          57.57762871940976,
          57.08732008733571,
          56.69437825352406,
          56.41060387797202,
          56.247193518402185,
          56.21084961177339,
          56.30673659230671,
          56.53711919441475,
          56.896535256676444,
          57.35651006041932,
          57.88058061240393,
          58.42930519635136,
          58.96242743099621,
          59.44436469939458,
          59.58807623334306,
          59.59023350115425,
          59.51494605565851,
          59.39909341001668,
          59.259315828906026,
          59.103998235726486,
          58.937884069152794,
          58.76391987300513,
          58.58363864394245,
          58.397473491702094,
          58.20482281497747,
          58.00467740036718,
          57.79555869077676,
          57.5757263357336,
          57.343319731149634,
          57.096794684333794,
          56.83469369518998,
          56.55608674998046,
          56.260008013083414,
          55.9460388288229
         ],
         "yaxis": "y"
        },
        {
         "hovertemplate": "Country=Italy<br>x=%{x}<br>y=%{y}<extra></extra>",
         "legendgroup": "Italy",
         "marker": {
          "color": "#EF553B",
          "symbol": "circle"
         },
         "mode": "markers",
         "name": "Italy",
         "orientation": "v",
         "showlegend": true,
         "type": "scatter",
         "x": [
          1956,
          1957,
          1958,
          1959,
          1960,
          1961,
          1962,
          1963,
          1965,
          1966,
          1967,
          1968,
          1969,
          1970,
          1971,
          1972,
          1973,
          1974,
          1975,
          1976,
          1977,
          1979,
          1978,
          1980,
          1981,
          1982,
          1983,
          1984,
          1985,
          1986,
          1987,
          1988,
          1989,
          1990,
          1991,
          1992,
          1993,
          1994,
          1995,
          1996,
          1997,
          1998,
          1999,
          2000,
          2001,
          2002,
          2003,
          2004,
          2005,
          2006,
          2007,
          2008,
          2009,
          2010,
          2011,
          2012,
          2013,
          2014,
          2015,
          2016,
          2017,
          2018,
          2019
         ],
         "xaxis": "x",
         "y": [
          100,
          60,
          50,
          25,
          66.66666666666666,
          28.57142857142857,
          50,
          0,
          80,
          0,
          66.66666666666666,
          100,
          50,
          60,
          50,
          40,
          28.57142857142857,
          71.42857142857143,
          61.53846153846154,
          50,
          83.33333333333334,
          40,
          66.66666666666666,
          38.88888888888889,
          32.142857142857146,
          37.03703703703704,
          21.62162162162162,
          26.47058823529412,
          39.02439024390244,
          44.44444444444444,
          35.714285714285715,
          43.333333333333336,
          44.827586206896555,
          43.75,
          42.857142857142854,
          66.66666666666666,
          72.72727272727273,
          73.33333333333333,
          55.55555555555556,
          61.904761904761905,
          59.09090909090909,
          66.66666666666666,
          63.1578947368421,
          62.5,
          62.5,
          56.52173913043478,
          56.25,
          60,
          65.21739130434783,
          70.37037037037037,
          70,
          80,
          60,
          73.68421052631578,
          62.5,
          69.56521739130434,
          50,
          63.63636363636363,
          42.857142857142854,
          62.857142857142854,
          44.827586206896555,
          47.05882352941176,
          31.25
         ],
         "yaxis": "y"
        },
        {
         "hovertemplate": "<b>LOWESS trendline</b><br><br>Country=Italy<br>x=%{x}<br>y=%{y} <b>(trend)</b><extra></extra>",
         "legendgroup": "Italy",
         "marker": {
          "color": "#EF553B",
          "symbol": "circle"
         },
         "mode": "lines",
         "name": "Italy",
         "showlegend": false,
         "type": "scatter",
         "x": [
          1956,
          1957,
          1958,
          1959,
          1960,
          1961,
          1962,
          1963,
          1965,
          1966,
          1967,
          1968,
          1969,
          1970,
          1971,
          1972,
          1973,
          1974,
          1975,
          1976,
          1977,
          1978,
          1979,
          1980,
          1981,
          1982,
          1983,
          1984,
          1985,
          1986,
          1987,
          1988,
          1989,
          1990,
          1991,
          1992,
          1993,
          1994,
          1995,
          1996,
          1997,
          1998,
          1999,
          2000,
          2001,
          2002,
          2003,
          2004,
          2005,
          2006,
          2007,
          2008,
          2009,
          2010,
          2011,
          2012,
          2013,
          2014,
          2015,
          2016,
          2017,
          2018,
          2019
         ],
         "xaxis": "x",
         "y": [
          59.21452975452618,
          58.746910829449384,
          58.269927309741114,
          57.78162051524773,
          57.28074349231595,
          56.76713860776227,
          56.24074079332302,
          55.70266463024356,
          54.60042197694851,
          54.04199234321264,
          53.48245477867004,
          52.92491796279014,
          52.372508023802666,
          51.828656942307795,
          51.29773242278114,
          50.78486610868277,
          50.29653558431105,
          49.84067092369177,
          49.42059277344915,
          49.005675782613004,
          48.608776048837335,
          48.272350623343556,
          48.01885804956636,
          47.87146962728684,
          47.84185705815097,
          47.92306133799808,
          48.1031902352216,
          48.360514048621184,
          48.2537858390987,
          48.64587468472586,
          49.07866083476572,
          49.55431777300068,
          50.08973352538444,
          50.70390281129372,
          51.40816619091286,
          52.218083667685974,
          53.146764803345775,
          54.19084437663662,
          55.313413746878446,
          56.466532143455346,
          57.59849466258475,
          58.65794020699388,
          59.59618272150753,
          59.903787148702165,
          60.01765195801664,
          60.028848108635266,
          59.98600392977015,
          59.91000947286826,
          59.81070413129134,
          59.693427306016844,
          59.56112782254569,
          59.415118945245666,
          59.255500329841155,
          59.08139154309738,
          58.89154960784452,
          58.68419740459981,
          58.457297264809235,
          58.20861094396926,
          57.936277870059875,
          57.638606989992596,
          57.31454326875028,
          56.963173812486886,
          56.584284766964416
         ],
         "yaxis": "y"
        },
        {
         "hovertemplate": "Country=France<br>x=%{x}<br>y=%{y}<extra></extra>",
         "legendgroup": "France",
         "marker": {
          "color": "#00cc96",
          "symbol": "circle"
         },
         "mode": "markers",
         "name": "France",
         "orientation": "v",
         "showlegend": true,
         "type": "scatter",
         "x": [
          1948,
          1949,
          1950,
          1954,
          1956,
          1957,
          1958,
          1959,
          1960,
          1961,
          1962,
          1963,
          1965,
          1966,
          1967,
          1968,
          1969,
          1970,
          1971,
          1972,
          1973,
          1974,
          1975,
          1976,
          1977,
          1979,
          1978,
          1980,
          1981,
          1982,
          1983,
          1984,
          1985,
          1986,
          1987,
          1988,
          1989,
          1990,
          1991,
          1992,
          1993,
          1994,
          1995,
          1996,
          1997,
          1998,
          1999,
          2000,
          2001,
          2002,
          2003,
          2004,
          2005,
          2006,
          2007,
          2008,
          2009,
          2010,
          2011,
          2012,
          2013,
          2014,
          2015,
          2016,
          2017,
          2018,
          2019
         ],
         "xaxis": "x",
         "y": [
          0,
          0,
          100,
          100,
          0,
          60,
          0,
          0,
          33.33333333333333,
          0,
          0,
          0,
          0,
          0,
          0,
          33.33333333333333,
          0,
          0,
          8.333333333333332,
          10,
          0,
          28.57142857142857,
          30.76923076923077,
          30,
          58.333333333333336,
          26.666666666666668,
          40,
          22.22222222222222,
          32.142857142857146,
          37.03703703703704,
          13.88888888888889,
          20.588235294117645,
          30,
          36.11111111111111,
          32.142857142857146,
          37.93103448275862,
          37.93103448275862,
          25,
          35.714285714285715,
          66.66666666666666,
          54.54545454545454,
          42.857142857142854,
          44.44444444444444,
          61.904761904761905,
          50,
          54.166666666666664,
          42.10526315789473,
          46.666666666666664,
          52.94117647058824,
          43.47826086956522,
          37.5,
          45,
          43.47826086956522,
          51.85185185185185,
          42.10526315789473,
          64,
          45,
          47.82608695652174,
          54.166666666666664,
          47.82608695652174,
          44.44444444444444,
          50,
          33.33333333333333,
          54.285714285714285,
          34.48275862068966,
          29.411764705882355,
          31.25
         ],
         "yaxis": "y"
        },
        {
         "hovertemplate": "<b>LOWESS trendline</b><br><br>Country=France<br>x=%{x}<br>y=%{y} <b>(trend)</b><extra></extra>",
         "legendgroup": "France",
         "marker": {
          "color": "#00cc96",
          "symbol": "circle"
         },
         "mode": "lines",
         "name": "France",
         "showlegend": false,
         "type": "scatter",
         "x": [
          1948,
          1949,
          1950,
          1954,
          1956,
          1957,
          1958,
          1959,
          1960,
          1961,
          1962,
          1963,
          1965,
          1966,
          1967,
          1968,
          1969,
          1970,
          1971,
          1972,
          1973,
          1974,
          1975,
          1976,
          1977,
          1978,
          1979,
          1980,
          1981,
          1982,
          1983,
          1984,
          1985,
          1986,
          1987,
          1988,
          1989,
          1990,
          1991,
          1992,
          1993,
          1994,
          1995,
          1996,
          1997,
          1998,
          1999,
          2000,
          2001,
          2002,
          2003,
          2004,
          2005,
          2006,
          2007,
          2008,
          2009,
          2010,
          2011,
          2012,
          2013,
          2014,
          2015,
          2016,
          2017,
          2018,
          2019
         ],
         "xaxis": "x",
         "y": [
          -8.532462847250049,
          -7.65584011876222,
          -6.766565531571094,
          -3.0922927122448214,
          -1.194104439587312,
          -0.2326302338419761,
          0.7357143707166672,
          1.7097623750619115,
          2.6883122468497165,
          3.6700879048736814,
          4.653456859275199,
          5.636840436854411,
          7.599347213362855,
          8.57815970621946,
          9.557842157154267,
          10.544663511882058,
          11.551148012271856,
          12.597646236700285,
          13.710635648993987,
          14.901586552000488,
          16.156049207262377,
          17.425656397347108,
          18.718541733727527,
          19.996233855953644,
          21.357735680062486,
          22.745461562270727,
          24.20065062337606,
          25.681997814489925,
          27.172247689340413,
          28.649634580944866,
          30.0887167350193,
          31.468609614141226,
          32.77499374871323,
          34.000208248542336,
          35.13944699281508,
          36.19641931424068,
          37.17554323969477,
          38.08000119298371,
          38.91448645204478,
          39.69383764841918,
          40.434838972412855,
          41.150977912573026,
          41.8496077847285,
          42.534738168371526,
          43.19787834890598,
          43.82321476073429,
          44.10526613669799,
          44.3007248981515,
          44.44570249797978,
          44.55848247138197,
          44.647132433759324,
          44.71587558336697,
          44.76763877948311,
          44.80458193343509,
          44.828318526004615,
          44.839901554456894,
          44.84005376247873,
          44.82894494577985,
          44.80652962185026,
          44.77254157300092,
          44.72638244651776,
          44.6673176635234,
          44.594591900295406,
          44.507407474976816,
          44.405231467217476,
          44.28740409547299,
          44.153667788260606
         ],
         "yaxis": "y"
        }
       ],
       "layout": {
        "autosize": true,
        "legend": {
         "title": {
          "text": "Country"
         },
         "tracegroupgap": 0
        },
        "margin": {
         "t": 60
        },
        "template": {
         "data": {
          "bar": [
           {
            "error_x": {
             "color": "#2a3f5f"
            },
            "error_y": {
             "color": "#2a3f5f"
            },
            "marker": {
             "line": {
              "color": "#E5ECF6",
              "width": 0.5
             },
             "pattern": {
              "fillmode": "overlay",
              "size": 10,
              "solidity": 0.2
             }
            },
            "type": "bar"
           }
          ],
          "barpolar": [
           {
            "marker": {
             "line": {
              "color": "#E5ECF6",
              "width": 0.5
             },
             "pattern": {
              "fillmode": "overlay",
              "size": 10,
              "solidity": 0.2
             }
            },
            "type": "barpolar"
           }
          ],
          "carpet": [
           {
            "aaxis": {
             "endlinecolor": "#2a3f5f",
             "gridcolor": "white",
             "linecolor": "white",
             "minorgridcolor": "white",
             "startlinecolor": "#2a3f5f"
            },
            "baxis": {
             "endlinecolor": "#2a3f5f",
             "gridcolor": "white",
             "linecolor": "white",
             "minorgridcolor": "white",
             "startlinecolor": "#2a3f5f"
            },
            "type": "carpet"
           }
          ],
          "choropleth": [
           {
            "colorbar": {
             "outlinewidth": 0,
             "ticks": ""
            },
            "type": "choropleth"
           }
          ],
          "contour": [
           {
            "colorbar": {
             "outlinewidth": 0,
             "ticks": ""
            },
            "colorscale": [
             [
              0,
              "#0d0887"
             ],
             [
              0.1111111111111111,
              "#46039f"
             ],
             [
              0.2222222222222222,
              "#7201a8"
             ],
             [
              0.3333333333333333,
              "#9c179e"
             ],
             [
              0.4444444444444444,
              "#bd3786"
             ],
             [
              0.5555555555555556,
              "#d8576b"
             ],
             [
              0.6666666666666666,
              "#ed7953"
             ],
             [
              0.7777777777777778,
              "#fb9f3a"
             ],
             [
              0.8888888888888888,
              "#fdca26"
             ],
             [
              1,
              "#f0f921"
             ]
            ],
            "type": "contour"
           }
          ],
          "contourcarpet": [
           {
            "colorbar": {
             "outlinewidth": 0,
             "ticks": ""
            },
            "type": "contourcarpet"
           }
          ],
          "heatmap": [
           {
            "colorbar": {
             "outlinewidth": 0,
             "ticks": ""
            },
            "colorscale": [
             [
              0,
              "#0d0887"
             ],
             [
              0.1111111111111111,
              "#46039f"
             ],
             [
              0.2222222222222222,
              "#7201a8"
             ],
             [
              0.3333333333333333,
              "#9c179e"
             ],
             [
              0.4444444444444444,
              "#bd3786"
             ],
             [
              0.5555555555555556,
              "#d8576b"
             ],
             [
              0.6666666666666666,
              "#ed7953"
             ],
             [
              0.7777777777777778,
              "#fb9f3a"
             ],
             [
              0.8888888888888888,
              "#fdca26"
             ],
             [
              1,
              "#f0f921"
             ]
            ],
            "type": "heatmap"
           }
          ],
          "heatmapgl": [
           {
            "colorbar": {
             "outlinewidth": 0,
             "ticks": ""
            },
            "colorscale": [
             [
              0,
              "#0d0887"
             ],
             [
              0.1111111111111111,
              "#46039f"
             ],
             [
              0.2222222222222222,
              "#7201a8"
             ],
             [
              0.3333333333333333,
              "#9c179e"
             ],
             [
              0.4444444444444444,
              "#bd3786"
             ],
             [
              0.5555555555555556,
              "#d8576b"
             ],
             [
              0.6666666666666666,
              "#ed7953"
             ],
             [
              0.7777777777777778,
              "#fb9f3a"
             ],
             [
              0.8888888888888888,
              "#fdca26"
             ],
             [
              1,
              "#f0f921"
             ]
            ],
            "type": "heatmapgl"
           }
          ],
          "histogram": [
           {
            "marker": {
             "pattern": {
              "fillmode": "overlay",
              "size": 10,
              "solidity": 0.2
             }
            },
            "type": "histogram"
           }
          ],
          "histogram2d": [
           {
            "colorbar": {
             "outlinewidth": 0,
             "ticks": ""
            },
            "colorscale": [
             [
              0,
              "#0d0887"
             ],
             [
              0.1111111111111111,
              "#46039f"
             ],
             [
              0.2222222222222222,
              "#7201a8"
             ],
             [
              0.3333333333333333,
              "#9c179e"
             ],
             [
              0.4444444444444444,
              "#bd3786"
             ],
             [
              0.5555555555555556,
              "#d8576b"
             ],
             [
              0.6666666666666666,
              "#ed7953"
             ],
             [
              0.7777777777777778,
              "#fb9f3a"
             ],
             [
              0.8888888888888888,
              "#fdca26"
             ],
             [
              1,
              "#f0f921"
             ]
            ],
            "type": "histogram2d"
           }
          ],
          "histogram2dcontour": [
           {
            "colorbar": {
             "outlinewidth": 0,
             "ticks": ""
            },
            "colorscale": [
             [
              0,
              "#0d0887"
             ],
             [
              0.1111111111111111,
              "#46039f"
             ],
             [
              0.2222222222222222,
              "#7201a8"
             ],
             [
              0.3333333333333333,
              "#9c179e"
             ],
             [
              0.4444444444444444,
              "#bd3786"
             ],
             [
              0.5555555555555556,
              "#d8576b"
             ],
             [
              0.6666666666666666,
              "#ed7953"
             ],
             [
              0.7777777777777778,
              "#fb9f3a"
             ],
             [
              0.8888888888888888,
              "#fdca26"
             ],
             [
              1,
              "#f0f921"
             ]
            ],
            "type": "histogram2dcontour"
           }
          ],
          "mesh3d": [
           {
            "colorbar": {
             "outlinewidth": 0,
             "ticks": ""
            },
            "type": "mesh3d"
           }
          ],
          "parcoords": [
           {
            "line": {
             "colorbar": {
              "outlinewidth": 0,
              "ticks": ""
             }
            },
            "type": "parcoords"
           }
          ],
          "pie": [
           {
            "automargin": true,
            "type": "pie"
           }
          ],
          "scatter": [
           {
            "fillpattern": {
             "fillmode": "overlay",
             "size": 10,
             "solidity": 0.2
            },
            "type": "scatter"
           }
          ],
          "scatter3d": [
           {
            "line": {
             "colorbar": {
              "outlinewidth": 0,
              "ticks": ""
             }
            },
            "marker": {
             "colorbar": {
              "outlinewidth": 0,
              "ticks": ""
             }
            },
            "type": "scatter3d"
           }
          ],
          "scattercarpet": [
           {
            "marker": {
             "colorbar": {
              "outlinewidth": 0,
              "ticks": ""
             }
            },
            "type": "scattercarpet"
           }
          ],
          "scattergeo": [
           {
            "marker": {
             "colorbar": {
              "outlinewidth": 0,
              "ticks": ""
             }
            },
            "type": "scattergeo"
           }
          ],
          "scattergl": [
           {
            "marker": {
             "colorbar": {
              "outlinewidth": 0,
              "ticks": ""
             }
            },
            "type": "scattergl"
           }
          ],
          "scattermapbox": [
           {
            "marker": {
             "colorbar": {
              "outlinewidth": 0,
              "ticks": ""
             }
            },
            "type": "scattermapbox"
           }
          ],
          "scatterpolar": [
           {
            "marker": {
             "colorbar": {
              "outlinewidth": 0,
              "ticks": ""
             }
            },
            "type": "scatterpolar"
           }
          ],
          "scatterpolargl": [
           {
            "marker": {
             "colorbar": {
              "outlinewidth": 0,
              "ticks": ""
             }
            },
            "type": "scatterpolargl"
           }
          ],
          "scatterternary": [
           {
            "marker": {
             "colorbar": {
              "outlinewidth": 0,
              "ticks": ""
             }
            },
            "type": "scatterternary"
           }
          ],
          "surface": [
           {
            "colorbar": {
             "outlinewidth": 0,
             "ticks": ""
            },
            "colorscale": [
             [
              0,
              "#0d0887"
             ],
             [
              0.1111111111111111,
              "#46039f"
             ],
             [
              0.2222222222222222,
              "#7201a8"
             ],
             [
              0.3333333333333333,
              "#9c179e"
             ],
             [
              0.4444444444444444,
              "#bd3786"
             ],
             [
              0.5555555555555556,
              "#d8576b"
             ],
             [
              0.6666666666666666,
              "#ed7953"
             ],
             [
              0.7777777777777778,
              "#fb9f3a"
             ],
             [
              0.8888888888888888,
              "#fdca26"
             ],
             [
              1,
              "#f0f921"
             ]
            ],
            "type": "surface"
           }
          ],
          "table": [
           {
            "cells": {
             "fill": {
              "color": "#EBF0F8"
             },
             "line": {
              "color": "white"
             }
            },
            "header": {
             "fill": {
              "color": "#C8D4E3"
             },
             "line": {
              "color": "white"
             }
            },
            "type": "table"
           }
          ]
         },
         "layout": {
          "annotationdefaults": {
           "arrowcolor": "#2a3f5f",
           "arrowhead": 0,
           "arrowwidth": 1
          },
          "autotypenumbers": "strict",
          "coloraxis": {
           "colorbar": {
            "outlinewidth": 0,
            "ticks": ""
           }
          },
          "colorscale": {
           "diverging": [
            [
             0,
             "#8e0152"
            ],
            [
             0.1,
             "#c51b7d"
            ],
            [
             0.2,
             "#de77ae"
            ],
            [
             0.3,
             "#f1b6da"
            ],
            [
             0.4,
             "#fde0ef"
            ],
            [
             0.5,
             "#f7f7f7"
            ],
            [
             0.6,
             "#e6f5d0"
            ],
            [
             0.7,
             "#b8e186"
            ],
            [
             0.8,
             "#7fbc41"
            ],
            [
             0.9,
             "#4d9221"
            ],
            [
             1,
             "#276419"
            ]
           ],
           "sequential": [
            [
             0,
             "#0d0887"
            ],
            [
             0.1111111111111111,
             "#46039f"
            ],
            [
             0.2222222222222222,
             "#7201a8"
            ],
            [
             0.3333333333333333,
             "#9c179e"
            ],
            [
             0.4444444444444444,
             "#bd3786"
            ],
            [
             0.5555555555555556,
             "#d8576b"
            ],
            [
             0.6666666666666666,
             "#ed7953"
            ],
            [
             0.7777777777777778,
             "#fb9f3a"
            ],
            [
             0.8888888888888888,
             "#fdca26"
            ],
            [
             1,
             "#f0f921"
            ]
           ],
           "sequentialminus": [
            [
             0,
             "#0d0887"
            ],
            [
             0.1111111111111111,
             "#46039f"
            ],
            [
             0.2222222222222222,
             "#7201a8"
            ],
            [
             0.3333333333333333,
             "#9c179e"
            ],
            [
             0.4444444444444444,
             "#bd3786"
            ],
            [
             0.5555555555555556,
             "#d8576b"
            ],
            [
             0.6666666666666666,
             "#ed7953"
            ],
            [
             0.7777777777777778,
             "#fb9f3a"
            ],
            [
             0.8888888888888888,
             "#fdca26"
            ],
            [
             1,
             "#f0f921"
            ]
           ]
          },
          "colorway": [
           "#636efa",
           "#EF553B",
           "#00cc96",
           "#ab63fa",
           "#FFA15A",
           "#19d3f3",
           "#FF6692",
           "#B6E880",
           "#FF97FF",
           "#FECB52"
          ],
          "font": {
           "color": "#2a3f5f"
          },
          "geo": {
           "bgcolor": "white",
           "lakecolor": "white",
           "landcolor": "#E5ECF6",
           "showlakes": true,
           "showland": true,
           "subunitcolor": "white"
          },
          "hoverlabel": {
           "align": "left"
          },
          "hovermode": "closest",
          "mapbox": {
           "style": "light"
          },
          "paper_bgcolor": "white",
          "plot_bgcolor": "#E5ECF6",
          "polar": {
           "angularaxis": {
            "gridcolor": "white",
            "linecolor": "white",
            "ticks": ""
           },
           "bgcolor": "#E5ECF6",
           "radialaxis": {
            "gridcolor": "white",
            "linecolor": "white",
            "ticks": ""
           }
          },
          "scene": {
           "xaxis": {
            "backgroundcolor": "#E5ECF6",
            "gridcolor": "white",
            "gridwidth": 2,
            "linecolor": "white",
            "showbackground": true,
            "ticks": "",
            "zerolinecolor": "white"
           },
           "yaxis": {
            "backgroundcolor": "#E5ECF6",
            "gridcolor": "white",
            "gridwidth": 2,
            "linecolor": "white",
            "showbackground": true,
            "ticks": "",
            "zerolinecolor": "white"
           },
           "zaxis": {
            "backgroundcolor": "#E5ECF6",
            "gridcolor": "white",
            "gridwidth": 2,
            "linecolor": "white",
            "showbackground": true,
            "ticks": "",
            "zerolinecolor": "white"
           }
          },
          "shapedefaults": {
           "line": {
            "color": "#2a3f5f"
           }
          },
          "ternary": {
           "aaxis": {
            "gridcolor": "white",
            "linecolor": "white",
            "ticks": ""
           },
           "baxis": {
            "gridcolor": "white",
            "linecolor": "white",
            "ticks": ""
           },
           "bgcolor": "#E5ECF6",
           "caxis": {
            "gridcolor": "white",
            "linecolor": "white",
            "ticks": ""
           }
          },
          "title": {
           "x": 0.05
          },
          "xaxis": {
           "automargin": true,
           "gridcolor": "white",
           "linecolor": "white",
           "ticks": "",
           "title": {
            "standoff": 15
           },
           "zerolinecolor": "white",
           "zerolinewidth": 2
          },
          "yaxis": {
           "automargin": true,
           "gridcolor": "white",
           "linecolor": "white",
           "ticks": "",
           "title": {
            "standoff": 15
           },
           "zerolinecolor": "white",
           "zerolinewidth": 2
          }
         }
        },
        "title": {
         "text": "Arms control and disarmament<br>",
         "x": 0.5,
         "xanchor": "center",
         "y": 0.9,
         "yanchor": "top"
        },
        "xaxis": {
         "anchor": "y",
         "autorange": true,
         "domain": [
          0,
          1
         ],
         "range": [
          1943.7254212699474,
          2023.2745787300526
         ],
         "title": {
          "text": "Year"
         },
         "type": "linear"
        },
        "yaxis": {
         "anchor": "x",
         "autorange": true,
         "domain": [
          0,
          1
         ],
         "range": [
          -14.678445299346576,
          108.24120374258398
         ],
         "title": {
          "text": "% Yes"
         },
         "type": "linear"
        }
       }
      },
      "image/png": "[encoded data removed]",
      "text/html": [
       "<div>                            <div id=\"d0af689f-ca46-49ce-9a18-520bbc048d75\" class=\"plotly-graph-div\" style=\"height:525px; width:100%;\"></div>            <script type=\"text/javascript\">                require([\"plotly\"], function(Plotly) {                    window.PLOTLYENV=window.PLOTLYENV || {};                                    if (document.getElementById(\"d0af689f-ca46-49ce-9a18-520bbc048d75\")) {                    Plotly.newPlot(                        \"d0af689f-ca46-49ce-9a18-520bbc048d75\",                        [{\"hovertemplate\":\"Country=Spain\\u003cbr\\u003ex=%{x}\\u003cbr\\u003ey=%{y}\\u003cextra\\u003e\\u003c\\u002fextra\\u003e\",\"legendgroup\":\"Spain\",\"marker\":{\"color\":\"#636efa\",\"symbol\":\"circle\"},\"mode\":\"markers\",\"name\":\"Spain\",\"orientation\":\"v\",\"showlegend\":true,\"x\":[1956,1957,1958,1959,1960,1961,1962,1963,1965,1966,1967,1968,1969,1970,1971,1972,1973,1974,1975,1976,1977,1979,1978,1980,1981,1982,1983,1984,1985,1986,1987,1988,1989,1990,1991,1992,1993,1994,1995,1996,1997,1998,1999,2000,2001,2002,2003,2004,2005,2006,2007,2008,2009,2010,2011,2012,2013,2014,2015,2016,2017,2018,2019],\"xaxis\":\"x\",\"y\":[100.0,60.0,50.0,25.0,33.33333333333333,28.57142857142857,50.0,0.0,80.0,100.0,100.0,66.66666666666666,100.0,100.0,83.33333333333334,80.0,57.14285714285714,92.85714285714286,84.61538461538461,60.0,83.33333333333334,53.333333333333336,66.66666666666666,55.55555555555556,39.285714285714285,59.25925925925925,45.94594594594595,41.17647058823529,46.34146341463415,52.77777777777778,42.857142857142854,53.333333333333336,55.172413793103445,43.75,42.857142857142854,66.66666666666666,72.72727272727273,73.33333333333333,52.63157894736842,61.904761904761905,59.09090909090909,62.5,57.89473684210527,62.5,64.70588235294117,56.52173913043478,50.0,60.0,56.52173913043478,66.66666666666666,65.0,80.0,60.0,69.56521739130434,62.5,65.21739130434783,50.0,63.63636363636363,42.857142857142854,65.71428571428571,44.827586206896555,52.94117647058824,37.5],\"yaxis\":\"y\",\"type\":\"scatter\"},{\"hovertemplate\":\"\\u003cb\\u003eLOWESS trendline\\u003c\\u002fb\\u003e\\u003cbr\\u003e\\u003cbr\\u003eCountry=Spain\\u003cbr\\u003ex=%{x}\\u003cbr\\u003ey=%{y} \\u003cb\\u003e(trend)\\u003c\\u002fb\\u003e\\u003cextra\\u003e\\u003c\\u002fextra\\u003e\",\"legendgroup\":\"Spain\",\"marker\":{\"color\":\"#636efa\",\"symbol\":\"circle\"},\"mode\":\"lines\",\"name\":\"Spain\",\"showlegend\":false,\"x\":[1956,1957,1958,1959,1960,1961,1962,1963,1965,1966,1967,1968,1969,1970,1971,1972,1973,1974,1975,1976,1977,1978,1979,1980,1981,1982,1983,1984,1985,1986,1987,1988,1989,1990,1991,1992,1993,1994,1995,1996,1997,1998,1999,2000,2001,2002,2003,2004,2005,2006,2007,2008,2009,2010,2011,2012,2013,2014,2015,2016,2017,2018,2019],\"xaxis\":\"x\",\"y\":[69.44380570580711,69.51030699998645,69.53970905612663,69.52794379731166,69.47245149856688,69.37229858608053,69.2285467300452,69.04438489475461,68.57757778122482,68.30971261553078,68.0304340096701,67.74923097214804,67.47666315454161,67.225748499196,67.01180456260084,66.85221723345506,66.76442791556033,66.7561956899221,66.7917040833783,66.70378703591189,65.92017571204272,65.00361913408271,64.00751777167363,62.98611228741167,61.98125610174844,61.029757209374395,60.15665266157849,59.37159464839016,58.162020182698235,57.57762871940976,57.08732008733571,56.69437825352406,56.41060387797202,56.247193518402185,56.21084961177339,56.30673659230671,56.53711919441475,56.896535256676444,57.35651006041932,57.88058061240393,58.42930519635136,58.96242743099621,59.44436469939458,59.58807623334306,59.59023350115425,59.51494605565851,59.39909341001668,59.259315828906026,59.103998235726486,58.937884069152794,58.76391987300513,58.58363864394245,58.397473491702094,58.20482281497747,58.00467740036718,57.79555869077676,57.5757263357336,57.343319731149634,57.096794684333794,56.83469369518998,56.55608674998046,56.260008013083414,55.9460388288229],\"yaxis\":\"y\",\"type\":\"scatter\"},{\"hovertemplate\":\"Country=Italy\\u003cbr\\u003ex=%{x}\\u003cbr\\u003ey=%{y}\\u003cextra\\u003e\\u003c\\u002fextra\\u003e\",\"legendgroup\":\"Italy\",\"marker\":{\"color\":\"#EF553B\",\"symbol\":\"circle\"},\"mode\":\"markers\",\"name\":\"Italy\",\"orientation\":\"v\",\"showlegend\":true,\"x\":[1956,1957,1958,1959,1960,1961,1962,1963,1965,1966,1967,1968,1969,1970,1971,1972,1973,1974,1975,1976,1977,1979,1978,1980,1981,1982,1983,1984,1985,1986,1987,1988,1989,1990,1991,1992,1993,1994,1995,1996,1997,1998,1999,2000,2001,2002,2003,2004,2005,2006,2007,2008,2009,2010,2011,2012,2013,2014,2015,2016,2017,2018,2019],\"xaxis\":\"x\",\"y\":[100.0,60.0,50.0,25.0,66.66666666666666,28.57142857142857,50.0,0.0,80.0,0.0,66.66666666666666,100.0,50.0,60.0,50.0,40.0,28.57142857142857,71.42857142857143,61.53846153846154,50.0,83.33333333333334,40.0,66.66666666666666,38.88888888888889,32.142857142857146,37.03703703703704,21.62162162162162,26.47058823529412,39.02439024390244,44.44444444444444,35.714285714285715,43.333333333333336,44.827586206896555,43.75,42.857142857142854,66.66666666666666,72.72727272727273,73.33333333333333,55.55555555555556,61.904761904761905,59.09090909090909,66.66666666666666,63.1578947368421,62.5,62.5,56.52173913043478,56.25,60.0,65.21739130434783,70.37037037037037,70.0,80.0,60.0,73.68421052631578,62.5,69.56521739130434,50.0,63.63636363636363,42.857142857142854,62.857142857142854,44.827586206896555,47.05882352941176,31.25],\"yaxis\":\"y\",\"type\":\"scatter\"},{\"hovertemplate\":\"\\u003cb\\u003eLOWESS trendline\\u003c\\u002fb\\u003e\\u003cbr\\u003e\\u003cbr\\u003eCountry=Italy\\u003cbr\\u003ex=%{x}\\u003cbr\\u003ey=%{y} \\u003cb\\u003e(trend)\\u003c\\u002fb\\u003e\\u003cextra\\u003e\\u003c\\u002fextra\\u003e\",\"legendgroup\":\"Italy\",\"marker\":{\"color\":\"#EF553B\",\"symbol\":\"circle\"},\"mode\":\"lines\",\"name\":\"Italy\",\"showlegend\":false,\"x\":[1956,1957,1958,1959,1960,1961,1962,1963,1965,1966,1967,1968,1969,1970,1971,1972,1973,1974,1975,1976,1977,1978,1979,1980,1981,1982,1983,1984,1985,1986,1987,1988,1989,1990,1991,1992,1993,1994,1995,1996,1997,1998,1999,2000,2001,2002,2003,2004,2005,2006,2007,2008,2009,2010,2011,2012,2013,2014,2015,2016,2017,2018,2019],\"xaxis\":\"x\",\"y\":[59.21452975452618,58.746910829449384,58.269927309741114,57.78162051524773,57.28074349231595,56.76713860776227,56.24074079332302,55.70266463024356,54.60042197694851,54.04199234321264,53.48245477867004,52.92491796279014,52.372508023802666,51.828656942307795,51.29773242278114,50.78486610868277,50.29653558431105,49.84067092369177,49.42059277344915,49.005675782613004,48.608776048837335,48.272350623343556,48.01885804956636,47.87146962728684,47.84185705815097,47.92306133799808,48.1031902352216,48.360514048621184,48.2537858390987,48.64587468472586,49.07866083476572,49.55431777300068,50.08973352538444,50.70390281129372,51.40816619091286,52.218083667685974,53.146764803345775,54.19084437663662,55.313413746878446,56.466532143455346,57.59849466258475,58.65794020699388,59.59618272150753,59.903787148702165,60.01765195801664,60.028848108635266,59.98600392977015,59.91000947286826,59.81070413129134,59.693427306016844,59.56112782254569,59.415118945245666,59.255500329841155,59.08139154309738,58.89154960784452,58.68419740459981,58.457297264809235,58.20861094396926,57.936277870059875,57.638606989992596,57.31454326875028,56.963173812486886,56.584284766964416],\"yaxis\":\"y\",\"type\":\"scatter\"},{\"hovertemplate\":\"Country=France\\u003cbr\\u003ex=%{x}\\u003cbr\\u003ey=%{y}\\u003cextra\\u003e\\u003c\\u002fextra\\u003e\",\"legendgroup\":\"France\",\"marker\":{\"color\":\"#00cc96\",\"symbol\":\"circle\"},\"mode\":\"markers\",\"name\":\"France\",\"orientation\":\"v\",\"showlegend\":true,\"x\":[1948,1949,1950,1954,1956,1957,1958,1959,1960,1961,1962,1963,1965,1966,1967,1968,1969,1970,1971,1972,1973,1974,1975,1976,1977,1979,1978,1980,1981,1982,1983,1984,1985,1986,1987,1988,1989,1990,1991,1992,1993,1994,1995,1996,1997,1998,1999,2000,2001,2002,2003,2004,2005,2006,2007,2008,2009,2010,2011,2012,2013,2014,2015,2016,2017,2018,2019],\"xaxis\":\"x\",\"y\":[0.0,0.0,100.0,100.0,0.0,60.0,0.0,0.0,33.33333333333333,0.0,0.0,0.0,0.0,0.0,0.0,33.33333333333333,0.0,0.0,8.333333333333332,10.0,0.0,28.57142857142857,30.76923076923077,30.0,58.333333333333336,26.666666666666668,40.0,22.22222222222222,32.142857142857146,37.03703703703704,13.88888888888889,20.588235294117645,30.0,36.11111111111111,32.142857142857146,37.93103448275862,37.93103448275862,25.0,35.714285714285715,66.66666666666666,54.54545454545454,42.857142857142854,44.44444444444444,61.904761904761905,50.0,54.166666666666664,42.10526315789473,46.666666666666664,52.94117647058824,43.47826086956522,37.5,45.0,43.47826086956522,51.85185185185185,42.10526315789473,64.0,45.0,47.82608695652174,54.166666666666664,47.82608695652174,44.44444444444444,50.0,33.33333333333333,54.285714285714285,34.48275862068966,29.411764705882355,31.25],\"yaxis\":\"y\",\"type\":\"scatter\"},{\"hovertemplate\":\"\\u003cb\\u003eLOWESS trendline\\u003c\\u002fb\\u003e\\u003cbr\\u003e\\u003cbr\\u003eCountry=France\\u003cbr\\u003ex=%{x}\\u003cbr\\u003ey=%{y} \\u003cb\\u003e(trend)\\u003c\\u002fb\\u003e\\u003cextra\\u003e\\u003c\\u002fextra\\u003e\",\"legendgroup\":\"France\",\"marker\":{\"color\":\"#00cc96\",\"symbol\":\"circle\"},\"mode\":\"lines\",\"name\":\"France\",\"showlegend\":false,\"x\":[1948,1949,1950,1954,1956,1957,1958,1959,1960,1961,1962,1963,1965,1966,1967,1968,1969,1970,1971,1972,1973,1974,1975,1976,1977,1978,1979,1980,1981,1982,1983,1984,1985,1986,1987,1988,1989,1990,1991,1992,1993,1994,1995,1996,1997,1998,1999,2000,2001,2002,2003,2004,2005,2006,2007,2008,2009,2010,2011,2012,2013,2014,2015,2016,2017,2018,2019],\"xaxis\":\"x\",\"y\":[-8.532462847250049,-7.65584011876222,-6.766565531571094,-3.0922927122448214,-1.194104439587312,-0.2326302338419761,0.7357143707166672,1.7097623750619115,2.6883122468497165,3.6700879048736814,4.653456859275199,5.636840436854411,7.599347213362855,8.57815970621946,9.557842157154267,10.544663511882058,11.551148012271856,12.597646236700285,13.710635648993987,14.901586552000488,16.156049207262377,17.425656397347108,18.718541733727527,19.996233855953644,21.357735680062486,22.745461562270727,24.20065062337606,25.681997814489925,27.172247689340413,28.649634580944866,30.0887167350193,31.468609614141226,32.77499374871323,34.000208248542336,35.13944699281508,36.19641931424068,37.17554323969477,38.08000119298371,38.91448645204478,39.69383764841918,40.434838972412855,41.150977912573026,41.8496077847285,42.534738168371526,43.19787834890598,43.82321476073429,44.10526613669799,44.3007248981515,44.44570249797978,44.55848247138197,44.647132433759324,44.71587558336697,44.76763877948311,44.80458193343509,44.828318526004615,44.839901554456894,44.84005376247873,44.82894494577985,44.80652962185026,44.77254157300092,44.72638244651776,44.6673176635234,44.594591900295406,44.507407474976816,44.405231467217476,44.28740409547299,44.153667788260606],\"yaxis\":\"y\",\"type\":\"scatter\"}],                        {\"template\":{\"data\":{\"histogram2dcontour\":[{\"type\":\"histogram2dcontour\",\"colorbar\":{\"outlinewidth\":0,\"ticks\":\"\"},\"colorscale\":[[0.0,\"#0d0887\"],[0.1111111111111111,\"#46039f\"],[0.2222222222222222,\"#7201a8\"],[0.3333333333333333,\"#9c179e\"],[0.4444444444444444,\"#bd3786\"],[0.5555555555555556,\"#d8576b\"],[0.6666666666666666,\"#ed7953\"],[0.7777777777777778,\"#fb9f3a\"],[0.8888888888888888,\"#fdca26\"],[1.0,\"#f0f921\"]]}],\"choropleth\":[{\"type\":\"choropleth\",\"colorbar\":{\"outlinewidth\":0,\"ticks\":\"\"}}],\"histogram2d\":[{\"type\":\"histogram2d\",\"colorbar\":{\"outlinewidth\":0,\"ticks\":\"\"},\"colorscale\":[[0.0,\"#0d0887\"],[0.1111111111111111,\"#46039f\"],[0.2222222222222222,\"#7201a8\"],[0.3333333333333333,\"#9c179e\"],[0.4444444444444444,\"#bd3786\"],[0.5555555555555556,\"#d8576b\"],[0.6666666666666666,\"#ed7953\"],[0.7777777777777778,\"#fb9f3a\"],[0.8888888888888888,\"#fdca26\"],[1.0,\"#f0f921\"]]}],\"heatmap\":[{\"type\":\"heatmap\",\"colorbar\":{\"outlinewidth\":0,\"ticks\":\"\"},\"colorscale\":[[0.0,\"#0d0887\"],[0.1111111111111111,\"#46039f\"],[0.2222222222222222,\"#7201a8\"],[0.3333333333333333,\"#9c179e\"],[0.4444444444444444,\"#bd3786\"],[0.5555555555555556,\"#d8576b\"],[0.6666666666666666,\"#ed7953\"],[0.7777777777777778,\"#fb9f3a\"],[0.8888888888888888,\"#fdca26\"],[1.0,\"#f0f921\"]]}],\"heatmapgl\":[{\"type\":\"heatmapgl\",\"colorbar\":{\"outlinewidth\":0,\"ticks\":\"\"},\"colorscale\":[[0.0,\"#0d0887\"],[0.1111111111111111,\"#46039f\"],[0.2222222222222222,\"#7201a8\"],[0.3333333333333333,\"#9c179e\"],[0.4444444444444444,\"#bd3786\"],[0.5555555555555556,\"#d8576b\"],[0.6666666666666666,\"#ed7953\"],[0.7777777777777778,\"#fb9f3a\"],[0.8888888888888888,\"#fdca26\"],[1.0,\"#f0f921\"]]}],\"contourcarpet\":[{\"type\":\"contourcarpet\",\"colorbar\":{\"outlinewidth\":0,\"ticks\":\"\"}}],\"contour\":[{\"type\":\"contour\",\"colorbar\":{\"outlinewidth\":0,\"ticks\":\"\"},\"colorscale\":[[0.0,\"#0d0887\"],[0.1111111111111111,\"#46039f\"],[0.2222222222222222,\"#7201a8\"],[0.3333333333333333,\"#9c179e\"],[0.4444444444444444,\"#bd3786\"],[0.5555555555555556,\"#d8576b\"],[0.6666666666666666,\"#ed7953\"],[0.7777777777777778,\"#fb9f3a\"],[0.8888888888888888,\"#fdca26\"],[1.0,\"#f0f921\"]]}],\"surface\":[{\"type\":\"surface\",\"colorbar\":{\"outlinewidth\":0,\"ticks\":\"\"},\"colorscale\":[[0.0,\"#0d0887\"],[0.1111111111111111,\"#46039f\"],[0.2222222222222222,\"#7201a8\"],[0.3333333333333333,\"#9c179e\"],[0.4444444444444444,\"#bd3786\"],[0.5555555555555556,\"#d8576b\"],[0.6666666666666666,\"#ed7953\"],[0.7777777777777778,\"#fb9f3a\"],[0.8888888888888888,\"#fdca26\"],[1.0,\"#f0f921\"]]}],\"mesh3d\":[{\"type\":\"mesh3d\",\"colorbar\":{\"outlinewidth\":0,\"ticks\":\"\"}}],\"scatter\":[{\"fillpattern\":{\"fillmode\":\"overlay\",\"size\":10,\"solidity\":0.2},\"type\":\"scatter\"}],\"parcoords\":[{\"type\":\"parcoords\",\"line\":{\"colorbar\":{\"outlinewidth\":0,\"ticks\":\"\"}}}],\"scatterpolargl\":[{\"type\":\"scatterpolargl\",\"marker\":{\"colorbar\":{\"outlinewidth\":0,\"ticks\":\"\"}}}],\"bar\":[{\"error_x\":{\"color\":\"#2a3f5f\"},\"error_y\":{\"color\":\"#2a3f5f\"},\"marker\":{\"line\":{\"color\":\"#E5ECF6\",\"width\":0.5},\"pattern\":{\"fillmode\":\"overlay\",\"size\":10,\"solidity\":0.2}},\"type\":\"bar\"}],\"scattergeo\":[{\"type\":\"scattergeo\",\"marker\":{\"colorbar\":{\"outlinewidth\":0,\"ticks\":\"\"}}}],\"scatterpolar\":[{\"type\":\"scatterpolar\",\"marker\":{\"colorbar\":{\"outlinewidth\":0,\"ticks\":\"\"}}}],\"histogram\":[{\"marker\":{\"pattern\":{\"fillmode\":\"overlay\",\"size\":10,\"solidity\":0.2}},\"type\":\"histogram\"}],\"scattergl\":[{\"type\":\"scattergl\",\"marker\":{\"colorbar\":{\"outlinewidth\":0,\"ticks\":\"\"}}}],\"scatter3d\":[{\"type\":\"scatter3d\",\"line\":{\"colorbar\":{\"outlinewidth\":0,\"ticks\":\"\"}},\"marker\":{\"colorbar\":{\"outlinewidth\":0,\"ticks\":\"\"}}}],\"scattermapbox\":[{\"type\":\"scattermapbox\",\"marker\":{\"colorbar\":{\"outlinewidth\":0,\"ticks\":\"\"}}}],\"scatterternary\":[{\"type\":\"scatterternary\",\"marker\":{\"colorbar\":{\"outlinewidth\":0,\"ticks\":\"\"}}}],\"scattercarpet\":[{\"type\":\"scattercarpet\",\"marker\":{\"colorbar\":{\"outlinewidth\":0,\"ticks\":\"\"}}}],\"carpet\":[{\"aaxis\":{\"endlinecolor\":\"#2a3f5f\",\"gridcolor\":\"white\",\"linecolor\":\"white\",\"minorgridcolor\":\"white\",\"startlinecolor\":\"#2a3f5f\"},\"baxis\":{\"endlinecolor\":\"#2a3f5f\",\"gridcolor\":\"white\",\"linecolor\":\"white\",\"minorgridcolor\":\"white\",\"startlinecolor\":\"#2a3f5f\"},\"type\":\"carpet\"}],\"table\":[{\"cells\":{\"fill\":{\"color\":\"#EBF0F8\"},\"line\":{\"color\":\"white\"}},\"header\":{\"fill\":{\"color\":\"#C8D4E3\"},\"line\":{\"color\":\"white\"}},\"type\":\"table\"}],\"barpolar\":[{\"marker\":{\"line\":{\"color\":\"#E5ECF6\",\"width\":0.5},\"pattern\":{\"fillmode\":\"overlay\",\"size\":10,\"solidity\":0.2}},\"type\":\"barpolar\"}],\"pie\":[{\"automargin\":true,\"type\":\"pie\"}]},\"layout\":{\"autotypenumbers\":\"strict\",\"colorway\":[\"#636efa\",\"#EF553B\",\"#00cc96\",\"#ab63fa\",\"#FFA15A\",\"#19d3f3\",\"#FF6692\",\"#B6E880\",\"#FF97FF\",\"#FECB52\"],\"font\":{\"color\":\"#2a3f5f\"},\"hovermode\":\"closest\",\"hoverlabel\":{\"align\":\"left\"},\"paper_bgcolor\":\"white\",\"plot_bgcolor\":\"#E5ECF6\",\"polar\":{\"bgcolor\":\"#E5ECF6\",\"angularaxis\":{\"gridcolor\":\"white\",\"linecolor\":\"white\",\"ticks\":\"\"},\"radialaxis\":{\"gridcolor\":\"white\",\"linecolor\":\"white\",\"ticks\":\"\"}},\"ternary\":{\"bgcolor\":\"#E5ECF6\",\"aaxis\":{\"gridcolor\":\"white\",\"linecolor\":\"white\",\"ticks\":\"\"},\"baxis\":{\"gridcolor\":\"white\",\"linecolor\":\"white\",\"ticks\":\"\"},\"caxis\":{\"gridcolor\":\"white\",\"linecolor\":\"white\",\"ticks\":\"\"}},\"coloraxis\":{\"colorbar\":{\"outlinewidth\":0,\"ticks\":\"\"}},\"colorscale\":{\"sequential\":[[0.0,\"#0d0887\"],[0.1111111111111111,\"#46039f\"],[0.2222222222222222,\"#7201a8\"],[0.3333333333333333,\"#9c179e\"],[0.4444444444444444,\"#bd3786\"],[0.5555555555555556,\"#d8576b\"],[0.6666666666666666,\"#ed7953\"],[0.7777777777777778,\"#fb9f3a\"],[0.8888888888888888,\"#fdca26\"],[1.0,\"#f0f921\"]],\"sequentialminus\":[[0.0,\"#0d0887\"],[0.1111111111111111,\"#46039f\"],[0.2222222222222222,\"#7201a8\"],[0.3333333333333333,\"#9c179e\"],[0.4444444444444444,\"#bd3786\"],[0.5555555555555556,\"#d8576b\"],[0.6666666666666666,\"#ed7953\"],[0.7777777777777778,\"#fb9f3a\"],[0.8888888888888888,\"#fdca26\"],[1.0,\"#f0f921\"]],\"diverging\":[[0,\"#8e0152\"],[0.1,\"#c51b7d\"],[0.2,\"#de77ae\"],[0.3,\"#f1b6da\"],[0.4,\"#fde0ef\"],[0.5,\"#f7f7f7\"],[0.6,\"#e6f5d0\"],[0.7,\"#b8e186\"],[0.8,\"#7fbc41\"],[0.9,\"#4d9221\"],[1,\"#276419\"]]},\"xaxis\":{\"gridcolor\":\"white\",\"linecolor\":\"white\",\"ticks\":\"\",\"title\":{\"standoff\":15},\"zerolinecolor\":\"white\",\"automargin\":true,\"zerolinewidth\":2},\"yaxis\":{\"gridcolor\":\"white\",\"linecolor\":\"white\",\"ticks\":\"\",\"title\":{\"standoff\":15},\"zerolinecolor\":\"white\",\"automargin\":true,\"zerolinewidth\":2},\"scene\":{\"xaxis\":{\"backgroundcolor\":\"#E5ECF6\",\"gridcolor\":\"white\",\"linecolor\":\"white\",\"showbackground\":true,\"ticks\":\"\",\"zerolinecolor\":\"white\",\"gridwidth\":2},\"yaxis\":{\"backgroundcolor\":\"#E5ECF6\",\"gridcolor\":\"white\",\"linecolor\":\"white\",\"showbackground\":true,\"ticks\":\"\",\"zerolinecolor\":\"white\",\"gridwidth\":2},\"zaxis\":{\"backgroundcolor\":\"#E5ECF6\",\"gridcolor\":\"white\",\"linecolor\":\"white\",\"showbackground\":true,\"ticks\":\"\",\"zerolinecolor\":\"white\",\"gridwidth\":2}},\"shapedefaults\":{\"line\":{\"color\":\"#2a3f5f\"}},\"annotationdefaults\":{\"arrowcolor\":\"#2a3f5f\",\"arrowhead\":0,\"arrowwidth\":1},\"geo\":{\"bgcolor\":\"white\",\"landcolor\":\"#E5ECF6\",\"subunitcolor\":\"white\",\"showland\":true,\"showlakes\":true,\"lakecolor\":\"white\"},\"title\":{\"x\":0.05},\"mapbox\":{\"style\":\"light\"}}},\"xaxis\":{\"anchor\":\"y\",\"domain\":[0.0,1.0],\"title\":{\"text\":\"Year\"}},\"yaxis\":{\"anchor\":\"x\",\"domain\":[0.0,1.0],\"title\":{\"text\":\"% Yes\"}},\"legend\":{\"title\":{\"text\":\"Country\"},\"tracegroupgap\":0},\"margin\":{\"t\":60},\"title\":{\"text\":\"Arms control and disarmament\\u003cbr\\u003e\",\"y\":0.9,\"x\":0.5,\"xanchor\":\"center\",\"yanchor\":\"top\"}},                        {\"responsive\": true}                    ).then(function(){\n",
       "                            \n",
       "var gd = document.getElementById('d0af689f-ca46-49ce-9a18-520bbc048d75');\n",
       "var x = new MutationObserver(function (mutations, observer) {{\n",
       "        var display = window.getComputedStyle(gd).display;\n",
       "        if (!display || display === 'none') {{\n",
       "            console.log([gd, 'removed!']);\n",
       "            Plotly.purge(gd);\n",
       "            observer.disconnect();\n",
       "        }}\n",
       "}});\n",
       "\n",
       "// Listen for the removal of the full notebook cells\n",
       "var notebookContainer = gd.closest('#notebook-container');\n",
       "if (notebookContainer) {{\n",
       "    x.observe(notebookContainer, {childList: true});\n",
       "}}\n",
       "\n",
       "// Listen for the clearing of the current output cell\n",
       "var outputEl = gd.closest('.output');\n",
       "if (outputEl) {{\n",
       "    x.observe(outputEl, {childList: true});\n",
       "}}\n",
       "\n",
       "                        })                };                });            </script>        </div>"
      ]
     },
     "metadata": {},
     "output_type": "display_data"
    },
    {
     "data": {
      "application/vnd.plotly.v1+json": {
       "config": {
        "plotlyServerURL": "https://plot.ly"
       },
       "data": [
        {
         "hovertemplate": "Country=Spain<br>x=%{x}<br>y=%{y}<extra></extra>",
         "legendgroup": "Spain",
         "marker": {
          "color": "#636efa",
          "symbol": "circle"
         },
         "mode": "markers",
         "name": "Spain",
         "orientation": "v",
         "showlegend": true,
         "type": "scatter",
         "x": [
          1957,
          1958,
          1959,
          1960,
          1961,
          1962,
          1963,
          1965,
          1966,
          1967,
          1968,
          1969,
          1970,
          1971,
          1972,
          1973,
          1974,
          1975,
          1976,
          1977,
          1979,
          1978,
          1980,
          1981,
          1982,
          1983,
          1984,
          1985,
          1986,
          1987,
          1988,
          1989,
          1990,
          1991,
          1992,
          1993,
          1994,
          1995,
          1996,
          1997,
          1998,
          1999,
          2000,
          2001,
          2002,
          2003,
          2004,
          2005,
          2006,
          2007,
          2008,
          2009,
          2010,
          2011,
          2012,
          2013,
          2014,
          2015,
          2016,
          2017,
          2018,
          2019
         ],
         "xaxis": "x",
         "y": [
          66.66666666666666,
          50,
          11.11111111111111,
          0,
          25,
          66.66666666666666,
          50,
          100,
          100,
          100,
          80,
          50,
          100,
          60,
          87.5,
          40,
          83.33333333333334,
          75,
          80,
          80,
          44.44444444444444,
          73.33333333333333,
          47.05882352941176,
          42.10526315789473,
          50,
          46.875,
          44,
          32,
          37.5,
          35,
          38.095238095238095,
          35,
          47.05882352941176,
          27.27272727272727,
          40,
          40,
          40,
          36.36363636363637,
          50,
          61.53846153846154,
          52.63157894736842,
          57.14285714285714,
          57.14285714285714,
          57.14285714285714,
          45,
          33.33333333333333,
          50,
          43.75,
          50,
          60,
          62.5,
          63.1578947368421,
          71.42857142857143,
          63.1578947368421,
          66.66666666666666,
          33.33333333333333,
          50,
          31.57894736842105,
          54.166666666666664,
          26.923076923076923,
          37.5,
          29.411764705882355
         ],
         "yaxis": "y"
        },
        {
         "hovertemplate": "<b>LOWESS trendline</b><br><br>Country=Spain<br>x=%{x}<br>y=%{y} <b>(trend)</b><extra></extra>",
         "legendgroup": "Spain",
         "marker": {
          "color": "#636efa",
          "symbol": "circle"
         },
         "mode": "lines",
         "name": "Spain",
         "showlegend": false,
         "type": "scatter",
         "x": [
          1957,
          1958,
          1959,
          1960,
          1961,
          1962,
          1963,
          1965,
          1966,
          1967,
          1968,
          1969,
          1970,
          1971,
          1972,
          1973,
          1974,
          1975,
          1976,
          1977,
          1978,
          1979,
          1980,
          1981,
          1982,
          1983,
          1984,
          1985,
          1986,
          1987,
          1988,
          1989,
          1990,
          1991,
          1992,
          1993,
          1994,
          1995,
          1996,
          1997,
          1998,
          1999,
          2000,
          2001,
          2002,
          2003,
          2004,
          2005,
          2006,
          2007,
          2008,
          2009,
          2010,
          2011,
          2012,
          2013,
          2014,
          2015,
          2016,
          2017,
          2018,
          2019
         ],
         "xaxis": "x",
         "y": [
          71.70149907270888,
          71.39650633201437,
          71.04848058072996,
          70.65660741154359,
          70.22139225872283,
          69.74434421101292,
          69.22875117549812,
          68.10202296728428,
          67.50446777077427,
          66.89327760138413,
          66.27431899329332,
          65.65248668320123,
          65.03228431037775,
          64.4188004797014,
          63.8158185998076,
          63.224578195494146,
          62.63834248734353,
          62.03177698421067,
          61.33202424676094,
          60.38610307864795,
          58.928092459395266,
          57.424264529539144,
          55.92576622861202,
          54.46919305915858,
          53.08830204440093,
          51.817071584919724,
          50.67161002146755,
          49.11032858791096,
          48.205669895028315,
          47.40155828228531,
          46.68873954742392,
          46.07746415366248,
          45.59072487590596,
          45.24761382118655,
          45.07100205507607,
          45.079751507,
          45.28680007701486,
          45.669062311415495,
          46.18649712045617,
          46.78930953822069,
          47.430871473204476,
          48.06645131171541,
          48.45203673315223,
          48.622734392730145,
          48.68560979051908,
          48.699074525450385,
          48.68750516985017,
          48.66181268412822,
          48.627321824548154,
          48.586994379531404,
          48.542260098572214,
          48.493125959081446,
          48.43843090607377,
          48.37604945512101,
          48.30293942872421,
          48.21543430241432,
          48.10958942720173,
          47.982245891718264,
          47.83079336507492,
          47.65346378549163,
          47.448778225892205,
          47.21633233512217
         ],
         "yaxis": "y"
        },
        {
         "hovertemplate": "Country=Italy<br>x=%{x}<br>y=%{y}<extra></extra>",
         "legendgroup": "Italy",
         "marker": {
          "color": "#EF553B",
          "symbol": "circle"
         },
         "mode": "markers",
         "name": "Italy",
         "orientation": "v",
         "showlegend": true,
         "type": "scatter",
         "x": [
          1957,
          1958,
          1959,
          1960,
          1961,
          1962,
          1963,
          1965,
          1966,
          1967,
          1968,
          1969,
          1970,
          1971,
          1972,
          1973,
          1974,
          1975,
          1976,
          1977,
          1979,
          1978,
          1980,
          1981,
          1982,
          1983,
          1984,
          1985,
          1986,
          1987,
          1988,
          1989,
          1990,
          1991,
          1992,
          1993,
          1994,
          1995,
          1996,
          1997,
          1998,
          1999,
          2000,
          2001,
          2002,
          2003,
          2004,
          2005,
          2006,
          2007,
          2008,
          2009,
          2010,
          2011,
          2012,
          2013,
          2014,
          2015,
          2016,
          2017,
          2018,
          2019
         ],
         "xaxis": "x",
         "y": [
          66.66666666666666,
          50,
          11.11111111111111,
          66.66666666666666,
          25,
          66.66666666666666,
          50,
          100,
          0,
          66.66666666666666,
          100,
          100,
          66.66666666666666,
          20,
          50,
          40,
          75,
          50,
          50,
          80,
          27.77777777777778,
          53.333333333333336,
          17.647058823529413,
          10.526315789473683,
          23.076923076923077,
          28.125,
          24,
          20,
          25,
          35,
          33.33333333333333,
          30,
          41.17647058823529,
          27.27272727272727,
          40,
          40,
          40,
          45.45454545454545,
          50,
          61.53846153846154,
          57.89473684210527,
          57.14285714285714,
          64.28571428571429,
          61.53846153846154,
          50,
          46.666666666666664,
          62.5,
          56.25,
          62.5,
          60,
          62.5,
          63.1578947368421,
          75,
          57.89473684210527,
          66.66666666666666,
          33.33333333333333,
          50,
          31.57894736842105,
          50,
          23.076923076923077,
          31.25,
          23.52941176470588
         ],
         "yaxis": "y"
        },
        {
         "hovertemplate": "<b>LOWESS trendline</b><br><br>Country=Italy<br>x=%{x}<br>y=%{y} <b>(trend)</b><extra></extra>",
         "legendgroup": "Italy",
         "marker": {
          "color": "#EF553B",
          "symbol": "circle"
         },
         "mode": "lines",
         "name": "Italy",
         "showlegend": false,
         "type": "scatter",
         "x": [
          1957,
          1958,
          1959,
          1960,
          1961,
          1962,
          1963,
          1965,
          1966,
          1967,
          1968,
          1969,
          1970,
          1971,
          1972,
          1973,
          1974,
          1975,
          1976,
          1977,
          1978,
          1979,
          1980,
          1981,
          1982,
          1983,
          1984,
          1985,
          1986,
          1987,
          1988,
          1989,
          1990,
          1991,
          1992,
          1993,
          1994,
          1995,
          1996,
          1997,
          1998,
          1999,
          2000,
          2001,
          2002,
          2003,
          2004,
          2005,
          2006,
          2007,
          2008,
          2009,
          2010,
          2011,
          2012,
          2013,
          2014,
          2015,
          2016,
          2017,
          2018,
          2019
         ],
         "xaxis": "x",
         "y": [
          64.0224719588908,
          63.077331217747734,
          62.11243210672878,
          61.12744503453568,
          60.12309578495869,
          59.10050016533879,
          58.062063421339246,
          55.94970931681552,
          54.883487015316476,
          53.81586702010713,
          52.75166146120353,
          51.69587567642928,
          50.653196861307315,
          49.627780899516495,
          48.62339993329657,
          47.644892658206196,
          46.696230246369645,
          45.774707382723086,
          44.85113414257054,
          43.83361030982214,
          42.77937829013191,
          41.76778026859689,
          40.839379477722304,
          40.03544101097181,
          39.388684223984335,
          38.92057644146373,
          38.626013065000315,
          37.7808145248364,
          37.810564281546036,
          38.00202314739131,
          38.34156670560388,
          38.8231304671796,
          39.451335627051186,
          40.23641783110084,
          41.1971978518016,
          42.32992280025982,
          43.611227286905915,
          44.98921254293754,
          46.40157090267372,
          47.78052027898088,
          49.06464605731065,
          50.20294951051688,
          50.60386967472243,
          50.736534288031706,
          50.745263106131894,
          50.70125586415908,
          50.630616197015186,
          50.542493635305526,
          50.43963270793208,
          50.322348824488536,
          50.18965522883241,
          50.03977477565855,
          49.870288004604255,
          49.67815831131288,
          49.45968289089423,
          49.210908611414474,
          48.92779035583823,
          48.607197242236296,
          48.2466476335318,
          47.84462093316168,
          47.40012344539152,
          46.91342284980883
         ],
         "yaxis": "y"
        },
        {
         "hovertemplate": "Country=France<br>x=%{x}<br>y=%{y}<extra></extra>",
         "legendgroup": "France",
         "marker": {
          "color": "#00cc96",
          "symbol": "circle"
         },
         "mode": "markers",
         "name": "France",
         "orientation": "v",
         "showlegend": true,
         "type": "scatter",
         "x": [
          1948,
          1949,
          1957,
          1958,
          1959,
          1960,
          1961,
          1962,
          1963,
          1965,
          1966,
          1967,
          1968,
          1969,
          1970,
          1971,
          1972,
          1973,
          1974,
          1975,
          1976,
          1977,
          1979,
          1978,
          1980,
          1981,
          1982,
          1983,
          1984,
          1985,
          1986,
          1987,
          1988,
          1989,
          1990,
          1991,
          1992,
          1993,
          1994,
          1995,
          1996,
          1997,
          1998,
          1999,
          2000,
          2001,
          2002,
          2003,
          2004,
          2005,
          2006,
          2007,
          2008,
          2009,
          2010,
          2011,
          2012,
          2013,
          2014,
          2015,
          2016,
          2017,
          2018,
          2019
         ],
         "xaxis": "x",
         "y": [
          0,
          0,
          66.66666666666666,
          0,
          0,
          0,
          12.5,
          0,
          0,
          0,
          0,
          0,
          20,
          100,
          0,
          0,
          12.5,
          20,
          25,
          33.33333333333333,
          30,
          40,
          11.11111111111111,
          20,
          0,
          10.526315789473683,
          15.384615384615385,
          12.903225806451612,
          12,
          8,
          4.166666666666666,
          5,
          10,
          5.263157894736842,
          6.25,
          10,
          33.33333333333333,
          25,
          22.22222222222222,
          40,
          50,
          53.84615384615385,
          33.33333333333333,
          25,
          25,
          38.46153846153847,
          35,
          26.666666666666668,
          40,
          25,
          37.5,
          20,
          31.25,
          26.31578947368421,
          38.095238095238095,
          47.368421052631575,
          33.33333333333333,
          25,
          14.285714285714285,
          15.789473684210526,
          25,
          19.230769230769234,
          12.5,
          23.52941176470588
         ],
         "yaxis": "y"
        },
        {
         "hovertemplate": "<b>LOWESS trendline</b><br><br>Country=France<br>x=%{x}<br>y=%{y} <b>(trend)</b><extra></extra>",
         "legendgroup": "France",
         "marker": {
          "color": "#00cc96",
          "symbol": "circle"
         },
         "mode": "lines",
         "name": "France",
         "showlegend": false,
         "type": "scatter",
         "x": [
          1948,
          1949,
          1957,
          1958,
          1959,
          1960,
          1961,
          1962,
          1963,
          1965,
          1966,
          1967,
          1968,
          1969,
          1970,
          1971,
          1972,
          1973,
          1974,
          1975,
          1976,
          1977,
          1978,
          1979,
          1980,
          1981,
          1982,
          1983,
          1984,
          1985,
          1986,
          1987,
          1988,
          1989,
          1990,
          1991,
          1992,
          1993,
          1994,
          1995,
          1996,
          1997,
          1998,
          1999,
          2000,
          2001,
          2002,
          2003,
          2004,
          2005,
          2006,
          2007,
          2008,
          2009,
          2010,
          2011,
          2012,
          2013,
          2014,
          2015,
          2016,
          2017,
          2018,
          2019
         ],
         "xaxis": "x",
         "y": [
          -3.0267662912157762,
          -2.47797964668608,
          1.9262025086268926,
          2.4675177134818074,
          3.003867277722197,
          3.5343598117892,
          4.058249395354018,
          4.574893677494775,
          5.083456986066316,
          6.074087035642398,
          6.55593270493932,
          7.029619140935798,
          7.497060736613963,
          7.961442319289032,
          8.426406676639383,
          8.895359697309798,
          9.369862626791692,
          9.765966542591512,
          10.18600291500228,
          10.67456212428884,
          11.18750579807592,
          11.732338580796288,
          12.30133583297819,
          12.832003055614397,
          13.403782193215786,
          14.008978899366817,
          14.640598312052342,
          15.289615842881169,
          15.948272761950232,
          16.610041360766218,
          17.267417130406184,
          17.91850880287967,
          18.559445275292394,
          19.187253383202,
          19.80189438425356,
          20.421189840758903,
          21.072828761165397,
          21.77636876077819,
          22.531940855950303,
          23.324417442864252,
          24.13249472609673,
          24.93385803182421,
          25.704223909629885,
          26.41877013798774,
          26.63040938487433,
          26.758314630064852,
          26.853874287066983,
          26.93261377711,
          26.996929697473465,
          27.046108434096407,
          27.078781385915132,
          27.09391299640313,
          27.09060614015208,
          27.06842614685537,
          27.027028568946132,
          26.966087082758236,
          26.88490745629853,
          26.782325864621978,
          26.657058938224033,
          26.508145863234333,
          26.335315874471252,
          26.138886772186186,
          25.919418049722207,
          25.677884263531396
         ],
         "yaxis": "y"
        }
       ],
       "layout": {
        "autosize": true,
        "legend": {
         "title": {
          "text": "Country"
         },
         "tracegroupgap": 0
        },
        "margin": {
         "t": 60
        },
        "template": {
         "data": {
          "bar": [
           {
            "error_x": {
             "color": "#2a3f5f"
            },
            "error_y": {
             "color": "#2a3f5f"
            },
            "marker": {
             "line": {
              "color": "#E5ECF6",
              "width": 0.5
             },
             "pattern": {
              "fillmode": "overlay",
              "size": 10,
              "solidity": 0.2
             }
            },
            "type": "bar"
           }
          ],
          "barpolar": [
           {
            "marker": {
             "line": {
              "color": "#E5ECF6",
              "width": 0.5
             },
             "pattern": {
              "fillmode": "overlay",
              "size": 10,
              "solidity": 0.2
             }
            },
            "type": "barpolar"
           }
          ],
          "carpet": [
           {
            "aaxis": {
             "endlinecolor": "#2a3f5f",
             "gridcolor": "white",
             "linecolor": "white",
             "minorgridcolor": "white",
             "startlinecolor": "#2a3f5f"
            },
            "baxis": {
             "endlinecolor": "#2a3f5f",
             "gridcolor": "white",
             "linecolor": "white",
             "minorgridcolor": "white",
             "startlinecolor": "#2a3f5f"
            },
            "type": "carpet"
           }
          ],
          "choropleth": [
           {
            "colorbar": {
             "outlinewidth": 0,
             "ticks": ""
            },
            "type": "choropleth"
           }
          ],
          "contour": [
           {
            "colorbar": {
             "outlinewidth": 0,
             "ticks": ""
            },
            "colorscale": [
             [
              0,
              "#0d0887"
             ],
             [
              0.1111111111111111,
              "#46039f"
             ],
             [
              0.2222222222222222,
              "#7201a8"
             ],
             [
              0.3333333333333333,
              "#9c179e"
             ],
             [
              0.4444444444444444,
              "#bd3786"
             ],
             [
              0.5555555555555556,
              "#d8576b"
             ],
             [
              0.6666666666666666,
              "#ed7953"
             ],
             [
              0.7777777777777778,
              "#fb9f3a"
             ],
             [
              0.8888888888888888,
              "#fdca26"
             ],
             [
              1,
              "#f0f921"
             ]
            ],
            "type": "contour"
           }
          ],
          "contourcarpet": [
           {
            "colorbar": {
             "outlinewidth": 0,
             "ticks": ""
            },
            "type": "contourcarpet"
           }
          ],
          "heatmap": [
           {
            "colorbar": {
             "outlinewidth": 0,
             "ticks": ""
            },
            "colorscale": [
             [
              0,
              "#0d0887"
             ],
             [
              0.1111111111111111,
              "#46039f"
             ],
             [
              0.2222222222222222,
              "#7201a8"
             ],
             [
              0.3333333333333333,
              "#9c179e"
             ],
             [
              0.4444444444444444,
              "#bd3786"
             ],
             [
              0.5555555555555556,
              "#d8576b"
             ],
             [
              0.6666666666666666,
              "#ed7953"
             ],
             [
              0.7777777777777778,
              "#fb9f3a"
             ],
             [
              0.8888888888888888,
              "#fdca26"
             ],
             [
              1,
              "#f0f921"
             ]
            ],
            "type": "heatmap"
           }
          ],
          "heatmapgl": [
           {
            "colorbar": {
             "outlinewidth": 0,
             "ticks": ""
            },
            "colorscale": [
             [
              0,
              "#0d0887"
             ],
             [
              0.1111111111111111,
              "#46039f"
             ],
             [
              0.2222222222222222,
              "#7201a8"
             ],
             [
              0.3333333333333333,
              "#9c179e"
             ],
             [
              0.4444444444444444,
              "#bd3786"
             ],
             [
              0.5555555555555556,
              "#d8576b"
             ],
             [
              0.6666666666666666,
              "#ed7953"
             ],
             [
              0.7777777777777778,
              "#fb9f3a"
             ],
             [
              0.8888888888888888,
              "#fdca26"
             ],
             [
              1,
              "#f0f921"
             ]
            ],
            "type": "heatmapgl"
           }
          ],
          "histogram": [
           {
            "marker": {
             "pattern": {
              "fillmode": "overlay",
              "size": 10,
              "solidity": 0.2
             }
            },
            "type": "histogram"
           }
          ],
          "histogram2d": [
           {
            "colorbar": {
             "outlinewidth": 0,
             "ticks": ""
            },
            "colorscale": [
             [
              0,
              "#0d0887"
             ],
             [
              0.1111111111111111,
              "#46039f"
             ],
             [
              0.2222222222222222,
              "#7201a8"
             ],
             [
              0.3333333333333333,
              "#9c179e"
             ],
             [
              0.4444444444444444,
              "#bd3786"
             ],
             [
              0.5555555555555556,
              "#d8576b"
             ],
             [
              0.6666666666666666,
              "#ed7953"
             ],
             [
              0.7777777777777778,
              "#fb9f3a"
             ],
             [
              0.8888888888888888,
              "#fdca26"
             ],
             [
              1,
              "#f0f921"
             ]
            ],
            "type": "histogram2d"
           }
          ],
          "histogram2dcontour": [
           {
            "colorbar": {
             "outlinewidth": 0,
             "ticks": ""
            },
            "colorscale": [
             [
              0,
              "#0d0887"
             ],
             [
              0.1111111111111111,
              "#46039f"
             ],
             [
              0.2222222222222222,
              "#7201a8"
             ],
             [
              0.3333333333333333,
              "#9c179e"
             ],
             [
              0.4444444444444444,
              "#bd3786"
             ],
             [
              0.5555555555555556,
              "#d8576b"
             ],
             [
              0.6666666666666666,
              "#ed7953"
             ],
             [
              0.7777777777777778,
              "#fb9f3a"
             ],
             [
              0.8888888888888888,
              "#fdca26"
             ],
             [
              1,
              "#f0f921"
             ]
            ],
            "type": "histogram2dcontour"
           }
          ],
          "mesh3d": [
           {
            "colorbar": {
             "outlinewidth": 0,
             "ticks": ""
            },
            "type": "mesh3d"
           }
          ],
          "parcoords": [
           {
            "line": {
             "colorbar": {
              "outlinewidth": 0,
              "ticks": ""
             }
            },
            "type": "parcoords"
           }
          ],
          "pie": [
           {
            "automargin": true,
            "type": "pie"
           }
          ],
          "scatter": [
           {
            "fillpattern": {
             "fillmode": "overlay",
             "size": 10,
             "solidity": 0.2
            },
            "type": "scatter"
           }
          ],
          "scatter3d": [
           {
            "line": {
             "colorbar": {
              "outlinewidth": 0,
              "ticks": ""
             }
            },
            "marker": {
             "colorbar": {
              "outlinewidth": 0,
              "ticks": ""
             }
            },
            "type": "scatter3d"
           }
          ],
          "scattercarpet": [
           {
            "marker": {
             "colorbar": {
              "outlinewidth": 0,
              "ticks": ""
             }
            },
            "type": "scattercarpet"
           }
          ],
          "scattergeo": [
           {
            "marker": {
             "colorbar": {
              "outlinewidth": 0,
              "ticks": ""
             }
            },
            "type": "scattergeo"
           }
          ],
          "scattergl": [
           {
            "marker": {
             "colorbar": {
              "outlinewidth": 0,
              "ticks": ""
             }
            },
            "type": "scattergl"
           }
          ],
          "scattermapbox": [
           {
            "marker": {
             "colorbar": {
              "outlinewidth": 0,
              "ticks": ""
             }
            },
            "type": "scattermapbox"
           }
          ],
          "scatterpolar": [
           {
            "marker": {
             "colorbar": {
              "outlinewidth": 0,
              "ticks": ""
             }
            },
            "type": "scatterpolar"
           }
          ],
          "scatterpolargl": [
           {
            "marker": {
             "colorbar": {
              "outlinewidth": 0,
              "ticks": ""
             }
            },
            "type": "scatterpolargl"
           }
          ],
          "scatterternary": [
           {
            "marker": {
             "colorbar": {
              "outlinewidth": 0,
              "ticks": ""
             }
            },
            "type": "scatterternary"
           }
          ],
          "surface": [
           {
            "colorbar": {
             "outlinewidth": 0,
             "ticks": ""
            },
            "colorscale": [
             [
              0,
              "#0d0887"
             ],
             [
              0.1111111111111111,
              "#46039f"
             ],
             [
              0.2222222222222222,
              "#7201a8"
             ],
             [
              0.3333333333333333,
              "#9c179e"
             ],
             [
              0.4444444444444444,
              "#bd3786"
             ],
             [
              0.5555555555555556,
              "#d8576b"
             ],
             [
              0.6666666666666666,
              "#ed7953"
             ],
             [
              0.7777777777777778,
              "#fb9f3a"
             ],
             [
              0.8888888888888888,
              "#fdca26"
             ],
             [
              1,
              "#f0f921"
             ]
            ],
            "type": "surface"
           }
          ],
          "table": [
           {
            "cells": {
             "fill": {
              "color": "#EBF0F8"
             },
             "line": {
              "color": "white"
             }
            },
            "header": {
             "fill": {
              "color": "#C8D4E3"
             },
             "line": {
              "color": "white"
             }
            },
            "type": "table"
           }
          ]
         },
         "layout": {
          "annotationdefaults": {
           "arrowcolor": "#2a3f5f",
           "arrowhead": 0,
           "arrowwidth": 1
          },
          "autotypenumbers": "strict",
          "coloraxis": {
           "colorbar": {
            "outlinewidth": 0,
            "ticks": ""
           }
          },
          "colorscale": {
           "diverging": [
            [
             0,
             "#8e0152"
            ],
            [
             0.1,
             "#c51b7d"
            ],
            [
             0.2,
             "#de77ae"
            ],
            [
             0.3,
             "#f1b6da"
            ],
            [
             0.4,
             "#fde0ef"
            ],
            [
             0.5,
             "#f7f7f7"
            ],
            [
             0.6,
             "#e6f5d0"
            ],
            [
             0.7,
             "#b8e186"
            ],
            [
             0.8,
             "#7fbc41"
            ],
            [
             0.9,
             "#4d9221"
            ],
            [
             1,
             "#276419"
            ]
           ],
           "sequential": [
            [
             0,
             "#0d0887"
            ],
            [
             0.1111111111111111,
             "#46039f"
            ],
            [
             0.2222222222222222,
             "#7201a8"
            ],
            [
             0.3333333333333333,
             "#9c179e"
            ],
            [
             0.4444444444444444,
             "#bd3786"
            ],
            [
             0.5555555555555556,
             "#d8576b"
            ],
            [
             0.6666666666666666,
             "#ed7953"
            ],
            [
             0.7777777777777778,
             "#fb9f3a"
            ],
            [
             0.8888888888888888,
             "#fdca26"
            ],
            [
             1,
             "#f0f921"
            ]
           ],
           "sequentialminus": [
            [
             0,
             "#0d0887"
            ],
            [
             0.1111111111111111,
             "#46039f"
            ],
            [
             0.2222222222222222,
             "#7201a8"
            ],
            [
             0.3333333333333333,
             "#9c179e"
            ],
            [
             0.4444444444444444,
             "#bd3786"
            ],
            [
             0.5555555555555556,
             "#d8576b"
            ],
            [
             0.6666666666666666,
             "#ed7953"
            ],
            [
             0.7777777777777778,
             "#fb9f3a"
            ],
            [
             0.8888888888888888,
             "#fdca26"
            ],
            [
             1,
             "#f0f921"
            ]
           ]
          },
          "colorway": [
           "#636efa",
           "#EF553B",
           "#00cc96",
           "#ab63fa",
           "#FFA15A",
           "#19d3f3",
           "#FF6692",
           "#B6E880",
           "#FF97FF",
           "#FECB52"
          ],
          "font": {
           "color": "#2a3f5f"
          },
          "geo": {
           "bgcolor": "white",
           "lakecolor": "white",
           "landcolor": "#E5ECF6",
           "showlakes": true,
           "showland": true,
           "subunitcolor": "white"
          },
          "hoverlabel": {
           "align": "left"
          },
          "hovermode": "closest",
          "mapbox": {
           "style": "light"
          },
          "paper_bgcolor": "white",
          "plot_bgcolor": "#E5ECF6",
          "polar": {
           "angularaxis": {
            "gridcolor": "white",
            "linecolor": "white",
            "ticks": ""
           },
           "bgcolor": "#E5ECF6",
           "radialaxis": {
            "gridcolor": "white",
            "linecolor": "white",
            "ticks": ""
           }
          },
          "scene": {
           "xaxis": {
            "backgroundcolor": "#E5ECF6",
            "gridcolor": "white",
            "gridwidth": 2,
            "linecolor": "white",
            "showbackground": true,
            "ticks": "",
            "zerolinecolor": "white"
           },
           "yaxis": {
            "backgroundcolor": "#E5ECF6",
            "gridcolor": "white",
            "gridwidth": 2,
            "linecolor": "white",
            "showbackground": true,
            "ticks": "",
            "zerolinecolor": "white"
           },
           "zaxis": {
            "backgroundcolor": "#E5ECF6",
            "gridcolor": "white",
            "gridwidth": 2,
            "linecolor": "white",
            "showbackground": true,
            "ticks": "",
            "zerolinecolor": "white"
           }
          },
          "shapedefaults": {
           "line": {
            "color": "#2a3f5f"
           }
          },
          "ternary": {
           "aaxis": {
            "gridcolor": "white",
            "linecolor": "white",
            "ticks": ""
           },
           "baxis": {
            "gridcolor": "white",
            "linecolor": "white",
            "ticks": ""
           },
           "bgcolor": "#E5ECF6",
           "caxis": {
            "gridcolor": "white",
            "linecolor": "white",
            "ticks": ""
           }
          },
          "title": {
           "x": 0.05
          },
          "xaxis": {
           "automargin": true,
           "gridcolor": "white",
           "linecolor": "white",
           "ticks": "",
           "title": {
            "standoff": 15
           },
           "zerolinecolor": "white",
           "zerolinewidth": 2
          },
          "yaxis": {
           "automargin": true,
           "gridcolor": "white",
           "linecolor": "white",
           "ticks": "",
           "title": {
            "standoff": 15
           },
           "zerolinecolor": "white",
           "zerolinewidth": 2
          }
         }
        },
        "title": {
         "text": "Nuclear weapons and nuclear material<br>",
         "x": 0.5,
         "xanchor": "center",
         "y": 0.9,
         "yanchor": "top"
        },
        "xaxis": {
         "anchor": "y",
         "autorange": true,
         "domain": [
          0,
          1
         ],
         "range": [
          1943.7254212699474,
          2023.2745787300526
         ],
         "title": {
          "text": "Year"
         },
         "type": "linear"
        },
        "yaxis": {
         "anchor": "x",
         "autorange": true,
         "domain": [
          0,
          1
         ],
         "range": [
          -8.8609718469603,
          107.82313926793016
         ],
         "title": {
          "text": "% Yes"
         },
         "type": "linear"
        }
       }
      },
      "image/png": "[encoded data removed]",
      "text/html": [
       "<div>                            <div id=\"37d2af5d-3b03-4e84-9e11-2867097c46c7\" class=\"plotly-graph-div\" style=\"height:525px; width:100%;\"></div>            <script type=\"text/javascript\">                require([\"plotly\"], function(Plotly) {                    window.PLOTLYENV=window.PLOTLYENV || {};                                    if (document.getElementById(\"37d2af5d-3b03-4e84-9e11-2867097c46c7\")) {                    Plotly.newPlot(                        \"37d2af5d-3b03-4e84-9e11-2867097c46c7\",                        [{\"hovertemplate\":\"Country=Spain\\u003cbr\\u003ex=%{x}\\u003cbr\\u003ey=%{y}\\u003cextra\\u003e\\u003c\\u002fextra\\u003e\",\"legendgroup\":\"Spain\",\"marker\":{\"color\":\"#636efa\",\"symbol\":\"circle\"},\"mode\":\"markers\",\"name\":\"Spain\",\"orientation\":\"v\",\"showlegend\":true,\"x\":[1957,1958,1959,1960,1961,1962,1963,1965,1966,1967,1968,1969,1970,1971,1972,1973,1974,1975,1976,1977,1979,1978,1980,1981,1982,1983,1984,1985,1986,1987,1988,1989,1990,1991,1992,1993,1994,1995,1996,1997,1998,1999,2000,2001,2002,2003,2004,2005,2006,2007,2008,2009,2010,2011,2012,2013,2014,2015,2016,2017,2018,2019],\"xaxis\":\"x\",\"y\":[66.66666666666666,50.0,11.11111111111111,0.0,25.0,66.66666666666666,50.0,100.0,100.0,100.0,80.0,50.0,100.0,60.0,87.5,40.0,83.33333333333334,75.0,80.0,80.0,44.44444444444444,73.33333333333333,47.05882352941176,42.10526315789473,50.0,46.875,44.0,32.0,37.5,35.0,38.095238095238095,35.0,47.05882352941176,27.27272727272727,40.0,40.0,40.0,36.36363636363637,50.0,61.53846153846154,52.63157894736842,57.14285714285714,57.14285714285714,57.14285714285714,45.0,33.33333333333333,50.0,43.75,50.0,60.0,62.5,63.1578947368421,71.42857142857143,63.1578947368421,66.66666666666666,33.33333333333333,50.0,31.57894736842105,54.166666666666664,26.923076923076923,37.5,29.411764705882355],\"yaxis\":\"y\",\"type\":\"scatter\"},{\"hovertemplate\":\"\\u003cb\\u003eLOWESS trendline\\u003c\\u002fb\\u003e\\u003cbr\\u003e\\u003cbr\\u003eCountry=Spain\\u003cbr\\u003ex=%{x}\\u003cbr\\u003ey=%{y} \\u003cb\\u003e(trend)\\u003c\\u002fb\\u003e\\u003cextra\\u003e\\u003c\\u002fextra\\u003e\",\"legendgroup\":\"Spain\",\"marker\":{\"color\":\"#636efa\",\"symbol\":\"circle\"},\"mode\":\"lines\",\"name\":\"Spain\",\"showlegend\":false,\"x\":[1957,1958,1959,1960,1961,1962,1963,1965,1966,1967,1968,1969,1970,1971,1972,1973,1974,1975,1976,1977,1978,1979,1980,1981,1982,1983,1984,1985,1986,1987,1988,1989,1990,1991,1992,1993,1994,1995,1996,1997,1998,1999,2000,2001,2002,2003,2004,2005,2006,2007,2008,2009,2010,2011,2012,2013,2014,2015,2016,2017,2018,2019],\"xaxis\":\"x\",\"y\":[71.70149907270888,71.39650633201437,71.04848058072996,70.65660741154359,70.22139225872283,69.74434421101292,69.22875117549812,68.10202296728428,67.50446777077427,66.89327760138413,66.27431899329332,65.65248668320123,65.03228431037775,64.4188004797014,63.8158185998076,63.224578195494146,62.63834248734353,62.03177698421067,61.33202424676094,60.38610307864795,58.928092459395266,57.424264529539144,55.92576622861202,54.46919305915858,53.08830204440093,51.817071584919724,50.67161002146755,49.11032858791096,48.205669895028315,47.40155828228531,46.68873954742392,46.07746415366248,45.59072487590596,45.24761382118655,45.07100205507607,45.079751507,45.28680007701486,45.669062311415495,46.18649712045617,46.78930953822069,47.430871473204476,48.06645131171541,48.45203673315223,48.622734392730145,48.68560979051908,48.699074525450385,48.68750516985017,48.66181268412822,48.627321824548154,48.586994379531404,48.542260098572214,48.493125959081446,48.43843090607377,48.37604945512101,48.30293942872421,48.21543430241432,48.10958942720173,47.982245891718264,47.83079336507492,47.65346378549163,47.448778225892205,47.21633233512217],\"yaxis\":\"y\",\"type\":\"scatter\"},{\"hovertemplate\":\"Country=Italy\\u003cbr\\u003ex=%{x}\\u003cbr\\u003ey=%{y}\\u003cextra\\u003e\\u003c\\u002fextra\\u003e\",\"legendgroup\":\"Italy\",\"marker\":{\"color\":\"#EF553B\",\"symbol\":\"circle\"},\"mode\":\"markers\",\"name\":\"Italy\",\"orientation\":\"v\",\"showlegend\":true,\"x\":[1957,1958,1959,1960,1961,1962,1963,1965,1966,1967,1968,1969,1970,1971,1972,1973,1974,1975,1976,1977,1979,1978,1980,1981,1982,1983,1984,1985,1986,1987,1988,1989,1990,1991,1992,1993,1994,1995,1996,1997,1998,1999,2000,2001,2002,2003,2004,2005,2006,2007,2008,2009,2010,2011,2012,2013,2014,2015,2016,2017,2018,2019],\"xaxis\":\"x\",\"y\":[66.66666666666666,50.0,11.11111111111111,66.66666666666666,25.0,66.66666666666666,50.0,100.0,0.0,66.66666666666666,100.0,100.0,66.66666666666666,20.0,50.0,40.0,75.0,50.0,50.0,80.0,27.77777777777778,53.333333333333336,17.647058823529413,10.526315789473683,23.076923076923077,28.125,24.0,20.0,25.0,35.0,33.33333333333333,30.0,41.17647058823529,27.27272727272727,40.0,40.0,40.0,45.45454545454545,50.0,61.53846153846154,57.89473684210527,57.14285714285714,64.28571428571429,61.53846153846154,50.0,46.666666666666664,62.5,56.25,62.5,60.0,62.5,63.1578947368421,75.0,57.89473684210527,66.66666666666666,33.33333333333333,50.0,31.57894736842105,50.0,23.076923076923077,31.25,23.52941176470588],\"yaxis\":\"y\",\"type\":\"scatter\"},{\"hovertemplate\":\"\\u003cb\\u003eLOWESS trendline\\u003c\\u002fb\\u003e\\u003cbr\\u003e\\u003cbr\\u003eCountry=Italy\\u003cbr\\u003ex=%{x}\\u003cbr\\u003ey=%{y} \\u003cb\\u003e(trend)\\u003c\\u002fb\\u003e\\u003cextra\\u003e\\u003c\\u002fextra\\u003e\",\"legendgroup\":\"Italy\",\"marker\":{\"color\":\"#EF553B\",\"symbol\":\"circle\"},\"mode\":\"lines\",\"name\":\"Italy\",\"showlegend\":false,\"x\":[1957,1958,1959,1960,1961,1962,1963,1965,1966,1967,1968,1969,1970,1971,1972,1973,1974,1975,1976,1977,1978,1979,1980,1981,1982,1983,1984,1985,1986,1987,1988,1989,1990,1991,1992,1993,1994,1995,1996,1997,1998,1999,2000,2001,2002,2003,2004,2005,2006,2007,2008,2009,2010,2011,2012,2013,2014,2015,2016,2017,2018,2019],\"xaxis\":\"x\",\"y\":[64.0224719588908,63.077331217747734,62.11243210672878,61.12744503453568,60.12309578495869,59.10050016533879,58.062063421339246,55.94970931681552,54.883487015316476,53.81586702010713,52.75166146120353,51.69587567642928,50.653196861307315,49.627780899516495,48.62339993329657,47.644892658206196,46.696230246369645,45.774707382723086,44.85113414257054,43.83361030982214,42.77937829013191,41.76778026859689,40.839379477722304,40.03544101097181,39.388684223984335,38.92057644146373,38.626013065000315,37.7808145248364,37.810564281546036,38.00202314739131,38.34156670560388,38.8231304671796,39.451335627051186,40.23641783110084,41.1971978518016,42.32992280025982,43.611227286905915,44.98921254293754,46.40157090267372,47.78052027898088,49.06464605731065,50.20294951051688,50.60386967472243,50.736534288031706,50.745263106131894,50.70125586415908,50.630616197015186,50.542493635305526,50.43963270793208,50.322348824488536,50.18965522883241,50.03977477565855,49.870288004604255,49.67815831131288,49.45968289089423,49.210908611414474,48.92779035583823,48.607197242236296,48.2466476335318,47.84462093316168,47.40012344539152,46.91342284980883],\"yaxis\":\"y\",\"type\":\"scatter\"},{\"hovertemplate\":\"Country=France\\u003cbr\\u003ex=%{x}\\u003cbr\\u003ey=%{y}\\u003cextra\\u003e\\u003c\\u002fextra\\u003e\",\"legendgroup\":\"France\",\"marker\":{\"color\":\"#00cc96\",\"symbol\":\"circle\"},\"mode\":\"markers\",\"name\":\"France\",\"orientation\":\"v\",\"showlegend\":true,\"x\":[1948,1949,1957,1958,1959,1960,1961,1962,1963,1965,1966,1967,1968,1969,1970,1971,1972,1973,1974,1975,1976,1977,1979,1978,1980,1981,1982,1983,1984,1985,1986,1987,1988,1989,1990,1991,1992,1993,1994,1995,1996,1997,1998,1999,2000,2001,2002,2003,2004,2005,2006,2007,2008,2009,2010,2011,2012,2013,2014,2015,2016,2017,2018,2019],\"xaxis\":\"x\",\"y\":[0.0,0.0,66.66666666666666,0.0,0.0,0.0,12.5,0.0,0.0,0.0,0.0,0.0,20.0,100.0,0.0,0.0,12.5,20.0,25.0,33.33333333333333,30.0,40.0,11.11111111111111,20.0,0.0,10.526315789473683,15.384615384615385,12.903225806451612,12.0,8.0,4.166666666666666,5.0,10.0,5.263157894736842,6.25,10.0,33.33333333333333,25.0,22.22222222222222,40.0,50.0,53.84615384615385,33.33333333333333,25.0,25.0,38.46153846153847,35.0,26.666666666666668,40.0,25.0,37.5,20.0,31.25,26.31578947368421,38.095238095238095,47.368421052631575,33.33333333333333,25.0,14.285714285714285,15.789473684210526,25.0,19.230769230769234,12.5,23.52941176470588],\"yaxis\":\"y\",\"type\":\"scatter\"},{\"hovertemplate\":\"\\u003cb\\u003eLOWESS trendline\\u003c\\u002fb\\u003e\\u003cbr\\u003e\\u003cbr\\u003eCountry=France\\u003cbr\\u003ex=%{x}\\u003cbr\\u003ey=%{y} \\u003cb\\u003e(trend)\\u003c\\u002fb\\u003e\\u003cextra\\u003e\\u003c\\u002fextra\\u003e\",\"legendgroup\":\"France\",\"marker\":{\"color\":\"#00cc96\",\"symbol\":\"circle\"},\"mode\":\"lines\",\"name\":\"France\",\"showlegend\":false,\"x\":[1948,1949,1957,1958,1959,1960,1961,1962,1963,1965,1966,1967,1968,1969,1970,1971,1972,1973,1974,1975,1976,1977,1978,1979,1980,1981,1982,1983,1984,1985,1986,1987,1988,1989,1990,1991,1992,1993,1994,1995,1996,1997,1998,1999,2000,2001,2002,2003,2004,2005,2006,2007,2008,2009,2010,2011,2012,2013,2014,2015,2016,2017,2018,2019],\"xaxis\":\"x\",\"y\":[-3.0267662912157762,-2.47797964668608,1.9262025086268926,2.4675177134818074,3.003867277722197,3.5343598117892,4.058249395354018,4.574893677494775,5.083456986066316,6.074087035642398,6.55593270493932,7.029619140935798,7.497060736613963,7.961442319289032,8.426406676639383,8.895359697309798,9.369862626791692,9.765966542591512,10.18600291500228,10.67456212428884,11.18750579807592,11.732338580796288,12.30133583297819,12.832003055614397,13.403782193215786,14.008978899366817,14.640598312052342,15.289615842881169,15.948272761950232,16.610041360766218,17.267417130406184,17.91850880287967,18.559445275292394,19.187253383202,19.80189438425356,20.421189840758903,21.072828761165397,21.77636876077819,22.531940855950303,23.324417442864252,24.13249472609673,24.93385803182421,25.704223909629885,26.41877013798774,26.63040938487433,26.758314630064852,26.853874287066983,26.93261377711,26.996929697473465,27.046108434096407,27.078781385915132,27.09391299640313,27.09060614015208,27.06842614685537,27.027028568946132,26.966087082758236,26.88490745629853,26.782325864621978,26.657058938224033,26.508145863234333,26.335315874471252,26.138886772186186,25.919418049722207,25.677884263531396],\"yaxis\":\"y\",\"type\":\"scatter\"}],                        {\"template\":{\"data\":{\"histogram2dcontour\":[{\"type\":\"histogram2dcontour\",\"colorbar\":{\"outlinewidth\":0,\"ticks\":\"\"},\"colorscale\":[[0.0,\"#0d0887\"],[0.1111111111111111,\"#46039f\"],[0.2222222222222222,\"#7201a8\"],[0.3333333333333333,\"#9c179e\"],[0.4444444444444444,\"#bd3786\"],[0.5555555555555556,\"#d8576b\"],[0.6666666666666666,\"#ed7953\"],[0.7777777777777778,\"#fb9f3a\"],[0.8888888888888888,\"#fdca26\"],[1.0,\"#f0f921\"]]}],\"choropleth\":[{\"type\":\"choropleth\",\"colorbar\":{\"outlinewidth\":0,\"ticks\":\"\"}}],\"histogram2d\":[{\"type\":\"histogram2d\",\"colorbar\":{\"outlinewidth\":0,\"ticks\":\"\"},\"colorscale\":[[0.0,\"#0d0887\"],[0.1111111111111111,\"#46039f\"],[0.2222222222222222,\"#7201a8\"],[0.3333333333333333,\"#9c179e\"],[0.4444444444444444,\"#bd3786\"],[0.5555555555555556,\"#d8576b\"],[0.6666666666666666,\"#ed7953\"],[0.7777777777777778,\"#fb9f3a\"],[0.8888888888888888,\"#fdca26\"],[1.0,\"#f0f921\"]]}],\"heatmap\":[{\"type\":\"heatmap\",\"colorbar\":{\"outlinewidth\":0,\"ticks\":\"\"},\"colorscale\":[[0.0,\"#0d0887\"],[0.1111111111111111,\"#46039f\"],[0.2222222222222222,\"#7201a8\"],[0.3333333333333333,\"#9c179e\"],[0.4444444444444444,\"#bd3786\"],[0.5555555555555556,\"#d8576b\"],[0.6666666666666666,\"#ed7953\"],[0.7777777777777778,\"#fb9f3a\"],[0.8888888888888888,\"#fdca26\"],[1.0,\"#f0f921\"]]}],\"heatmapgl\":[{\"type\":\"heatmapgl\",\"colorbar\":{\"outlinewidth\":0,\"ticks\":\"\"},\"colorscale\":[[0.0,\"#0d0887\"],[0.1111111111111111,\"#46039f\"],[0.2222222222222222,\"#7201a8\"],[0.3333333333333333,\"#9c179e\"],[0.4444444444444444,\"#bd3786\"],[0.5555555555555556,\"#d8576b\"],[0.6666666666666666,\"#ed7953\"],[0.7777777777777778,\"#fb9f3a\"],[0.8888888888888888,\"#fdca26\"],[1.0,\"#f0f921\"]]}],\"contourcarpet\":[{\"type\":\"contourcarpet\",\"colorbar\":{\"outlinewidth\":0,\"ticks\":\"\"}}],\"contour\":[{\"type\":\"contour\",\"colorbar\":{\"outlinewidth\":0,\"ticks\":\"\"},\"colorscale\":[[0.0,\"#0d0887\"],[0.1111111111111111,\"#46039f\"],[0.2222222222222222,\"#7201a8\"],[0.3333333333333333,\"#9c179e\"],[0.4444444444444444,\"#bd3786\"],[0.5555555555555556,\"#d8576b\"],[0.6666666666666666,\"#ed7953\"],[0.7777777777777778,\"#fb9f3a\"],[0.8888888888888888,\"#fdca26\"],[1.0,\"#f0f921\"]]}],\"surface\":[{\"type\":\"surface\",\"colorbar\":{\"outlinewidth\":0,\"ticks\":\"\"},\"colorscale\":[[0.0,\"#0d0887\"],[0.1111111111111111,\"#46039f\"],[0.2222222222222222,\"#7201a8\"],[0.3333333333333333,\"#9c179e\"],[0.4444444444444444,\"#bd3786\"],[0.5555555555555556,\"#d8576b\"],[0.6666666666666666,\"#ed7953\"],[0.7777777777777778,\"#fb9f3a\"],[0.8888888888888888,\"#fdca26\"],[1.0,\"#f0f921\"]]}],\"mesh3d\":[{\"type\":\"mesh3d\",\"colorbar\":{\"outlinewidth\":0,\"ticks\":\"\"}}],\"scatter\":[{\"fillpattern\":{\"fillmode\":\"overlay\",\"size\":10,\"solidity\":0.2},\"type\":\"scatter\"}],\"parcoords\":[{\"type\":\"parcoords\",\"line\":{\"colorbar\":{\"outlinewidth\":0,\"ticks\":\"\"}}}],\"scatterpolargl\":[{\"type\":\"scatterpolargl\",\"marker\":{\"colorbar\":{\"outlinewidth\":0,\"ticks\":\"\"}}}],\"bar\":[{\"error_x\":{\"color\":\"#2a3f5f\"},\"error_y\":{\"color\":\"#2a3f5f\"},\"marker\":{\"line\":{\"color\":\"#E5ECF6\",\"width\":0.5},\"pattern\":{\"fillmode\":\"overlay\",\"size\":10,\"solidity\":0.2}},\"type\":\"bar\"}],\"scattergeo\":[{\"type\":\"scattergeo\",\"marker\":{\"colorbar\":{\"outlinewidth\":0,\"ticks\":\"\"}}}],\"scatterpolar\":[{\"type\":\"scatterpolar\",\"marker\":{\"colorbar\":{\"outlinewidth\":0,\"ticks\":\"\"}}}],\"histogram\":[{\"marker\":{\"pattern\":{\"fillmode\":\"overlay\",\"size\":10,\"solidity\":0.2}},\"type\":\"histogram\"}],\"scattergl\":[{\"type\":\"scattergl\",\"marker\":{\"colorbar\":{\"outlinewidth\":0,\"ticks\":\"\"}}}],\"scatter3d\":[{\"type\":\"scatter3d\",\"line\":{\"colorbar\":{\"outlinewidth\":0,\"ticks\":\"\"}},\"marker\":{\"colorbar\":{\"outlinewidth\":0,\"ticks\":\"\"}}}],\"scattermapbox\":[{\"type\":\"scattermapbox\",\"marker\":{\"colorbar\":{\"outlinewidth\":0,\"ticks\":\"\"}}}],\"scatterternary\":[{\"type\":\"scatterternary\",\"marker\":{\"colorbar\":{\"outlinewidth\":0,\"ticks\":\"\"}}}],\"scattercarpet\":[{\"type\":\"scattercarpet\",\"marker\":{\"colorbar\":{\"outlinewidth\":0,\"ticks\":\"\"}}}],\"carpet\":[{\"aaxis\":{\"endlinecolor\":\"#2a3f5f\",\"gridcolor\":\"white\",\"linecolor\":\"white\",\"minorgridcolor\":\"white\",\"startlinecolor\":\"#2a3f5f\"},\"baxis\":{\"endlinecolor\":\"#2a3f5f\",\"gridcolor\":\"white\",\"linecolor\":\"white\",\"minorgridcolor\":\"white\",\"startlinecolor\":\"#2a3f5f\"},\"type\":\"carpet\"}],\"table\":[{\"cells\":{\"fill\":{\"color\":\"#EBF0F8\"},\"line\":{\"color\":\"white\"}},\"header\":{\"fill\":{\"color\":\"#C8D4E3\"},\"line\":{\"color\":\"white\"}},\"type\":\"table\"}],\"barpolar\":[{\"marker\":{\"line\":{\"color\":\"#E5ECF6\",\"width\":0.5},\"pattern\":{\"fillmode\":\"overlay\",\"size\":10,\"solidity\":0.2}},\"type\":\"barpolar\"}],\"pie\":[{\"automargin\":true,\"type\":\"pie\"}]},\"layout\":{\"autotypenumbers\":\"strict\",\"colorway\":[\"#636efa\",\"#EF553B\",\"#00cc96\",\"#ab63fa\",\"#FFA15A\",\"#19d3f3\",\"#FF6692\",\"#B6E880\",\"#FF97FF\",\"#FECB52\"],\"font\":{\"color\":\"#2a3f5f\"},\"hovermode\":\"closest\",\"hoverlabel\":{\"align\":\"left\"},\"paper_bgcolor\":\"white\",\"plot_bgcolor\":\"#E5ECF6\",\"polar\":{\"bgcolor\":\"#E5ECF6\",\"angularaxis\":{\"gridcolor\":\"white\",\"linecolor\":\"white\",\"ticks\":\"\"},\"radialaxis\":{\"gridcolor\":\"white\",\"linecolor\":\"white\",\"ticks\":\"\"}},\"ternary\":{\"bgcolor\":\"#E5ECF6\",\"aaxis\":{\"gridcolor\":\"white\",\"linecolor\":\"white\",\"ticks\":\"\"},\"baxis\":{\"gridcolor\":\"white\",\"linecolor\":\"white\",\"ticks\":\"\"},\"caxis\":{\"gridcolor\":\"white\",\"linecolor\":\"white\",\"ticks\":\"\"}},\"coloraxis\":{\"colorbar\":{\"outlinewidth\":0,\"ticks\":\"\"}},\"colorscale\":{\"sequential\":[[0.0,\"#0d0887\"],[0.1111111111111111,\"#46039f\"],[0.2222222222222222,\"#7201a8\"],[0.3333333333333333,\"#9c179e\"],[0.4444444444444444,\"#bd3786\"],[0.5555555555555556,\"#d8576b\"],[0.6666666666666666,\"#ed7953\"],[0.7777777777777778,\"#fb9f3a\"],[0.8888888888888888,\"#fdca26\"],[1.0,\"#f0f921\"]],\"sequentialminus\":[[0.0,\"#0d0887\"],[0.1111111111111111,\"#46039f\"],[0.2222222222222222,\"#7201a8\"],[0.3333333333333333,\"#9c179e\"],[0.4444444444444444,\"#bd3786\"],[0.5555555555555556,\"#d8576b\"],[0.6666666666666666,\"#ed7953\"],[0.7777777777777778,\"#fb9f3a\"],[0.8888888888888888,\"#fdca26\"],[1.0,\"#f0f921\"]],\"diverging\":[[0,\"#8e0152\"],[0.1,\"#c51b7d\"],[0.2,\"#de77ae\"],[0.3,\"#f1b6da\"],[0.4,\"#fde0ef\"],[0.5,\"#f7f7f7\"],[0.6,\"#e6f5d0\"],[0.7,\"#b8e186\"],[0.8,\"#7fbc41\"],[0.9,\"#4d9221\"],[1,\"#276419\"]]},\"xaxis\":{\"gridcolor\":\"white\",\"linecolor\":\"white\",\"ticks\":\"\",\"title\":{\"standoff\":15},\"zerolinecolor\":\"white\",\"automargin\":true,\"zerolinewidth\":2},\"yaxis\":{\"gridcolor\":\"white\",\"linecolor\":\"white\",\"ticks\":\"\",\"title\":{\"standoff\":15},\"zerolinecolor\":\"white\",\"automargin\":true,\"zerolinewidth\":2},\"scene\":{\"xaxis\":{\"backgroundcolor\":\"#E5ECF6\",\"gridcolor\":\"white\",\"linecolor\":\"white\",\"showbackground\":true,\"ticks\":\"\",\"zerolinecolor\":\"white\",\"gridwidth\":2},\"yaxis\":{\"backgroundcolor\":\"#E5ECF6\",\"gridcolor\":\"white\",\"linecolor\":\"white\",\"showbackground\":true,\"ticks\":\"\",\"zerolinecolor\":\"white\",\"gridwidth\":2},\"zaxis\":{\"backgroundcolor\":\"#E5ECF6\",\"gridcolor\":\"white\",\"linecolor\":\"white\",\"showbackground\":true,\"ticks\":\"\",\"zerolinecolor\":\"white\",\"gridwidth\":2}},\"shapedefaults\":{\"line\":{\"color\":\"#2a3f5f\"}},\"annotationdefaults\":{\"arrowcolor\":\"#2a3f5f\",\"arrowhead\":0,\"arrowwidth\":1},\"geo\":{\"bgcolor\":\"white\",\"landcolor\":\"#E5ECF6\",\"subunitcolor\":\"white\",\"showland\":true,\"showlakes\":true,\"lakecolor\":\"white\"},\"title\":{\"x\":0.05},\"mapbox\":{\"style\":\"light\"}}},\"xaxis\":{\"anchor\":\"y\",\"domain\":[0.0,1.0],\"title\":{\"text\":\"Year\"}},\"yaxis\":{\"anchor\":\"x\",\"domain\":[0.0,1.0],\"title\":{\"text\":\"% Yes\"}},\"legend\":{\"title\":{\"text\":\"Country\"},\"tracegroupgap\":0},\"margin\":{\"t\":60},\"title\":{\"text\":\"Nuclear weapons and nuclear material\\u003cbr\\u003e\",\"y\":0.9,\"x\":0.5,\"xanchor\":\"center\",\"yanchor\":\"top\"}},                        {\"responsive\": true}                    ).then(function(){\n",
       "                            \n",
       "var gd = document.getElementById('37d2af5d-3b03-4e84-9e11-2867097c46c7');\n",
       "var x = new MutationObserver(function (mutations, observer) {{\n",
       "        var display = window.getComputedStyle(gd).display;\n",
       "        if (!display || display === 'none') {{\n",
       "            console.log([gd, 'removed!']);\n",
       "            Plotly.purge(gd);\n",
       "            observer.disconnect();\n",
       "        }}\n",
       "}});\n",
       "\n",
       "// Listen for the removal of the full notebook cells\n",
       "var notebookContainer = gd.closest('#notebook-container');\n",
       "if (notebookContainer) {{\n",
       "    x.observe(notebookContainer, {childList: true});\n",
       "}}\n",
       "\n",
       "// Listen for the clearing of the current output cell\n",
       "var outputEl = gd.closest('.output');\n",
       "if (outputEl) {{\n",
       "    x.observe(outputEl, {childList: true});\n",
       "}}\n",
       "\n",
       "                        })                };                });            </script>        </div>"
      ]
     },
     "metadata": {},
     "output_type": "display_data"
    }
   ],
   "source": [
    "\n",
    "def make_plot(countries,issue):\n",
    "    '''\n",
    "    A Python function that takes in the list of countries and issues and makes\n",
    "    a scatter plot of each issue with a trendline for each country.\n",
    "    '''\n",
    "    x_data = []\n",
    "    y_data = []\n",
    "    c_data = []\n",
    "    for cntry in countries:\n",
    "        my_group = c_groups.get_group((cntry,issue))\n",
    "        for y in my_group['year'].unique():\n",
    "            x_data.append(y)\n",
    "            tot_yes = sum(my_group[my_group['year']==y]['vote']=='yes')\n",
    "            percent_yes = tot_yes/len(my_group[my_group['year']==y])*100\n",
    "            y_data.append(percent_yes)\n",
    "            c_data.append(cntry)\n",
    "\n",
    "    fig = px.scatter(x=x_data, y=y_data,color=c_data,trendline=\"lowess\",labels={\"color\": \"Country\"})\n",
    "\n",
    "    fig.update_layout(\n",
    "        title={\n",
    "            'text': issue + '<br>',\n",
    "            'y':0.9,\n",
    "            'x':0.5,\n",
    "            'xanchor': 'center',\n",
    "            'yanchor': 'top'})\n",
    "    fig.update_yaxes(title_text=\"% Yes\")\n",
    "    fig.update_xaxes(title_text=\"Year\")\n",
    "    fig.show()\n",
    "    \n",
    "for iss in issues:\n",
    "    make_plot(countries,iss)"
   ]
  },
  {
   "cell_type": "markdown",
   "id": "130de118-e079-455c-9eb2-0eff64efca6a",
   "metadata": {},
   "source": [
    "### Problem 3\n",
    "\n",
    "Choose one of the graphs produced above (should match the lecture notes) and discuss what you see there:\n",
    "\n",
    "1. Which issue are you focusing on.\n",
    "2. What do the graph axis represent?\n",
    "3. Say in words how the United States votes have changed over time.\n",
    "4. How do the United States votes compare to the other countries?\n",
    "5. See if you can come up with one or two questions that interest you about the data in the graph."
   ]
  },
  {
   "cell_type": "markdown",
   "id": "de5b34d4-b795-43ac-a6e0-9c66680beb68",
   "metadata": {},
   "source": [
    "**(double click here)**\n",
    "I am focusing on Human Rights. \n",
    "The percent of countresi voting yes for human rights vs the years that go on from 1950 to 2020.\n",
    "I would say that United States have gone at a steady rate of not increasing but decresing slightly. It got as low as 21.9 percent between 1980 to 1990 and a hight of 27 percent in the 1950s.\n",
    "The trend of united states has been at a steady decline while United Kingdom skyrotkcets up and Turkey has a high yes percentage. \n",
    "\n",
    "The questions of waht about human rights is it talking about?? If its about the people in the world I feel like everyone would say yes to it. \n",
    "Why Turkey have decline in yes percents after the 1970s?\n"
   ]
  },
  {
   "cell_type": "markdown",
   "id": "4874978e-edb6-488a-a11e-6dd290b351cc",
   "metadata": {},
   "source": [
    "### Problem 4\n",
    "\n",
    "Now go back up to where we picked our three focus countries and choose some different ones. Rerun the analysis. If you want you could choose more than three countries. \n",
    "\n",
    "Discuss the graph for the same issue but with the new countries."
   ]
  },
  {
   "cell_type": "markdown",
   "id": "ed39a439-8ef9-4d66-9a84-4d1615f971b5",
   "metadata": {},
   "source": [
    "**(double click here)**\n",
    "I am talking about the same issue. \n",
    "The percentage of countries voting yes for human rights vs the years from 1950 to 2020. \n",
    "Both Italy and France had increases of votes for Yes as the years went on. While Spain is the only one that declined little by little. \n",
    "Overall at the end all three countries are in very similar boats in vote percentage. \n",
    "My question would be why did Spain drop over the years in human right? Also, why did France and Italy have a similar trend from 1980s and follow a similar path?"
   ]
  },
  {
   "cell_type": "markdown",
   "id": "9fcce607-bfda-42a1-a556-a05c424dd6c9",
   "metadata": {},
   "source": [
    "--------------------------------\n",
    "### You are done with the homework... now what?\n",
    "--------------------------------\n",
    "\n",
    "1. Save your changes.\n",
    "2. In the Git tab, **Stage** your changed files - use the (+) button next to the file.\n",
    "3. **Commit** your changes by entering a summary and pushing commit.\n",
    "4. **Push** your changes using the cloud button.\n",
    "5. Check that your changes are on your GitHub repo (online)\n",
    "6. **TAKE THE DAILY QUIZ ON CANVAS** the quiz will ask you to copy and past the HTTPS link to your repo for the day.\n",
    "7. Come to class and get your questions answered.\n",
    "\n",
    "At the end of the week  you will submit your final versions of the homework on Canvas for grading. For this you can just drag and drop the HW.ipynb files into canvas. \n",
    "\n",
    "**IMPORTANT** If this is confusing this first week, don't worry, I can help you and I will be really flexible about these first few deadlines.\n"
   ]
  },
  {
   "cell_type": "code",
   "execution_count": null,
   "id": "f00c8fd3-9713-4a3c-906e-7db71731da15",
   "metadata": {},
   "outputs": [],
   "source": []
  }
 ],
 "metadata": {
  "kernelspec": {
   "display_name": "Python 3 (ipykernel)",
   "language": "python",
   "name": "python3"
  },
  "language_info": {
   "codemirror_mode": {
    "name": "ipython",
    "version": 3
   },
   "file_extension": ".py",
   "mimetype": "text/x-python",
   "name": "python",
   "nbconvert_exporter": "python",
   "pygments_lexer": "ipython3",
   "version": "3.12.3"
  }
 },
 "nbformat": 4,
 "nbformat_minor": 5
}
